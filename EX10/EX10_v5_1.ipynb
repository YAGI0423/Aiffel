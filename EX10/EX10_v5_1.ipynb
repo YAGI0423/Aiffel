{
 "cells": [
  {
   "cell_type": "markdown",
   "id": "cloudy-footage",
   "metadata": {},
   "source": [
    "# 어텐션을 활용한 추상적 요약 모델 생성 및 평가 예제"
   ]
  },
  {
   "cell_type": "markdown",
   "id": "spanish-characteristic",
   "metadata": {},
   "source": [
    "#### 초록\n",
    "***\n",
    "<span style=\"font-size:11pt; line-height:1.8;\">\n",
    "    &nbsp; &nbsp; seq2seq 모델과 어텐션을 활용하여 문장 요약 모델을 생성하고 이를 추출적 요약과 비교하여 평가를 실시 하였다. 데이터는 뉴스 기사에 대한 원문과 제목을 이용하였으며, 데이터 분석과 데이터 전처리 과정을 진행하였다. 데이터 전처리 과정에서는 텍스트 정규화, 불용어 제거, html tag 제거, 패딩 추가 등의 작업을 시행하고 해당 데이터를 학습 데이터와 테스트 데이터로 분리하였다. 모델 평가에서는 임의의 다섯 문장에 대한 모델의 요약문과 추출적 요약의 요약문을 비교하였으며, 평가 지표로 문법이 틀린 개수인 '문법 오류 정도'와 동사와 명사 일치 개수인 '단어 일치 정도'를 사용하였으며, 그 결과 모델의 경우 평균 문법 오류 정도는 0.2였다. 단어 일치 정도는 1.8 이었으며, 추출적 요약의 평균 문법 오류 정도는 0이었으며, 단어 일치 정도는 3.6이었다. 추출적 요약의 경우가 더 잘 요약한 것이라 할 수 있지만, 추출적 요약의 경우 전혀 다른 문장을 제시하거나 하는 문제가 있고 추상적 요약의 경우 문장의 의미를 잘 요약한 점과 원문으로부터 새로운 문장을 생성한다는 점에서 개선의 여지가 있다고 할 수 있다.\n",
    "</span>\n",
    "\n",
    "***"
   ]
  },
  {
   "cell_type": "markdown",
   "id": "egyptian-greece",
   "metadata": {},
   "source": [
    "<br>\n",
    "\n",
    "## 1. 서론\n",
    "***\n",
    "<span style=\"font-size:12pt; line-height:1.7; font-family:Serif;\">\n",
    "    &nbsp; &nbsp; 본 예제에서는 어텐션을 활용하여 자연어 문장을 요약하는 추상적 요약 모델을 생성하고 이를 '추출적 요약'과 비교하여 평가하고자 합니다. '추상적 요약'은 문장으로부터 새로운 문장을 생성하여 원문을 요약하는 것입니다. '추출적 요약'은 원문의 문장을 그대로 이용하는 것입니다. 예제는 '뉴스 기사 데이터'를 데이터셋으로 이용 합니다. 예제 진행은 크게 '데이터 분석', '데이터 전처리', '추상적 모델 생성 및 학습', '추출적 요약과 비교한 모델 평가' 순으로 진행 됩니다.\n",
    "</span><br><br>\n",
    "\n",
    "\n",
    "> _1. 데이터 분석_\n",
    ">\n",
    "> _2. 데이터 전처리_\n",
    ">\n",
    "> _3. 추상적 모델 생성 및 학습_\n",
    ">\n",
    "> _4. 추출적 요약과 비교한 모델 평가_\n",
    "\n",
    "\n",
    "***"
   ]
  },
  {
   "cell_type": "markdown",
   "id": "agreed-independence",
   "metadata": {},
   "source": [
    "<br>\n",
    "\n",
    "## 2. 데이터 분석\n",
    "***\n",
    "<span style=\"font-size:12pt; line-height:1.7; font-family:Serif;\">\n",
    "    &nbsp; &nbsp; 데이터 분석 단계에서는 데이터 레코드 수, 어트리뷰트, 데이터 자료형 등의 기본적인 정보를 살펴 본 후, 좀 더 자세한 분석을 위해 '중복 데이터 제거', '텍스트 정규화 및 불용어 제거'와 같은 데이터 정제를 진행 합니다. 이후, 데이터의 결측 값 여부와 문장의 길이에 대한 통계를 살펴보고 최적의 문장 길이를 확보하고자 합니다.\n",
    "</span>\n",
    "\n",
    "***"
   ]
  },
  {
   "cell_type": "markdown",
   "id": "pending-dancing",
   "metadata": {},
   "source": [
    "#### 필요 라이브러리 호출\n",
    "***\n",
    "+ 예제 진행에 필요한 라이브러리를 호출 합니다.\n",
    "***"
   ]
  },
  {
   "cell_type": "code",
   "execution_count": 1,
   "id": "dynamic-variance",
   "metadata": {},
   "outputs": [],
   "source": [
    "import pickle   #plk 파일 load\n",
    "import numpy as np   #행렬 연산\n",
    "import pandas as pd   #csv 파일 로드\n",
    "import matplotlib.pyplot as plt   #시각화\n",
    "\n",
    "\n",
    "import requests   #추출적 요약\n",
    "from summa.summarizer import summarize   #추출적 요약2\n",
    "\n",
    "import re   #정규식\n",
    "import nltk   #자연어\n",
    "nltk.download('stopwords')   #불용어\n",
    "from nltk.corpus import stopwords   #불용어\n",
    "from bs4 import BeautifulSoup   #마크업 용어 제거\n",
    "\n",
    "\n",
    "import time   #멀티프로세싱 작업 소요 시간 체크\n",
    "import multiprocessing as mp   #Multi Processing\n",
    "from multiprocessing import Pool   #멀티프로세싱\n",
    "from functools import partial   #map 함수 여러 인자\n",
    "\n",
    "\n",
    "from tensorflow.keras.models import Model   #모델\n",
    "from attention import AttentionLayer   #어텐션\n",
    "from tensorflow.keras.preprocessing.text import Tokenizer   #토크나이저\n",
    "from tensorflow.keras.preprocessing.sequence import pad_sequences   #패딩추가\n",
    "from tensorflow.keras.callbacks import EarlyStopping, ModelCheckpoint   #콜백함수\n",
    "from tensorflow.keras.layers import Input, LSTM, Embedding, Dense, Concatenate   #모델 레이어"
   ]
  },
  {
   "cell_type": "markdown",
   "id": "suburban-coffee",
   "metadata": {},
   "source": [
    "<br>\n",
    "\n",
    "### 2.1. 데이터 기본 정보 분석\n",
    "***\n",
    "<span style=\"font-size:12pt; line-height:1.7; font-family:Serif;\">\n",
    "    &nbsp; &nbsp; 데이터의 기본 정보에 대해 알아봅니다. 데이터셋은 요약문(`headlins`)와 원문(`text`) 속성으로 구성되어 있으며, 영문 문장에 해당 합니다. 결측치는 없었으며, 총 레코드 수는 98,401개 입니다. 원문과 요약문의 중복을 제외한 데이터는 각각 98,360개, 98,280개 입니다.\n",
    "</span>\n",
    "\n",
    "***"
   ]
  },
  {
   "cell_type": "markdown",
   "id": "identified-remainder",
   "metadata": {},
   "source": [
    "#### 데이터 기본 정보\n",
    "***\n",
    "+ `headlines`, `text` 속성으로 구성되며, `headlines`는 '요약문', `text`는 '원문'으로 두 속성의 데이터 모두 자연어에 해당 합니다.\n",
    "\n",
    "\n",
    "+ 두 속성의 데이터 모두 `NULL` 값은 없습니다.\n",
    "\n",
    "\n",
    "+ 데이터 레코드는 총 98,401개 입니다.\n",
    "\n",
    "\n",
    "+ `headlines` 고유 값은 총 98,280개, `text` 고유 값은 총 98,360개 입니다.\n",
    "***"
   ]
  },
  {
   "cell_type": "code",
   "execution_count": 2,
   "id": "statutory-petite",
   "metadata": {},
   "outputs": [
    {
     "name": "stdout",
     "output_type": "stream",
     "text": [
      "************************************************************\n",
      "<DATA INFO>\n",
      "<class 'pandas.core.frame.DataFrame'>\n",
      "RangeIndex: 98401 entries, 0 to 98400\n",
      "Data columns (total 2 columns):\n",
      " #   Column     Non-Null Count  Dtype \n",
      "---  ------     --------------  ----- \n",
      " 0   headlines  98401 non-null  object\n",
      " 1   text       98401 non-null  object\n",
      "dtypes: object(2)\n",
      "memory usage: 1.5+ MB\n",
      "None\n",
      "************************************************************\n",
      "\n",
      "\n",
      "************************************************************\n",
      "<DATA DESCRIBE>\n",
      "                                                headlines  \\\n",
      "count                                               98401   \n",
      "unique                                              98280   \n",
      "top     Why is England-Australia Test series called 'T...   \n",
      "freq                                                    3   \n",
      "\n",
      "                                                     text  \n",
      "count                                               98401  \n",
      "unique                                              98360  \n",
      "top     Berger Paints has launched Berger Express Pain...  \n",
      "freq                                                    2  \n",
      "************************************************************\n"
     ]
    },
    {
     "data": {
      "text/html": [
       "<div>\n",
       "<style scoped>\n",
       "    .dataframe tbody tr th:only-of-type {\n",
       "        vertical-align: middle;\n",
       "    }\n",
       "\n",
       "    .dataframe tbody tr th {\n",
       "        vertical-align: top;\n",
       "    }\n",
       "\n",
       "    .dataframe thead th {\n",
       "        text-align: right;\n",
       "    }\n",
       "</style>\n",
       "<table border=\"1\" class=\"dataframe\">\n",
       "  <thead>\n",
       "    <tr style=\"text-align: right;\">\n",
       "      <th></th>\n",
       "      <th>headlines</th>\n",
       "      <th>text</th>\n",
       "    </tr>\n",
       "  </thead>\n",
       "  <tbody>\n",
       "    <tr>\n",
       "      <th>0</th>\n",
       "      <td>upGrad learner switches to career in ML &amp; Al w...</td>\n",
       "      <td>Saurav Kant, an alumnus of upGrad and IIIT-B's...</td>\n",
       "    </tr>\n",
       "    <tr>\n",
       "      <th>1</th>\n",
       "      <td>Delhi techie wins free food from Swiggy for on...</td>\n",
       "      <td>Kunal Shah's credit card bill payment platform...</td>\n",
       "    </tr>\n",
       "    <tr>\n",
       "      <th>2</th>\n",
       "      <td>New Zealand end Rohit Sharma-led India's 12-ma...</td>\n",
       "      <td>New Zealand defeated India by 8 wickets in the...</td>\n",
       "    </tr>\n",
       "    <tr>\n",
       "      <th>3</th>\n",
       "      <td>Aegon life iTerm insurance plan helps customer...</td>\n",
       "      <td>With Aegon Life iTerm Insurance plan, customer...</td>\n",
       "    </tr>\n",
       "    <tr>\n",
       "      <th>4</th>\n",
       "      <td>Have known Hirani for yrs, what if MeToo claim...</td>\n",
       "      <td>Speaking about the sexual harassment allegatio...</td>\n",
       "    </tr>\n",
       "  </tbody>\n",
       "</table>\n",
       "</div>"
      ],
      "text/plain": [
       "                                           headlines  \\\n",
       "0  upGrad learner switches to career in ML & Al w...   \n",
       "1  Delhi techie wins free food from Swiggy for on...   \n",
       "2  New Zealand end Rohit Sharma-led India's 12-ma...   \n",
       "3  Aegon life iTerm insurance plan helps customer...   \n",
       "4  Have known Hirani for yrs, what if MeToo claim...   \n",
       "\n",
       "                                                text  \n",
       "0  Saurav Kant, an alumnus of upGrad and IIIT-B's...  \n",
       "1  Kunal Shah's credit card bill payment platform...  \n",
       "2  New Zealand defeated India by 8 wickets in the...  \n",
       "3  With Aegon Life iTerm Insurance plan, customer...  \n",
       "4  Speaking about the sexual harassment allegatio...  "
      ]
     },
     "execution_count": 2,
     "metadata": {},
     "output_type": "execute_result"
    }
   ],
   "source": [
    "data = pd.read_csv('./dataset/news_summary_more.csv', encoding='iso-8859-1')   #csv 파일 불러오기\n",
    "\n",
    "\n",
    "#출력부============================\n",
    "print(\"*\" * 60)\n",
    "print(\"<DATA INFO>\")\n",
    "print(data.info())\n",
    "print(\"*\" * 60)\n",
    "\n",
    "print(\"\\n\\n\" + \"*\" * 60)\n",
    "print(\"<DATA DESCRIBE>\")\n",
    "print(data.describe())\n",
    "print(\"*\" * 60)\n",
    "\n",
    "data.head(5)\n",
    "#End==============================="
   ]
  },
  {
   "cell_type": "markdown",
   "id": "entitled-radical",
   "metadata": {},
   "source": [
    "<br>\n",
    "\n",
    "#### 데이터 샘플 확인\n",
    "***\n",
    "+ 요약문과 원문 샘플을 확인 합니다.\n",
    "\n",
    "<br>\n",
    "\n",
    "> __upGrad 학습자가 90% 급여 인상과 함께 ML 및 Al에서 경력으로 전환__\n",
    "\n",
    "> 기계 학습 및 인공 지능 분야의 upGrad 및 IIIT-B PG 프로그램 졸업생인 Saurav Kant는 거의 5년 간의 업무 경험을 가진 Infosys의 수석 시스템 엔지니어였습니다. 이 프로그램과 upGrad의 360도 경력 지원은 그가 90%의 급여 인상과 함께 Tech Mahindra의 데이터 과학자로 전환하는 데 도움이 되었습니다. upGrad의 온라인 파워 러닝은 30만 이상의 경력을 쌓았습니다.\n",
    "***"
   ]
  },
  {
   "cell_type": "code",
   "execution_count": 3,
   "id": "failing-opportunity",
   "metadata": {},
   "outputs": [
    {
     "name": "stdout",
     "output_type": "stream",
     "text": [
      "************************************************************\n",
      "<HEADLINE SAMPLE>\n",
      "upGrad learner switches to career in ML & Al with 90% salary hike\n",
      "************************************************************\n",
      "\n",
      "\n",
      "************************************************************\n",
      "<TEXT SAMPLE>\n",
      "Saurav Kant, an alumnus of upGrad and IIIT-B's PG Program in Machine learning and Artificial Intelligence, was a Sr Systems Engineer at Infosys with almost 5 years of work experience. The program and upGrad's 360-degree career support helped him transition to a Data Scientist at Tech Mahindra with 90% salary hike. upGrad's Online Power Learning has powered 3 lakh+ careers.\n",
      "************************************************************\n"
     ]
    }
   ],
   "source": [
    "#출력부============================\n",
    "print(\"*\" * 60)\n",
    "print(\"<HEADLINE SAMPLE>\")\n",
    "print(data[\"headlines\"][0])\n",
    "print(\"*\" * 60)\n",
    "\n",
    "print(\"\\n\\n\" + \"*\" * 60)\n",
    "print(\"<TEXT SAMPLE>\")\n",
    "print(data[\"text\"][0])\n",
    "print(\"*\" * 60)\n",
    "#End==============================="
   ]
  },
  {
   "cell_type": "markdown",
   "id": "danish-incidence",
   "metadata": {},
   "source": [
    "<br>\n",
    "\n",
    "### 2.2. 데이터 정제\n",
    "***\n",
    "<span style=\"font-size:12pt; line-height:1.7; font-family:Serif;\">\n",
    "    &nbsp; &nbsp; 조금더 자세한 분석을 위해 데이터 정제를 실시 합니다. 데이터 정제는 '원문 중복 데이터 제외', '텍스트 정규화', '불용어 제외', 'html 태그 제거' 등의 처리를 거칩니다. 중복 데이터 제거를 원문에 한해 시행하는 이유는 요약문은 중복되어도 원문이 다를 수 있기 때문에,\n",
    "원문을 기준으로 중복 데이터를 제거 합니다.\n",
    "</span>\n",
    "\n",
    "***"
   ]
  },
  {
   "cell_type": "markdown",
   "id": "sporting-antibody",
   "metadata": {},
   "source": [
    "#### 원문 중복 데이터 제외\n",
    "***\n",
    "+ '요약문'이 중복 되어도 '원문'은 다를 수가 있습니다.\n",
    "\n",
    "\n",
    "+ 하지만 '원문'이 중복된 것은 같은 데이터가 두 개 이상 있는 것이니 제외 합니다.\n",
    "\n",
    "\n",
    "+ `title`을 기준으로 중복 데이터를 제외하고 총 98,360개의 레코드를 획득 합니다.\n",
    "***"
   ]
  },
  {
   "cell_type": "code",
   "execution_count": 4,
   "id": "convinced-closer",
   "metadata": {},
   "outputs": [
    {
     "name": "stdout",
     "output_type": "stream",
     "text": [
      "************************************************************\n",
      "<DATA DESCRIBE>\n",
      "                                          headlines  \\\n",
      "count                                         98360   \n",
      "unique                                        98262   \n",
      "top     Don Bradman once scored 100 runs in 3 overs   \n",
      "freq                                              3   \n",
      "\n",
      "                                                     text  \n",
      "count                                               98360  \n",
      "unique                                              98360  \n",
      "top     The UN has asked the UK to suspend work at the...  \n",
      "freq                                                    1  \n",
      "************************************************************\n"
     ]
    }
   ],
   "source": [
    "data.drop_duplicates(subset = ['text'], inplace=True)   #'text' 기준 중복 데이터 제거\n",
    "\n",
    "\n",
    "#출력부============================\n",
    "print(\"*\" * 60)\n",
    "print(\"<DATA DESCRIBE>\")\n",
    "print(data.describe())\n",
    "print(\"*\" * 60)\n",
    "#End==============================="
   ]
  },
  {
   "cell_type": "markdown",
   "id": "smoking-chess",
   "metadata": {},
   "source": [
    "<br>\n",
    "\n",
    "#### 텍스트 정규화\n",
    "***\n",
    "+ `it will`, `it'll` 또는 `is not`, `isn't`처럼 동일한 표현을 통합하여 처리 합니다.\n",
    "\n",
    "\n",
    "+ 텍스트 정규화를 위한 사전을 'pickl' 파일로 저장하여, 필요 시에 불러와 사용 합니다.\n",
    "\n",
    "\n",
    "+ 텍스트 정규화 대상 단어는 총 120개 입니다.\n",
    "\n",
    "\n",
    "+ 텍스트 정규화 사전 데이터 중 5개를 출력 합니다.\n",
    "***"
   ]
  },
  {
   "cell_type": "code",
   "execution_count": 5,
   "id": "charming-minute",
   "metadata": {},
   "outputs": [
    {
     "name": "stdout",
     "output_type": "stream",
     "text": [
      "************************************************************\n",
      "KEY: ain't\tVALUE: is not\n",
      "KEY: aren't\tVALUE: are not\n",
      "KEY: can't\tVALUE: cannot\n",
      "KEY: 'cause\tVALUE: because\n",
      "KEY: could've\tVALUE: could have\n",
      "************************************************************\n",
      "contractions num: 120\n"
     ]
    }
   ],
   "source": [
    "#텍스트 정규화 사전 불러오기=============\n",
    "with open('./dataset/contractions.pkl', 'rb') as f:\n",
    "    contractions = pickle.load(f)\n",
    "#End=====================================\n",
    "\n",
    "\n",
    "#출력부============================\n",
    "print(\"*\" * 60)\n",
    "for key, value in contractions.items():\n",
    "    print(\"KEY: {0}\\tVALUE: {1}\".format(key, value))\n",
    "    if key == \"could've\": break;\n",
    "print(\"*\" * 60)\n",
    "\n",
    "print(\"contractions num:\", len(contractions))\n",
    "#End==============================="
   ]
  },
  {
   "cell_type": "markdown",
   "id": "manufactured-trailer",
   "metadata": {},
   "source": [
    "<br>\n",
    "\n",
    "#### 불용어 처리\n",
    "***\n",
    "+ 자주 쓰이지만 자연어 처리에 영향을 미치지 않는 '불용어'를 제외 합니다.\n",
    "\n",
    "\n",
    "+ 불용어는 총 179개 입니다.\n",
    "\n",
    "\n",
    "+ NLTK에서 제공하는 불용어 리스트 중 5개의 샘플을 출력 합니다.\n",
    "***"
   ]
  },
  {
   "cell_type": "code",
   "execution_count": 6,
   "id": "personalized-tampa",
   "metadata": {},
   "outputs": [
    {
     "name": "stdout",
     "output_type": "stream",
     "text": [
      "************************************************************\n",
      "i\n",
      "me\n",
      "my\n",
      "myself\n",
      "we\n",
      "our\n",
      "************************************************************\n",
      "stopwords num: 179\n"
     ]
    }
   ],
   "source": [
    "#출력부============================\n",
    "print(\"*\" * 60)\n",
    "for idx, word in enumerate(stopwords.words(\"english\")):\n",
    "    print(word)\n",
    "    if idx == 5: break;\n",
    "print(\"*\" * 60)\n",
    "\n",
    "print(\"stopwords num:\", len(stopwords.words('english')))\n",
    "#End==============================="
   ]
  },
  {
   "cell_type": "markdown",
   "id": "cross-marble",
   "metadata": {},
   "source": [
    "<br>\n",
    "\n",
    "#### 데이터 정제 함수 생성\n",
    "***\n",
    "+ 전체 문장 소문자로 변경, html 태그 제거, 특수문자 제거 등의 정제 함수를 생성 합니다.\n",
    "\n",
    "\n",
    "+ '원문'에 대해서만 불용어를 제거하고 '요약문'에서는 불용어를 포함하기 위해 `remove_stopwords`를 매개변수로하여 불용어 제외 여부를 선택 합니다.\n",
    "***"
   ]
  },
  {
   "cell_type": "code",
   "execution_count": 7,
   "id": "digital-cleaners",
   "metadata": {},
   "outputs": [
    {
     "name": "stdout",
     "output_type": "stream",
     "text": [
      "************************************************************\n",
      "You need cooling, Baby I'm not fooling.\n",
      "↓↓↓↓↓↓↓↓↓↓↓↓↓↓↓↓↓↓↓↓\n",
      "['need cooling baby fooling']\n",
      "************************************************************\n"
     ]
    }
   ],
   "source": [
    "# 데이터 전처리 함수===================\n",
    "def preprocess_sentence(sentence, remove_stopwords=True):\n",
    "    sentence = sentence.lower() # 텍스트 소문자화\n",
    "    sentence = BeautifulSoup(sentence, \"lxml\").text # <br />, <a href = ...> 등의 html 태그 제거\n",
    "    sentence = re.sub(r'\\([^)]*\\)', '', sentence) # 괄호로 닫힌 문자열 (...) 제거 Ex) my husband (and myself!) for => my husband for\n",
    "    sentence = re.sub('\"','', sentence) # 쌍따옴표 \" 제거\n",
    "    sentence = ' '.join([contractions[t] if t in contractions else t for t in sentence.split(\" \")]) # 약어 정규화\n",
    "    sentence = re.sub(r\"'s\\b\",\"\", sentence) # 소유격 제거. Ex) roland's -> roland\n",
    "    sentence = re.sub(\"[^a-zA-Z]\", \" \", sentence) # 영어 외 문자(숫자, 특수문자 등) 공백으로 변환\n",
    "    sentence = re.sub('[m]{2,}', 'mm', sentence) # m이 3개 이상이면 2개로 변경. Ex) ummmmmmm yeah -> umm yeah\n",
    "    \n",
    "    if remove_stopwords:   #불용어 제거 여부\n",
    "        tokens = ' '.join(word for word in sentence.split() if not word in stopwords.words('english') if len(word) > 1)\n",
    "    else:   #불용어 미제거 (Summary)\n",
    "        tokens = ' '.join(word for word in sentence.split() if len(word) > 1)\n",
    "    return tokens\n",
    "#End===================================\n",
    "\n",
    "\n",
    "#여러 문장에 대한 전처리===============\n",
    "def appendTexts(sentences, remove_stopwords):\n",
    "    texts = []\n",
    "    for s in sentences:\n",
    "        texts += preprocess_sentence(s, remove_stopwords),\n",
    "    return texts\n",
    "#End===================================\n",
    "\n",
    "\n",
    "#출력부================================\n",
    "text = \"You need cooling, Baby I'm not fooling.\"   #Whole Lotta Love - Led Zeppelin / 1969\n",
    "print(\"*\" * 60)\n",
    "print(text)\n",
    "print(\"↓\" * 20)\n",
    "print(appendTexts([text], True))\n",
    "print(\"*\" * 60)\n",
    "#End=================================="
   ]
  },
  {
   "cell_type": "markdown",
   "id": "charming-leeds",
   "metadata": {},
   "source": [
    "<br>\n",
    "\n",
    "#### 멀티프로세싱 데이터 정제 함수 생성\n",
    "***\n",
    "+ 다량의 데이터를 정제 해야하므로 멀티프로세싱을 이용하여 시간을 단축 합니다.\n",
    "***"
   ]
  },
  {
   "cell_type": "code",
   "execution_count": 8,
   "id": "virgin-appraisal",
   "metadata": {},
   "outputs": [],
   "source": [
    "def preprocess_data(data, remove_stopwords=True):\n",
    "    start_time = time.time()\n",
    "    num_cores = mp.cpu_count()  # 컴퓨터의 코어 수\n",
    "\n",
    "    text_data_split = np.array_split(data, num_cores)  # 코어 수만큼 데이터를 배분하여 병렬 처리\n",
    "    pool = Pool(num_cores)\n",
    "\n",
    "    processed_data = np.concatenate(   # 각자 작업한 데이터 합치기\n",
    "        pool.map(\n",
    "            partial(appendTexts, remove_stopwords=remove_stopwords),\n",
    "            text_data_split\n",
    "        )\n",
    "    )  \n",
    "    pool.close()\n",
    "    pool.join()\n",
    "    print(\"Data cleaning: \", round(time.time() - start_time, 2), \" seconds\")\n",
    "    return processed_data"
   ]
  },
  {
   "cell_type": "markdown",
   "id": "accurate-apple",
   "metadata": {},
   "source": [
    "<br>\n",
    "\n",
    "#### 데이터 정제 실시\n",
    "***\n",
    "+ 앞서 생성한 함수를 바탕으로 데이터 정제를 실시 합니다.\n",
    "\n",
    "\n",
    "+ 원문 즉, `text` 데이터는 불용어를 제거하고, 요약문인 `headlines` 데이터는 불용어를 제거하지 않습니다.\n",
    "***"
   ]
  },
  {
   "cell_type": "code",
   "execution_count": 9,
   "id": "stylish-moses",
   "metadata": {},
   "outputs": [
    {
     "name": "stdout",
     "output_type": "stream",
     "text": [
      "**************************************************\n",
      "Start `text` data cleaning...\n",
      "Data cleaning:  415.13  seconds\n",
      "Done `text` data cleaning...\n",
      "**************************************************\n",
      "\n",
      "\n",
      "**************************************************\n",
      "Start `summary` data cleaning...\n",
      "Data cleaning:  12.73  seconds\n",
      "Done `summary` data cleaning...\n",
      "**************************************************\n",
      "\n",
      "\n",
      "************************************************************\n",
      "<HEADLINE SAMPLE>\n",
      "saurav kant alumnus upgrad iiit pg program machine learning artificial intelligence sr systems engineer infosys almost years work experience program upgrad degree career support helped transition data scientist tech mahindra salary hike upgrad online power learning powered lakh careers\n",
      "************************************************************\n",
      "\n",
      "\n",
      "************************************************************\n",
      "<TEXT SAMPLE>\n",
      "upgrad learner switches to career in ml al with salary hike\n",
      "************************************************************\n"
     ]
    }
   ],
   "source": [
    "#데이터 정제 실시==================\n",
    "print(\"*\" * 50)\n",
    "print(\"Start `text` data cleaning...\")\n",
    "clean_text = preprocess_data(data['text'])\n",
    "print(\"Done `text` data cleaning...\")\n",
    "print(\"*\" * 50)\n",
    "\n",
    "print(\"\\n\\n\" + \"*\" * 50)\n",
    "print(\"Start `summary` data cleaning...\")\n",
    "clean_summary = preprocess_data(data['headlines'], remove_stopwords=False)\n",
    "print(\"Done `summary` data cleaning...\")\n",
    "print(\"*\" * 50)\n",
    "#End===============================\n",
    "\n",
    "#정제 데이터로 대체================\n",
    "data['text'] = clean_text\n",
    "data['headlines'] = clean_summary\n",
    "#End===============================\n",
    "\n",
    "\n",
    "#출력부============================\n",
    "print(\"\\n\\n\" + \"*\" * 60)\n",
    "print(\"<HEADLINE SAMPLE>\")\n",
    "print(clean_text[0])\n",
    "print(\"*\" * 60)\n",
    "\n",
    "print(\"\\n\\n\" + \"*\" * 60)\n",
    "print(\"<TEXT SAMPLE>\")\n",
    "print(clean_summary[0])\n",
    "print(\"*\" * 60)\n",
    "#End==============================="
   ]
  },
  {
   "cell_type": "markdown",
   "id": "large-values",
   "metadata": {},
   "source": [
    "<br>\n",
    "\n",
    "### 2.3. 정제 후 데이터 분석\n",
    "***\n",
    "<span style=\"font-size:12pt; line-height:1.7; font-family:Serif;\">\n",
    "    &nbsp; &nbsp; 조금 더 자세한 데이터 분석을 실시 합니다. 데이터 정제를 실시 하였기 때문에 결측지를 다시 확인 한 결과, 결측치는 발견되지 않았습니다. 이후의 모델이 입력 받을 문장의 길이를 설정하기 위해 최적의 문장 길이를 판단하기 위해, 데이터셋의 문장 길이를 분석하였습니다. 원문(text)의 경우 최대 60개의 단어로 구성된 문장이 존재하며, 평균 35개의 단어로 문장이 이루어져 있음을 확인하였습니다. 요약문(headlines)의 경우 최대 16개의 단어로 구성된 문장이 존재하며 평균 9개의 단어로 문장이 이루어져 있음을 확인하였습니다. 또한, 원문의 경우 40개 이하의 단어로 구성된 문장이 약 92.4%이며, 요약문의 경우 11개 이하의 단어로 구성된 문장이 약 94.5%인 것을 확인하였습니다.\n",
    "</span>\n",
    "\n",
    "***"
   ]
  },
  {
   "cell_type": "markdown",
   "id": "freelance-belief",
   "metadata": {},
   "source": [
    "#### NULL 값 확인\n",
    "***\n",
    "+ 데이터 정제 후 `NULL` 값을 확인 합니다.\n",
    "\n",
    "+ `text`, `headlines` 모두 `NULL` 값이 존재하지 않습니다.\n",
    "***"
   ]
  },
  {
   "cell_type": "code",
   "execution_count": 10,
   "id": "blind-consideration",
   "metadata": {},
   "outputs": [
    {
     "name": "stdout",
     "output_type": "stream",
     "text": [
      "************************************************************\n",
      "<DATA INFO>\n",
      "<class 'pandas.core.frame.DataFrame'>\n",
      "Int64Index: 98360 entries, 0 to 98400\n",
      "Data columns (total 2 columns):\n",
      " #   Column     Non-Null Count  Dtype \n",
      "---  ------     --------------  ----- \n",
      " 0   headlines  98360 non-null  object\n",
      " 1   text       98360 non-null  object\n",
      "dtypes: object(2)\n",
      "memory usage: 2.3+ MB\n",
      "None\n",
      "************************************************************\n"
     ]
    }
   ],
   "source": [
    "data.replace('', np.nan, inplace=True)   #빈 값을 Null 값으로 변환\n",
    "\n",
    "\n",
    "#출력부============================\n",
    "print(\"*\" * 60)\n",
    "print(\"<DATA INFO>\")\n",
    "print(data.info())\n",
    "print(\"*\" * 60)\n",
    "#End=============================="
   ]
  },
  {
   "cell_type": "markdown",
   "id": "comic-socket",
   "metadata": {},
   "source": [
    "<br>\n",
    "\n",
    "#### 문장 길이 분석\n",
    "***\n",
    "+ 원문 즉, `text`의 경우 하나의 단어로 구성된 데이터가 존재 하며, 최대 60개의 단어로 구성된 문장이 존재하고 평균 약 35개의 단어로 문장이 이루어져 있습니다.\n",
    "\n",
    "\n",
    "+ 요약문 즉, `headlines`의 경우 하나의 단어로 구성된 데이터가 존재 하며, 최대 16개의 단어로 구성된 문장이 존재하고 평균 약 9개의 단어로 문장이 이루어져 있습니다.\n",
    "***"
   ]
  },
  {
   "cell_type": "code",
   "execution_count": 11,
   "id": "forty-yield",
   "metadata": {
    "scrolled": false
   },
   "outputs": [
    {
     "name": "stdout",
     "output_type": "stream",
     "text": [
      "************************************************************\n",
      "text min len: 1\n",
      "text max len: 60\n",
      "text avg len: 35.09968483123221\n",
      "\n",
      "headline min len: 1\n",
      "headline max len: 16\n",
      "headline avg len: 9.299532330215534\n",
      "************************************************************\n"
     ]
    },
    {
     "data": {
      "image/png": "[encoded data removed]",
      "text/plain": [
       "<Figure size 504x720 with 4 Axes>"
      ]
     },
     "metadata": {
      "needs_background": "light"
     },
     "output_type": "display_data"
    }
   ],
   "source": [
    "text_len = [len(s.split()) for s in data['text']]   #원문에 대한 문장 길이\n",
    "summary_len = [len(s.split()) for s in data['headlines']]   #요약문에 대한 문장 길이\n",
    "\n",
    "\n",
    "#출력부============================\n",
    "print(\"*\" * 60)\n",
    "print('text min len: {}'.format(np.min(text_len)))\n",
    "print('text max len: {}'.format(np.max(text_len)))\n",
    "print('text avg len: {}'.format(np.mean(text_len)))\n",
    "\n",
    "print('\\nheadline min len: {}'.format(np.min(summary_len)))\n",
    "print('headline max len: {}'.format(np.max(summary_len)))\n",
    "print('headline avg len: {}'.format(np.mean(summary_len)))\n",
    "print(\"*\" * 60)\n",
    "#End==============================\n",
    "\n",
    "\n",
    "#시각화===========================\n",
    "plt.figure(figsize=(7, 10))\n",
    "plt.subplot(2,2,1)\n",
    "plt.boxplot(summary_len)\n",
    "plt.title('headline')\n",
    "\n",
    "plt.subplot(2,2,2)\n",
    "plt.boxplot(text_len)\n",
    "plt.title('text')\n",
    "plt.tight_layout()\n",
    "\n",
    "plt.subplots_adjust(right=1.8)\n",
    "\n",
    "plt.subplot(2,2,3)\n",
    "plt.hist(summary_len, bins = 40)\n",
    "plt.xlabel('length of samples')\n",
    "plt.ylabel('number of samples')\n",
    "\n",
    "plt.subplot(2,2,4)\n",
    "plt.hist(text_len, bins = 40)\n",
    "plt.xlabel('length of samples')\n",
    "plt.show()\n",
    "#End=============================="
   ]
  },
  {
   "cell_type": "markdown",
   "id": "tamil-literature",
   "metadata": {},
   "source": [
    "<br>\n",
    "\n",
    "#### 최적 문장 길이 확보하기\n",
    "***\n",
    "+ 원문의 경우 40개 이하의 단어로 구성된 문장이 약 92.4%를 이룹니다.\n",
    "\n",
    "\n",
    "+ 요약문의 경우 11개 이하의 단어로 구성된 문장이 약 94.5%를 이룹니다.\n",
    "***"
   ]
  },
  {
   "cell_type": "code",
   "execution_count": 12,
   "id": "fiscal-relations",
   "metadata": {},
   "outputs": [
    {
     "name": "stdout",
     "output_type": "stream",
     "text": [
      "************************************************************\n",
      "40 len text record: 0.924\n",
      "11 len headlines record: 0.945\n",
      "************************************************************\n"
     ]
    }
   ],
   "source": [
    "#문장 길이에 따른 데이터 비율 확인 함수=============\n",
    "def below_threshold_len(max_len, nested_list):\n",
    "    cnt = 0\n",
    "    for s in nested_list:\n",
    "        if(len(s.split()) <= max_len):\n",
    "            cnt = cnt + 1\n",
    "    return round(cnt/ len(nested_list), 3)\n",
    "#End================================================\n",
    "\n",
    "\n",
    "#출력부============================\n",
    "text_max_len, summary_max_len = 40, 11\n",
    "\n",
    "print(\"*\" * 60)\n",
    "print(\"40 len text record:\", below_threshold_len(text_max_len, data[\"text\"]))\n",
    "print(\"11 len headlines record:\", below_threshold_len(summary_max_len, data[\"headlines\"]))\n",
    "print(\"*\" * 60)\n",
    "#End=============================="
   ]
  },
  {
   "cell_type": "markdown",
   "id": "rotary-cooper",
   "metadata": {},
   "source": [
    "<br>\n",
    "\n",
    "## 3. 데이터 전처리\n",
    "***\n",
    "<span style=\"font-size:12pt; line-height:1.7; font-family:Serif;\">\n",
    "    &nbsp; &nbsp; 데이터 전처리 단계에서는 앞서 실시한 분석을 바탕으로 문장 길이에 따른 데이터를 제외 하거나 단어 사전을 생성하여 문장을 토큰화 하는 등의 학습 데이터로 사용할 수 있게 데이터를 수정합니다. 특히, 문장의 단어 수를 데이터의 약 90%의 비중을 차지하는 원문은 40개, 요약문은 11개 이하의 단어로 구성된 문장만 확보 합니다. 최종적으로 학습 데이터 68,675개, 테스트 데이터 17,168개를 확보 하였습니다.\n",
    "</span>\n",
    "\n",
    "***"
   ]
  },
  {
   "cell_type": "markdown",
   "id": "chinese-thomas",
   "metadata": {},
   "source": [
    "### 3.1. 데이터 전처리를 통한 학습 데이터 생성\n",
    "***\n",
    "<span style=\"font-size:12pt; line-height:1.7; font-family:Serif;\">\n",
    "    &nbsp; &nbsp; 앞서 분석 단계에서 획득한 각 데이터에 대한 문장 길이를 바탕으로 원문은 40개 단어 초과, 요약문은 11개 단어 초과 문장을 제외 합니다. 이후, 모델이 문장을 예측 할 수 있도록 시작과 종료 토큰을 추가하여 줍니다. 또한, 데이터를 학습 데이터와 테스트 데이터로 분리하여 줍니다. 최종적으로 학습 데이터 68,675개, 테스트 데이터 17,168개를 획득 하였습니다.\n",
    "</span>\n",
    "\n",
    "***"
   ]
  },
  {
   "cell_type": "markdown",
   "id": "fabulous-stopping",
   "metadata": {},
   "source": [
    "#### 문장길이에 따른 데이터 제외\n",
    "***\n",
    "+ 앞서 획득한 원문과 요약문에 대한 문장 길이를 바탕으로 해당 문장 길이보다 긴 문장은 제외 합니다.\n",
    "\n",
    "\n",
    "+ 원문(`text`)은 40개 단어 초과, 요약문(`headlines`)은 11개 단어 초과 문장을 제외 합니다.\n",
    "\n",
    "\n",
    "+ 총 85,843개의 레코드를 획득 하였습니다.\n",
    "***"
   ]
  },
  {
   "cell_type": "code",
   "execution_count": 13,
   "id": "productive-flexibility",
   "metadata": {},
   "outputs": [
    {
     "name": "stdout",
     "output_type": "stream",
     "text": [
      "************************************************************\n",
      "<DATA INFO>\n",
      "<class 'pandas.core.frame.DataFrame'>\n",
      "Int64Index: 85843 entries, 0 to 98400\n",
      "Data columns (total 2 columns):\n",
      " #   Column     Non-Null Count  Dtype \n",
      "---  ------     --------------  ----- \n",
      " 0   headlines  85843 non-null  object\n",
      " 1   text       85843 non-null  object\n",
      "dtypes: object(2)\n",
      "memory usage: 2.0+ MB\n",
      "None\n",
      "************************************************************\n"
     ]
    }
   ],
   "source": [
    "data = data[data['text'].apply(lambda x: len(x.split()) <= text_max_len)]   #원문\n",
    "data = data[data['headlines'].apply(lambda x: len(x.split()) <= summary_max_len)]   #요약문\n",
    "\n",
    "\n",
    "#출력부============================\n",
    "print(\"*\" * 60)\n",
    "print(\"<DATA INFO>\")\n",
    "print(data.info())\n",
    "print(\"*\" * 60)\n",
    "#End=============================="
   ]
  },
  {
   "cell_type": "markdown",
   "id": "announced-deficit",
   "metadata": {},
   "source": [
    "<br>\n",
    "\n",
    "#### 시작 · 종료 토큰을 추가한 디코더용 데이터 추가\n",
    "***\n",
    "+ 시작 토큰(`sostoken`)과 종료 토큰(`eostoken`)을 추가한 데이터를 생성하고 디코더 모델에 입력할 새로운 속성을 추가 합니다.\n",
    "***"
   ]
  },
  {
   "cell_type": "code",
   "execution_count": 14,
   "id": "southwest-session",
   "metadata": {},
   "outputs": [
    {
     "data": {
      "text/html": [
       "<div>\n",
       "<style scoped>\n",
       "    .dataframe tbody tr th:only-of-type {\n",
       "        vertical-align: middle;\n",
       "    }\n",
       "\n",
       "    .dataframe tbody tr th {\n",
       "        vertical-align: top;\n",
       "    }\n",
       "\n",
       "    .dataframe thead th {\n",
       "        text-align: right;\n",
       "    }\n",
       "</style>\n",
       "<table border=\"1\" class=\"dataframe\">\n",
       "  <thead>\n",
       "    <tr style=\"text-align: right;\">\n",
       "      <th></th>\n",
       "      <th>headlines</th>\n",
       "      <th>text</th>\n",
       "      <th>decoder_input</th>\n",
       "      <th>decoder_target</th>\n",
       "    </tr>\n",
       "  </thead>\n",
       "  <tbody>\n",
       "    <tr>\n",
       "      <th>0</th>\n",
       "      <td>upgrad learner switches to career in ml al wit...</td>\n",
       "      <td>saurav kant alumnus upgrad iiit pg program mac...</td>\n",
       "      <td>sostoken upgrad learner switches to career in ...</td>\n",
       "      <td>upgrad learner switches to career in ml al wit...</td>\n",
       "    </tr>\n",
       "    <tr>\n",
       "      <th>2</th>\n",
       "      <td>new zealand end rohit sharma led india match w...</td>\n",
       "      <td>new zealand defeated india wickets fourth odi ...</td>\n",
       "      <td>sostoken new zealand end rohit sharma led indi...</td>\n",
       "      <td>new zealand end rohit sharma led india match w...</td>\n",
       "    </tr>\n",
       "    <tr>\n",
       "      <th>3</th>\n",
       "      <td>aegon life iterm insurance plan helps customer...</td>\n",
       "      <td>aegon life iterm insurance plan customers enjo...</td>\n",
       "      <td>sostoken aegon life iterm insurance plan helps...</td>\n",
       "      <td>aegon life iterm insurance plan helps customer...</td>\n",
       "    </tr>\n",
       "  </tbody>\n",
       "</table>\n",
       "</div>"
      ],
      "text/plain": [
       "                                           headlines  \\\n",
       "0  upgrad learner switches to career in ml al wit...   \n",
       "2  new zealand end rohit sharma led india match w...   \n",
       "3  aegon life iterm insurance plan helps customer...   \n",
       "\n",
       "                                                text  \\\n",
       "0  saurav kant alumnus upgrad iiit pg program mac...   \n",
       "2  new zealand defeated india wickets fourth odi ...   \n",
       "3  aegon life iterm insurance plan customers enjo...   \n",
       "\n",
       "                                       decoder_input  \\\n",
       "0  sostoken upgrad learner switches to career in ...   \n",
       "2  sostoken new zealand end rohit sharma led indi...   \n",
       "3  sostoken aegon life iterm insurance plan helps...   \n",
       "\n",
       "                                      decoder_target  \n",
       "0  upgrad learner switches to career in ml al wit...  \n",
       "2  new zealand end rohit sharma led india match w...  \n",
       "3  aegon life iterm insurance plan helps customer...  "
      ]
     },
     "execution_count": 14,
     "metadata": {},
     "output_type": "execute_result"
    }
   ],
   "source": [
    "#토큰 추가 및 속성 추가============\n",
    "data['decoder_input'] = data['headlines'].apply(lambda x : 'sostoken '+ x)\n",
    "data['decoder_target'] = data['headlines'].apply(lambda x : x + ' eostoken')\n",
    "#End===============================\n",
    "\n",
    "\n",
    "#출력부===========================\n",
    "data.head(3)\n",
    "#End=============================="
   ]
  },
  {
   "cell_type": "markdown",
   "id": "focal-cincinnati",
   "metadata": {},
   "source": [
    "<br>\n",
    "\n",
    "#### 데이터 셔플링\n",
    "***\n",
    "+ 올바른 학습을 위해 데이터를 섞어 줍니다.\n",
    "***"
   ]
  },
  {
   "cell_type": "code",
   "execution_count": 15,
   "id": "treated-playing",
   "metadata": {},
   "outputs": [],
   "source": [
    "#Numpy로 변환========================\n",
    "encoder_input = np.array(data['text']) # 인코더의 입력\n",
    "decoder_input = np.array(data['decoder_input']) # 디코더의 입력\n",
    "decoder_target = np.array(data['decoder_target']) # 디코더의 레이블\n",
    "#End=================================\n",
    "\n",
    "\n",
    "#데이터 shuffle======================\n",
    "indices = np.arange(encoder_input.shape[0])\n",
    "np.random.shuffle(indices)   #idx 섞기\n",
    "\n",
    "encoder_input = encoder_input[indices]\n",
    "decoder_input = decoder_input[indices]\n",
    "decoder_target = decoder_target[indices]\n",
    "#End================================="
   ]
  },
  {
   "cell_type": "markdown",
   "id": "checked-solomon",
   "metadata": {},
   "source": [
    "<br>\n",
    "\n",
    "#### 학습 데이터와 테스트 데이터 분리 하기\n",
    "***\n",
    "+ 학습 데이터 68,675개, 테스트 데이터 17,168개로 분리 하였습니다.\n",
    "***"
   ]
  },
  {
   "cell_type": "code",
   "execution_count": 16,
   "id": "variable-asbestos",
   "metadata": {},
   "outputs": [
    {
     "name": "stdout",
     "output_type": "stream",
     "text": [
      "************************************************************\n",
      "train X data num: 68675 \ttrain Y data num: 68675\n",
      "test X data num: 17168 \ttest Y data num: 17168\n",
      "************************************************************\n"
     ]
    }
   ],
   "source": [
    "n_of_val = int(len(encoder_input) * 0.2)   #20% 분할\n",
    "\n",
    "\n",
    "#학습 데이터======================\n",
    "encoder_input_train = encoder_input[:-n_of_val]\n",
    "decoder_input_train = decoder_input[:-n_of_val]\n",
    "decoder_target_train = decoder_target[:-n_of_val]\n",
    "#End==============================\n",
    "\n",
    "\n",
    "#테스트 데이터====================\n",
    "encoder_input_test = encoder_input[-n_of_val:]\n",
    "decoder_input_test = decoder_input[-n_of_val:]\n",
    "decoder_target_test = decoder_target[-n_of_val:]\n",
    "#End==============================\n",
    "\n",
    "\n",
    "#출력부===========================\n",
    "print(\"*\" * 60)\n",
    "print(\n",
    "    \"train X data num:\", len(encoder_input_train),\n",
    "    \"\\ttrain Y data num:\", len(decoder_input_train)\n",
    ")\n",
    "\n",
    "print(\n",
    "    \"test X data num:\", len(encoder_input_test),\n",
    "    \"\\ttest Y data num:\", len(decoder_input_test)\n",
    ")\n",
    "print(\"*\" * 60)\n",
    "#End=============================="
   ]
  },
  {
   "cell_type": "markdown",
   "id": "approximate-wallace",
   "metadata": {},
   "source": [
    "<br>\n",
    "\n",
    "### 3.2. 단어 사전 생성 및 문장 토큰화\n",
    "***\n",
    "<span style=\"font-size:12pt; line-height:1.7; font-family:Serif;\">\n",
    "    &nbsp; &nbsp; 문장을 모델이 이해할 수 있도록 토큰화 해줍니다. 따라서, 우선적으로 단어사전을 생성하여 줍니다. 또한, 단어 사용빈도를 확인하여, 등장 빈도가 약 3% 이하인 단어는 제외하여 단어사전을 생성합니다. 이러한 과정을 원문과 요약문 별로 진행합니다.\n",
    "</span>\n",
    "\n",
    "***"
   ]
  },
  {
   "cell_type": "markdown",
   "id": "mysterious-cambridge",
   "metadata": {},
   "source": [
    "### 3.2.1. 원문에 대한 문장 토큰화\n",
    "***\n",
    "<span style=\"font-size:12pt; line-height:1.7; font-family:Serif;\">\n",
    "    &nbsp; &nbsp; 원문에 대한 토큰화를 진행합니다. 단어 사용빈도를 확인하여 22,000개의 단어로 단어사전을 생성합니다. 이후 자연어로 되어있는 문장을 토큰화 하여 줍니다.\n",
    "</span>\n",
    "\n",
    "***"
   ]
  },
  {
   "cell_type": "markdown",
   "id": "executive-harbor",
   "metadata": {},
   "source": [
    "#### 단어 사용 빈도 확인 하기\n",
    "***\n",
    "+ 전체 단어는 총 64,776개 입니다.\n",
    "\n",
    "\n",
    "+ 전체 데이터에서 5회 이하 사용된 단어의 수는 42,389개 이며, 약 3.33% 빈도로 사용 되었습니다.\n",
    "\n",
    "\n",
    "+ 6회 이상 사용된 단어는 총 22,387개로 해당 단어 만으로 다시 단어사전을 재정의 하고자 합니다.\n",
    "***"
   ]
  },
  {
   "cell_type": "code",
   "execution_count": 17,
   "id": "remarkable-scholarship",
   "metadata": {},
   "outputs": [
    {
     "name": "stdout",
     "output_type": "stream",
     "text": [
      "************************************************************\n",
      "단어 집합(vocabulary)의 크기 : 64767\n",
      "등장 빈도가 5번 이하인 희귀 단어의 수: 42476\n",
      "단어 집합에서 희귀 단어를 제외시킬 경우의 단어 집합의 크기 22291\n",
      "단어 집합에서 희귀 단어의 비율: 65.58278135470223\n",
      "전체 등장 빈도에서 희귀 단어 등장 빈도 비율: 3.354488677920944\n",
      "************************************************************\n"
     ]
    }
   ],
   "source": [
    "#단어 사용 빈도 확인==============\n",
    "def print_word_rate(tokenizer, word_num):\n",
    "    threshold = word_num\n",
    "    total_cnt = len(tokenizer.word_index)   #단어 빈도\n",
    "    rare_cnt = 0 # 등장 빈도수가 threshold보다 작은 단어의 개수를 카운트\n",
    "    total_freq = 0 # 훈련 데이터의 전체 단어 빈도수 총 합\n",
    "    rare_freq = 0 # 등장 빈도수가 threshold보다 작은 단어의 등장 빈도수의 총 합\n",
    "\n",
    "    # 단어와 빈도수의 쌍(pair)을 key와 value로 받는다.\n",
    "    for key, value in tokenizer.word_counts.items():\n",
    "        total_freq = total_freq + value\n",
    "\n",
    "        if(value < threshold):\n",
    "            rare_cnt = rare_cnt + 1\n",
    "            rare_freq = rare_freq + value\n",
    "\n",
    "\n",
    "    #출력부===========================\n",
    "    print(\"*\" * 60)\n",
    "    print('단어 집합(vocabulary)의 크기 :', len(tokenizer.word_index))\n",
    "    print('등장 빈도가 %s번 이하인 희귀 단어의 수: %s'%(threshold - 1, rare_cnt))\n",
    "    print('단어 집합에서 희귀 단어를 제외시킬 경우의 단어 집합의 크기 %s'%(total_cnt - rare_cnt))\n",
    "    print(\"단어 집합에서 희귀 단어의 비율:\", (rare_cnt / total_cnt)*100)\n",
    "    print(\"전체 등장 빈도에서 희귀 단어 등장 빈도 비율:\", (rare_freq / total_freq)*100)\n",
    "    print(\"*\" * 60)\n",
    "    #End==============================\n",
    "    \n",
    "    return None\n",
    "#End==============================\n",
    "\n",
    "\n",
    "#토크나이저=======================\n",
    "src_tokenizer = Tokenizer() # 토크나이저 정의\n",
    "src_tokenizer.fit_on_texts(encoder_input_train) #학습 데이터 토큰화\n",
    "#End==============================\n",
    "\n",
    "\n",
    "print_word_rate(src_tokenizer, 6)"
   ]
  },
  {
   "cell_type": "markdown",
   "id": "phantom-photography",
   "metadata": {},
   "source": [
    "<br>\n",
    "\n",
    "#### 단어사전 생성\n",
    "***\n",
    "+ 총 22,000개의 단어가 등록된 단어사전을 생성 합니다.\n",
    "***"
   ]
  },
  {
   "cell_type": "code",
   "execution_count": 18,
   "id": "technological-texture",
   "metadata": {},
   "outputs": [],
   "source": [
    "src_vocab = 20000\n",
    "src_tokenizer = Tokenizer(num_words=20000) # 단어 집합의 크기를 22,000으로 제한\n",
    "src_tokenizer.fit_on_texts(encoder_input_train) # 단어 집합 재생성"
   ]
  },
  {
   "cell_type": "markdown",
   "id": "abroad-chess",
   "metadata": {},
   "source": [
    "<br>\n",
    "\n",
    "#### 문장을 토큰으로 변환 하기\n",
    "***\n",
    "+ 단어 사전을 기반으로 학습 데이터와 테스트 데이터를 토큰으로 변환 합니다.\n",
    "***"
   ]
  },
  {
   "cell_type": "code",
   "execution_count": 19,
   "id": "supported-niger",
   "metadata": {},
   "outputs": [
    {
     "name": "stdout",
     "output_type": "stream",
     "text": [
      "************************************************************\n",
      "chechen republic leader ramzan kadyrov proposed death penalty recruiters terrorist groups recruiters must bear stronger punishment terrorist starts clockwork bomb someone takes hostages commits acts sabotage added earlier kadyrov claimed militants cannot cured destroyed\n",
      "↓↓↓↓↓↓↓↓↓↓↓↓↓↓↓↓↓↓↓↓↓↓↓↓↓↓↓↓↓↓↓↓↓↓↓\n",
      "[16198, 1960, 98, 9207, 15441, 735, 155, 1384, 19192, 1022, 1113, 19192, 654, 3015, 5093, 2658, 1022, 4305, 1243, 851, 1729, 13646, 3738, 12237, 4, 33, 15441, 40, 903, 229, 13647, 2235]\n",
      "************************************************************\n"
     ]
    }
   ],
   "source": [
    "print(\"*\" * 60)\n",
    "print(encoder_input_train[0])   #변환 이전 샘플\n",
    "\n",
    "\n",
    "#토큰으로 변환 과정==========\n",
    "encoder_input_train = src_tokenizer.texts_to_sequences(encoder_input_train)\n",
    "encoder_input_test = src_tokenizer.texts_to_sequences(encoder_input_test)\n",
    "#End=========================\n",
    "\n",
    "\n",
    "print(\"↓\" * 35)\n",
    "print(encoder_input_train[0])   #변환 이후 샘플\n",
    "print(\"*\" * 60)"
   ]
  },
  {
   "cell_type": "markdown",
   "id": "organizational-convention",
   "metadata": {},
   "source": [
    "<br>\n",
    "\n",
    "### 3.2.2. 요약문에 대한 문장 토큰화\n",
    "***\n",
    "<span style=\"font-size:12pt; line-height:1.7; font-family:Serif;\">\n",
    "    &nbsp; &nbsp; 요약문에 대한 토큰화를 진행합니다. 단어 사용빈도를 고려하여 12,000개의 단어로 단어사전을 생성합니다. 이후 자연어로 되어있는 문장을 토큰화 하여 줍니다.\n",
    "</span>\n",
    "\n",
    "***"
   ]
  },
  {
   "cell_type": "markdown",
   "id": "smoking-millennium",
   "metadata": {},
   "source": [
    "#### 단어 사용 빈도 확인 하기\n",
    "***\n",
    "+ 전체 단어는 총 28,526개 입니다.\n",
    "\n",
    "\n",
    "+ 전체 데이터에서 3회 이하 사용된 단어의 수는 16,220개 이며, 약 3.52% 빈도로 사용 되었습니다.\n",
    "\n",
    "\n",
    "+ 4회 이상 사용된 단어는 총 12,306개로 해당 단어 만으로 다시 단어사전을 재정의 하고자 합니다.\n",
    "***"
   ]
  },
  {
   "cell_type": "code",
   "execution_count": 20,
   "id": "undefined-sierra",
   "metadata": {},
   "outputs": [
    {
     "name": "stdout",
     "output_type": "stream",
     "text": [
      "************************************************************\n",
      "단어 집합(vocabulary)의 크기 : 28529\n",
      "등장 빈도가 3번 이하인 희귀 단어의 수: 16207\n",
      "단어 집합에서 희귀 단어를 제외시킬 경우의 단어 집합의 크기 12322\n",
      "단어 집합에서 희귀 단어의 비율: 56.80886115882085\n",
      "전체 등장 빈도에서 희귀 단어 등장 빈도 비율: 3.5269640934063173\n",
      "************************************************************\n"
     ]
    }
   ],
   "source": [
    "#토크나이저=======================\n",
    "tar_tokenizer = Tokenizer()\n",
    "tar_tokenizer.fit_on_texts(decoder_input_train)\n",
    "#End==============================\n",
    "\n",
    "\n",
    "print_word_rate(tar_tokenizer, 4)"
   ]
  },
  {
   "cell_type": "markdown",
   "id": "entire-pathology",
   "metadata": {},
   "source": [
    "<br>\n",
    "\n",
    "#### 단어사전 생성\n",
    "***\n",
    "+ 총 12,000개의 단어가 등록된 단어사전을 생성 합니다.\n",
    "***"
   ]
  },
  {
   "cell_type": "code",
   "execution_count": 21,
   "id": "ahead-moderator",
   "metadata": {},
   "outputs": [],
   "source": [
    "tar_vocab = 12000\n",
    "tar_tokenizer = Tokenizer(num_words=tar_vocab) \n",
    "tar_tokenizer.fit_on_texts(decoder_input_train)\n",
    "tar_tokenizer.fit_on_texts(decoder_target_train)"
   ]
  },
  {
   "cell_type": "markdown",
   "id": "opponent-program",
   "metadata": {},
   "source": [
    "<br>\n",
    "\n",
    "#### 문장을 토큰으로 변환 하기\n",
    "***\n",
    "+ 단어 사전을 기반으로 학습 데이터와 테스트 데이터를 토큰으로 변환 합니다.\n",
    "***"
   ]
  },
  {
   "cell_type": "code",
   "execution_count": 22,
   "id": "muslim-plasma",
   "metadata": {},
   "outputs": [
    {
     "name": "stdout",
     "output_type": "stream",
     "text": [
      "************************************************************\n",
      "sostoken give death penalty to terrorist recruiters chechen leader\n",
      "↓↓↓↓↓↓↓↓↓↓↓↓↓↓↓↓↓↓↓↓↓↓↓↓↓↓↓↓↓↓↓↓↓↓↓\n",
      "[1, 265, 86, 1017, 3, 1006, 10812, 120]\n",
      "************************************************************\n"
     ]
    }
   ],
   "source": [
    "print(\"*\" * 60)\n",
    "print(decoder_input_train[0])   #변환 이전 샘플\n",
    "\n",
    "\n",
    "#토큰으로 변환 과정==========\n",
    "decoder_input_train = tar_tokenizer.texts_to_sequences(decoder_input_train)   #디코더 학습 X\n",
    "decoder_target_train = tar_tokenizer.texts_to_sequences(decoder_target_train)   #디코더 학습 Y\n",
    "decoder_input_test = tar_tokenizer.texts_to_sequences(decoder_input_test)   #디코더 테스트 X\n",
    "decoder_target_test = tar_tokenizer.texts_to_sequences(decoder_target_test)   #디코더 테스트 Y\n",
    "#End=========================\n",
    "\n",
    "\n",
    "print(\"↓\" * 35)\n",
    "print(decoder_input_train[0])   #변환 이후 샘플\n",
    "print(\"*\" * 60)"
   ]
  },
  {
   "cell_type": "markdown",
   "id": "sensitive-bolivia",
   "metadata": {},
   "source": [
    "<br>\n",
    "\n",
    "### 3.3. 데이터 전처리를 통한 학습 데이터 생성2\n",
    "***\n",
    "<span style=\"font-size:12pt; line-height:1.7; font-family:Serif;\">\n",
    "    &nbsp; &nbsp; 최종적으로 비어 있는 데이터를 제외하여 주고 문장에 패딩을 추가합니다. 원문의 최대 길이는 40, 요약문의 최대 길이는 11로 설정하고 문장의 뒷 부분에 패딩을 추가합니다.\n",
    "</span>\n",
    "\n",
    "***"
   ]
  },
  {
   "cell_type": "markdown",
   "id": "fleet-savage",
   "metadata": {},
   "source": [
    "#### 빈 데이터 삭제하기\n",
    "***\n",
    "+ 시작(`sostoken`) 또는 종료(`eostoken`) 토큰만 남아 길이가 1인 문장은 제외해 줍니다.\n",
    "***"
   ]
  },
  {
   "cell_type": "code",
   "execution_count": 23,
   "id": "blank-norfolk",
   "metadata": {},
   "outputs": [
    {
     "name": "stdout",
     "output_type": "stream",
     "text": [
      "************************************************************\n",
      "삭제할 훈련 데이터의 개수 : 0\n",
      "삭제할 테스트 데이터의 개수 : 0\n",
      "************************************************************\n",
      "\n",
      "\n",
      "************************************************************\n",
      "훈련 데이터의 개수 : 68675\n",
      "훈련 레이블의 개수 : 68675\n",
      "테스트 데이터의 개수 : 17168\n",
      "테스트 레이블의 개수 : 17168\n",
      "************************************************************\n"
     ]
    }
   ],
   "source": [
    "#토큰으로 변환된 데이터 중 문장의 길이가 1인 것만 리스트화=====\n",
    "drop_train = [index for index, sentence in enumerate(decoder_input_train) if len(sentence) == 1]\n",
    "drop_test = [index for index, sentence in enumerate(decoder_input_test) if len(sentence) == 1]\n",
    "#End===========================================================\n",
    "\n",
    "\n",
    "#길이가 1인 문장 제거하기======================================\n",
    "encoder_input_train = np.delete(encoder_input_train, drop_train, axis=0)   #인코더 학습 X\n",
    "decoder_input_train = np.delete(decoder_input_train, drop_train, axis=0)   #디코더 학습 X\n",
    "decoder_target_train = np.delete(decoder_target_train, drop_train, axis=0)   #디코더 학습 Y\n",
    "\n",
    "encoder_input_test = np.delete(encoder_input_test, drop_test, axis=0)   #인코더 테스트 X\n",
    "decoder_input_test = np.delete(decoder_input_test, drop_test, axis=0)   #디코더 테스트 X\n",
    "decoder_target_test = np.delete(decoder_target_test, drop_test, axis=0)   #디코더 테스트 Y\n",
    "#End===========================================================\n",
    "\n",
    "\n",
    "#출력부=======================\n",
    "print(\"*\" * 60)\n",
    "print('삭제할 훈련 데이터의 개수 :', len(drop_train))\n",
    "print('삭제할 테스트 데이터의 개수 :', len(drop_test))\n",
    "print(\"*\" * 60)\n",
    "\n",
    "print(\"\\n\\n\" + \"*\" * 60)\n",
    "print('훈련 데이터의 개수 :', len(encoder_input_train))\n",
    "print('훈련 레이블의 개수 :', len(decoder_input_train))\n",
    "print('테스트 데이터의 개수 :', len(encoder_input_test))\n",
    "print('테스트 레이블의 개수 :', len(decoder_input_test))\n",
    "print(\"*\" * 60)\n",
    "#End=========================="
   ]
  },
  {
   "cell_type": "markdown",
   "id": "soviet-annotation",
   "metadata": {},
   "source": [
    "<br>\n",
    "\n",
    "#### 패딩 추가 하기\n",
    "***\n",
    "+ 원문은 최대 길이 40, 요약문은 최대 길이 11로 설정하여 패딩을 추가 합니다.\n",
    "***"
   ]
  },
  {
   "cell_type": "code",
   "execution_count": 24,
   "id": "physical-vector",
   "metadata": {},
   "outputs": [
    {
     "name": "stdout",
     "output_type": "stream",
     "text": [
      "************************************************************\n",
      "[16198  1960    98  9207 15441   735   155  1384 19192  1022  1113 19192\n",
      "   654  3015  5093  2658  1022  4305  1243   851  1729 13646  3738 12237\n",
      "     4    33 15441    40   903   229 13647  2235     0     0     0     0\n",
      "     0     0     0     0]\n",
      "************************************************************\n"
     ]
    }
   ],
   "source": [
    "#패딩추가 text_max_len: 40, summary_max_len: 11\n",
    "padding = \"post\"\n",
    "encoder_input_train = pad_sequences(encoder_input_train, maxlen=text_max_len, padding=padding)\n",
    "encoder_input_test = pad_sequences(encoder_input_test, maxlen=text_max_len, padding=padding)\n",
    "decoder_input_train = pad_sequences(decoder_input_train, maxlen=summary_max_len, padding=padding)\n",
    "decoder_target_train = pad_sequences(decoder_target_train, maxlen=summary_max_len, padding=padding)\n",
    "decoder_input_test = pad_sequences(decoder_input_test, maxlen=summary_max_len, padding=padding)\n",
    "decoder_target_test = pad_sequences(decoder_target_test, maxlen=summary_max_len, padding=padding)\n",
    "\n",
    "\n",
    "#출력부==================\n",
    "print(\"*\" * 60)\n",
    "print(encoder_input_train[0])\n",
    "print(\"*\" * 60)\n",
    "#End====================="
   ]
  },
  {
   "cell_type": "markdown",
   "id": "capital-planet",
   "metadata": {},
   "source": [
    "<br>\n",
    "\n",
    "## 4. 모델 설계 및 학습\n",
    "***\n",
    "<span style=\"font-size:12pt; line-height:1.7; font-family:Serif;\">\n",
    "    &nbsp; &nbsp; 예제에서는 seq2seq에 어텐션을 결합한 형태의 모델을 사용 합니다. 어텐션은 RNN의 장기 의존성 문제를 해결하고자 인코더의 상태를 전부 반영할 수 있도록 해줍니다. 모델은 크게 seq2seq에 해당하는 인코더와 디코더로 구분되고 어텐션 레이어가 존재 합니다. [그림 1]은 어텐션을 결합한 seq2seq 모델을 시각화 한 것입니다.\n",
    "</span>\n",
    "\n",
    "<br><br>\n",
    "\n",
    "<img src=\"./img/model.png\" width=800></img>\n",
    "\n",
    "[그림 1] 어텐션을 결합한 seq2seq 모델\n",
    "***"
   ]
  },
  {
   "cell_type": "markdown",
   "id": "female-saskatchewan",
   "metadata": {},
   "source": [
    "#### 인코더 설계\n",
    "***\n",
    "+ 원문은 최대 길이 40, 요약문은 최대 길이 11로 설정하여 패딩을 추가 합니다.\n",
    "***"
   ]
  },
  {
   "cell_type": "code",
   "execution_count": 25,
   "id": "apart-borough",
   "metadata": {},
   "outputs": [],
   "source": [
    "embedding_dim = 128   #임베딩 벡터 크기\n",
    "hidden_size = 256   #유닛 수\n",
    "\n",
    "\n",
    "#Encoding Model=======================\n",
    "encoder_inputs = Input(shape=(text_max_len,))\n",
    "enc_emb = Embedding(src_vocab, embedding_dim)(encoder_inputs)\n",
    "\n",
    "encoder_lstm1 = LSTM(hidden_size, return_sequences=True, return_state=True ,dropout = 0.4)\n",
    "encoder_output1, state_h1, state_c1 = encoder_lstm1(enc_emb)\n",
    "\n",
    "encoder_lstm2 = LSTM(hidden_size, return_sequences=True, return_state=True, dropout=0.4)\n",
    "encoder_output2, state_h2, state_c2 = encoder_lstm2(encoder_output1)\n",
    "\n",
    "encoder_lstm3 = LSTM(hidden_size, return_state=True, return_sequences=True, dropout=0.4)\n",
    "encoder_outputs, state_h, state_c= encoder_lstm3(encoder_output2)\n",
    "#End=================================="
   ]
  },
  {
   "cell_type": "markdown",
   "id": "infrared-nightlife",
   "metadata": {},
   "source": [
    "<br>\n",
    "\n",
    "#### 디코더 설계\n",
    "***\n",
    "+ 원문은 최대 길이 40, 요약문은 최대 길이 11로 설정하여 패딩을 추가 합니다.\n",
    "***"
   ]
  },
  {
   "cell_type": "code",
   "execution_count": 26,
   "id": "vertical-wiring",
   "metadata": {},
   "outputs": [],
   "source": [
    "#Decoding Model=======================\n",
    "decoder_inputs = Input(shape=(None,))\n",
    "\n",
    "dec_emb_layer = Embedding(tar_vocab, embedding_dim)\n",
    "dec_emb = dec_emb_layer(decoder_inputs)\n",
    "\n",
    "# 디코더의 LSTM\n",
    "decoder_lstm = LSTM(hidden_size, return_sequences=True, return_state=True, dropout=0.4)\n",
    "decoder_outputs, _, _ = decoder_lstm(dec_emb, initial_state=[state_h, state_c])\n",
    "#End=================================="
   ]
  },
  {
   "cell_type": "markdown",
   "id": "static-stable",
   "metadata": {},
   "source": [
    "<br>\n",
    "\n",
    "#### 어텐션 및 출력부 설계\n",
    "***\n",
    "+ 원문은 최대 길이 40, 요약문은 최대 길이 11로 설정하여 패딩을 추가 합니다.\n",
    "***"
   ]
  },
  {
   "cell_type": "code",
   "execution_count": 27,
   "id": "occupational-raleigh",
   "metadata": {},
   "outputs": [],
   "source": [
    "# 어텐션 층(어텐션 함수)\n",
    "attn_layer = AttentionLayer(name='attention_layer')\n",
    "attn_out, attn_states = attn_layer([encoder_outputs, decoder_outputs])\n",
    "\n",
    "# 어텐션의 결과와 디코더의 hidden state들을 연결\n",
    "decoder_concat_input = Concatenate(axis=-1, name='concat_layer')([decoder_outputs, attn_out])\n",
    "\n",
    "# 디코더의 출력층\n",
    "decoder_softmax_layer = Dense(tar_vocab, activation='softmax')\n",
    "decoder_softmax_outputs = decoder_softmax_layer(decoder_concat_input)"
   ]
  },
  {
   "cell_type": "markdown",
   "id": "domestic-french",
   "metadata": {},
   "source": [
    "<br>\n",
    "\n",
    "#### 모델 통합 하기\n",
    "***\n",
    "+ 원문은 최대 길이 40, 요약문은 최대 길이 11로 설정하여 패딩을 추가 합니다.\n",
    "***"
   ]
  },
  {
   "cell_type": "code",
   "execution_count": 28,
   "id": "favorite-justice",
   "metadata": {},
   "outputs": [
    {
     "name": "stdout",
     "output_type": "stream",
     "text": [
      "Model: \"model\"\n",
      "__________________________________________________________________________________________________\n",
      "Layer (type)                    Output Shape         Param #     Connected to                     \n",
      "==================================================================================================\n",
      "input_1 (InputLayer)            [(None, 40)]         0                                            \n",
      "__________________________________________________________________________________________________\n",
      "embedding (Embedding)           (None, 40, 128)      2560000     input_1[0][0]                    \n",
      "__________________________________________________________________________________________________\n",
      "lstm (LSTM)                     [(None, 40, 256), (N 394240      embedding[0][0]                  \n",
      "__________________________________________________________________________________________________\n",
      "input_2 (InputLayer)            [(None, None)]       0                                            \n",
      "__________________________________________________________________________________________________\n",
      "lstm_1 (LSTM)                   [(None, 40, 256), (N 525312      lstm[0][0]                       \n",
      "__________________________________________________________________________________________________\n",
      "embedding_1 (Embedding)         (None, None, 128)    1536000     input_2[0][0]                    \n",
      "__________________________________________________________________________________________________\n",
      "lstm_2 (LSTM)                   [(None, 40, 256), (N 525312      lstm_1[0][0]                     \n",
      "__________________________________________________________________________________________________\n",
      "lstm_3 (LSTM)                   [(None, None, 256),  394240      embedding_1[0][0]                \n",
      "                                                                 lstm_2[0][1]                     \n",
      "                                                                 lstm_2[0][2]                     \n",
      "__________________________________________________________________________________________________\n",
      "attention_layer (AttentionLayer ((None, None, 256),  131328      lstm_2[0][0]                     \n",
      "                                                                 lstm_3[0][0]                     \n",
      "__________________________________________________________________________________________________\n",
      "concat_layer (Concatenate)      (None, None, 512)    0           lstm_3[0][0]                     \n",
      "                                                                 attention_layer[0][0]            \n",
      "__________________________________________________________________________________________________\n",
      "dense (Dense)                   (None, None, 12000)  6156000     concat_layer[0][0]               \n",
      "==================================================================================================\n",
      "Total params: 12,222,432\n",
      "Trainable params: 12,222,432\n",
      "Non-trainable params: 0\n",
      "__________________________________________________________________________________________________\n"
     ]
    }
   ],
   "source": [
    "model = Model([encoder_inputs, decoder_inputs], decoder_softmax_outputs)\n",
    "model.summary()"
   ]
  },
  {
   "cell_type": "markdown",
   "id": "accomplished-hollow",
   "metadata": {},
   "source": [
    "<br>\n",
    "\n",
    "## 5. 모델 학습\n",
    "***\n",
    "<span style=\"font-size:12pt; line-height:1.7; font-family:Serif;\">\n",
    "    &nbsp; &nbsp; 앞서 생성한 모델을 학습하여 줍니다. 옵티마이저로 'Adagrad'의 학습률이 급격하게 줄어드는 문제를 해결하기 위해 G. Hintion이 제시한 'RMSProp'를 사용합니다. 또한 콜백함수를 사용하여 검증 데이터에 대한 손실 값이 2회 이상 증가할 경우 학습을 조기종료 합니다.\n",
    "</span>\n",
    "\n",
    "***"
   ]
  },
  {
   "cell_type": "markdown",
   "id": "related-twins",
   "metadata": {},
   "source": [
    "<br>\n",
    "\n",
    "#### 모델 학습\n",
    "***\n",
    "+ 옵티마이저로 `rmsprop`을 사용 합니다.\n",
    "\n",
    "\n",
    "+ `EarlyStopping`을 통해 검증 데이터의 손실이 줄어들지 않고 증가하는 현상이 2회 관측되면 학습을 조기종료 합니다.\n",
    "\n",
    "<br>\n",
    "\n",
    "> RMSProp는 G. Hinton이 제안한 것으로 AdaGrad의 시간이 지날수록 학습률이 급격하게 감소하는 문제가 존재하여,\n",
    "이를 해결하기 위해 이전 변화량과 현재 변화량의 지수 평균으로 학습률이 급격하게 \n",
    "감소하는 것을 방지하는 옵티마이저이다[1].\n",
    "***"
   ]
  },
  {
   "cell_type": "code",
   "execution_count": 29,
   "id": "fancy-excellence",
   "metadata": {
    "scrolled": false
   },
   "outputs": [
    {
     "name": "stdout",
     "output_type": "stream",
     "text": [
      "Epoch 1/32\n",
      "269/269 [==============================] - 79s 263ms/step - loss: 6.5701 - val_loss: 5.7224\n",
      "Epoch 2/32\n",
      "269/269 [==============================] - 70s 261ms/step - loss: 5.6912 - val_loss: 5.3964\n",
      "Epoch 3/32\n",
      "269/269 [==============================] - 71s 263ms/step - loss: 5.2901 - val_loss: 5.0742\n",
      "Epoch 4/32\n",
      "269/269 [==============================] - 71s 264ms/step - loss: 4.9858 - val_loss: 4.8832\n",
      "Epoch 5/32\n",
      "269/269 [==============================] - 71s 263ms/step - loss: 4.7399 - val_loss: 4.7277\n",
      "Epoch 6/32\n",
      "269/269 [==============================] - 71s 264ms/step - loss: 4.5318 - val_loss: 4.5996\n",
      "Epoch 7/32\n",
      "269/269 [==============================] - 71s 263ms/step - loss: 4.3565 - val_loss: 4.4894\n",
      "Epoch 8/32\n",
      "269/269 [==============================] - 71s 264ms/step - loss: 4.1946 - val_loss: 4.4135\n",
      "Epoch 9/32\n",
      "269/269 [==============================] - 71s 262ms/step - loss: 4.0640 - val_loss: 4.3396\n",
      "Epoch 10/32\n",
      "269/269 [==============================] - 71s 263ms/step - loss: 3.9408 - val_loss: 4.2868\n",
      "Epoch 11/32\n",
      "269/269 [==============================] - 71s 264ms/step - loss: 3.8271 - val_loss: 4.2353\n",
      "Epoch 12/32\n",
      "269/269 [==============================] - 71s 264ms/step - loss: 3.7252 - val_loss: 4.1957\n",
      "Epoch 13/32\n",
      "269/269 [==============================] - 70s 262ms/step - loss: 3.6326 - val_loss: 4.1695\n",
      "Epoch 14/32\n",
      "269/269 [==============================] - 71s 264ms/step - loss: 3.5430 - val_loss: 4.1368\n",
      "Epoch 15/32\n",
      "269/269 [==============================] - 71s 264ms/step - loss: 3.4708 - val_loss: 4.1205\n",
      "Epoch 16/32\n",
      "269/269 [==============================] - 71s 264ms/step - loss: 3.3923 - val_loss: 4.1010\n",
      "Epoch 17/32\n",
      "269/269 [==============================] - 71s 263ms/step - loss: 3.3277 - val_loss: 4.0784\n",
      "Epoch 18/32\n",
      "269/269 [==============================] - 71s 263ms/step - loss: 3.2650 - val_loss: 4.0766\n",
      "Epoch 19/32\n",
      "269/269 [==============================] - 71s 263ms/step - loss: 3.2015 - val_loss: 4.0664\n",
      "Epoch 20/32\n",
      "269/269 [==============================] - 71s 263ms/step - loss: 3.1492 - val_loss: 4.0600\n",
      "Epoch 21/32\n",
      "269/269 [==============================] - 71s 263ms/step - loss: 3.1007 - val_loss: 4.0457\n",
      "Epoch 22/32\n",
      "269/269 [==============================] - 71s 263ms/step - loss: 3.0489 - val_loss: 4.0461\n",
      "Epoch 23/32\n",
      "269/269 [==============================] - 71s 263ms/step - loss: 2.9979 - val_loss: 4.0438\n",
      "Epoch 24/32\n",
      "269/269 [==============================] - 71s 264ms/step - loss: 2.9547 - val_loss: 4.0476\n",
      "Epoch 25/32\n",
      "269/269 [==============================] - 71s 264ms/step - loss: 2.9178 - val_loss: 4.0382\n",
      "Epoch 26/32\n",
      "269/269 [==============================] - 71s 264ms/step - loss: 2.8774 - val_loss: 4.0467\n",
      "Epoch 27/32\n",
      "269/269 [==============================] - 71s 263ms/step - loss: 2.8366 - val_loss: 4.0406\n",
      "Epoch 00027: early stopping\n"
     ]
    }
   ],
   "source": [
    "#모델 컴파일=========================\n",
    "model.compile(\n",
    "    optimizer='rmsprop',\n",
    "    loss='sparse_categorical_crossentropy'\n",
    ")\n",
    "#End=================================\n",
    "\n",
    "\n",
    "#콜백 함수===========================\n",
    "es = EarlyStopping(monitor='val_loss', patience=2, verbose=1)\n",
    "#End=================================\n",
    "\n",
    "\n",
    "#모델 학습===========================\n",
    "history = model.fit(\n",
    "    x=[encoder_input_train, decoder_input_train],\n",
    "    y=decoder_target_train,\n",
    "    validation_data=([encoder_input_test, decoder_input_test],decoder_target_test),\n",
    "    batch_size=256,\n",
    "    callbacks=[es],\n",
    "    epochs=32\n",
    ")\n",
    "#End================================="
   ]
  },
  {
   "cell_type": "markdown",
   "id": "mental-fiction",
   "metadata": {},
   "source": [
    "<br>\n",
    "\n",
    "#### 학습 결과 시각화\n",
    "***\n",
    "+ 학습 데이터와 검증 데이터에 대한 학습 진행에 따른 손실 값을 시각화 한 것입니다.\n",
    "***"
   ]
  },
  {
   "cell_type": "code",
   "execution_count": 30,
   "id": "respective-northeast",
   "metadata": {},
   "outputs": [
    {
     "data": {
      "image/png": "[encoded data removed]",
      "text/plain": [
       "<Figure size 432x288 with 1 Axes>"
      ]
     },
     "metadata": {
      "needs_background": "light"
     },
     "output_type": "display_data"
    }
   ],
   "source": [
    "plt.plot(history.history['loss'], label='train')\n",
    "plt.plot(history.history['val_loss'], label='val')\n",
    "plt.legend()\n",
    "plt.show()"
   ]
  },
  {
   "cell_type": "markdown",
   "id": "purple-currency",
   "metadata": {},
   "source": [
    "<br>\n",
    "\n",
    "## 6. 모델 평가\n",
    "***\n",
    "<span style=\"font-size:12pt; line-height:1.7; font-family:Serif;\">\n",
    "    &nbsp; &nbsp; 학습이 완료된 모델을 평가하고자 합니다. 우선, 학습데이터에 대한 손실 값은 2.836이며, 검증 데이터에 대한 손실 값은 4.04 입니다. 임의의 5개 문장을 사용하여, 어텐션 모델의 추상적 요약을 추출적 요약과 비교하여 모델을 평가하고자 합니다. 평가지표는 '문법 오류 정도'와 '단어 포함 정도'를 사용하고자 합니다.\n",
    "</span>\n",
    "\n",
    "***"
   ]
  },
  {
   "cell_type": "markdown",
   "id": "upper-control",
   "metadata": {},
   "source": [
    "### 6.1. 인퍼런스 단계 모델 및 필요 함수 생성\n",
    "***\n",
    "<span style=\"font-size:12pt; line-height:1.7; font-family:Serif;\">\n",
    "    &nbsp; &nbsp; 요약문이 존재하지 않는 문장을 요약하기 위한 인퍼런스 단계의 모델을 생성합니다. 또한, 토큰으로 되어있는 문장을 자연어로 변경하기 위한 함수를 생성합니다.\n",
    "</span>\n",
    "\n",
    "***"
   ]
  },
  {
   "cell_type": "markdown",
   "id": "whole-wilson",
   "metadata": {},
   "source": [
    "#### 인퍼런스 단계의 모델 생성\n",
    "***\n",
    "+ 모델의 테스트 단계에서 사용할 모델을 생성 해 줍니다.\n",
    "***"
   ]
  },
  {
   "cell_type": "code",
   "execution_count": 31,
   "id": "wicked-destiny",
   "metadata": {},
   "outputs": [],
   "source": [
    "# 인코더 설계\n",
    "encoder_model = Model(inputs=encoder_inputs, outputs=[encoder_outputs, state_h, state_c])\n",
    "\n",
    "# 이전 시점의 상태들을 저장하는 텐서\n",
    "decoder_state_input_h = Input(shape=(hidden_size,))\n",
    "decoder_state_input_c = Input(shape=(hidden_size,))\n",
    "\n",
    "dec_emb2 = dec_emb_layer(decoder_inputs)\n",
    "\n",
    "# 문장의 다음 단어를 예측하기 위해서 초기 상태(initial_state)를 이전 시점의 상태로 사용. 이는 뒤의 함수 decode_sequence()에 구현\n",
    "# 훈련 과정에서와 달리 LSTM의 리턴하는 은닉 상태와 셀 상태인 state_h와 state_c를 버리지 않음.\n",
    "decoder_outputs2, state_h2, state_c2 = decoder_lstm(dec_emb2, initial_state=[decoder_state_input_h, decoder_state_input_c])\n",
    "\n",
    "# 어텐션 함수\n",
    "decoder_hidden_state_input = Input(shape=(text_max_len, hidden_size))\n",
    "attn_out_inf, attn_states_inf = attn_layer([decoder_hidden_state_input, decoder_outputs2])\n",
    "decoder_inf_concat = Concatenate(axis=-1, name='concat')([decoder_outputs2, attn_out_inf])\n",
    "\n",
    "# 디코더의 출력층\n",
    "decoder_outputs2 = decoder_softmax_layer(decoder_inf_concat) \n",
    "\n",
    "# 최종 디코더 모델\n",
    "decoder_model = Model(\n",
    "    [decoder_inputs] + [decoder_hidden_state_input,decoder_state_input_h, decoder_state_input_c],\n",
    "    [decoder_outputs2] + [state_h2, state_c2]\n",
    ")"
   ]
  },
  {
   "cell_type": "markdown",
   "id": "unavailable-connecticut",
   "metadata": {},
   "source": [
    "<br>\n",
    "\n",
    "#### 필요 함수 생성\n",
    "***\n",
    "+ 모델이 출력한 토큰으로 된 문장을 다시 자연어로 변환하기 위한 함수를 생성 합니다.\n",
    "***"
   ]
  },
  {
   "cell_type": "code",
   "execution_count": 32,
   "id": "proper-richardson",
   "metadata": {},
   "outputs": [],
   "source": [
    "#단어 사전===============================\n",
    "src_index_to_word = src_tokenizer.index_word # 원문 단어 집합에서 정수 -> 단어를 얻음\n",
    "tar_word_to_index = tar_tokenizer.word_index # 요약 단어 집합에서 단어 -> 정수를 얻음\n",
    "tar_index_to_word = tar_tokenizer.index_word # 요약 단어 집합에서 정수 -> 단어를 얻음\n",
    "#End=====================================\n",
    "\n",
    "\n",
    "#단어 시퀀스 함수========================\n",
    "def decode_sequence(input_seq):\n",
    "    # 입력으로부터 인코더의 상태를 얻음\n",
    "    e_out, e_h, e_c = encoder_model.predict(input_seq)\n",
    "\n",
    "     # <SOS>에 해당하는 토큰 생성\n",
    "    target_seq = np.zeros((1,1))\n",
    "    target_seq[0, 0] = tar_word_to_index['sostoken']\n",
    "\n",
    "    stop_condition = False\n",
    "    decoded_sentence = ''\n",
    "    while not stop_condition: # stop_condition이 True가 될 때까지 루프 반복\n",
    "\n",
    "        output_tokens, h, c = decoder_model.predict([target_seq] + [e_out, e_h, e_c])\n",
    "        sampled_token_index = np.argmax(output_tokens[0, -1, :])\n",
    "        sampled_token = tar_index_to_word[sampled_token_index]\n",
    "\n",
    "        if (sampled_token!='eostoken'):\n",
    "            decoded_sentence += ' '+sampled_token\n",
    "\n",
    "        #  <eos>에 도달하거나 최대 길이를 넘으면 중단.\n",
    "        if (sampled_token == 'eostoken'  or len(decoded_sentence.split()) >= (summary_max_len-1)):\n",
    "            stop_condition = True\n",
    "\n",
    "        # 길이가 1인 타겟 시퀀스를 업데이트\n",
    "        target_seq = np.zeros((1,1))\n",
    "        target_seq[0, 0] = sampled_token_index\n",
    "\n",
    "        # 상태를 업데이트 합니다.\n",
    "        e_h, e_c = h, c\n",
    "\n",
    "    return decoded_sentence\n",
    "#End=====================================\n",
    "\n",
    "\n",
    "# 원문의 정수 시퀀스를 텍스트 시퀀스로 변환=====\n",
    "def seq2text(input_seq):\n",
    "    temp=''\n",
    "    for i in input_seq:\n",
    "        if (i!=0):\n",
    "            temp = temp + src_index_to_word[i]+' '\n",
    "    return temp\n",
    "#End============================================\n",
    "\n",
    "\n",
    "# 요약문의 정수 시퀀스를 텍스트 시퀀스로 변환===\n",
    "def seq2summary(input_seq):\n",
    "    temp=''\n",
    "    for i in input_seq:\n",
    "        if ((i!=0 and i!=tar_word_to_index['sostoken']) and i!=tar_word_to_index['eostoken']):\n",
    "            temp = temp + tar_index_to_word[i] + ' '\n",
    "    return temp\n",
    "#End============================================"
   ]
  },
  {
   "cell_type": "markdown",
   "id": "interracial-testing",
   "metadata": {},
   "source": [
    "<br>\n",
    "\n",
    "### 6.2. 추상적 요약과 추출적 요약을 비교한 모델 평가\n",
    "***\n",
    "<span style=\"font-size:12pt; line-height:1.7; font-family:Serif;\">\n",
    "    &nbsp; &nbsp; 임의의 문장 다섯 개와 그에 대한 추출적 요약과 추상적 요약을 출력하여 이를 토대로 모델을 평가하고자 합니다. 평가지표는 '문법 오류 정도'와 '단어 포함 정도'를 사용하고자 합니다. 문법 오류 정도를 파악하기 위해 Superrrokie' 사이트의 문법 검사기를 사용하였습니다(https://www.superookie.com/en-grammarcheck). 해당 문법 검사기에서 지적한 개수를 문법 오류 정도로 사용 하였습니다. 또한 단어 일치 정도를 판단하기 위해 실제 요약문의 동사 및 명사와 모델 요약문의 동사 및 명사의 일치 개수를 사용 하였습니다.\n",
    "</span><br><br>\n",
    "\n",
    "<span style=\"font-size:12pt; line-height:1.7; font-family:Serif;\">\n",
    "    &nbsp; &nbsp; 그 결과 다섯 문장에 대한 어텐션 모델의 요약문의 평균 문법 오류 정도는 0.2였으며, 단어 일치 정도는 1.8 이었습니다. 추출적 요약의 평균 문법 오류 정도는 0이었으며, 단어 일치 정도는 3.6입니다. 평가 지표를 토대로 추상적 요약과 추출적 요약을 비교하였을 때, 추출적 요약이 더 잘 요약한 것이라 판단할 수 있습니다. 그러나 추출적 요약이 전혀 다른 문장을 제시하거나 하는 문제가 발생기도 하였습니다. 또한, 추상적 요약의 경우, 원문을 바탕으로 새로운 문장을 제시한다는 점과 원문의 의미를 잘 요약한 경우가 있기 때문에, 충분히 개선의 여지가 있다고 할 수 있습니다. 다음은 세 원문과 요약문에 대한 추상적 요약과 추출적 요약 결과를 보여줍니다.\n",
    "</span>\n",
    "\n",
    "***\n",
    "\n",
    "<br>\n",
    "\n",
    "***\n",
    "> __Infosys, 전 CFO Bansal에 이자와 함께 12.17크루를 지불하라고 지시__\n",
    "\n",
    "> Infosys는 전 CFO인 Rajiv Bansal에게 1217만 7천 파운드의 미지급 퇴직금을 이자와 함께 지불하라는 중재 재판소의 지시를 받았습니다. Infosys는 이전에 지불한 퇴직금 520만 파운드와 손해 배상액의 환불에 대한 반소가 기각되었다고 회사 서류에서 밝혔습니다. 2015년 인포시스를 그만둔 Bansal은 퇴직금으로 1738만 달러를 받을 예정이었습니다.\n",
    "\n",
    "> _인포시스 회장, 전 CFO에 10억 달러 자산 지급(추상적 요약)_\n",
    "\n",
    "> _2015년 인포시스를 그만둔 Bansal은 퇴직금으로 1738만 달러를 받을 예정이었습니다(추출적 요약)._\n",
    "\n",
    "> __평가: 추상적 요약의 경우, 원문으로부터 새로운 문장을 생성하였으며 그 의미도 매우 잘 요약 하였다.__\n",
    "\n",
    "<br><br>\n",
    "\n",
    "> __캐터필라와 같은 로봇은 인체 내부에 약물을 전달할 수 있습니다__\n",
    "\n",
    "> 연구자들은 인체 내부에 약물을 전달할 수 있는 애벌레 같은 다리를 가진 작고 부드러운 로봇을 개발했습니다. 17mm 길이의 다족 로봇은 전자기력을 사용하여 가혹한 환경을 통과합니다. 연구원들은 장애물을 넘을 때 최대 90도까지 서 있을 수 있으며 자신보다 100배 더 무거운 짐을 들 수 있다고 주장했습니다.\n",
    "\n",
    "> _과학자들은 인간의 두뇌에 인간 로봇을 찾습니다(추상적 요약)._\n",
    "\n",
    "> _연구자들은 인체 내부에 약물을 전달할 수 있는 애벌레 같은 다리를 가진 작고 부드러운 로봇을 개발했습니다(추출적 요약)._\n",
    "\n",
    "> __평가: 추상적 요약의 경우 문법의 문제는 존재하지 않지만 문장의 의미를 이해할 수 없다.__\n",
    "\n",
    "<br><br>\n",
    "\n",
    "> __구글, 애플 모바일 칩 디자이너 영입__\n",
    "\n",
    "> 거대 기술 기업인 Google은 거의 8년 동안 회사의 칩 개발에 참여한 Apple 마이크로 아키텍트 Manu Gulati를 고용했습니다. Google은 현재 Qualcomm을 사용하는 Pixel 스마트폰과 함께 모든 제품에 타사 칩에 의존하고 있습니다. 보고서에 따르면 이 회사는 Pixel 휴대전화용 CPU를 자체 설계하는 것을 목표로 Gulati를 고용했습니다.\n",
    "\n",
    "> _구글은 플레이 지원을 위해 구글을 고용한다(추상적 요약)_\n",
    "\n",
    "> _거대 기술 기업인 Google은 거의 8년 동안 회사의 칩 개발에 참여한 Apple 마이크로 아키텍트 Manu Gulati를 고용했습니다(추출적 요약)._\n",
    "\n",
    "> __평가: 추상적 요약의 경우 새로운 인원을 고용하는 것을 잘 요약하였지만, 누구를 고용하는 가에 있어 올바르게 설명하지 못하였다.__\n",
    "***"
   ]
  },
  {
   "cell_type": "code",
   "execution_count": 36,
   "id": "thick-spanking",
   "metadata": {
    "scrolled": false
   },
   "outputs": [
    {
     "name": "stdout",
     "output_type": "stream",
     "text": [
      "\n",
      "\n",
      "\n",
      "\n",
      "++++++++++++++++++++++++++++++++++++++++++++++++++++++++++++++++++++++++++++++++\n",
      "<TEXT>\n",
      "\tInfosys has been directed by an arbitral tribunal to pay former CFO Rajiv Bansal an outstanding severance pay of Ã¢ÂÂ¹12.17 crore with interest. Infosys' counterclaim for a refund of previously paid severance amount of Ã¢ÂÂ¹5.2 crore and damages, has been rejected, a company filing said. Bansal, who quit Infosys in 2015, was supposed to get Ã¢ÂÂ¹17.38 crore in severance pay.\n",
      "\n",
      "............................................................ \n",
      "\n",
      "<HEADLINE>\n",
      "\tInfosys told to pay Ã¢ÂÂ¹12.17 cr with interest to ex-CFO Bansal\n",
      "\n",
      "............................................................ \n",
      "\n",
      "<ATTENTION HEADLINE>\n",
      "\t infosys chairman to pay crore in assets to ex cfo\n",
      "\n",
      "............................................................ \n",
      "\n",
      "<EXTRACTIVE HEADLINE>\n",
      "\tBansal, who quit Infosys in 2015, was supposed to get Ã¢ÂÂ¹17.38 crore in severance pay.\n",
      "\n",
      "++++++++++++++++++++++++++++++++++++++++++++++++++++++++++++++++++++++++++++++++\n",
      "\n",
      "\n",
      "\n",
      "\n",
      "++++++++++++++++++++++++++++++++++++++++++++++++++++++++++++++++++++++++++++++++\n",
      "<TEXT>\n",
      "\tTwelve tonnes of melted chocolate covered a highway in Polish town Slupca after a lorry crashed through a traffic barrier and overturned. The driver was hospitalised with a broken arm, although no one else was wounded. The chocolate later solidified and a cleaning crew started removing it using an excavator and hot water pressure washers. \n",
      "\n",
      "............................................................ \n",
      "\n",
      "<HEADLINE>\n",
      "\t12 tonnes of chocolate cover highway as truck overturns\n",
      "\n",
      "............................................................ \n",
      "\n",
      "<ATTENTION HEADLINE>\n",
      "\t cars collapses after truck falls into truck in truck\n",
      "\n",
      "............................................................ \n",
      "\n",
      "<EXTRACTIVE HEADLINE>\n",
      "\tTwelve tonnes of melted chocolate covered a highway in Polish town Slupca after a lorry crashed through a traffic barrier and overturned.\n",
      "\n",
      "++++++++++++++++++++++++++++++++++++++++++++++++++++++++++++++++++++++++++++++++\n",
      "\n",
      "\n",
      "\n",
      "\n",
      "++++++++++++++++++++++++++++++++++++++++++++++++++++++++++++++++++++++++++++++++\n",
      "<TEXT>\n",
      "\tResearchers have developed a tiny, soft robot with caterpillar-like legs that can deliver drugs inside a human body. The 17-millimetre long, multi-legged robot uses electromagnetic force to move through harsh environments. It can stand up to 90 degrees to climb over obstacles and can carry a load 100 times heavier than itself, the researchers claimed. \n",
      "\n",
      "............................................................ \n",
      "\n",
      "<HEADLINE>\n",
      "\tCaterpillar-like robot can deliver drugs inside human body\n",
      "\n",
      "............................................................ \n",
      "\n",
      "<ATTENTION HEADLINE>\n",
      "\t scientists find human robot to human brain\n",
      "\n",
      "............................................................ \n",
      "\n",
      "<EXTRACTIVE HEADLINE>\n",
      "\tResearchers have developed a tiny, soft robot with caterpillar-like legs that can deliver drugs inside a human body.\n",
      "\n",
      "++++++++++++++++++++++++++++++++++++++++++++++++++++++++++++++++++++++++++++++++\n",
      "\n",
      "\n",
      "\n",
      "\n",
      "++++++++++++++++++++++++++++++++++++++++++++++++++++++++++++++++++++++++++++++++\n",
      "<TEXT>\n",
      "\tTech giant Google has hired Apple micro-architect Manu Gulati who worked on the company's chip development for nearly eight years. Google currently relies on third-party chips for all their products, with Pixel smartphones using Qualcomm. The company hired Gulati with the goal of designing its own CPUs for Pixel phones, according to reports.\n",
      "\n",
      "............................................................ \n",
      "\n",
      "<HEADLINE>\n",
      "\tGoogle hires designer behind Apple's mobile chips\n",
      "\n",
      "............................................................ \n",
      "\n",
      "<ATTENTION HEADLINE>\n",
      "\t google hires google for support to play\n",
      "\n",
      "............................................................ \n",
      "\n",
      "<EXTRACTIVE HEADLINE>\n",
      "\tTech giant Google has hired Apple micro-architect Manu Gulati who worked on the company's chip development for nearly eight years.\n",
      "\n",
      "++++++++++++++++++++++++++++++++++++++++++++++++++++++++++++++++++++++++++++++++\n",
      "\n",
      "\n",
      "\n",
      "\n",
      "++++++++++++++++++++++++++++++++++++++++++++++++++++++++++++++++++++++++++++++++\n",
      "<TEXT>\n",
      "\tStanford University researchers have developed a wireless, battery-free, biodegradable sensor to monitor blood flow through an artery after blood vessel surgery. The sensor wraps around the healing vessel, where blood pulsing past pushes on its inner surface. Any irregularities in the blood vessel can be detected remotely from a device located near the skin but outside the body, scientists said.\n",
      "\n",
      "............................................................ \n",
      "\n",
      "<HEADLINE>\n",
      "\tBiodegradable sensor to monitor blood flow in arteries made\n",
      "\n",
      "............................................................ \n",
      "\n",
      "<ATTENTION HEADLINE>\n",
      "\t scientists make smart blood with blood with accuracy\n",
      "\n",
      "............................................................ \n",
      "\n",
      "<EXTRACTIVE HEADLINE>\n",
      "\tThe sensor wraps around the healing vessel, where blood pulsing past pushes on its inner surface.\n",
      "\n",
      "++++++++++++++++++++++++++++++++++++++++++++++++++++++++++++++++++++++++++++++++\n"
     ]
    }
   ],
   "source": [
    "data = pd.read_csv('./dataset/news_summary_more.csv', encoding='iso-8859-1')   #csv 파일 불러오기\n",
    "idx_list = np.random.randint(0, len(data), size=100)\n",
    "\n",
    "print_count = 0\n",
    "for idx in idx_list:\n",
    "    text = data[\"text\"][idx]\n",
    "    headline = data[\"headlines\"][idx]\n",
    "    \n",
    "    token_text = src_tokenizer.texts_to_sequences([text])\n",
    "    token_text = pad_sequences(token_text, maxlen=text_max_len, padding=\"post\")\n",
    "    attention_text = decode_sequence(token_text.reshape(1, text_max_len))\n",
    "    extractive_text= summarize(text, words=11)\n",
    "    \n",
    "    if not extractive_text: continue;\n",
    "    print_count += 1\n",
    "    \n",
    "    print(\"\\n\\n\\n\\n\" + \"+\" * 80)\n",
    "    print(\"<TEXT>\\n\\t{0}\\n\".format(text))   #원문\n",
    "    \n",
    "    print(\".\" * 60, \"\\n\")\n",
    "    \n",
    "    print(\"<HEADLINE>\\n\\t{0}\\n\".format(headline))\n",
    "    \n",
    "    print(\".\" * 60, \"\\n\")\n",
    "    \n",
    "    print(\"<ATTENTION HEADLINE>\\n\\t{0}\\n\".format(attention_text))\n",
    "    \n",
    "    print(\".\" * 60, \"\\n\")\n",
    "    \n",
    "    print(\"<EXTRACTIVE HEADLINE>\\n\\t{0}\\n\".format(summarize(text, words=11)))\n",
    "    \n",
    "    print(\"+\" * 80)\n",
    "    if print_count > 4: break;"
   ]
  },
  {
   "cell_type": "markdown",
   "id": "graphic-marking",
   "metadata": {},
   "source": [
    "<br>\n",
    "\n",
    "## 8. 결론\n",
    "***\n",
    "<span style=\"font-size:12pt; line-height:1.7; font-family:Serif;\">\n",
    "    &nbsp; &nbsp; 어텐션을 결합한 seq2sqe 문장 요약 모델 생성 및 학습하고 이를 추출적 모델의 요약문과 비교하여 평가해 보았습니다. 평가는 임의의 다섯 문장에 대한 어텐션 모델의 요약과 추출적 요약을 비교하였으며, 평가 지표로 '문법 오류 정도'와 '단어 일치 정도'를 사용하였습니다.\n",
    "추상적 요약 모델의 평균 문법 오류 정도는 0.2였으며, 단어 일치 정도는 1.8 이었습니다. 추출적 요약의 평균 문법 오류 정도는 0이었으며, 단어 일치 정도는 3.6였습니다. 해당 지표를 바탕으로 추상적 요약과 추출적 요약을 비교하였을 때, 추출적 요약이 더 잘 요약한 것이라 할 수 있습니다. 그러나 추상적 요약의 경우 원문으로부터 새로운 문장을 생성한다는 점에서 그 어려움을 고려하여 충분히 개선 여지가 있다고 할 수 있습니다.\n",
    "</span><br><br>\n",
    "\n",
    "<span style=\"font-size:12pt; line-height:1.7; font-family:Serif;\">\n",
    "    &nbsp; &nbsp; 또한, 평가 지표 설정과 평가에 있어 어려움이 있습니다. 자연어 생성의 경우 Loss나 Accuracy만을 통해 모델의 성능을 입증하는데에 어려움이 따릅니다. 본 예제에서 사용한 '문법 오류 정도'와 '단어 일치 정도'의 경우에도 완벽하지 못하고 문장의 완성도의 극히 일부만 평가하는 지표라 할 수 있습니다. 특히 문장이 생성되면 그 '의미'를 파악하는 것이 중요한데 이를 평가하는 것이 매우 어렵습니다. 따라서 궁극적으로 사람이 직접 모델이 생성한 문장을 보고 평가할 수밖에 없는 실정입니다. 다음은 임의의 문장 5개에 대한 어텐션 모델과 추출적 요약의 평가 결과를 제시한 것입니다.\n",
    "</span>\n",
    "\n",
    "<br><br>\n",
    "\n",
    "|실제 요약문|어텐션 모델 요약문|문법 오류 정도|단어 일치 정도|\n",
    "|:--------:|:--------:|:--------:|:--------:|\n",
    "|Infosys told to pay Ã¢ÂÂ¹12.17 cr with interest to ex-CFO Bansal|infosys chairman to pay crore in assets to ex cfo|0|3|\n",
    "|12 tonnes of chocolate cover highway as truck overturns|cars collapses after truck falls into truck in truck|0|1|\n",
    "|Caterpillar-like robot can deliver drugs inside human body|scientists find human robot to human brain|0|1|\n",
    "|Google hires designer behind Apple's mobile chips|google hires google for support to play|0|2|\n",
    "|Biodegradable sensor to monitor blood flow in arteries made|scientists make smart blood with blood with accuracy|1|2|\n",
    "\n",
    "[표 1] 어텐션 모델 평가 결과\n",
    "\n",
    "<br><br>\n",
    "\n",
    "|실제 요약문|추출적 요약문|문법 오류 정도|단어 일치 정도|\n",
    "|:--------:|:--------:|:--------:|:--------:|\n",
    "|Infosys told to pay Ã¢ÂÂ¹12.17 cr with interest to ex-CFO Bansal|Bansal, who quit Infosys in 2015, was supposed to get Ã¢ÂÂ¹17.38 crore in severance pay.|0|2|\n",
    "|12 tonnes of chocolate cover highway as truck overturns|Twelve tonnes of melted chocolate covered a highway in Polish town Slupca after a lorry crashed through a traffic barrier and overturned.|0|5|\n",
    "|Caterpillar-like robot can deliver drugs inside human body|Researchers have developed a tiny, soft robot with caterpillar-like legs that can deliver drugs inside a human body.|0|6|\n",
    "|Google hires designer behind Apple's mobile chips|Tech giant Google has hired Apple micro-architect Manu Gulati who worked on the company's chip development for nearly eight years.|0|3|\n",
    "|Biodegradable sensor to monitor blood flow in arteries made|The sensor wraps around the healing vessel, where blood pulsing past pushes on its inner surface.|0|2|\n",
    "\n",
    "[표 2] 추출적 요약 평가 결과\n",
    "\n",
    "***"
   ]
  },
  {
   "cell_type": "markdown",
   "id": "induced-swift",
   "metadata": {},
   "source": [
    "#### 참고문헌\n",
    "***\n",
    "[1] J. Gihun, P. Chihyun, I. Hyeonseung, \"Performance Evaluation of Machine Learning Optimizers\", Vol.24, No.3, 766-776, 2020.\n",
    "\n",
    "***"
   ]
  },
  {
   "cell_type": "markdown",
   "id": "seventh-visit",
   "metadata": {},
   "source": [
    "#### 형상관리 기록\n",
    "***\n",
    "+ v1_1: 초기모델\n",
    "\n",
    "\n",
    "+ v2_1: 프로젝트 데이터 적용\n",
    "\n",
    "\n",
    "+ v3_1: 기본적인 내용 작성\n",
    "\n",
    "\n",
    "+ v4_1: 내용 작성(2)\n",
    "***"
   ]
  },
  {
   "cell_type": "markdown",
   "id": "italic-gross",
   "metadata": {},
   "source": [
    "##### 회고\n",
    "***\n",
    "seq2seq 모델과 어텐션을 활용하여 문장을 요약하는 모델을 생성하고 평가하여 보았습니다. 두 기법 모두 처음 활용하는 것이라 새로운 것을 적용하기 보다는 이해하는 것에 중점을 두고 예제를 진행하였습니다. 그럼에도 불구하고 여전히 seq2seq, 어텐션을 정확하게 이해하진 못하였습니다. 모델의 구성이 상당히 복잡하고 그 작동 원리를 이해하는 것에 어려움이 있습니다. 또한 추출적 요약의 경우에는 라이브러리를 호출만 하면 바로 사용할 수 있다는 점에서 상당히 편한 것 같습니다. 그리고 자연어 처리에 있어 그 평가가 매우 어려움을 다시금 느꼈습니다. 자연어란 결국 말의 '의미'를 이해한 다는 것인데 이런 추상적인 것을 계량적으로 평가한 다는 것에 있어 어쩔 수 없이 사람의 개입이 많이 필요한 것 같습니다.\n",
    "***"
   ]
  }
 ],
 "metadata": {
  "kernelspec": {
   "display_name": "Python 3",
   "language": "python",
   "name": "python3"
  },
  "language_info": {
   "codemirror_mode": {
    "name": "ipython",
    "version": 3
   },
   "file_extension": ".py",
   "mimetype": "text/x-python",
   "name": "python",
   "nbconvert_exporter": "python",
   "pygments_lexer": "ipython3",
   "version": "3.7.9"
  }
 },
 "nbformat": 4,
 "nbformat_minor": 5
}
