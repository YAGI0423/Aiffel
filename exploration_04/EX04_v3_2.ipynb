{
 "cells": [
  {
   "cell_type": "markdown",
   "id": "structured-personality",
   "metadata": {},
   "source": [
    "# 순환 신경망을 이용한 문장 생성 예제\n",
    "## : Simple RNN, GRU, LSTM 활용"
   ]
  },
  {
   "cell_type": "markdown",
   "id": "acoustic-decrease",
   "metadata": {},
   "source": [
    "<br><br>\n",
    "\n",
    "#### 초록\n",
    "***\n",
    "<span style=\"font-size:11pt; line-height:1.8;\">\n",
    "    &nbsp; &nbsp; Simple RNN, GRU, LSTM 각 세 개의 문장 생성 모델을 학습하여 생성된 문장과 validation loss를 확인한다. 학습 데이터는 영문으로 작성된 자연어 문장으로, 175,986개의 문장과 28,581개의 단어로 구성된다. 데이터 분석 과정에서 85% 문장이 12개의 단어로 이루어져있으며, 단어는 대체로 15자 이하이며, 그 이상의 단어는 감탄사나 여러 단어가 합쳐진 것을 확인하였다. 따라서 전처리 과정에서 3개 이상, 12개 이하의 단어로 구성된 문장과 14자 이하의 글자 수로 된 단어만을 추출하였다. 토크나이저의 단어 사전은 12,000개로 설정하였다. Simple RNN, LSTM, GRU 모델 모두 500차원의 임베딩 레이어, 2,000개 유닛의 RNN 레이어, 20% 비율의 드롭아웃 레이어, 배치 정규화 레이어 순으로 설계하였다. 옵티마이저는 Adam을 사용하였으며, 학습 데이터 32개를 배치사이즈로 설정하고 각 모델 모두 동일하게 적용하였다. 각 모델을 학습한 결과 Simple RNN 모델에서는 epoch 4에서 validation loss가 2.9285였다. Simple RNN 학습 결과의 특이사항으로는 단어사전에 추가되지 못한 토큰인 &lt;unk>가 생성 문장에 자주 등장하였다. 또한, 해당 토큰이 주로 '명사' 자리에 위치하였다. GRU 모델에서는 validation loss가 epoch 4에서 2.2024였다. GRU 학습 결과의 특이사항으로는 LSTM에 비해 적은 파라미터를 이용함에도 불구하고 좋은 결과를 제시해 주었다. LSTM 모델에서는 epoch 4에서 2.1809로 세 모델 중 가장 낮은 validationo loss를 획득하였다.\n",
    "</span>\n",
    "\n",
    "***"
   ]
  },
  {
   "cell_type": "markdown",
   "id": "alternate-ready",
   "metadata": {},
   "source": [
    "<br><br>\n",
    "\n",
    "## 1. 서론\n",
    "***\n",
    "<span style=\"font-size:12pt; line-height:1.5; font-family:Serif;\">\n",
    "    &nbsp; &nbsp; 본 예제는 Simple RNN과 GRU, LSTM을 사용한 세 개의 문장생성 모델을 이용하여 validation loss와 문장생성 능력을 확인한다. RNN 즉, 재귀 신경망은 마르코프 체인과 함께 문장 생성 알고리즘 중 하나이며, 시간 순서를 가진 데이터를 다룰 수 있다는 특성을 가지고 있는 것으로 Simple RNN과 이를 개량한 LSTM, GRU가 있다[1]. 학습 데이터는 영문으로 된 자연어 문장으로 모델의 학습에 앞서 분석과 전처리 과정을 거친다. 이후 각 모델을 생성하여 validation loss와 생성된 문장을 확인하고자 한다. 다음은 본 예제 진행 순서를 제시한 것이다.\n",
    "</span>\n",
    "\n",
    "> 1. 학습 데이터 분석\n",
    "> 2. 학습 데이터 정제 및 토크나이저 생성\n",
    "> 3. 문장 생성 모델 생성\n",
    "> 4. 모델 학습 및 생성 문장 확인\n",
    "\n",
    "***"
   ]
  },
  {
   "cell_type": "markdown",
   "id": "swiss-status",
   "metadata": {},
   "source": [
    "<br><br>\n",
    "\n",
    "## 2. 학습 데이터 분석\n",
    "***\n",
    "<span style=\"font-size:12pt; line-height:1.5; font-family:Serif;\">\n",
    "    &nbsp; &nbsp; 먼저, 모델을 학습하기 위한 학습 데이터를 분석한다. 데이터는 텍스트 파일로 자연어로 된 여러 문장으로 구성되어있다. 학습 데이터를 분석하기 위해 데이터 수와 같은 기본 적인 사항을 알아보고 이후, 데이터를 문장과 단어 중심으로 살펴본다. 특히, 문장을 구성하고 있는 단어의 개수와 단어의 사용 빈도, 단어의 글자 개수 등을 파악하여 이후 전처리 시, 적절한 데이터로 정제과정을 거친다.\n",
    "</span>\n",
    "\n",
    "***"
   ]
  },
  {
   "cell_type": "markdown",
   "id": "cardiovascular-giving",
   "metadata": {},
   "source": [
    "#### 라이브러리 호출 및 학습 데이터 불러오기"
   ]
  },
  {
   "cell_type": "code",
   "execution_count": 1,
   "id": "moderate-medicine",
   "metadata": {},
   "outputs": [],
   "source": [
    "#라이브러리 호출\n",
    "import re   #문자열 정규식\n",
    "import os   #디렉토리 관리\n",
    "import glob   #디렉토리 관리(2)\n",
    "import nltk   #자연어 처리\n",
    "import tensorflow as tf   #텐서관리\n",
    "import matplotlib.pyplot as plt   #데이터 시각화"
   ]
  },
  {
   "cell_type": "code",
   "execution_count": 2,
   "id": "continuing-growth",
   "metadata": {},
   "outputs": [],
   "source": [
    "txt_file_path = \"./lyricist_ex4/data/lyrics/*\"\n",
    "txt_list = glob.glob(txt_file_path)\n",
    "\n",
    "raw_corpus = []\n",
    "for txt_file in txt_list:\n",
    "    with open(txt_file, \"r\") as f:\n",
    "        raw = f.read().splitlines()\n",
    "        raw_corpus.extend(raw)"
   ]
  },
  {
   "cell_type": "markdown",
   "id": "convenient-laser",
   "metadata": {},
   "source": [
    "<br>\n",
    "\n",
    "#### 문장 단위 전처리\n",
    "***\n",
    "+ 데이터 분석에 앞서, 비어있는 문장이나 특수기호 등의 불필요한 요소를 제거하는 과정이다.\n",
    "+ 정규식을 사용한 문장 단위 전처리는 김윤 박사의 'CNN_sentence'의 코드를 사용하였다.\n",
    "***"
   ]
  },
  {
   "cell_type": "code",
   "execution_count": 3,
   "id": "based-evaluation",
   "metadata": {},
   "outputs": [
    {
     "name": "stdout",
     "output_type": "stream",
     "text": [
      "**************************************************\n",
      "\n",
      "I can't get no relief Business men, they drink my wine \n",
      "\n",
      "↓↓↓↓↓↓↓↓↓↓↓↓↓↓↓↓↓↓↓↓↓↓↓↓↓↓↓↓↓↓\n",
      "\n",
      " i ca n't get no relief business men they drink my wine\n",
      "\n",
      "**************************************************\n"
     ]
    }
   ],
   "source": [
    "#단어 단위 분할 함수+++++++++++++++++++++++++++++++\n",
    "def clean_str(string, TREC=False):\n",
    "    \"\"\"\n",
    "    Tokenization/string cleaning for all datasets except for SST.\n",
    "    Every dataset is lower cased except for TREC\n",
    "    \"\"\"\n",
    "    #코드 수정==========================\n",
    "    string = re.sub(r\"[^A-Za-z!?\\']\", \" \", string)\n",
    "    string = re.sub(r'[\" \"]+', \" \", string)\n",
    "    #End================================\n",
    "    \n",
    "    string = re.sub(r\"\\'s\", \" \\'s\", string) \n",
    "    string = re.sub(r\"\\'ve\", \" \\'ve\", string) \n",
    "    string = re.sub(r\"n\\'t\", \" n\\'t\", string) \n",
    "    string = re.sub(r\"\\'re\", \" \\'re\", string) \n",
    "    string = re.sub(r\"\\'d\", \" \\'d\", string) \n",
    "    string = re.sub(r\"\\'ll\", \" \\'ll\", string) \n",
    "    \n",
    "    string = re.sub(r\"!\", \" ! \", string) \n",
    "    string = re.sub(r\"\\?\", \" \\? \", string) \n",
    "    string = re.sub(r\"\\s{2,}\", \" \", string)\n",
    "    \n",
    "    #코드 수정==========================\n",
    "    string = re.sub(r\",\", \" \", string) \n",
    "    string = re.sub(r\"\\(\", \" \", string) \n",
    "    string = re.sub(r\"\\)\", \" \", string) \n",
    "    #End================================\n",
    "    return string.strip() if TREC else string.strip().lower()\n",
    "#\"CNN_sentence\", Kim Yoon, accessed Oct, 8, 2021, https://github.com/yoonkim/CNN_sentence\n",
    "#End++++++++++++++++++++++++++++++++++++++++++++++++++\n",
    "\n",
    "\n",
    "#문장별로 정제하기===========================\n",
    "corpus_sample = [clean_str(sentence) for sentence in raw_corpus if len(sentence) != 0]\n",
    "#End=========================================\n",
    "\n",
    "\n",
    "print(\"*\" * 50, end=\"\\n\\n\")\n",
    "print(raw_corpus[3], \"\\n\\n\" + \"↓\" * 30 + \"\\n\\n\", corpus_sample[3])\n",
    "print(\"\\n\" + \"*\" * 50)"
   ]
  },
  {
   "cell_type": "markdown",
   "id": "third-house",
   "metadata": {},
   "source": [
    "#### clean_str() 코드 출처\n",
    "***\n",
    "+ \"CNN_sentence\", Kim Yoon, accessed Oct, 8, 2021, https://github.com/yoonkim/CNN_sentence\n",
    "***"
   ]
  },
  {
   "cell_type": "markdown",
   "id": "enclosed-batch",
   "metadata": {},
   "source": [
    "<br>\n",
    "\n",
    "### 2.1. 문장 중심 데이터 분석\n",
    "***\n",
    "<span style=\"font-size:12pt; line-height:1.5; font-family:Serif;\">\n",
    "    &nbsp; &nbsp; 데이터는 총 175,986개의 영어 문장으로 이루어져있다. 또한, 85%의 문장이 12개 이하의 단어로 이루어져있으며, 가장 많은 단어 로 이루어져 있는 문장의 단어 수는 326개이다. 1개의 단어로 이루어져있는 데이터도 존재한다. 이는 전처리 과정 시 정제할 필요가 있다. Fig. 1은 문장별 단어 수를 보여준다. \n",
    "</span>\n",
    "\n",
    "***"
   ]
  },
  {
   "cell_type": "markdown",
   "id": "departmental-apple",
   "metadata": {},
   "source": [
    "#### 데이터 기본 정보\n",
    "***\n",
    "+ 데이터 문장의 일부를 출력한다.\n",
    "+ 문장의 총 개수는 175,986개이다.\n",
    "***"
   ]
  },
  {
   "cell_type": "code",
   "execution_count": 4,
   "id": "colored-sterling",
   "metadata": {},
   "outputs": [
    {
     "name": "stdout",
     "output_type": "stream",
     "text": [
      "**************************************************\n",
      "who feel that life is but a joke\n",
      "\n",
      "but uh but you and i we 've been through that\n",
      "\n",
      "and this is not our fate\n",
      "\n",
      "so let us stop talkin' falsely now\n",
      "\n",
      "the hour 's getting late hey all along the watchtower\n",
      "\n",
      "**************************************************\n",
      "\n",
      "*sentence num: 175986\n",
      "\n"
     ]
    }
   ],
   "source": [
    "#데이터 일부 출력========\n",
    "print(\"*\" * 50)\n",
    "for line in corpus_sample[10:15]:\n",
    "    print(line, end=\"\\n\\n\")\n",
    "print(\"*\" * 50)\n",
    "#End======================\n",
    "\n",
    "#data_len=================\n",
    "print(\"\\n*sentence num:\", len(corpus_sample), end=\"\\n\\n\")"
   ]
  },
  {
   "cell_type": "markdown",
   "id": "concrete-action",
   "metadata": {},
   "source": [
    "<br>\n",
    "\n",
    "#### 문장별 단어 수 확인\n",
    "***\n",
    "+ 문장의 단어 최대 개수는 326개, 최소 개수는 1개이다.\n",
    "+ 약 85%의 문장은 12개 이하의 단어로 구성되어 있다.\n",
    "***"
   ]
  },
  {
   "cell_type": "code",
   "execution_count": 5,
   "id": "suspected-flight",
   "metadata": {
    "scrolled": false
   },
   "outputs": [
    {
     "name": "stdout",
     "output_type": "stream",
     "text": [
      "**************************************************\n",
      "minimum word: 1\n",
      "maximum word: 326\n",
      "85% word: 12\n",
      "**************************************************\n"
     ]
    },
    {
     "data": {
      "image/png": "[encoded data removed]",
      "text/plain": [
       "<Figure size 504x288 with 1 Axes>"
      ]
     },
     "metadata": {
      "needs_background": "light"
     },
     "output_type": "display_data"
    }
   ],
   "source": [
    "sentence_len = [len(sentence.split(\" \")) for sentence in corpus_sample]\n",
    "sentence_len.sort()\n",
    "\n",
    "\n",
    "cut_size = int(len(sentence_len) * 0.85)\n",
    "print(\"*\" * 50)\n",
    "print(\"minimum word:\", sentence_len[0])\n",
    "print(\"maximum word:\", sentence_len[-1])\n",
    "print(\"85% word:\", sentence_len[cut_size])\n",
    "print(\"*\" * 50)\n",
    "\n",
    "# #14개 이하 단어로 구성된 문장으로 정제\n",
    "# corpus = [sentence for sentence in corpus if len(sentence.split(\" \")) < 15]\n",
    "\n",
    "\n",
    "#시각화==========================\n",
    "plt.figure(figsize=(7, 4))\n",
    "plt.title(\"<Fig. 1> word num by sentence\")\n",
    "plt.plot(sentence_len, color=\"#1e90ff\")\n",
    "plt.show()\n",
    "\n",
    "#End================================="
   ]
  },
  {
   "cell_type": "markdown",
   "id": "official-council",
   "metadata": {},
   "source": [
    "<br>\n",
    "\n",
    "#### 하나의 단어로 이루어진 문장\n",
    "***\n",
    "+ 한 단어로 이루어진 데이터는 문장이 아닐 가능성이 크다. 따라서 이후의 전처리 과정에서 제외할 필요가 있다.\n",
    "+ 한 단어로 이루어진 데이터는 830개 이며, 아래는 한 단어로 이루어진 데이터 일부를 보여준다.\n",
    "***"
   ]
  },
  {
   "cell_type": "code",
   "execution_count": 6,
   "id": "brazilian-sending",
   "metadata": {},
   "outputs": [
    {
     "name": "stdout",
     "output_type": "stream",
     "text": [
      "**************************************************\n",
      "everything\n",
      "\n",
      "temptation\n",
      "\n",
      "andrew\n",
      "\n",
      "tremble\n",
      "\n",
      "super\n",
      "\n",
      "**************************************************\n",
      "\n",
      "*one word sentence num: 830\n"
     ]
    }
   ],
   "source": [
    "one_word_sentence = {sentence for sentence in corpus_sample if len(sentence.split(\" \")) == 1}\n",
    "\n",
    "print(\"*\" * 50)\n",
    "for line in list(one_word_sentence)[10:15]:\n",
    "    print(line, end=\"\\n\\n\")\n",
    "print(\"*\" * 50)\n",
    "\n",
    "print(\"\\n*one word sentence num:\", len(one_word_sentence))"
   ]
  },
  {
   "cell_type": "markdown",
   "id": "incident-living",
   "metadata": {},
   "source": [
    "<br>\n",
    "\n",
    "### 2.2. 단어 중심 데이터 분석\n",
    "***\n",
    "<span style=\"font-size:12pt; line-height:1.5; font-family:Serif;\">\n",
    "    &nbsp; &nbsp; 토큰 단위가 되는 단어를 중심으로 데이터를 분석한다. 데이터에서 단어가 전체적으로 사용된 빈도와 단어의 길이 즉, 글자 개수를 살펴본다. 데이터에서 사용된 단어는 총 28,581개 이다. 데이터에서 가장 많이 사용된 단어는 'i', 'the' 'you' 순으로 약 50,000회 정도 사용되었다. Fig. 2는 데이터에서 단어가 사용된 빈도를 보여준다. 또한 단어의 글자 개수는 약 1 ~ 35개이다. 하지만 글자 수가 15개 이상의 단어는 대체로 'owowowowowowowahhhh', 'yeahyeaheyeahhh' 등과 같이 감탄사 혹은 띄어쓰기가 되지 않은 단어의 빈도가 높다. 따라서 이러한 점을 고려하여, 이후 전처리 시 제외 작업을 할 필요가 있다. Fig. 3은 단어 별 글자 개수를 보여준다.\n",
    "</span>\n",
    "\n",
    "***"
   ]
  },
  {
   "cell_type": "markdown",
   "id": "aggregate-inspiration",
   "metadata": {},
   "source": [
    "#### 단어 사용량\n",
    "***\n",
    "+ 총 단어 개수는 28,581개이다.\n",
    "+ 사용 빈도가 높은 단어는 'i', 'the', 'you', 'and', 'a' 순이다.\n",
    "***"
   ]
  },
  {
   "cell_type": "code",
   "execution_count": 7,
   "id": "major-kazakhstan",
   "metadata": {},
   "outputs": [
    {
     "name": "stdout",
     "output_type": "stream",
     "text": [
      "**************************************************\n",
      "*word num: 28581\n",
      "**************************************************\n"
     ]
    },
    {
     "data": {
      "image/png": "[encoded data removed]",
      "text/plain": [
       "<Figure size 792x216 with 1 Axes>"
      ]
     },
     "metadata": {
      "needs_background": "light"
     },
     "output_type": "display_data"
    }
   ],
   "source": [
    "word_list_dup = [word for sentence in corpus_sample for word in sentence.split(\" \")]\n",
    "word_list = {word for word in word_list_dup}\n",
    "nltk_text = nltk.Text(word_list_dup)\n",
    "\n",
    "print(\"*\" * 50)\n",
    "print(\"*word num:\", len(word_list))\n",
    "print(\"*\" * 50)\n",
    "\n",
    "\n",
    "plt.figure(figsize=(11, 3))\n",
    "plt.title(\"<Fig. 2> word num\")\n",
    "nltk_text.plot(40)\n",
    "plt.show()"
   ]
  },
  {
   "cell_type": "markdown",
   "id": "fatal-african",
   "metadata": {},
   "source": [
    "<br>\n",
    "\n",
    "#### 단어별 글자 개수\n",
    "***\n",
    "+ 대부분의 단어는 1 ~ 15개 사이의 글자로 이루어져있다.\n",
    "+ 그 이상의 단어는 감탄사나 띄어쓰기 하지 않은 단어로 이루어져있다.\n",
    "***"
   ]
  },
  {
   "cell_type": "code",
   "execution_count": 8,
   "id": "decimal-apartment",
   "metadata": {},
   "outputs": [
    {
     "data": {
      "image/png": "[encoded data removed]",
      "text/plain": [
       "<Figure size 504x288 with 1 Axes>"
      ]
     },
     "metadata": {
      "needs_background": "light"
     },
     "output_type": "display_data"
    }
   ],
   "source": [
    "word_len = [len(word) for word in word_list]\n",
    "word_len.sort()\n",
    "\n",
    "#시각화==========================\n",
    "plt.figure(figsize=(7, 4))\n",
    "plt.title(\"<Fig. 3> letter num by word\")\n",
    "plt.plot(word_len, color=\"#1e90ff\")\n",
    "plt.show()\n",
    "#End================================="
   ]
  },
  {
   "cell_type": "code",
   "execution_count": 9,
   "id": "minus-complexity",
   "metadata": {},
   "outputs": [
    {
     "name": "stdout",
     "output_type": "stream",
     "text": [
      "**************************************************\n",
      "rollercoastered\n",
      "\n",
      "purplelectricity\n",
      "\n",
      "yeahyeaheyeahhh\n",
      "\n",
      "bedfordstuyvesant\n",
      "\n",
      "californication\n",
      "\n",
      "contradictionary\n",
      "\n",
      "straightforward\n",
      "\n",
      "fourfiveseconds\n",
      "\n",
      "responsibilities\n",
      "\n",
      "owwooooeeeeioioeeeee\n",
      "\n",
      "**************************************************\n"
     ]
    }
   ],
   "source": [
    "word_over_ten = [word for word in word_list if len(word) >= 15]\n",
    "\n",
    "print(\"*\" * 50)\n",
    "for word in word_over_ten[:10]:\n",
    "    print(word, end=\"\\n\\n\")\n",
    "print(\"*\" * 50)"
   ]
  },
  {
   "cell_type": "markdown",
   "id": "chicken-studio",
   "metadata": {},
   "source": [
    "<br><br>\n",
    "\n",
    "## 3. 데이터 전처리\n",
    "***\n",
    "<span style=\"font-size:12pt; line-height:1.5; font-family:Serif;\">\n",
    "    &nbsp; &nbsp; 앞서 학습 데이터로 사용될 데이터를 분석하였다. 그 결과, 85%의 문장이 단어 12개로 이루어져 있음을 확인하였다. 또한, 한 개의 단어로 이루어진 데이터는 대부분 문장이 아님을 확인하였다. 데이터에 사용된 단어는 28,581개이다. 단어는 약 1 ~ 35개의 글자로 되어있다.\n",
    "</span><br><br>\n",
    "\n",
    "<span style=\"font-size:12pt; line-height:1.5; font-family:Serif;\">\n",
    "    &nbsp; &nbsp; 이러한 분석을 바탕으로, 데이터 전처리는 다음과 같은 작업을 수행하고자 한다. 단어가 2 ~ 12개로 이루어진 문장만을 데이터로 사용한다. 글자 수가 14개 이상인 단어를 포함한 문장은 제외한다. 전처리 과정을 거친 데이터는 총 147,864개의 문장과 25,937개의 단어로 구성된다.\n",
    "</span><br><br>\n",
    "\n",
    "***"
   ]
  },
  {
   "cell_type": "code",
   "execution_count": 10,
   "id": "civil-netherlands",
   "metadata": {},
   "outputs": [],
   "source": [
    "sample_corpus = None\n",
    "corpus = []\n",
    "for sentence in raw_corpus:\n",
    "    if len(sentence) == 0: continue;   #길이가 0인 문장\n",
    "    if sentence[-1] == \":\": continue;   #문장의 끝이 ':'인 문장\n",
    "\n",
    "    new_sentence = clean_str(sentence, TREC=False)\n",
    "\n",
    "    if len(new_sentence.split(\" \")) < 3: continue;   #단어가 2개 이하인 문장 제외\n",
    "    if len(new_sentence.split(\" \")) > 12: continue;   #토큰이 15개 이상인 문장\n",
    "    \n",
    "    #단어 중심===========\n",
    "    letter_num_TF = True\n",
    "    for word in new_sentence.split(\" \"):\n",
    "        if len(word) > 14:   #글자 수 15개 이상 단어 제외\n",
    "            letter_num_TF = False\n",
    "            break\n",
    "    if not letter_num_TF: continue\n",
    "    #End=================\n",
    "        \n",
    "    new_sentence = \"<start> \" + new_sentence + \" <end>\"\n",
    "    corpus.append(new_sentence)"
   ]
  },
  {
   "cell_type": "markdown",
   "id": "secure-processing",
   "metadata": {},
   "source": [
    "<br>\n",
    "\n",
    "#### 정제 데이터 정보\n",
    "***\n",
    "+ &lt;start>와 &lt;end> 토큰을 추가한 것을 확인할 수 있다.\n",
    "+ 총 문장 수는 147,864개, 단어 수는 25,937개 이다.\n",
    "***"
   ]
  },
  {
   "cell_type": "code",
   "execution_count": 11,
   "id": "continental-munich",
   "metadata": {},
   "outputs": [
    {
     "name": "stdout",
     "output_type": "stream",
     "text": [
      "**************************************************\n",
      "<start> who feel that life is but a joke <end>\n",
      "\n",
      "<start> but uh but you and i we 've been through that <end>\n",
      "\n",
      "<start> and this is not our fate <end>\n",
      "\n",
      "<start> so let us stop talkin' falsely now <end>\n",
      "\n",
      "<start> the hour 's getting late hey all along the watchtower <end>\n",
      "\n",
      "**************************************************\n",
      "\n",
      "*sentence num: 147864\n",
      "*word num: 25937\n"
     ]
    }
   ],
   "source": [
    "word_list = {word for sentence in corpus for word in sentence.split(\" \")}\n",
    "\n",
    "\n",
    "#데이터 일부 출력========\n",
    "print(\"*\" * 50)\n",
    "for line in corpus[10:15]:\n",
    "    print(line, end=\"\\n\\n\")\n",
    "print(\"*\" * 50)\n",
    "#End======================\n",
    "\n",
    "\n",
    "print(\"\\n*sentence num:\", len(corpus))\n",
    "print(\"*word num:\", len(word_list))"
   ]
  },
  {
   "cell_type": "markdown",
   "id": "viral-arrest",
   "metadata": {},
   "source": [
    "<br>\n",
    "\n",
    "#### 데이터 토큰화\n",
    "***\n",
    "+ 12,000개의 단어사전을 가진 토크나이저를 생성한다.\n",
    "+ 문장은 뒷 부분에 패딩을 추가한다.\n",
    "***"
   ]
  },
  {
   "cell_type": "code",
   "execution_count": 12,
   "id": "presidential-musician",
   "metadata": {},
   "outputs": [
    {
     "name": "stdout",
     "output_type": "stream",
     "text": [
      "*tensor shape: (147864, 15)\n",
      "\n",
      "*one_sample: [[  2  58 268  26  89 528  20  82 754  86   3   0   0   0   0]]\n",
      "\n",
      "**************************************************\n",
      "1 : <unk>\n",
      "2 : <start>\n",
      "3 : <end>\n",
      "4 : the\n",
      "5 : i\n",
      "6 : you\n",
      "7 : and\n",
      "8 : a\n",
      "**************************************************\n"
     ]
    }
   ],
   "source": [
    "#토크나이즈 함수======================================\n",
    "def tokenize(corpus):\n",
    "    tokenizer = tf.keras.preprocessing.text.Tokenizer(\n",
    "        num_words=12000, \n",
    "        oov_token=\"<unk>\",   #포함되지 못한 단어는 \"<unk>\"로 처리\n",
    "        filters=' '   #전처리되었으므로 제외\n",
    "    )\n",
    "    \n",
    "    tokenizer.fit_on_texts(corpus)   #매개변수로 토크나이저 내부 단어장 생성\n",
    "    tensor = tokenizer.texts_to_sequences(corpus)   #매개변수 Tensor로 변환\n",
    "    tensor = tf.keras.preprocessing.sequence.pad_sequences(tensor, padding=\"post\", maxlen = 15)\n",
    "    return tensor, tokenizer\n",
    "#End====================================================\n",
    "\n",
    "\n",
    "tensor, tokenizer = tokenize(corpus)\n",
    "\n",
    "print(\"*tensor shape:\", tensor.shape)\n",
    "print(\"\\n*one_sample:\", tensor[:1])\n",
    "\n",
    "print(\"\\n\" + \"*\" * 50)\n",
    "for idx in tokenizer.index_word:\n",
    "    print(idx, \":\", tokenizer.index_word[idx])\n",
    "    if idx >= 8: break\n",
    "print(\"*\" * 50)"
   ]
  },
  {
   "cell_type": "markdown",
   "id": "active-soundtrack",
   "metadata": {},
   "source": [
    "<br>\n",
    "\n",
    "#### 데이터셋 생성하기\n",
    "***\n",
    "+ train_test_split으로 데이터를 분리한 후, from_tensor_slices를 이용하여 데이터셋을 생성한다.\n",
    "+ 데이터셋 배치사이즈는 32로 설정한다.\n",
    "***"
   ]
  },
  {
   "cell_type": "code",
   "execution_count": 13,
   "id": "alpine-guess",
   "metadata": {},
   "outputs": [
    {
     "name": "stdout",
     "output_type": "stream",
     "text": [
      "\n",
      "**************************************************\n",
      "Source Train: (118291, 14)\n",
      "Source val Train: (29573, 14)\n",
      "\n",
      "Target Train: (118291, 14)\n",
      "Target val Train: (29573, 14)\n",
      "**************************************************\n"
     ]
    }
   ],
   "source": [
    "#학습데이터와 정답 데이터 분리하기\n",
    "from sklearn.model_selection import train_test_split\n",
    "src_input = tensor[:, :-1]   #마지막 토큰을 잘라내 소스문장 생성 => x_data\n",
    "tgt_input = tensor[:, 1:]   #첫번째 idx인 <start>를 잘라내기 => target_data\n",
    "\n",
    "enc_train, enc_val, dec_train, dec_val = train_test_split(src_input, tgt_input, test_size = 0.2, random_state = 2)\n",
    "\n",
    "#텐서플로 데이터셋으로 만들기==============\n",
    "BUFFER_SIZE = len(src_input)\n",
    "BATCH_SIZE = 32\n",
    "\n",
    "dataset = tf.data.Dataset.from_tensor_slices((src_input, tgt_input))   #tensor를 dataset으로 변환\n",
    "# dataset = dataset.shuffle(BUFFER_SIZE)\n",
    "dataset = dataset.batch(BATCH_SIZE, drop_remainder=True)\n",
    "#End=======================================\n",
    "\n",
    "print(\"\\n\" + \"*\" * 50)\n",
    "print(\"Source Train:\", enc_train.shape)\n",
    "print(\"Source val Train:\", enc_val.shape)\n",
    "\n",
    "print(\"\\nTarget Train:\", dec_train.shape)\n",
    "print(\"Target val Train:\", dec_val.shape)\n",
    "print(\"*\" * 50)"
   ]
  },
  {
   "cell_type": "markdown",
   "id": "black-world",
   "metadata": {},
   "source": [
    "<br><br>\n",
    "\n",
    "## 4. 모델 학습 및 평가\n",
    "***\n",
    "<span style=\"font-size:12pt; line-height:1.5; font-family:Serif;\">\n",
    "    &nbsp; &nbsp; 전처리를 거친 데이터를 바탕으로 모델을 학습 한다. 'Simple RNN', 'GRU', 'LSTM'에 대한 각 모델을 적용하여 학습을 진행한다. 각 모델은 임베딩 레이어, RNN 레이어, 0.2 비율의 드롭아웃 레이어, 배치정규화 레이어, 출력 레이어 순으로 설계하였으며, RNN 레이어의 유닛 수는 2,000개로 모두 동일하게 적용하였다. 또한, 임베딩 사이즈는 500을 적용하였다.\n",
    "</span><br><br>\n",
    "\n",
    "<span style=\"font-size:12pt; line-height:1.5; font-family:Serif;\">\n",
    "    &nbsp; &nbsp; 옵티마이저로 Adam을 사용하였으며, 배치 사이즈를 32개로 설정하였다. 학습 epoch는 4로 설정하였다. 또한, 매 epoch 마다 'i', 'you', 'love'를 문장의 시작 단어로 입력하여 생성되는 문장을 확인하고자 한다.\n",
    "</span>\n",
    "\n",
    "***"
   ]
  },
  {
   "cell_type": "markdown",
   "id": "loose-player",
   "metadata": {},
   "source": [
    "#### 모델 생성 및 콜백, 문장 예측 함수\n",
    "***\n",
    "+ 자주 사용되는 모델 생성과 콜백, 문장 예측, 모델 학습 기능을 클래스 및 함수화하였다.\n",
    "+ 콜백 함수의 경우 모델 학습 시 매 epoch가 종료될 때, 문장 생성 예시를 출력한다.\n",
    "***"
   ]
  },
  {
   "cell_type": "code",
   "execution_count": 14,
   "id": "flexible-reminder",
   "metadata": {
    "scrolled": true
   },
   "outputs": [],
   "source": [
    "#모델 생성 클래스=================================\n",
    "class TextGenerator(tf.keras.Model):\n",
    "    def __init__(\n",
    "            self,\n",
    "            model_type, #\"LSTM\", \"GRU\", \"RNN\"\n",
    "            vocab_size,   #단어사전 크기\n",
    "        ):\n",
    "        super().__init__()\n",
    "        \n",
    "        self.embedding = tf.keras.layers.Embedding(vocab_size, 500)\n",
    "        \n",
    "        if model_type == \"LSTM\":\n",
    "            self.rnn_1 = tf.keras.layers.LSTM(2000, return_sequences=True)\n",
    "        elif model_type == \"GRU\":\n",
    "            self.rnn_1 = tf.keras.layers.GRU(2000, return_sequences=True)\n",
    "        else:\n",
    "            self.rnn_1 = tf.keras.layers.SimpleRNN(2000, return_sequences=True, activation=\"tanh\")\n",
    "            \n",
    "        self.dropout_1 = tf.keras.layers.Dropout(rate=0.2)\n",
    "        \n",
    "        self.batnorm_1 = tf.keras.layers.BatchNormalization()\n",
    "        self.linear = tf.keras.layers.Dense(vocab_size)\n",
    "        \n",
    "    def call(self, x):\n",
    "        out = self.embedding(x)\n",
    "        out = self.rnn_1(out)\n",
    "        out = self.dropout_1(out)\n",
    "        \n",
    "        out = self.batnorm_1(out)\n",
    "        out = self.linear(out)\n",
    "        \n",
    "        return out\n",
    "#End==============================================\n",
    "    \n",
    "    \n",
    "#문장 예측 함수====================================\n",
    "def generate_text(model, tokenizer, init_sentence=\"<start>\", max_len=15):\n",
    "    test_input = tokenizer.texts_to_sequences([init_sentence])\n",
    "    test_tensor = tf.convert_to_tensor(test_input, dtype=tf.int64)\n",
    "    end_token = tokenizer.word_index[\"<end>\"]\n",
    "\n",
    "    while True:\n",
    "        predict = model(test_tensor)\n",
    "        predict_word = tf.argmax(tf.nn.softmax(predict, axis=-1), axis=-1)[:, -1]\n",
    "        test_tensor = tf.concat(\n",
    "            [test_tensor, tf.expand_dims(predict_word, axis=0)], axis=-1\n",
    "        )\n",
    "        if predict_word.numpy()[0] == end_token: break\n",
    "        if test_tensor.shape[1] >= max_len: break\n",
    "\n",
    "    generated = \"\"\n",
    "    for word_index in test_tensor[0].numpy():\n",
    "        generated += tokenizer.index_word[word_index] + \" \"\n",
    "    \n",
    "    return generated\n",
    "#End==============================================\n",
    "\n",
    "\n",
    "#콜백 함수========================================\n",
    "def train_model(epoch, logs):\n",
    "    print(\"\\n\\n\" + \"*\" * 25)\n",
    "    words = [\"i\", \"you\", \"love\"]\n",
    "    for init_word in words:\n",
    "        sentence = generate_text(model, tokenizer, \"<start> \" + init_word, 15)\n",
    "        print(sentence, end=\"\\n\\n\")\n",
    "    print(\"*\" * 25)\n",
    "    \n",
    "testmodelcb = tf.keras.callbacks.LambdaCallback(on_epoch_end=train_model)\n",
    "#End==============================================\n",
    "\n",
    "\n",
    "#컴파일 및 학습 함수==============================\n",
    "def compile_fit(model, callback_func):\n",
    "    optimizer = tf.keras.optimizers.Adam()\n",
    "    loss = tf.keras.losses.SparseCategoricalCrossentropy(\n",
    "        from_logits=True, reduction='none'\n",
    "    )\n",
    "\n",
    "    model.compile(loss=loss, optimizer=optimizer)\n",
    "\n",
    "    hist = model.fit(\n",
    "        enc_train, dec_train, \n",
    "        epochs=4,\n",
    "        batch_size=32,\n",
    "        validation_data=(enc_val, dec_val),\n",
    "        shuffle=True,\n",
    "        callbacks=[callback_func],\n",
    "        verbose=1\n",
    "    )\n",
    "    return None\n",
    "#End=============================================="
   ]
  },
  {
   "cell_type": "markdown",
   "id": "running-happiness",
   "metadata": {},
   "source": [
    "<br>\n",
    "\n",
    "#### input size 설정용 샘플 데이터\n",
    "***\n",
    "+ 모델의 입력 사이즈 설정을 위한 샘플 데이터 추출 과정\n",
    "***"
   ]
  },
  {
   "cell_type": "code",
   "execution_count": 15,
   "id": "fifth-oxford",
   "metadata": {},
   "outputs": [],
   "source": [
    "for src_sample, _ in dataset.take(1): break   #dataset으로부터 하나의 데이터 받아오기"
   ]
  },
  {
   "cell_type": "markdown",
   "id": "smooth-leadership",
   "metadata": {},
   "source": [
    "<br>\n",
    "\n",
    "### 4.1 Simple RNN\n",
    "***\n",
    "<span style=\"font-size:12pt; line-height:1.5; font-family:Serif;\">\n",
    "    &nbsp; &nbsp; Simple RNN은 순환 신경망의 기초적인 레이어이다. 과거에 대한 정보를 지속적으로 전달하여 시계열 등의 문제에 사용된다. Simple RNN의 경우 입력 데이터가 길어질수록 '장기의존성' 문제로 인해 성능이 저하되는 단점이 존재한다. 본 예제에서는 2,000개의 유닛을 가진 Simple RNN 레이어를 사용하였다. 또한, 활성화 함수로 'tanh'를 사용하였다.\n",
    "</span>\n",
    "\n",
    "***"
   ]
  },
  {
   "cell_type": "code",
   "execution_count": 16,
   "id": "private-german",
   "metadata": {},
   "outputs": [
    {
     "name": "stdout",
     "output_type": "stream",
     "text": [
      "Model: \"text_generator\"\n",
      "_________________________________________________________________\n",
      "Layer (type)                 Output Shape              Param #   \n",
      "=================================================================\n",
      "embedding (Embedding)        multiple                  6000500   \n",
      "_________________________________________________________________\n",
      "simple_rnn (SimpleRNN)       multiple                  5002000   \n",
      "_________________________________________________________________\n",
      "dropout (Dropout)            multiple                  0         \n",
      "_________________________________________________________________\n",
      "batch_normalization (BatchNo multiple                  8000      \n",
      "_________________________________________________________________\n",
      "dense (Dense)                multiple                  24014001  \n",
      "=================================================================\n",
      "Total params: 35,024,501\n",
      "Trainable params: 35,020,501\n",
      "Non-trainable params: 4,000\n",
      "_________________________________________________________________\n"
     ]
    }
   ],
   "source": [
    "model = TextGenerator(\n",
    "    \"SimpleRNN\",\n",
    "    tokenizer.num_words + 1,   #tokenizer.num_words: 단어사전 사이즈 + <pad>\n",
    ")\n",
    "\n",
    "model(src_sample)   #해당 데이터를 넣어줌으로써 모델 input_size 설정\n",
    "model.summary()"
   ]
  },
  {
   "cell_type": "markdown",
   "id": "concerned-portuguese",
   "metadata": {},
   "source": [
    "<br>\n",
    "\n",
    "#### 모델 학습 및 문장생성\n",
    "***\n",
    "<span style=\"font-size:12pt; line-height:1.5; font-family:Serif;\">\n",
    "    &nbsp; &nbsp; Simple RNN 모델의 학습 결과, epoch 4 일 때 validation loss가 2.9285로 성능이 가장 좋았다. Simple RNN 모델의 특징은 단어 사전에 등록되지 못한 토큰인 &lt;unk>가 자주 사용된 다는 것이다. 또한, 해당 토큰이 주로 명사 부분에 사용되는 것을 확인할 수 있다. 다음은 'I', 'You', 'Love'를 시작 단어로 주었을 때, Simple RNN 모델이 생성한 문장을 제시한 것이다.\n",
    "</span><br><br>\n",
    "\n",
    "\n",
    "> ___I'll be a &lt;unk>___...(ep 2)\n",
    ">    \n",
    "> ___You're gonna be a &lt;unk>___...(ep 4)\n",
    ">    \n",
    "> ___Love you want to be___...(ep 2)\n",
    "\n",
    "***"
   ]
  },
  {
   "cell_type": "code",
   "execution_count": 17,
   "id": "intimate-membrane",
   "metadata": {
    "scrolled": false
   },
   "outputs": [
    {
     "name": "stdout",
     "output_type": "stream",
     "text": [
      "Epoch 1/4\n",
      "3697/3697 [==============================] - 407s 110ms/step - loss: 3.7402 - val_loss: 3.0707\n",
      "\n",
      "\n",
      "*************************\n",
      "<start> i know i know you <end> \n",
      "\n",
      "<start> you 're a <unk> <end> \n",
      "\n",
      "<start> love you 're a <unk> <end> \n",
      "\n",
      "*************************\n",
      "Epoch 2/4\n",
      "3697/3697 [==============================] - 405s 110ms/step - loss: 3.0607 - val_loss: 2.9953\n",
      "\n",
      "\n",
      "*************************\n",
      "<start> i 'll be a <unk> <end> \n",
      "\n",
      "<start> you 're the <unk> <end> \n",
      "\n",
      "<start> love you want to be <end> \n",
      "\n",
      "*************************\n",
      "Epoch 3/4\n",
      "3697/3697 [==============================] - 405s 110ms/step - loss: 2.9774 - val_loss: 2.9599\n",
      "\n",
      "\n",
      "*************************\n",
      "<start> i 'll be a <unk> <end> \n",
      "\n",
      "<start> you 're gonna be a <unk> <end> \n",
      "\n",
      "<start> love you know i do n't know <end> \n",
      "\n",
      "*************************\n",
      "Epoch 4/4\n",
      "3697/3697 [==============================] - 405s 109ms/step - loss: 2.9326 - val_loss: 2.9285\n",
      "\n",
      "\n",
      "*************************\n",
      "<start> i 'll be a <unk> <end> \n",
      "\n",
      "<start> you 're gonna be a <unk> <end> \n",
      "\n",
      "<start> love you a <unk> <end> \n",
      "\n",
      "*************************\n"
     ]
    }
   ],
   "source": [
    "compile_fit(model, testmodelcb)"
   ]
  },
  {
   "cell_type": "markdown",
   "id": "opposed-pantyhose",
   "metadata": {},
   "source": [
    "<br>\n",
    "\n",
    "### 4.2 GRU\n",
    "***\n",
    "<span style=\"font-size:12pt; line-height:1.5; font-family:Serif;\">\n",
    "    &nbsp; &nbsp; GRU는 RNN의 '장기의존성'에 관한 논문을 제시한 '요슈아 벤지오' 교수의 제자인 뉴욕대학교 '조경현' 교수 등이 제안한 구조이다[2]. LSTM과 비슷한 기능을 하지만 구조가 간단하여 파라미터 수가 LSTM에 비해 적으며 특정 문제에서는 LSTM에 비해 좋은 성능을 보이기도 한다.\n",
    "</span>\n",
    "\n",
    "***"
   ]
  },
  {
   "cell_type": "code",
   "execution_count": 18,
   "id": "coated-cruise",
   "metadata": {},
   "outputs": [
    {
     "name": "stdout",
     "output_type": "stream",
     "text": [
      "Model: \"text_generator_1\"\n",
      "_________________________________________________________________\n",
      "Layer (type)                 Output Shape              Param #   \n",
      "=================================================================\n",
      "embedding_1 (Embedding)      multiple                  6000500   \n",
      "_________________________________________________________________\n",
      "gru (GRU)                    multiple                  15012000  \n",
      "_________________________________________________________________\n",
      "dropout_1 (Dropout)          multiple                  0         \n",
      "_________________________________________________________________\n",
      "batch_normalization_1 (Batch multiple                  8000      \n",
      "_________________________________________________________________\n",
      "dense_1 (Dense)              multiple                  24014001  \n",
      "=================================================================\n",
      "Total params: 45,034,501\n",
      "Trainable params: 45,030,501\n",
      "Non-trainable params: 4,000\n",
      "_________________________________________________________________\n"
     ]
    }
   ],
   "source": [
    "model = TextGenerator(\n",
    "    \"GRU\",\n",
    "    tokenizer.num_words + 1,   #tokenizer.num_words: 단어사전 사이즈 + <pad>\n",
    ")\n",
    "\n",
    "model(src_sample)   #해당 데이터를 넣어줌으로써 모델 input_size 설정\n",
    "model.summary()"
   ]
  },
  {
   "cell_type": "markdown",
   "id": "immune-engine",
   "metadata": {},
   "source": [
    "<br>\n",
    "\n",
    "#### 모델 학습 및 문장생성\n",
    "***\n",
    "<span style=\"font-size:12pt; line-height:1.5; font-family:Serif;\">\n",
    "    &nbsp; &nbsp; GRU 모델의 학습 결과, epoch 4 일 때 validation loss가 2.2024로 성능이 가장 좋았다. 하지만 생성한 문장은 오히려 epoch 3의 경우가 더 명확하고 직관적이다. 다음은 'I', 'You', 'Love'를 시작 단어로 주었을 때, GRU 모델이 생성한 문장을 제시한 것이다.\n",
    "</span><br><br>\n",
    "\n",
    "\n",
    "> ___I've got a lot of brains___...(ep 1)\n",
    ">    \n",
    "> ___You're the only one i want___...(ep 3)\n",
    ">    \n",
    "> ___Love me when you 're down___...(ep 2)\n",
    "\n",
    "***"
   ]
  },
  {
   "cell_type": "code",
   "execution_count": 19,
   "id": "short-paste",
   "metadata": {
    "scrolled": false
   },
   "outputs": [
    {
     "name": "stdout",
     "output_type": "stream",
     "text": [
      "Epoch 1/4\n",
      "3697/3697 [==============================] - 424s 114ms/step - loss: 3.0878 - val_loss: 2.5473\n",
      "\n",
      "\n",
      "*************************\n",
      "<start> i 've got a lot of brains <end> \n",
      "\n",
      "<start> you 're the only thing that 's right <end> \n",
      "\n",
      "<start> love me love me <end> \n",
      "\n",
      "*************************\n",
      "Epoch 2/4\n",
      "3697/3697 [==============================] - 421s 114ms/step - loss: 2.3080 - val_loss: 2.3088\n",
      "\n",
      "\n",
      "*************************\n",
      "<start> i 'll be there to you <end> \n",
      "\n",
      "<start> you know i ca n't stop <end> \n",
      "\n",
      "<start> love me when you 're down <end> \n",
      "\n",
      "*************************\n",
      "Epoch 3/4\n",
      "3697/3697 [==============================] - 423s 114ms/step - loss: 1.8570 - val_loss: 2.2064\n",
      "\n",
      "\n",
      "*************************\n",
      "<start> i do n't know what to do <end> \n",
      "\n",
      "<start> you 're the only one i want <end> \n",
      "\n",
      "<start> love is a feeling <end> \n",
      "\n",
      "*************************\n",
      "Epoch 4/4\n",
      "3697/3697 [==============================] - 421s 114ms/step - loss: 1.5624 - val_loss: 2.2024\n",
      "\n",
      "\n",
      "*************************\n",
      "<start> i know you 're not that eager <end> \n",
      "\n",
      "<start> you know i know you must be broke <end> \n",
      "\n",
      "<start> love is a losing hand though i blind blind man <end> \n",
      "\n",
      "*************************\n"
     ]
    }
   ],
   "source": [
    "compile_fit(model, testmodelcb)"
   ]
  },
  {
   "cell_type": "markdown",
   "id": "electoral-oliver",
   "metadata": {},
   "source": [
    "<br>\n",
    "\n",
    "### 4.3 LSTM\n",
    "***\n",
    "<span style=\"font-size:12pt; line-height:1.5; font-family:Serif;\">\n",
    "    &nbsp; &nbsp; LSTM은 Simple RNN의 장기의존성 문제를 해결하기 위해 제안된 것으로, 유닛 간 상태를 보존하여 전달하는 것으로 해당 문제를 해결하였다. 즉, 과거의 기억을 잊게 하고, 최근 기억을 많이 이용하게 하는 것이다[3]. 앞서 제시된 Simple RNN과 GRU에 비해 요구되는 파라미터 수가 큰 편이다.\n",
    "</span>\n",
    "\n",
    "***"
   ]
  },
  {
   "cell_type": "code",
   "execution_count": 16,
   "id": "grave-commission",
   "metadata": {},
   "outputs": [
    {
     "name": "stdout",
     "output_type": "stream",
     "text": [
      "Model: \"text_generator\"\n",
      "_________________________________________________________________\n",
      "Layer (type)                 Output Shape              Param #   \n",
      "=================================================================\n",
      "embedding (Embedding)        multiple                  6000500   \n",
      "_________________________________________________________________\n",
      "lstm (LSTM)                  multiple                  20008000  \n",
      "_________________________________________________________________\n",
      "dropout (Dropout)            multiple                  0         \n",
      "_________________________________________________________________\n",
      "batch_normalization (BatchNo multiple                  8000      \n",
      "_________________________________________________________________\n",
      "dense (Dense)                multiple                  24014001  \n",
      "=================================================================\n",
      "Total params: 50,030,501\n",
      "Trainable params: 50,026,501\n",
      "Non-trainable params: 4,000\n",
      "_________________________________________________________________\n"
     ]
    }
   ],
   "source": [
    "model = TextGenerator(\n",
    "    \"LSTM\",\n",
    "    tokenizer.num_words + 1,   #tokenizer.num_words: 단어사전 사이즈 + <pad>\n",
    ")\n",
    "\n",
    "model(src_sample)   #해당 데이터를 넣어줌으로써 모델 input_size 설정\n",
    "model.summary()"
   ]
  },
  {
   "cell_type": "markdown",
   "id": "alien-bookmark",
   "metadata": {},
   "source": [
    "<br>\n",
    "\n",
    "#### 모델 학습 및 문장생성\n",
    "***\n",
    "<span style=\"font-size:12pt; line-height:1.5; font-family:Serif;\">\n",
    "    &nbsp; &nbsp; LSTM 모델의 학습 결과, epoch 4 일 때 validation loss가 2.1890으로 성능이 가장 좋았다. 다음은 'I', 'You', 'Love'를 시작 단어로 주었을 때, LSTM 모델이 생성한 문장을 제시한 것이다.\n",
    "</span><br><br>\n",
    "\n",
    "\n",
    "> ___I know you 're smiling down on me___...(ep 4)\n",
    ">    \n",
    "> ___You know that i love you___...(ep 4)\n",
    ">    \n",
    "> ___Love is a beautiful thing___...(ep 4)\n",
    "\n",
    "\n",
    "***"
   ]
  },
  {
   "cell_type": "code",
   "execution_count": 17,
   "id": "middle-camping",
   "metadata": {
    "scrolled": false
   },
   "outputs": [
    {
     "name": "stdout",
     "output_type": "stream",
     "text": [
      "Epoch 1/4\n",
      "3697/3697 [==============================] - 483s 130ms/step - loss: 3.1441 - val_loss: 2.6050\n",
      "\n",
      "\n",
      "*************************\n",
      "<start> i do n't wanna be a man <end> \n",
      "\n",
      "<start> you 're the one who you are <end> \n",
      "\n",
      "<start> love is a love <end> \n",
      "\n",
      "*************************\n",
      "Epoch 2/4\n",
      "3697/3697 [==============================] - 482s 130ms/step - loss: 2.3864 - val_loss: 2.3819\n",
      "\n",
      "\n",
      "*************************\n",
      "<start> i do n't know what to do <end> \n",
      "\n",
      "<start> you know i know you know <end> \n",
      "\n",
      "<start> love is a beautiful thing <end> \n",
      "\n",
      "*************************\n",
      "Epoch 3/4\n",
      "3697/3697 [==============================] - 481s 130ms/step - loss: 2.0068 - val_loss: 2.2461\n",
      "\n",
      "\n",
      "*************************\n",
      "<start> i know i know i know <end> \n",
      "\n",
      "<start> you 're the only one <end> \n",
      "\n",
      "<start> love is a woman <end> \n",
      "\n",
      "*************************\n",
      "Epoch 4/4\n",
      "3697/3697 [==============================] - 480s 130ms/step - loss: 1.6637 - val_loss: 2.1890\n",
      "\n",
      "\n",
      "*************************\n",
      "<start> i know you 're smiling down on me <end> \n",
      "\n",
      "<start> you know that i love you <end> \n",
      "\n",
      "<start> love is a beautiful thing <end> \n",
      "\n",
      "*************************\n"
     ]
    }
   ],
   "source": [
    "compile_fit(model, testmodelcb)"
   ]
  },
  {
   "cell_type": "markdown",
   "id": "democratic-pierre",
   "metadata": {},
   "source": [
    "<br><br>\n",
    "\n",
    "## 5. 결론\n",
    "***\n",
    "<span style=\"font-size:12pt; line-height:1.5; font-family:Serif;\">\n",
    "    &nbsp; &nbsp; Simple RNN, GRU, LSTM을 사용한 문장생성 모델로부터 15 단어 이하로 구성된 문장을 출력하도록 하였다. validation loss가 가장 낮았던 모델은 LSTM을 사용한 모델이었으며, epoch 4일 때, 2.1890이었다. Simple RNN의 경우 장기의존문제로 인해 학습이 의도대로 이루어지지 않았으며, 단어 사전에 포함되지 못한 토큰을 자주 출력하였다. 또한, 해당 토큰을 명사 자리에 주로 사용한 것을 확인하였다. GRU의 경우 LSTM에 비해 validation loss가 높았지만, 그 차이는 미미했으며, 적은 파라미터를 사용하였음에도 불구하고 문장생성이 올바르게 이루어진것을 확인하였다. [표 1]은 각 모델의 validation loss와 생성 문장을 제시한 것이다.\n",
    "</span><br><br><br>\n",
    "\n",
    "\n",
    "|model|Best validation loss|sentence|\n",
    "|:--------:|:--------:|:--------:|\n",
    "|**Simple RNN**|2.9285(4)|Love you want to be.|\n",
    "|**GRU**|2.2024(4)|Love me when you 're down.|\n",
    "|**LSTM**|**2.1890(4)**|You know that i love you.|\n",
    "\n",
    "\n",
    "[표 1] 모델별 validation loss와 생성 문장\n",
    "\n",
    "***"
   ]
  },
  {
   "cell_type": "markdown",
   "id": "conditional-relevance",
   "metadata": {},
   "source": [
    "#### 참고문헌\n",
    "***\n",
    "[1] 쿠지라 히코우즈쿠에, 『파이썬을 이용한 머신러닝, 딥러닝 실전 개발 입문』, 위키북스(2020), 337\n",
    "\n",
    "[2] 김환희, 『시작하세요! 텐서플로 2.0 프로그래밍』, 위키북스(2020), 194\n",
    "\n",
    "[3] 이다치 하루카, 『텐서플로로 시작하는 딥러닝 입문』, 위키북스(2019), 147\n",
    "***"
   ]
  },
  {
   "cell_type": "markdown",
   "id": "athletic-abuse",
   "metadata": {},
   "source": [
    "#### 형상관리\n",
    "***\n",
    "+ ver1\n",
    "    + ver1_1: 초기버전\n",
    "    + ver1_2: 모델 변경\n",
    "    \n",
    "    \n",
    "+ ver2\n",
    "    + ver2_1: 배치정규화 이용\n",
    "    + ver2_2: 임베딩 사이즈 변경 및 레이어 축소\n",
    "    \n",
    "    \n",
    "+ ver3\n",
    "    + ver3_1: Simple RNN, GRU, LSTM 도입\n",
    "    + ver3_2: callback 함수 도입\n",
    "\n",
    "\n",
    "+ ver4\n",
    "    + ver4_1: 마크다운 양식 및 내용 수정\n",
    "***"
   ]
  },
  {
   "cell_type": "markdown",
   "id": "fallen-vegetable",
   "metadata": {},
   "source": [
    "##### 회고\n",
    "***\n",
    "본 예제를 진행하면서 겪은 난항은 다음과 같다.\n",
    "\n",
    "&nbsp; &nbsp; 목표 성능인 validation accuracy 2.2 이하를 달성하기 위해 상당한 시행착오를 겪었다. 그 과정 속에서 상당히 중요한 통찰을 얻게 됐는데, 모델 개선이, 항상 무엇인가를 '추가'한다고 하여 이루어지지는 않는 다는 것이다. 성능 개선을 하고자 할 때, 대체로 모델에 더 추가하고자 하는 생각이 먼저 든다. 유닛 수를 늘리거나, 레이어를 더 추가하거나, 임베딩 차원 수를 늘리거나 하는 것 처럼 말이다. 하지만, 때로는 덜어냄으로써 더 좋은 결과를 얻기도 한다. 약 이틀 간 레이어를 추가하고 유닛 수를 늘려 성능을 개선하고자 했지만 목표 치는 달성 할 수 없었다. 더군다나 파라미터가 증가하여 소요시간이 더 늘어났다. 삼 일째 되는 날, 레이어 수도 줄이고 유닛 수도 최소화 해보자는 생각이 처음으로 들었다. 그제서야 목표치인 2.2 이하로 validation accuracy가 감소하는 것을 확인하였다. 개선이 필요할 경우, 덜어 내는 방안도 고려할 필요가 있다.\n",
    "\n",
    "&nbsp; &nbsp; RNN에서는 Dropout 레이어와 Batch Normalization 레이어를 추가하지 않는다. 그 이유는 RNN이 순차적으로 진행되면서 과거의 정보가 Dropout과 Batch Normalization으로 인해 손실될 수 있기 때문이다. 따라서, Dropout의 경우 RNN 레이어 내부에 옵션을 통해 설정해주거나 한다. 하지만, 본 예제를 진행함에 있어 Dropout 레이어 추가와 Batch Normalization을 통해 성능이 개선 됨을 확인하였다. 그 원인을 파악할 수는 없었지만, 항상 '반드시'라는 전제는 제외할 필요가 있음을 느꼈다.\n",
    "***"
   ]
  }
 ],
 "metadata": {
  "kernelspec": {
   "display_name": "Python 3",
   "language": "python",
   "name": "python3"
  },
  "language_info": {
   "codemirror_mode": {
    "name": "ipython",
    "version": 3
   },
   "file_extension": ".py",
   "mimetype": "text/x-python",
   "name": "python",
   "nbconvert_exporter": "python",
   "pygments_lexer": "ipython3",
   "version": "3.7.9"
  }
 },
 "nbformat": 4,
 "nbformat_minor": 5
}
