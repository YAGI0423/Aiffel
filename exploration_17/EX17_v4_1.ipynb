{
 "cells": [
  {
   "cell_type": "markdown",
   "id": "clinical-brief",
   "metadata": {},
   "source": [
    "# 사전학습 여부에 따른 BERT 모델 성능 개선 여부 확인 예제\n",
    "## : KorQuA를 중심으로"
   ]
  },
  {
   "cell_type": "markdown",
   "id": "brief-annual",
   "metadata": {},
   "source": [
    "#### 초록\n",
    "***\n",
    "<span style=\"font-size:11pt; line-height:1.8;\">\n",
    "    &nbsp; &nbsp; KorQuA를 이용하여 사전학습된 BERT 모델과 사전학습이 되지 않은 BERT 모델의 성능을 비교한다. KorQuA 문제와 BERT를 중심으로 설명한 후, 사전학습된 BERT 모델과 사전학습이 되지 않은 BERT 모델을 생성하여 그 성능을 비교하였다. 두 모델 모두 6개의 인코더 레이어와 8개의 멀티 헤드를 사용하고 학습 횟수는 5회로 설정하였다. 학습결과, 사전학습 되지 않은 모델의 경우 검증 데이터에 대한 정확도가 감소하는 추세를 보였으며, 최종적으로 약 0.003에 해당하였다. 사전학습 된 모델의 경우 검증 데이터에 대한 정확도가 증가하는 추세를 보였으며, 최종적으로 약 0.5에 해당하였다. 나아가 검증 데이터 10개를 사전학습된 모델에 입력하여 확인한 결과, 여러 분제에 대해 올바르게 예측하였다.\n",
    "</span>\n",
    "\n",
    "***"
   ]
  },
  {
   "cell_type": "markdown",
   "id": "advisory-falls",
   "metadata": {},
   "source": [
    "<br>\n",
    "\n",
    "## 1. 서론\n",
    "***\n",
    "<span style=\"font-size:12pt; line-height:1.7; font-family:Serif;\">\n",
    "    &nbsp; &nbsp; 본 예제에서는 KorQuA를 이용하여 사전학습된 BERT 모델과 사전학습이 되지 않은 BERT 모델의 성능을 비교하고자 합니다. 특히, KorQuA 문제가 무엇인지 그리고 BERT의 작동 방식을 중심으로 설명하고자 합니다. 다음은 본 예제의 진행 순서를 제시한 것입니다.\n",
    "</span><br><br>\n",
    "\n",
    "\n",
    "> _1. KorQuA 문제에 대한 설명_\n",
    ">\n",
    "> _2. BERT에 대한 설명_\n",
    ">\n",
    "> _3. 데이터 정제_\n",
    ">\n",
    "> _4. 데이터 분석_\n",
    ">\n",
    "> _5. 데이터 전처리_\n",
    ">\n",
    "> _6. 모델 생성 및 학습_\n",
    "\n",
    "\n",
    "***"
   ]
  },
  {
   "cell_type": "markdown",
   "id": "dramatic-reporter",
   "metadata": {},
   "source": [
    "#### 필요 라이브러리 호출\n",
    "***\n",
    "+ 예제에 사용되는 라이브러리를 호출 합니다.\n",
    "***"
   ]
  },
  {
   "cell_type": "code",
   "execution_count": 1,
   "id": "sealed-wrapping",
   "metadata": {},
   "outputs": [],
   "source": [
    "import matplotlib as mpl\n",
    "import matplotlib.pyplot as plt\n",
    "import matplotlib.font_manager as fm\n",
    "\n",
    "import seaborn as sns   #시각화\n",
    "from wordcloud import WordCloud   #워드 클라우드\n",
    "\n",
    "fontpath = '/usr/share/fonts/truetype/nanum/NanumBarunGothic.ttf'\n",
    "font = fm.FontProperties(fname=fontpath, size=9)\n",
    "plt.rc('font', family='NanumBarunGothic') \n",
    "mpl.font_manager._rebuild()"
   ]
  },
  {
   "cell_type": "code",
   "execution_count": 2,
   "id": "cognitive-tattoo",
   "metadata": {},
   "outputs": [],
   "source": [
    "from __future__ import absolute_import, division, print_function, unicode_literals\n",
    "\n",
    "import sentencepiece as spm   #SentencePiece 모델\n",
    "\n",
    "import tensorflow as tf   #계산 그래프\n",
    "import tensorflow.keras.backend as K   #케라스\n",
    "import tensorflow_addons as tfa\n",
    "\n",
    "import os   #디렉토리 관리\n",
    "import re   #정규식\n",
    "import json   #Json 처리\n",
    "import random   #난수\n",
    "import pickle   #피클 파일\n",
    "import numpy as np   #행렬 연산\n",
    "import collections   #데이터 처리\n",
    "import pandas as pd   #데이터프레임\n",
    "from datetime import datetime   #시간\n",
    "\n",
    "from tqdm.notebook import tqdm\n",
    "\n",
    "random.seed(1234)   #시드 설정\n",
    "np.random.seed(1234)\n",
    "tf.random.set_seed(1234)"
   ]
  },
  {
   "cell_type": "markdown",
   "id": "greatest-quantum",
   "metadata": {},
   "source": [
    "<br>\n",
    "\n",
    "## 2. Korean Question Answering(KorQuA) 문제\n",
    "***\n",
    "<span style=\"font-size:12pt; line-height:1.7; font-family:Serif;\">\n",
    "    &nbsp; &nbsp; 'Korean Question Answering(이하 KorQuA)' 문제는 기계학습 모델의 한국어 독해 이해력을 학습하고 평가하기 위한 것입니다. 모델에게 지문(Context)과 그에 대한 질문(Question)을 입력하면 그에 맞는 답(Answer)을 출력하도록 모델을 학습하는 것이 목표 입니다. [그림 1]은 KorQuA 문제의 예시를 보여줍니다. 『나는 20살 이다. 나는 어제 집에서 피자를 먹었다.』라는 지문과 『나는 어제 무엇을 했는가』라는 질문을 모델에 입력하였을 때, 이에 맞는 『집에서 피자를 먹었다.』라는 답변을 하도록 모델을 만드는 것입니다.\n",
    "</span><br><br>\n",
    "\n",
    "<span style=\"font-size:12pt; line-height:1.7; font-family:Serif;\">\n",
    "    &nbsp; &nbsp; LGCNS AI 연구팀은 모델의 KorQuA 과제를 위해 대규모 데이터셋인 KorQuAD(Korean Question Answering Dataset)을 제공하고 있습니다. 한국어 위키백과를 대상으로 총 1,637 건의 문서를 수집, 정제, 라벨링 작업을 통해 10, 645 개의 지문과 66,181 개의 질문과 답을 확보하여, 학습 데이터 60,407 개, 검증 데이터 5,774 개를 제공하고 있습니다. 본 예제에서는 해당 KorQuAD를 이용하여 BERT 모델에 적용하고자 합니다.\n",
    "</span>\n",
    "\n",
    "<img src=\"./img/KorQuAd_prob.png\" width=700>\n",
    "\n",
    "[그림 1] KorQuA 문제\n",
    "\n",
    "***"
   ]
  },
  {
   "cell_type": "markdown",
   "id": "bright-shape",
   "metadata": {},
   "source": [
    "#### KorQuAD 불러오기\n",
    "***\n",
    "+ KorQuAD 파일을 불러옵니다.\n",
    "***"
   ]
  },
  {
   "cell_type": "code",
   "execution_count": 3,
   "id": "cutting-offense",
   "metadata": {},
   "outputs": [],
   "source": [
    "def load_dataset(path):\n",
    "    with open(path) as f:\n",
    "        return_json = json.load(f)\n",
    "    return return_json\n",
    "            \n",
    "data_dir = \"./dataset/bert_qna/data\"\n",
    "model_dir = \"./dataset/bert_qna/models\"\n",
    "\n",
    "train_json = load_dataset(data_dir + '/KorQuAD_v1.0_train.json')\n",
    "dev_json = load_dataset(data_dir + '/KorQuAD_v1.0_dev.json')"
   ]
  },
  {
   "cell_type": "markdown",
   "id": "rocky-lobby",
   "metadata": {},
   "source": [
    "#### 데이터셋 출처\n",
    "***\n",
    "+ LGCNS AI, KorQuAD 1.0(2019), https://korquad.github.io/KorQuad%201.0/\n",
    "***"
   ]
  },
  {
   "cell_type": "markdown",
   "id": "intended-scratch",
   "metadata": {},
   "source": [
    "<br>\n",
    "\n",
    "#### 데이터 샘플 출력\n",
    "***\n",
    "+ 지문, 질문, 정답과 같은 데이터 샘플을 출력합니다.\n",
    "\n",
    "\n",
    "+ context: 지문\n",
    "\n",
    "\n",
    "+ question: 질문\n",
    "\n",
    "\n",
    "+ answer: 정답\n",
    "\n",
    "\n",
    "+ answer_start: 정답 구문 시작 인덱스\n",
    "***"
   ]
  },
  {
   "cell_type": "code",
   "execution_count": 4,
   "id": "defined-grenada",
   "metadata": {},
   "outputs": [
    {
     "name": "stdout",
     "output_type": "stream",
     "text": [
      "<CONTEXT>:\t 1839년 바그너는 괴테의 파우스트을 처음 읽고 그 내용에 마음이 끌려 이를 소재로 해서 하나의 교향곡을 쓰려는 뜻을 갖는다. 이 시기 바그너는 1838년에 빛 독촉으로 산전수전을 다 걲은 상황이라 좌절과 실망에 가득했으며 메피스토펠레스를 만나는 파우스트의 심경에 공감했다고 한다. 또한 파리에서 아브네크의 지휘로 파리 음악원 관현악단이 연주하는 베토벤의 교향곡 9번을 듣고 깊은 감명을 받았는데, 이것이 이듬해 1월에 파우스트의 서곡으로 쓰여진 이 작품에 조금이라도 영향을 끼쳤으리라는 것은 의심할 여지가 없다. 여기의 라단조 조성의 경우에도 그의 전기에 적혀 있는 것처럼 단순한 정신적 피로나 실의가 반영된 것이 아니라 베토벤의 합창교향곡 조성의 영향을 받은 것을 볼 수 있다. 그렇게 교향곡 작곡을 1839년부터 40년에 걸쳐 파리에서 착수했으나 1악장을 쓴 뒤에 중단했다. 또한 작품의 완성과 동시에 그는 이 서곡(1악장)을 파리 음악원의 연주회에서 연주할 파트보까지 준비하였으나, 실제로는 이루어지지는 않았다. 결국 초연은 4년 반이 지난 후에 드레스덴에서 연주되었고 재연도 이루어졌지만, 이후에 그대로 방치되고 말았다. 그 사이에 그는 리엔치와 방황하는 네덜란드인을 완성하고 탄호이저에도 착수하는 등 분주한 시간을 보냈는데, 그런 바쁜 생활이 이 곡을 잊게 한 것이 아닌가 하는 의견도 있다.\n",
      "\n",
      "<QUESTION>:\t 바그너가 파우스트를 처음으로 읽은 년도는?\n",
      "\n",
      "<ANSWER>:\t 1839\n",
      "\n",
      "<ANSWER START INDEX>:\t 0\n",
      "\n"
     ]
    }
   ],
   "source": [
    "context = train_json[\"data\"][0][\"paragraphs\"][0][\"context\"]\n",
    "qas = train_json[\"data\"][0][\"paragraphs\"][0][\"qas\"][5]\n",
    "answer = qas[\"answers\"][0][\"text\"]\n",
    "answer_start = qas[\"answers\"][0][\"answer_start\"]\n",
    "question = qas[\"question\"]\n",
    "\n",
    "print(\"<CONTEXT>:\\t\", context, end=\"\\n\\n\")\n",
    "print(\"<QUESTION>:\\t\", question, end=\"\\n\\n\")\n",
    "print(\"<ANSWER>:\\t\", answer, end=\"\\n\\n\")\n",
    "print(\"<ANSWER START INDEX>:\\t\", answer_start, end=\"\\n\\n\")"
   ]
  },
  {
   "cell_type": "markdown",
   "id": "developmental-fusion",
   "metadata": {},
   "source": [
    "<br>\n",
    "\n",
    "## 3. BERT(Bidirectional Encoder Representations from Transformers)\n",
    "***\n",
    "<span style=\"font-size:12pt; line-height:1.7; font-family:Serif;\">\n",
    "    &nbsp; &nbsp; BERT에 대해 설명하겠습니다. BERT를 보다 잘 이해하기 위해서는 우선 트랜스포머에 대한 선행지식이 요구 됩니다. 트랜스포머에 대해 아직 이해하지 못하였다면 'RNN(Simple RNN, LSTM, GRU)', 'seq2seq', 'Attention', 'Transformer' 순으로 학습을 진행하면 되겠습니다.\n",
    "</span><br><br>\n",
    "\n",
    "<span style=\"font-size:12pt; line-height:1.7; font-family:Serif;\">\n",
    "    &nbsp; &nbsp; BERT는 트랜스포머의 인코더 부분만 차용한 모델 입니다. BERT의 특징은 '이미 학습된(pre-trained) 모델'을 개발자가 해결하고자 하는 문제에 맞게 약간의 조정(finetuning)하여 이용한다는 것입니다. 약간의 조정이란, BERT에 레이어를 추가하거나 하이퍼파라미터를 바꾸는 것에 해당 합니다. 만약 BERT를 감성분류 모델로 이용하고자 한다면, 이미 학습된 BERT에 이진분류 레이어를 추가는 것 만으로 이를 해결할 수 있습니다.\n",
    "</span><br><br>\n",
    "\n",
    "<span style=\"font-size:12pt; line-height:1.7; font-family:Serif;\">\n",
    "    &nbsp; &nbsp; 또한, 개발자가 해결하고자 하는 문제와 BERT가 이전에 학습하였던 문제가 다름에도 불구하고 모델 성능이 과연 더 좋아질지에 대한 의문이 들 수 있습니다. 이는 BERT가 이전에 무엇을 학습하였는지에 대한 설명을 통해 해당 의문을 해소하고자 합니다. 먼저 BERT의 구조에 대해 설명하고 사전 학습은 어떻게 이루어 졌는지 그리고 본 예제에서 해결하고자 하는 KorQuA 문제를 BERT에 어떤 식으로 적용할 것인지에 대해 설명하겠습니다.\n",
    "</span>\n",
    "\n",
    "***"
   ]
  },
  {
   "cell_type": "markdown",
   "id": "substantial-fountain",
   "metadata": {},
   "source": [
    "### 3.1. Transformer 복습하기\n",
    "***\n",
    "<span style=\"font-size:12pt; line-height:1.7; font-family:Serif;\">\n",
    "    &nbsp; &nbsp; BERT는 앞서 설명한 바와 같이 트랜스포머의 인코더 부분만을 이용합니다. [ 그림 2]는 트랜스포머의 인코더를 제시한 것입니다. 아래에서 위로 입, 출력이 이루어 집니다. 우선, 트랜스포머는 문장을 하나의 행렬로 입력 받습니다. 모델에게 단어의 순서를 알리기 위해 'Positional 인코딩 레이어'와 더합니다. 이후, 입력한 문장의 단어 간 연관도를 계산 합니다. 이는 피드포워드 레이어를 거쳐 출력 됩니다. 입력과 출력의 형태 및 크기는 동일 합니다. BERT는 self-multi haed attetion에서 각 단어가 서로 영향을 미친다는 점 그리고 입력과 출력이 동일하다는 점에 착안하여 제시되었습니다.\n",
    "</span><br><br>\n",
    "\n",
    "<img src=\"./img/trsfm_enc.png\" width=500>\n",
    "\n",
    "[그림 2] 트랜스포머의 인코더\n",
    "\n",
    "***"
   ]
  },
  {
   "cell_type": "markdown",
   "id": "right-immunology",
   "metadata": {},
   "source": [
    "#### 트랜스포머 인코더 정의\n",
    "***\n",
    "+ 버트에 사용되는 트랜스포머의 인코더를 정의합니다.\n",
    "***"
   ]
  },
  {
   "cell_type": "code",
   "execution_count": 5,
   "id": "suspected-norwegian",
   "metadata": {},
   "outputs": [],
   "source": [
    "# 유틸리티 함수++++++++++++++++++++++++++++++++++++++++++++++++\n",
    "def get_pad_mask(tokens, i_pad=0):\n",
    "    mask = tf.cast(tf.math.equal(tokens, i_pad), tf.float32)\n",
    "    mask = tf.expand_dims(mask, axis=1)\n",
    "    return mask\n",
    "\n",
    "\n",
    "def get_ahead_mask(tokens, i_pad=0):\n",
    "    n_seq = tf.shape(tokens)[1]\n",
    "    ahead_mask = 1 - tf.linalg.band_part(tf.ones((n_seq, n_seq)), -1, 0)\n",
    "    ahead_mask = tf.expand_dims(ahead_mask, axis=0)\n",
    "    pad_mask = get_pad_mask(tokens, i_pad)\n",
    "    mask = tf.maximum(ahead_mask, pad_mask)\n",
    "    return mask\n",
    "\n",
    "\n",
    "@tf.function(experimental_relax_shapes=True)\n",
    "def gelu(x):\n",
    "    return 0.5 * x * (1 + K.tanh(x * 0.7978845608 * (1 + 0.044715 * x * x)))\n",
    "\n",
    "\n",
    "def kernel_initializer(stddev=0.02):\n",
    "    return tf.keras.initializers.TruncatedNormal(stddev=stddev)\n",
    "\n",
    "\n",
    "def bias_initializer():\n",
    "    return tf.zeros_initializer\n",
    "#End+++++++++++++++++++++++++++++++++++++++++++++++++++++++++++\n",
    "\n",
    "\n",
    "#데이터 관리+++++++++++++++++++++++++++++++++++++++++++++++++++\n",
    "class Config(dict):\n",
    "    __getattr__ = dict.__getitem__\n",
    "    __setattr__ = dict.__setitem__\n",
    "\n",
    "    @classmethod\n",
    "    def load(cls, file):\n",
    "        with open(file, 'r') as f:\n",
    "            config = json.loads(f.read())\n",
    "            return Config(config)\n",
    "        \n",
    "\n",
    "#임베딩 레이어+++++++++++++++++++++++++++++++++++++++++++++++++++\n",
    "class SharedEmbedding(tf.keras.layers.Layer):\n",
    "    def __init__(self, config, name=\"weight_shared_embedding\"):\n",
    "        super().__init__(name=name)\n",
    "\n",
    "        self.n_vocab = config.n_vocab\n",
    "        self.d_model = config.d_model\n",
    "    \n",
    "    def build(self, input_shape):\n",
    "        with tf.name_scope(\"shared_embedding_weight\"):\n",
    "            self.shared_weights = self.add_weight(\n",
    "                \"weights\",\n",
    "                shape=[self.n_vocab, self.d_model],\n",
    "                initializer=kernel_initializer()\n",
    "            )\n",
    "\n",
    "    def call(self, inputs, mode=\"embedding\"):\n",
    "        # mode가 embedding일 경우 embedding lookup 실행\n",
    "        if mode == \"embedding\":\n",
    "            return self._embedding(inputs)\n",
    "        # mode가 linear일 경우 linear 실행\n",
    "        elif mode == \"linear\":\n",
    "            return self._linear(inputs)\n",
    "        # mode가 기타일 경우 오류 발생\n",
    "        else:\n",
    "            raise ValueError(f\"mode {mode} is not valid.\")\n",
    "    \n",
    "    def _embedding(self, inputs):\n",
    "        embed = tf.gather(self.shared_weights, tf.cast(inputs, tf.int32))\n",
    "        return embed\n",
    "\n",
    "    def _linear(self, inputs):  # (bs, n_seq, d_model)\n",
    "        n_batch = tf.shape(inputs)[0]\n",
    "        n_seq = tf.shape(inputs)[1]\n",
    "        inputs = tf.reshape(inputs, [-1, self.d_model])  # (bs * n_seq, d_model)\n",
    "        outputs = tf.matmul(inputs, self.shared_weights, transpose_b=True)\n",
    "        outputs = tf.reshape(outputs, [n_batch, n_seq, self.n_vocab])  # (bs, n_seq, n_vocab)\n",
    "        return outputs\n",
    "#End+++++++++++++++++++++++++++++++++++++++++++++++++++++++++++\n",
    "\n",
    "\n",
    "#DotProduct++++++++++++++++++++++++++++++++++++++++++++++++++++\n",
    "class ScaleDotProductAttention(tf.keras.layers.Layer):\n",
    "    def __init__(self, name=\"scale_dot_product_attention\"):\n",
    "        super().__init__(name=name)\n",
    "\n",
    "    def call(self, Q, K, V, attn_mask):\n",
    "        attn_score = tf.matmul(Q, K, transpose_b=True)\n",
    "        scale = tf.math.sqrt(tf.cast(tf.shape(K)[-1], tf.float32))\n",
    "        attn_scale = tf.math.divide(attn_score, scale)\n",
    "        attn_scale -= 1.e9 * attn_mask\n",
    "        attn_prob = tf.nn.softmax(attn_scale, axis=-1)\n",
    "        attn_out = tf.matmul(attn_prob, V)\n",
    "        return attn_out\n",
    "#End+++++++++++++++++++++++++++++++++++++++++++++++++++++++++++\n",
    "\n",
    "\n",
    "#멀티 헤드 어텐션++++++++++++++++++++++++++++++++++++++++++++++\n",
    "class MultiHeadAttention(tf.keras.layers.Layer):\n",
    "    def __init__(self, config, name=\"multi_head_attention\"):\n",
    "        super().__init__(name=name)\n",
    "\n",
    "        self.d_model = config.d_model\n",
    "        self.n_head = config.n_head\n",
    "        self.d_head = config.d_head\n",
    "\n",
    "        # Q, K, V input dense layer\n",
    "        self.W_Q = tf.keras.layers.Dense(\n",
    "            config.n_head * config.d_head, kernel_initializer=kernel_initializer(), bias_initializer=bias_initializer()\n",
    "        )\n",
    "        self.W_K = tf.keras.layers.Dense(\n",
    "            config.n_head * config.d_head, kernel_initializer=kernel_initializer(), bias_initializer=bias_initializer()\n",
    "        )\n",
    "        self.W_V = tf.keras.layers.Dense(\n",
    "            config.n_head * config.d_head, kernel_initializer=kernel_initializer(), bias_initializer=bias_initializer()\n",
    "        )\n",
    "        # Scale Dot Product Attention class\n",
    "        self.attention = ScaleDotProductAttention(name=\"self_attention\")\n",
    "        # output dense layer\n",
    "        self.W_O = tf.keras.layers.Dense(config.d_model, kernel_initializer=kernel_initializer(), bias_initializer=bias_initializer())\n",
    "\n",
    "    def call(self, Q, K, V, attn_mask):\n",
    "        # reshape Q, K, V, attn_mask\n",
    "        batch_size = tf.shape(Q)[0]\n",
    "        Q_m = tf.transpose(\n",
    "            tf.reshape(self.W_Q(Q), [batch_size, -1, self.n_head, self.d_head]), [0, 2, 1, 3]\n",
    "        )  # (bs, n_head, Q_len, d_head)\n",
    "        K_m = tf.transpose(\n",
    "            tf.reshape(self.W_K(K), [batch_size, -1, self.n_head, self.d_head]), [0, 2, 1, 3]\n",
    "        )  # (bs, n_head, K_len, d_head)\n",
    "        V_m = tf.transpose(\n",
    "            tf.reshape(self.W_V(V), [batch_size, -1, self.n_head, self.d_head]), [0, 2, 1, 3]\n",
    "        )  # (bs, n_head, K_len, d_head)\n",
    "        attn_mask_m = tf.expand_dims(attn_mask, axis=1)\n",
    "        # Scale Dot Product Attention with multi head Q, K, V, attn_mask\n",
    "        attn_out = self.attention(Q_m, K_m, V_m, attn_mask_m)  # (bs, n_head, Q_len, d_head)\n",
    "        # transpose and liner\n",
    "        attn_out_m = tf.transpose(attn_out, perm=[0, 2, 1, 3])  # (bs, Q_len, n_head, d_head)\n",
    "        attn_out = tf.reshape(attn_out_m, [batch_size, -1, config.n_head * config.d_head])  # (bs, Q_len, d_model)\n",
    "        attn_out = self.W_O(attn_out) # (bs, Q_len, d_model)\n",
    "\n",
    "        return attn_out\n",
    "#End+++++++++++++++++++++++++++++++++++++++++++++++++++++++++++\n",
    "\n",
    "\n",
    "#FFNN++++++++++++++++++++++++++++++++++++++++++++++++++++++++++\n",
    "class PositionWiseFeedForward(tf.keras.layers.Layer):\n",
    "    def __init__(self, config, name=\"feed_forward\"):\n",
    "        super().__init__(name=name)\n",
    "\n",
    "        self.W_1 = tf.keras.layers.Dense(\n",
    "            config.d_ff, activation=gelu, kernel_initializer=kernel_initializer(), bias_initializer=bias_initializer()\n",
    "        )\n",
    "        self.W_2 = tf.keras.layers.Dense(\n",
    "            config.d_model, kernel_initializer=kernel_initializer(), bias_initializer=bias_initializer()\n",
    "        )\n",
    "\n",
    "    def call(self, inputs):\n",
    "        ff_val = self.W_2(self.W_1(inputs))\n",
    "        return ff_val\n",
    "#End+++++++++++++++++++++++++++++++++++++++++++++++++++++++++++\n",
    "\n",
    "\n",
    "#인코더++++++++++++++++++++++++++++++++++++++++++++++++++++++++\n",
    "class EncoderLayer(tf.keras.layers.Layer):\n",
    "    def __init__(self, config, name=\"encoder_layer\"):\n",
    "        super().__init__(name=name)\n",
    "\n",
    "        self.self_attention = MultiHeadAttention(config)\n",
    "        self.norm1 = tf.keras.layers.LayerNormalization(epsilon=config.layernorm_epsilon)\n",
    "\n",
    "        self.ffn = PositionWiseFeedForward(config)\n",
    "        self.norm2 = tf.keras.layers.LayerNormalization(epsilon=config.layernorm_epsilon)\n",
    "\n",
    "        self.dropout = tf.keras.layers.Dropout(config.dropout)\n",
    " \n",
    "    def call(self, enc_embed, self_mask):\n",
    "        self_attn_val = self.self_attention(enc_embed, enc_embed, enc_embed, self_mask)\n",
    "        norm1_val = self.norm1(enc_embed + self.dropout(self_attn_val))\n",
    "\n",
    "        ffn_val = self.ffn(norm1_val)\n",
    "        enc_out = self.norm2(norm1_val + self.dropout(ffn_val))\n",
    "\n",
    "        return enc_out\n",
    "#End+++++++++++++++++++++++++++++++++++++++++++++++++++++++++++"
   ]
  },
  {
   "cell_type": "markdown",
   "id": "excellent-surrey",
   "metadata": {},
   "source": [
    "<br>\n",
    "\n",
    "### 3.2. BERT의 아이디어\n",
    "***\n",
    "<span style=\"font-size:12pt; line-height:1.7; font-family:Serif;\">\n",
    "    &nbsp; &nbsp; BERT는 트랜스포머 인코더의 출력을 또다른 하나의 임베딩 벡터로 봅니다. 그렇다면 입력되는 벡터와 출력되는 벡터에는 어떠한 차이가 있는지 알 필요가 있습니다. [그림 3]은 트랜스포머의 입력과 출력 벡터의 차이를 보여줍니다. 결론부터 말하자면, 출력되는 벡터는 단어 간의 영향이 고려된 것입니다. 출력 벡터의 첫 번째 행 즉, '나는'이라는 단어에 해당하는 벡터는 '나는-사과를', '나는-좋아해'와 같이 다른 단어와의 관계가 고려된 것입니다. BERT는 크게 Base 모델과 Large 모델로 나뉘는데 Base 모델은 GPT-1과 파라미터 수를 맞추기 위해 설계된 것으로 트랜스포머의 인코딩 레이어 12개를 연결한 형태입니다.\n",
    "</span><br><br>\n",
    "\n",
    "<span style=\"font-size:12pt; line-height:1.7; font-family:Serif;\">\n",
    "    &nbsp; &nbsp; 또한, 출력 벡터는 입력 문장을 응축 시킨 것으로 볼 수 있습니다. 출력 벡터를 'seq2seq'에서의 'context vector'에 해당한다고도 생각할 수 있습니다. 그렇다면 이를 이용하여 문장의 감정 분석에 적용해 볼 수 있을 것입니다. 또는, text2img도 가능할 것입니다.\n",
    "</span><br><br>\n",
    "\n",
    "<img src=\"./img/trsfm_bert.png\" width=500>\n",
    "\n",
    "[그림 2] 트랜스포머의 인코더의 입력과 출력에 대한 차이\n",
    "\n",
    "***"
   ]
  },
  {
   "cell_type": "markdown",
   "id": "roman-intent",
   "metadata": {},
   "source": [
    "#### BERT 정의하기\n",
    "***\n",
    "+ 앞서 정의한 트랜스포머 인코더를 활용하여 BERT를 정의 합니다.\n",
    "***"
   ]
  },
  {
   "cell_type": "code",
   "execution_count": 6,
   "id": "rapid-insulation",
   "metadata": {},
   "outputs": [],
   "source": [
    "class BERT(tf.keras.layers.Layer):\n",
    "    def __init__(self, config, name=\"bert\"):\n",
    "        \n",
    "        super().__init__(name=name)\n",
    "\n",
    "        self.i_pad = config.i_pad\n",
    "        self.embedding = SharedEmbedding(config)\n",
    "        self.position = PositionalEmbedding(config)\n",
    "        self.segment = tf.keras.layers.Embedding(2, config.d_model, embeddings_initializer=kernel_initializer())\n",
    "        self.norm = tf.keras.layers.LayerNormalization(epsilon=config.layernorm_epsilon)\n",
    "        \n",
    "        self.encoder_layers = [EncoderLayer(config, name=f\"encoder_layer_{i}\") for i in range(config.n_layer)]\n",
    "\n",
    "        self.dropout = tf.keras.layers.Dropout(config.dropout)\n",
    "\n",
    "    def call(self, enc_tokens, segments):\n",
    "        enc_self_mask = get_pad_mask(enc_tokens, self.i_pad)\n",
    "\n",
    "        enc_embed = self.get_embedding(enc_tokens, segments)\n",
    "\n",
    "        enc_out = self.dropout(enc_embed)\n",
    "        for encoder_layer in self.encoder_layers:\n",
    "            enc_out = encoder_layer(enc_out, enc_self_mask)\n",
    "\n",
    "        logits_cls = enc_out[:,0]\n",
    "        logits_lm = enc_out\n",
    "        return logits_cls, logits_lm\n",
    "    \n",
    "    def get_embedding(self, tokens, segments):\n",
    "        embed = self.embedding(tokens) + self.position(tokens) + self.segment(segments)\n",
    "        embed = self.norm(embed)\n",
    "        return embed"
   ]
  },
  {
   "cell_type": "markdown",
   "id": "criminal-companion",
   "metadata": {},
   "source": [
    "<br>\n",
    "\n",
    "### 3.3. Position Embbeding\n",
    "***\n",
    "<span style=\"font-size:12pt; line-height:1.7; font-family:Serif;\">\n",
    "    &nbsp; &nbsp; 트랜스포머는 단어의 순서를 구분하기 위해 Positional Encoding Layer를 사용하였습니다. BERT는 좀 다른 방법을 사용하였습니다. [그림 3]은 BERT의 단어의 순서를 구분하는 'Position Embedding'을 보여줍니다. BERT의 Position Embedding 또한, 동일한 크기의 행렬을 입력과 합하여 줍니다. 하지만, BERT의 경우에는 Position Embedding의 값을 정하지 않고 학습 과정에서 자연스럽게 단어의 순서를 알게끔 합니다.\n",
    "</span><br><br>\n",
    "\n",
    "<img src=\"./img/position_emb.png\" width=400>\n",
    "\n",
    "[그림 3] BERT의 Oisition Embedding\n",
    "\n",
    "***"
   ]
  },
  {
   "cell_type": "markdown",
   "id": "modern-enlargement",
   "metadata": {},
   "source": [
    "#### Position Embbeding 정의\n",
    "***\n",
    "+ Position Embbeding 레이어를 정의 합니다.\n",
    "***"
   ]
  },
  {
   "cell_type": "code",
   "execution_count": 7,
   "id": "qualified-target",
   "metadata": {},
   "outputs": [],
   "source": [
    "class PositionalEmbedding(tf.keras.layers.Layer):\n",
    "    def __init__(self, config, name=\"position_embedding\"):\n",
    "        super().__init__(name=name)\n",
    "        \n",
    "        self.embedding = tf.keras.layers.Embedding(config.n_seq, config.d_model, embeddings_initializer=kernel_initializer())\n",
    "\n",
    "    def call(self, inputs):\n",
    "        position = tf.cast(tf.math.cumsum(tf.ones_like(inputs), axis=1, exclusive=True), tf.int32)\n",
    "        embed = self.embedding(position)\n",
    "        return embed"
   ]
  },
  {
   "cell_type": "markdown",
   "id": "assisted-visiting",
   "metadata": {},
   "source": [
    "<br>\n",
    "\n",
    "### 3.4. BERT의 사전훈련\n",
    "***\n",
    "<span style=\"font-size:12pt; line-height:1.7; font-family:Serif;\">\n",
    "    &nbsp; &nbsp; BERT는 사전학습된 모델을 사용하는 것에 의의가 있다고 하였습니다. BERT는 총 3.3억 개의 단어를 바탕으로, 'Masked Language Model(MLM)'과 'Next Sentence Prediction(NSP)' 문제를 풀도록 학습하였습니다. MLM은 단어를 중심으로 학습하고 NSP는 문장을 중심으로 학습합니다. [그림 4]는 MLM과 NSP를 시각화 한 것입니다.\n",
    "</span><br><br>\n",
    "\n",
    "<span style=\"font-size:12pt; line-height:1.7; font-family:Serif;\">\n",
    "    &nbsp; &nbsp; MLM은 문장의 특정 단어를 '&lt;MASK>'로 바꾸고 이를 입력하여 가려진 단어를 맞추도록 학습합니다. BERT의 출력 행렬에서 MASK 위치의 벡터를 단어사전 크기의 softmax에 입력하여 확률분포 중 가장 높은 단어를 선택합니다. MLM은 단어에 MASK 처리 뿐만 아니라 특정 단어를 다른 단어로 바꾸어 입력한 후, 원래 단어는 무엇이었는지 맞추도록 하는 방법 또한 사용하였습니다.\n",
    "</span><br><br>\n",
    "\n",
    "<span style=\"font-size:12pt; line-height:1.7; font-family:Serif;\">\n",
    "    &nbsp; &nbsp; NSP는 두 문장을 연결하여 함께 입력합니다. 두 문장은 원래 연결되어있던 문장과 랜덤하게 연결한 문장을 입력하는데, 모델은 해당 문장이 실제로 연결되어있던 것인지에 대한 여부를 학습합니다. 이는 궁극적으로, '나는 사과를 좋아해.', '귤도 좋아해' 처럼 문장이 자연스럽게 이어지는 지에 대한 여부를 학습하게 되는 것입니다. 두 문장은 &lt;SEP> 토큰을 통해 연결하여 입력합니다. 또한, &lt;CLS> 토큰은 NSP의 분류를 위한 토큰으로 BERT의 출력에서 해당 위치의 벡터를 이진 분류 레이어에 입력하여 문장 연결의 자연스러운 정도를 출력합니다.\n",
    "</span><br><br>\n",
    "\n",
    "<span style=\"font-size:12pt; line-height:1.7; font-family:Serif;\">\n",
    "    &nbsp; &nbsp; BERT는 MLM과 NSP를 각각 진행하지 않고 동시에 시행 하였습니다. 다시 정리하자면, MLP는 특정 단어에 마스크를 씌우거나 다른 단어로 변경하여 이를 맞추도록 하는 '단어 중심'의 학습 이고 NSP는 실제 연결된 문장과 랜덤하게 연결한 문장을 입력하여 그 여부를 맞추도록 하는 '문장 중심'의 학습에 해당합니다.\n",
    "</span><br><br>\n",
    "\n",
    "<img src=\"./img/MLM_NSP.png\" width=600>\n",
    "\n",
    "[그림 4] BERT의 MLM과 NSP 학습 방법\n",
    "\n",
    "***"
   ]
  },
  {
   "cell_type": "markdown",
   "id": "foster-technique",
   "metadata": {},
   "source": [
    "<br>\n",
    "\n",
    "### 3.3. Segment Embedding\n",
    "***\n",
    "<span style=\"font-size:12pt; line-height:1.7; font-family:Serif;\">\n",
    "    &nbsp; &nbsp; BERT는 사실 Position Embedding 뿐만아니라 문장을 구분 하는 Segment Embedding도 사용 합니다. [그림 5]는 Segment Embedding을 제시한 것입니다. 앞서 BERT는 사전 학습 시에 두 개의 문장을 입력 받는 것을 확인하였습니다. Segment Embedding은 두 문장을 구분해 주는 역할을 합니다. Segment의 구분 단위가 꼭 문장일 필요는 없습니다. 본 예제에서 해결하고자 하는 문제인 QuA는 질문에 대한 한 문장과 지문에 대한 여러 문장을 구분하게끔 이용됩니다.\n",
    "</span><br><br>\n",
    "\n",
    "<img src=\"./img/segment_emb.png\" width=400>\n",
    "\n",
    "[그림 5] BERT의 Segment Embedding\n",
    "\n",
    "***"
   ]
  },
  {
   "cell_type": "markdown",
   "id": "terminal-offering",
   "metadata": {},
   "source": [
    "<br>\n",
    "\n",
    "### 3.5. KorQuA 문제를 적용한 BERT 설계\n",
    "***\n",
    "<span style=\"font-size:12pt; line-height:1.7; font-family:Serif;\">\n",
    "    &nbsp; &nbsp; 지금까지 BERT의 작동방식에 대해 알아보았습니다. 이를 바탕으로 KorQuA 문제를 어떻게 BERT에 적용할지 설명하겠습니다. [그림 6]은 BERT에 KorQuA 문제를 적용한 것을 보여줍니다. BERT를 사전학습할 때, 문장 두 개를 연결하여 입력한 것을 기억할 것입니다. KorQuA를 적용하기 위해, 질문과 지문을 연결하여 입력할 것입니다. 사전 학습 때는 문장 두 개를 입력하였지만 KorQuA 문제를 해결하기 위해서는 질문에 대한 한문장과 지문에 대한 여러 문장을 합쳐 입력할 것입니다. 그리고 출력은 BERT에 밀집층을 추가하여 지문으로부터 답의 시작 위치와 종료 위치를 반환하도록 합니다.\n",
    "</span><br><br>\n",
    "\n",
    "<img src=\"./img/KorQuA_with_bert.png\" width=400>\n",
    "\n",
    "[그림 6] KorQuA 문제를 적용한 BERT\n",
    "\n",
    "***"
   ]
  },
  {
   "cell_type": "markdown",
   "id": "everyday-monaco",
   "metadata": {},
   "source": [
    "#### KorQuA 문제를 적용한 BERT 정의\n",
    "***\n",
    "+ KorQuA 문제를 해결하기 위한 BERT를 정의 합니다.\n",
    "***"
   ]
  },
  {
   "cell_type": "code",
   "execution_count": 8,
   "id": "armed-clothing",
   "metadata": {},
   "outputs": [],
   "source": [
    "class BERT4KorQuAD(tf.keras.Model):\n",
    "    def __init__(self, config):\n",
    "        super().__init__(name='BERT4KorQuAD')\n",
    "\n",
    "        self.bert = BERT(config)\n",
    "        self.dense = tf.keras.layers.Dense(2)\n",
    "    \n",
    "    def call(self, enc_tokens, segments):\n",
    "        logits_cls, logits_lm = self.bert(enc_tokens, segments)\n",
    "\n",
    "        hidden = self.dense(logits_lm) # (bs, n_seq, 2)\n",
    "        start_logits, end_logits = tf.split(hidden, 2, axis=-1)  # (bs, n_seq, 1), (bs, n_seq, 1)\n",
    "\n",
    "        start_logits = tf.squeeze(start_logits, axis=-1)\n",
    "        start_outputs = tf.keras.layers.Softmax(name=\"start\")(start_logits)\n",
    "\n",
    "        end_logits = tf.squeeze(end_logits, axis=-1)\n",
    "        end_outputs = tf.keras.layers.Softmax(name=\"end\")(end_logits)\n",
    "\n",
    "        return start_outputs, end_outputs"
   ]
  },
  {
   "cell_type": "markdown",
   "id": "alternate-abortion",
   "metadata": {},
   "source": [
    "<br>\n",
    "\n",
    "## 3. 데이터 정제\n",
    "***\n",
    "<span style=\"font-size:12pt; line-height:1.7; font-family:Serif;\">\n",
    "    &nbsp; &nbsp; KorQuA 데이터를 BERT에 학습 가능하도록 정제 과정을 거칩니다. 데이터 정제는 지문, 질문, 정답 문장을 'sub word' 단위로 구분하는 과정과 BERT에 정답으로 사용할 문장이 시작되고 종료되는 위치 획득 과정으로 이루어집니다. 데이터 정제 과정은 BERT를 학습하기 알맞게 데이터를 변형하는 과정으로 자세하게 설명하지 않습니다. 본 절에서 마지막에 제시하는 '데이터 정제 결과 출력하기'를 통해 먼저, 어떤 식으로 데이터가 변환 됐는지 확인하여 그 과정을 살펴보는 것도 좋습니다.\n",
    "</span>\n",
    "\n",
    "***"
   ]
  },
  {
   "cell_type": "markdown",
   "id": "intended-imaging",
   "metadata": {},
   "source": [
    "#### 데이터 정제 함수 생성\n",
    "***\n",
    "+ 데이터 정제를 위한 함수를 생성하여 줍니다.\n",
    "***"
   ]
  },
  {
   "cell_type": "code",
   "execution_count": 9,
   "id": "aggregate-combining",
   "metadata": {},
   "outputs": [],
   "source": [
    "#vocab loading==================\n",
    "vocab = spm.SentencePieceProcessor()\n",
    "vocab.load(f\"{model_dir}/ko_32000.model\")   #모델 불러오기\n",
    "#End============================\n",
    "\n",
    "\n",
    "#공백 여부 판단 함수===================\n",
    "def _is_whitespace(c):\n",
    "    if c == \" \" or c == \"\\t\" or c == \"\\r\" or c == \"\\n\" or ord(c) == 0x202F:\n",
    "        return True\n",
    "    return False\n",
    "#End===================================\n",
    "\n",
    "\n",
    "#띄어쓰기 기준 정보 추출 함수==========\n",
    "def _tokenize_whitespace(string):\n",
    "    word_tokens = []\n",
    "    char_to_word = []\n",
    "    prev_is_whitespace = True\n",
    "\n",
    "    for c in string:\n",
    "        if _is_whitespace(c):\n",
    "            prev_is_whitespace = True\n",
    "        else:\n",
    "            if prev_is_whitespace:\n",
    "                word_tokens.append(c)\n",
    "            else:\n",
    "                word_tokens[-1] += c\n",
    "            prev_is_whitespace = False    \n",
    "        char_to_word.append(len(word_tokens) - 1)\n",
    "    \n",
    "    return word_tokens, char_to_word\n",
    "#End===================================\n",
    "\n",
    "\n",
    "#subword 추출 함수==============\n",
    "def _tokenize_vocab(vocab, context_words):\n",
    "    word_to_token = []\n",
    "    context_tokens = []\n",
    "    for (i, word) in enumerate(context_words):\n",
    "        word_to_token.append(len(context_tokens))\n",
    "        tokens = vocab.encode_as_pieces(word)\n",
    "        for token in tokens:\n",
    "            context_tokens.append(token)\n",
    "    return context_tokens, word_to_token\n",
    "#End============================\n",
    "\n",
    "\n",
    "#answer index 반환 함수=========\n",
    "def _improve_span(vocab, context_tokens, token_start, token_end, char_answer):\n",
    "    token_answer = \" \".join(vocab.encode_as_pieces(char_answer))\n",
    "    for new_start in range(token_start, token_end + 1):\n",
    "        for new_end in range(token_end, new_start - 1, -1):\n",
    "            text_span = \" \".join(context_tokens[new_start : (new_end + 1)])\n",
    "            if text_span == token_answer:\n",
    "                return (new_start, new_end)\n",
    "    return (token_start, token_end)\n",
    "#End============================"
   ]
  },
  {
   "cell_type": "markdown",
   "id": "intensive-league",
   "metadata": {},
   "source": [
    "<br>\n",
    "\n",
    "#### 학습 데이터 분할 및 저장하기\n",
    "***\n",
    "+ 학습 데이터와 검증 데이터를 분할 한 후 이를 저장 합니다.\n",
    "***"
   ]
  },
  {
   "cell_type": "code",
   "execution_count": 10,
   "id": "billion-penalty",
   "metadata": {},
   "outputs": [
    {
     "data": {
      "application/vnd.jupyter.widget-view+json": {
       "model_id": "d45f92239c2b4471b21758efa3e5e42e",
       "version_major": 2,
       "version_minor": 0
      },
      "text/plain": [
       "  0%|          | 0/1420 [00:00<?, ?it/s]"
      ]
     },
     "metadata": {},
     "output_type": "display_data"
    },
    {
     "data": {
      "application/vnd.jupyter.widget-view+json": {
       "model_id": "14c5bba7f1c846b9bec108578effd2ca",
       "version_major": 2,
       "version_minor": 0
      },
      "text/plain": [
       "  0%|          | 0/140 [00:00<?, ?it/s]"
      ]
     },
     "metadata": {},
     "output_type": "display_data"
    }
   ],
   "source": [
    "#데이터 정제 및 저장 함수=====================\n",
    "def dump_korquad(vocab, json_data, out_file):\n",
    "    with open(out_file, \"w\") as f:\n",
    "        for data in tqdm(json_data[\"data\"]):\n",
    "            title = data[\"title\"]\n",
    "            for paragraph in data[\"paragraphs\"]:\n",
    "                context = paragraph[\"context\"]\n",
    "                context_words, char_to_word = _tokenize_whitespace(context)\n",
    "\n",
    "                for qa in paragraph[\"qas\"]:\n",
    "                    assert len(qa[\"answers\"]) == 1\n",
    "                    qa_id = qa[\"id\"]\n",
    "                    question = qa[\"question\"]\n",
    "                    answer_text = qa[\"answers\"][0][\"text\"]\n",
    "                    answer_start = qa[\"answers\"][0][\"answer_start\"]\n",
    "                    answer_end = answer_start + len(answer_text) - 1\n",
    "\n",
    "                    assert answer_text == context[answer_start:answer_end + 1]\n",
    "\n",
    "                    word_start = char_to_word[answer_start]\n",
    "                    word_end = char_to_word[answer_end]\n",
    "\n",
    "                    word_answer = \" \".join(context_words[word_start:word_end + 1])\n",
    "                    char_answer = \" \".join(answer_text.strip().split())\n",
    "                    assert char_answer in word_answer\n",
    "\n",
    "                    context_tokens, word_to_token = _tokenize_vocab(vocab, context_words)\n",
    "\n",
    "                    token_start = word_to_token[word_start]\n",
    "                    if word_end < len(word_to_token) - 1:\n",
    "                        token_end = word_to_token[word_end + 1] - 1\n",
    "                    else:\n",
    "                        token_end = len(context_tokens) - 1\n",
    "\n",
    "                    token_start, token_end = _improve_span(vocab, context_tokens, token_start, token_end, char_answer)\n",
    "\n",
    "                    data = {\n",
    "                        \"qa_id\": qa_id, \"title\": title,\n",
    "                        \"question\": vocab.encode_as_pieces(question), \"context\": context_tokens, \"answer\": char_answer,\n",
    "                        \"token_start\": token_start, \"token_end\":token_end\n",
    "                    }\n",
    "                    f.write(json.dumps(data, ensure_ascii=False))\n",
    "                    f.write(\"\\n\")\n",
    "#End==========================================\n",
    "\n",
    "\n",
    "#데이터 정제 및 저장 실시=====================                    \n",
    "dump_korquad(vocab, train_json, f\"{data_dir}/korquad_train.json\")\n",
    "dump_korquad(vocab, dev_json, f\"{data_dir}/korquad_dev.json\")\n",
    "#End=========================================="
   ]
  },
  {
   "cell_type": "markdown",
   "id": "distant-garbage",
   "metadata": {},
   "source": [
    "<br>\n",
    "\n",
    "#### 데이터 정제 결과 출력하기\n",
    "***\n",
    "+ 저장된 데이터 정제 결과 샘플을 확인합니다.\n",
    "***"
   ]
  },
  {
   "cell_type": "code",
   "execution_count": 11,
   "id": "arabic-turkey",
   "metadata": {},
   "outputs": [
    {
     "name": "stdout",
     "output_type": "stream",
     "text": [
      "<CONTEXT>:\t ['▁1839', '년', '▁바그너', '는', '▁괴테', '의', '▁', '파우스트', '을', '▁처음', '▁읽고', '▁그', '▁내용에', '▁마음이', '▁끌려', '▁이를', '▁소재로', '▁해서', '▁하나의', '▁교향곡', '을', '▁쓰', '려는', '▁뜻을', '▁갖는다', '.', '▁이', '▁시기', '▁바그너', '는'] ...(생략)\n",
      "\n",
      "<QUESTION>:\t ['▁바그너', '는', '▁괴테', '의', '▁', '파우스트', '를', '▁읽고', '▁무엇을', '▁쓰고', '자', '▁', '했', '는', '가', '?']\n",
      "\n",
      "<ANSWER>:\t 교향곡\n",
      "\n",
      "<START TOKEN INDEX>:\t 19\n",
      "\n",
      "<END TOKEN INDEX>:\t 19\n",
      "\n"
     ]
    }
   ],
   "source": [
    "with open(f\"{data_dir}/korquad_train.json\") as f:\n",
    "    for line in f:\n",
    "        data = json.loads(line)\n",
    "        break\n",
    "\n",
    "print(\"<CONTEXT>:\\t\", data[\"context\"][:30], \"...(생략)\", end=\"\\n\\n\")\n",
    "print(\"<QUESTION>:\\t\", data[\"question\"], end=\"\\n\\n\")\n",
    "print(\"<ANSWER>:\\t\", data[\"answer\"], end=\"\\n\\n\")\n",
    "print(\"<START TOKEN INDEX>:\\t\", data[\"token_start\"], end=\"\\n\\n\")\n",
    "print(\"<END TOKEN INDEX>:\\t\", data[\"token_end\"], end=\"\\n\\n\")"
   ]
  },
  {
   "cell_type": "markdown",
   "id": "posted-slope",
   "metadata": {},
   "source": [
    "<br>\n",
    "\n",
    "## 4. 데이터 분석\n",
    "***\n",
    "<span style=\"font-size:12pt; line-height:1.7; font-family:Serif;\">\n",
    "    &nbsp; &nbsp; 질문, 지문, 정답에 대한 문장의 길이를 바탕으로 데이터를 분석합니다. 분석 결과, 질문에 해당하는 문장의 길이는 최대 58개의 토큰으로 이루어져 있으며, 75%의 문장이 18개의 토큰로 이루어져 있습니다. 지문의 경우, 최대 4,816개의 토큰으로 이루어져 있고 75%의 문장이 248개의 토큰으로 이루어져 있습니다. 정답의 경우, 최대 1,124개의 토큰으로 이루어져 있고 75%의 문장이 134개의 토큰으로 이루어져 있습니다. 질문과 지문은 함께 연결되어 입력하기 때문에, 문장의 최대 길이를 설정할 때 유의할 필요가 있습니다.\n",
    "</span>\n",
    "\n",
    "***"
   ]
  },
  {
   "cell_type": "markdown",
   "id": "fleet-apollo",
   "metadata": {},
   "source": [
    "#### 지문, 질문, 정답 시작 위치 데이터 불러오기\n",
    "***\n",
    "+ 데이터 분석을 위해 각 데이터를 불러옵니다.\n",
    "***"
   ]
  },
  {
   "cell_type": "code",
   "execution_count": 12,
   "id": "aware-causing",
   "metadata": {},
   "outputs": [],
   "source": [
    "contexts, questions, token_starts = [], [], []\n",
    "with open(f\"{data_dir}/korquad_train.json\") as f:\n",
    "    for i, line in enumerate(f):\n",
    "        data = json.loads(line)\n",
    "        questions.append(data[\"question\"])\n",
    "        contexts.append(data[\"context\"])\n",
    "        token_starts.append(data[\"token_start\"])"
   ]
  },
  {
   "cell_type": "markdown",
   "id": "pressed-chile",
   "metadata": {},
   "source": [
    "<br>\n",
    "\n",
    "#### 문장 길이 정보 시각화 함수 생성\n",
    "***\n",
    "+ 각 데이터의 문장 길이를 시각화 하기위한 함수를 생성 합니다.\n",
    "***"
   ]
  },
  {
   "cell_type": "code",
   "execution_count": 13,
   "id": "acknowledged-forward",
   "metadata": {},
   "outputs": [],
   "source": [
    "#문장 길이 시각화 함수=========================\n",
    "def show_sentence_length(sentence_num, range_,title):\n",
    "    plt.figure(figsize=(13, 5))\n",
    "    plt.suptitle(title, fontsize=14)\n",
    "    \n",
    "    plt.subplot(1, 2, 1)\n",
    "    plt.hist(sentence_num, bins=range_[1], range=range_, facecolor='b', label='train')\n",
    "    plt.xlabel('Number of question')\n",
    "    plt.ylabel('Count of question')\n",
    "    \n",
    "    plt.subplot(1, 2, 2)\n",
    "    plt.boxplot(sentence_num, labels=['token counts'], showmeans=True)\n",
    "\n",
    "    plt.show()\n",
    "\n",
    "    print(f\"길이 최대:    {np.max(sentence_num):4d}\")\n",
    "    print(f\"길이 최소:    {np.min(sentence_num):4d}\")\n",
    "    print(f\"길이 평균:    {np.mean(sentence_num):7.2f}\")\n",
    "    print(f\"길이 표준편차: {np.std(sentence_num):7.2f}\")\n",
    "    \n",
    "    percentile25 = np.percentile(sentence_num, 25)\n",
    "    percentile50 = np.percentile(sentence_num, 50)\n",
    "    percentile75 = np.percentile(sentence_num, 75)\n",
    "    percentileIQR = percentile75 - percentile25\n",
    "    percentileMAX = percentile75 + percentileIQR * 1.5\n",
    "    print(f\" 25/100분위:  {percentile25:7.2f}\")\n",
    "    print(f\" 50/100분위:  {percentile50:7.2f}\")\n",
    "    print(f\" 75/100분위:  {percentile75:7.2f}\")\n",
    "    print(f\" IQR:        {percentileIQR:7.2f}\")\n",
    "    print(f\" MAX/100분위: {percentileMAX:7.2f}\")\n",
    "#End==========================================="
   ]
  },
  {
   "cell_type": "markdown",
   "id": "nominated-special",
   "metadata": {},
   "source": [
    "<br>\n",
    "\n",
    "#### 질문(Question) 데이터 분석\n",
    "***\n",
    "+ 문장의 길이는 최대 58개의 토큰, 75%는 18개의 토큰으로 이루어져 있습니다.\n",
    "***"
   ]
  },
  {
   "cell_type": "code",
   "execution_count": 14,
   "id": "listed-sector",
   "metadata": {},
   "outputs": [
    {
     "data": {
      "image/png": "[encoded data removed]",
      "text/plain": [
       "<Figure size 936x360 with 2 Axes>"
      ]
     },
     "metadata": {
      "needs_background": "light"
     },
     "output_type": "display_data"
    },
    {
     "name": "stdout",
     "output_type": "stream",
     "text": [
      "길이 최대:      58\n",
      "길이 최소:       3\n",
      "길이 평균:      15.25\n",
      "길이 표준편차:    5.50\n",
      " 25/100분위:    11.00\n",
      " 50/100분위:    14.00\n",
      " 75/100분위:    18.00\n",
      " IQR:           7.00\n",
      " MAX/100분위:   28.50\n"
     ]
    }
   ],
   "source": [
    "train_question_counts = [len(question) for question in questions]\n",
    "\n",
    "show_sentence_length(train_question_counts, [0, 100], \"<Fig 7>. Question's Count of question\")"
   ]
  },
  {
   "cell_type": "markdown",
   "id": "preliminary-giving",
   "metadata": {},
   "source": [
    "<br>\n",
    "\n",
    "#### 지문(Context) 데이터 분석\n",
    "***\n",
    "+ 문장의 길이는 최대 4,816개의 토큰, 75%는 248개의 토큰으로 이루어져 있습니다.\n",
    "***"
   ]
  },
  {
   "cell_type": "code",
   "execution_count": 15,
   "id": "optical-arizona",
   "metadata": {},
   "outputs": [
    {
     "data": {
      "image/png": "[encoded data removed]",
      "text/plain": [
       "<Figure size 936x360 with 2 Axes>"
      ]
     },
     "metadata": {
      "needs_background": "light"
     },
     "output_type": "display_data"
    },
    {
     "name": "stdout",
     "output_type": "stream",
     "text": [
      "길이 최대:    4816\n",
      "길이 최소:     108\n",
      "길이 평균:     222.84\n",
      "길이 표준편차:   97.68\n",
      " 25/100분위:   169.00\n",
      " 50/100분위:   199.00\n",
      " 75/100분위:   248.00\n",
      " IQR:          79.00\n",
      " MAX/100분위:  366.50\n"
     ]
    }
   ],
   "source": [
    "train_context_counts = [len(context) for context in contexts]\n",
    "\n",
    "show_sentence_length(train_context_counts, [100, 1000], \"<Fig 8>. Context's Count of question\")"
   ]
  },
  {
   "cell_type": "markdown",
   "id": "practical-agent",
   "metadata": {},
   "source": [
    "<br>\n",
    "\n",
    "#### 정답(Answer) 데이터 분석\n",
    "***\n",
    "+ 문장의 길이는 최대 1,124개의 토큰, 75%는 134개의 토큰으로 이루어져 있습니다.\n",
    "***"
   ]
  },
  {
   "cell_type": "code",
   "execution_count": 16,
   "id": "continental-crystal",
   "metadata": {},
   "outputs": [
    {
     "data": {
      "image/png": "[encoded data removed]",
      "text/plain": [
       "<Figure size 936x360 with 2 Axes>"
      ]
     },
     "metadata": {
      "needs_background": "light"
     },
     "output_type": "display_data"
    },
    {
     "name": "stdout",
     "output_type": "stream",
     "text": [
      "길이 최대:    1124\n",
      "길이 최소:       0\n",
      "길이 평균:      89.01\n",
      "길이 표준편차:   78.21\n",
      " 25/100분위:    25.00\n",
      " 50/100분위:    74.00\n",
      " 75/100분위:   134.00\n",
      " IQR:         109.00\n",
      " MAX/100분위:  297.50\n"
     ]
    }
   ],
   "source": [
    "train_answer_starts = token_starts\n",
    "\n",
    "show_sentence_length(train_answer_starts, [0, 500], \"<Fig 9>. Answer's Count of question\")"
   ]
  },
  {
   "cell_type": "markdown",
   "id": "mighty-distribution",
   "metadata": {},
   "source": [
    "<br>\n",
    "\n",
    "## 5. 데이터 전처리\n",
    "***\n",
    "<span style=\"font-size:12pt; line-height:1.7; font-family:Serif;\">\n",
    "    &nbsp; &nbsp; 데이터를 모델에 입력할 수 있도록 전처리 과정을 수행합니다. 전처리 과정은 크게 '자연어를 정수로 변환하는 과정', '지문과 질문 문장을 연결하는 과정', '데이터셋 생성' 순으로 이루어집니다.\n",
    "</span>\n",
    "\n",
    "***"
   ]
  },
  {
   "cell_type": "markdown",
   "id": "backed-brick",
   "metadata": {},
   "source": [
    "#### 데이터 전처리 함수 생성\n",
    "***\n",
    "+ 데이터를 설정한 길이에 맞추어 자릅니다.\n",
    " \n",
    " \n",
    "+ 자연어 문장을 정수로 변환하여 줍니다.\n",
    " \n",
    " \n",
    "+ BERT에 입력하기 위해 지문과 질문 문장을 연결하여 줍니다.\n",
    "***"
   ]
  },
  {
   "cell_type": "code",
   "execution_count": 17,
   "id": "narrative-landscape",
   "metadata": {},
   "outputs": [],
   "source": [
    "train_json = os.path.join(data_dir, \"korquad_train.json\")\n",
    "dev_json = os.path.join(data_dir, \"korquad_dev.json\")\n",
    "\n",
    "class Config(dict):\n",
    "    __getattr__ = dict.__getitem__\n",
    "    __setattr__ = dict.__setitem__\n",
    "\n",
    "args = Config({\n",
    "    'max_seq_length': 384,\n",
    "    'max_query_length': 64,\n",
    "})\n",
    "\n",
    "\n",
    "# 생성한 데이터셋 파일을 메모리에 로딩하는 함수\n",
    "def load_data(args, filename):\n",
    "    inputs, segments, labels_start, labels_end = [], [], [], []\n",
    "\n",
    "    n_discard = 0\n",
    "    with open(filename, \"r\") as f:\n",
    "        for i, line in enumerate(tqdm(f, desc=f\"Loading ...\")):\n",
    "            data = json.loads(line)\n",
    "            token_start = data.get(\"token_start\")\n",
    "            token_end = data.get(\"token_end\")\n",
    "            question = data[\"question\"][:args.max_query_length]\n",
    "            context = data[\"context\"]\n",
    "            answer_tokens = \" \".join(context[token_start:token_end + 1])\n",
    "            context_len = args.max_seq_length - len(question) - 3\n",
    "\n",
    "            if token_end >= context_len:\n",
    "                # 최대 길이내에 token이 들어가지 않은 경우 처리하지 않음\n",
    "                n_discard += 1\n",
    "                continue\n",
    "            context = context[:context_len]\n",
    "            assert len(question) + len(context) <= args.max_seq_length - 3\n",
    "\n",
    "            tokens = ['[CLS]'] + question + ['[SEP]'] + context + ['[SEP]']\n",
    "            ids = [vocab.piece_to_id(token) for token in tokens]\n",
    "            ids += [0] * (args.max_seq_length - len(ids))\n",
    "            inputs.append(ids)\n",
    "            segs = [0] * (len(question) + 2) + [1] * (len(context) + 1)\n",
    "            segs += [0] * (args.max_seq_length - len(segs))\n",
    "            segments.append(segs)\n",
    "            token_start += (len(question) + 2)\n",
    "            labels_start.append(token_start)\n",
    "            token_end += (len(question) + 2)\n",
    "            labels_end.append(token_end)\n",
    "\n",
    "    return (np.array(inputs), np.array(segments)), (np.array(labels_start), np.array(labels_end))"
   ]
  },
  {
   "cell_type": "markdown",
   "id": "increasing-kelly",
   "metadata": {},
   "source": [
    "<br>\n",
    "\n",
    "#### 데이터 전처리 실시\n",
    "***\n",
    "+ 앞서 정의한 함수를 이용하여 학습 데이터와 검증 데이터를 전처리 하여 줍니다.\n",
    "***"
   ]
  },
  {
   "cell_type": "code",
   "execution_count": 18,
   "id": "dutch-london",
   "metadata": {},
   "outputs": [
    {
     "data": {
      "application/vnd.jupyter.widget-view+json": {
       "model_id": "3cf0e194fb6c48ea8047b484ebf92c8f",
       "version_major": 2,
       "version_minor": 0
      },
      "text/plain": [
       "Loading ...: 0it [00:00, ?it/s]"
      ]
     },
     "metadata": {},
     "output_type": "display_data"
    },
    {
     "name": "stdout",
     "output_type": "stream",
     "text": [
      "train_inputs: (59977, 384)\n",
      "train_labels: (59977,)\n"
     ]
    },
    {
     "data": {
      "application/vnd.jupyter.widget-view+json": {
       "model_id": "bc75e56d098e4087987e6ec31ac1a6cf",
       "version_major": 2,
       "version_minor": 0
      },
      "text/plain": [
       "Loading ...: 0it [00:00, ?it/s]"
      ]
     },
     "metadata": {},
     "output_type": "display_data"
    },
    {
     "name": "stdout",
     "output_type": "stream",
     "text": [
      "dev_inputs: (5696, 384)\n",
      "dev_labels: (5696,)\n"
     ]
    }
   ],
   "source": [
    "# train data load\n",
    "train_inputs, train_labels = load_data(args, train_json)\n",
    "print(f\"train_inputs: {train_inputs[0].shape}\")\n",
    "print(f\"train_labels: {train_labels[0].shape}\")\n",
    "\n",
    "# dev data load\n",
    "dev_inputs, dev_labels = load_data(args, dev_json)\n",
    "print(f\"dev_inputs: {dev_inputs[0].shape}\")\n",
    "print(f\"dev_labels: {dev_labels[0].shape}\")"
   ]
  },
  {
   "cell_type": "markdown",
   "id": "medical-document",
   "metadata": {},
   "source": [
    "<br>\n",
    "\n",
    "#### 데이터셋 생성\n",
    "***\n",
    "+ 최종적으로 데이터를 데이터셋으로 생성합니다.\n",
    "***"
   ]
  },
  {
   "cell_type": "code",
   "execution_count": 19,
   "id": "dying-karaoke",
   "metadata": {},
   "outputs": [],
   "source": [
    "bert_batch_size = 32\n",
    "\n",
    "train_dataset = tf.data.Dataset.from_tensor_slices((train_inputs, train_labels)).shuffle(10000).batch(bert_batch_size)\n",
    "dev_dataset = tf.data.Dataset.from_tensor_slices((dev_inputs, dev_labels)).batch(bert_batch_size)"
   ]
  },
  {
   "cell_type": "markdown",
   "id": "behind-heavy",
   "metadata": {},
   "source": [
    "<br>\n",
    "\n",
    "#### 데이터셋 샘플 출력하기\n",
    "***\n",
    "+ INPUT SAMPLE은 질문과 지문이 &lt;CLS> + 질문 + &lt;SEP> + 지문 + &lt;SEP> 형태로 되어있으며, 정수로 변환된 것을 확인할 수 있습니다.\n",
    "\n",
    "\n",
    "+ SEGMENT SAMPLE은 질문과 지문을 구분하여 줍니다.\n",
    "\n",
    "\n",
    "+ START INDEX와 END INDEX를 통해 정답 문장 혹은 단어의 위치를 확인할 수 있습니다.\n",
    "***"
   ]
  },
  {
   "cell_type": "code",
   "execution_count": 20,
   "id": "welsh-taxation",
   "metadata": {},
   "outputs": [
    {
     "name": "stdout",
     "output_type": "stream",
     "text": [
      "<INPUT SAMPLE>\n",
      " [5, 15798, 10, 28935, 9, 11, 29566, 20, 14604, 20424, 3904, 70, 11, 4648, 10, 19, 1910, 4, 22070, 15, 15798, 10, 28935, 9, 11, 29566, 16, 626, 14604, 38, 14028, 11773, 13829, 384, 8376, 3021, 1239, 6874, 16, 1687, 5958, 2694, 5061, 7, 30, 1613, 15798, 10, 28065, 75, 4415, 1816, 4978, 27, 347, 145, 107, 2703, 263, 11, 1, 18, 5853, 99, 9677, 24, 11969, 13, 7595, 437, 1019, 5907, 257, 3794, 1972, 20, 11278, 11, 29566, 9, 612, 12631, 13214, 1732, 76, 7, 110, 8802, 17581, 354, 9648, 2060, 21, 1682, 22110, 18164, 17, 21076, 14980, 9, 6874, 81, 11325, 4239, 3597, 1010, 1035, 17670, 8, 2447, 1306, 35, 443, 11, 29566, 9, 315, 12729, 14457, 30, 7938, 3742, 10766, 634, 9971, 17590, 19424, 10, 285, 4080, 61, 17573, 483, 7, 7588, 9, 473, 338, 147, 1924, 9, 11016, 136, 1034, 13, 11672, 40, 3436, 5217, 7898, 11684, 57, 830, 9, 19, 3319, 86, 220, 464, 14980, 9, 20515, 412, 991, 684, 1924, 9, 634, 920, 144, 430, 34, 25, 7, 4210, 6874, 2150, 16, 22070, 298, 1159, 75, 1098, 8802, 7490, 805, 35, 18678, 16, 1657, 1970, 2272, 53, 7, 110, 6559, 2178, 24, 756, 82, 30, 315, 684, 3772, 18678, 12, 16, 1682, 22110, 9, 22469, 22, 1757, 61, 8817, 194, 164, 1693, 749, 8, 6739, 12202, 10, 494, 7, 502, 12181, 18, 46, 15, 374, 17, 1680, 708, 26344, 22, 1757, 432, 465, 351, 32, 18563, 710, 8, 2585, 1384, 16071, 265, 3360, 7, 38, 747, 82, 383, 678, 200, 26, 590, 1281, 41, 1172, 31, 16, 2178, 43, 3044, 156, 17, 647, 468, 7490, 41, 84, 758, 92, 33, 3401, 369, 18319, 8, 2582, 29798, 1102, 17, 30, 4573, 11170, 139, 58, 220, 773, 19, 211, 23824, 25, 7, 4, 0, 0, 0, 0, 0, 0, 0, 0, 0, 0, 0, 0, 0, 0, 0, 0, 0, 0, 0, 0, 0, 0, 0, 0, 0, 0, 0, 0, 0, 0, 0, 0, 0, 0, 0, 0, 0, 0, 0, 0, 0, 0, 0, 0, 0, 0, 0, 0, 0, 0, 0, 0, 0, 0, 0, 0, 0, 0, 0, 0, 0, 0, 0, 0, 0, 0, 0, 0, 0, 0, 0, 0, 0, 0, 0, 0, 0, 0, 0, 0, 0, 0, 0, 0, 0, 0, 0]\n",
      "\n",
      "<SEGMENT SAMPLE>\n",
      " [0 0 0 0 0 0 0 0 0 0 0 0 0 0 0 0 0 0 1 1 1 1 1 1 1 1 1 1 1 1 1 1 1 1 1 1 1\n",
      " 1 1 1 1 1 1 1 1 1 1 1 1 1 1 1 1 1 1 1 1 1 1 1 1 1 1 1 1 1 1 1 1 1 1 1 1 1\n",
      " 1 1 1 1 1 1 1 1 1 1 1 1 1 1 1 1 1 1 1 1 1 1 1 1 1 1 1 1 1 1 1 1 1 1 1 1 1\n",
      " 1 1 1 1 1 1 1 1 1 1 1 1 1 1 1 1 1 1 1 1 1 1 1 1 1 1 1 1 1 1 1 1 1 1 1 1 1\n",
      " 1 1 1 1 1 1 1 1 1 1 1 1 1 1 1 1 1 1 1 1 1 1 1 1 1 1 1 1 1 1 1 1 1 1 1 1 1\n",
      " 1 1 1 1 1 1 1 1 1 1 1 1 1 1 1 1 1 1 1 1 1 1 1 1 1 1 1 1 1 1 1 1 1 1 1 1 1\n",
      " 1 1 1 1 1 1 1 1 1 1 1 1 1 1 1 1 1 1 1 1 1 1 1 1 1 1 1 1 1 1 1 1 1 1 1 1 1\n",
      " 1 1 1 1 1 1 1 1 1 1 1 1 1 1 1 1 1 1 1 1 1 1 1 1 1 1 1 1 1 1 1 1 1 1 1 1 1\n",
      " 1 0 0 0 0 0 0 0 0 0 0 0 0 0 0 0 0 0 0 0 0 0 0 0 0 0 0 0 0 0 0 0 0 0 0 0 0\n",
      " 0 0 0 0 0 0 0 0 0 0 0 0 0 0 0 0 0 0 0 0 0 0 0 0 0 0 0 0 0 0 0 0 0 0 0 0 0\n",
      " 0 0 0 0 0 0 0 0 0 0 0 0 0 0]\n",
      "\n",
      "<START INDEX>: 37 \n",
      " <END INDEX>: 37\n"
     ]
    }
   ],
   "source": [
    "input_sample = train_inputs[0][0].tolist()\n",
    "segment_sample = train_inputs[1][0]\n",
    "\n",
    "\n",
    "print(\"<INPUT SAMPLE>\\n\", input_sample, end=\"\\n\\n\")\n",
    "print(\"<SEGMENT SAMPLE>\\n\", segment_sample, end=\"\\n\\n\")\n",
    "\n",
    "print(\n",
    "    \"<START INDEX>:\", train_labels[0][0], \"\\n\",\n",
    "    \"<END INDEX>:\", train_labels[1][0]\n",
    ")"
   ]
  },
  {
   "cell_type": "markdown",
   "id": "respected-portland",
   "metadata": {},
   "source": [
    "<br>\n",
    "\n",
    "#### 데이터셋 샘플 출력하기2\n",
    "***\n",
    "+ 정수로 변환된 INPUT SAMPLE을 확인하기 위해 다시 자연어로 변환하여 출력합니다.\n",
    "\n",
    "\n",
    "+ INPUT SAMPLE은 질문과 지문이 &lt;CLS> + 질문 + &lt;SEP> + 지문 + &lt;SEP> 형태로 되어있으며, 정수로 변환된 것을 확인할 수 있습니다.\n",
    "***"
   ]
  },
  {
   "cell_type": "code",
   "execution_count": 21,
   "id": "quality-holocaust",
   "metadata": {},
   "outputs": [
    {
     "name": "stdout",
     "output_type": "stream",
     "text": [
      "<INT INPUT SAMPLE>\n",
      " [5, 15798, 10, 28935, 9, 11, 29566, 20, 14604, 20424, 3904, 70, 11, 4648, 10, 19, 1910, 4, 22070, 15, 15798, 10, 28935, 9, 11, 29566, 16, 626, 14604, 38, 14028, 11773, 13829, 384, 8376, 3021, 1239, 6874, 16, 1687, 5958, 2694, 5061, 7, 30, 1613, 15798, 10, 28065, 75, 4415, 1816, 4978, 27, 347, 145, 107, 2703, 263, 11, 1, 18, 5853, 99, 9677, 24, 11969, 13, 7595, 437, 1019, 5907, 257, 3794, 1972, 20, 11278, 11, 29566, 9, 612, 12631, 13214, 1732, 76, 7, 110, 8802, 17581, 354, 9648, 2060, 21, 1682, 22110, 18164, 17, 21076, 14980, 9, 6874, 81, 11325, 4239, 3597, 1010, 1035, 17670, 8, 2447, 1306, 35, 443, 11, 29566, 9, 315, 12729, 14457, 30, 7938, 3742, 10766, 634, 9971, 17590, 19424, 10, 285, 4080, 61, 17573, 483, 7, 7588, 9, 473, 338, 147, 1924, 9, 11016, 136, 1034, 13, 11672, 40, 3436, 5217, 7898, 11684, 57, 830, 9, 19, 3319, 86, 220, 464, 14980, 9, 20515, 412, 991, 684, 1924, 9, 634, 920, 144, 430, 34, 25, 7, 4210, 6874, 2150, 16, 22070, 298, 1159, 75, 1098, 8802, 7490, 805, 35, 18678, 16, 1657, 1970, 2272, 53, 7, 110, 6559, 2178, 24, 756, 82, 30, 315, 684, 3772, 18678, 12, 16, 1682, 22110, 9, 22469, 22, 1757, 61, 8817, 194, 164, 1693, 749, 8, 6739, 12202, 10, 494, 7, 502, 12181, 18, 46, 15, 374, 17, 1680, 708, 26344, 22, 1757, 432, 465, 351, 32, 18563, 710, 8, 2585, 1384, 16071, 265, 3360, 7, 38, 747, 82, 383, 678, 200, 26, 590, 1281, 41, 1172, 31, 16, 2178, 43, 3044, 156, 17, 647, 468, 7490, 41, 84, 758, 92, 33, 3401, 369, 18319, 8, 2582, 29798, 1102, 17, 30, 4573, 11170, 139, 58, 220, 773, 19, 211, 23824, 25, 7, 4, 0, 0, 0, 0, 0, 0, 0, 0, 0, 0, 0, 0, 0, 0, 0, 0, 0, 0, 0, 0, 0, 0, 0, 0, 0, 0, 0, 0, 0, 0, 0, 0, 0, 0, 0, 0, 0, 0, 0, 0, 0, 0, 0, 0, 0, 0, 0, 0, 0, 0, 0, 0, 0, 0, 0, 0, 0, 0, 0, 0, 0, 0, 0, 0, 0, 0, 0, 0, 0, 0, 0, 0, 0, 0, 0, 0, 0, 0, 0, 0, 0, 0, 0, 0, 0, 0, 0]\n",
      "\n",
      "↓↓↓↓↓↓↓↓↓↓↓↓↓↓↓↓↓↓↓↓↓↓↓↓↓↓↓↓↓↓↓↓↓↓↓↓↓↓↓↓↓↓↓↓↓↓↓↓↓↓\n",
      "\n",
      "<STR INPUT SAMPLE>\n",
      " [CLS] 바그너는 괴테의 파우스트를 읽고 무엇을 쓰고자 했는가?[SEP] 1839년 바그너는 괴테의 파우스트을 처음 읽고 그 내용에 마음이 끌려 이를 소재로 해서 하나의 교향곡을 쓰려는 뜻을 갖는다. 이 시기 바그너는 1838년에 빛 독촉으로 산전수전을 다  ⁇ 은 상황이라 좌절과 실망에 가득했으며 메피스토펠레스를 만나는 파우스트의 심경에 공감했다고 한다. 또한 파리에서 아브네크의 지휘로 파리 음악원 관현악단이 연주하는 베토벤의 교향곡 9번을 듣고 깊은 감명을 받았는데, 이것이 이듬해 1월에 파우스트의 서곡으로 쓰여진 이 작품에 조금이라도 영향을 끼쳤으리라는 것은 의심할 여지가 없다. 여기의 라단조 조성의 경우에도 그의 전기에 적혀 있는 것처럼 단순한 정신적 피로나 실의가 반영된 것이 아니라 베토벤의 합창교향곡 조성의 영향을 받은 것을 볼 수 있다. 그렇게 교향곡 작곡을 1839년부터 40년에 걸쳐 파리에서 착수했으나 1악장을 쓴 뒤에 중단했다. 또한 작품의 완성과 동시에 그는 이 서곡(1악장)을 파리 음악원의 연주회에서 연주할 파트보까지 준비하였으나, 실제로는 이루어지지는 않았다. 결국 초연은 4년 반이 지난 후에 드레스덴에서 연주되었고 재연도 이루어졌지만, 이후에 그대로 방치되고 말았다. 그 사이에 그는 리엔치와 방황하는 네덜란드인을 완성하고 탄호이저에도 착수하는 등 분주한 시간을 보냈는데, 그런 바쁜 생활이 이 곡을 잊게 한 것이 아닌가 하는 의견도 있다.[SEP]\n"
     ]
    }
   ],
   "source": [
    "print(\"<INT INPUT SAMPLE>\\n\", input_sample, end=\"\\n\\n\")\n",
    "print(\"↓\" * 50)\n",
    "print(\"\\n<STR INPUT SAMPLE>\\n\", vocab.DecodeIds(input_sample))"
   ]
  },
  {
   "cell_type": "markdown",
   "id": "individual-castle",
   "metadata": {},
   "source": [
    "<br>\n",
    "\n",
    "## 5. 모델 생성 및 학습\n",
    "***\n",
    "<span style=\"font-size:12pt; line-height:1.7; font-family:Serif;\">\n",
    "    &nbsp; &nbsp; 사전학습이 이루어지지 않은 BERT와 사전학습이 이루어진 BERT의 KorQuA 문제 해결 성능을 비교하고자 합니다. 모델은 공통적으로 6개의 인코더 레이어를 쌓고 8개의 멀티 헤드를 사용합니다. 총 Epoch는 5회로 설정합니다.\n",
    "</span>\n",
    "\n",
    "***"
   ]
  },
  {
   "cell_type": "markdown",
   "id": "chronic-spokesman",
   "metadata": {},
   "source": [
    "#### 학습 함수 생성\n",
    "***\n",
    "+ 모델 학습을 위한 함수를 생성합니다.\n",
    "***"
   ]
  },
  {
   "cell_type": "code",
   "execution_count": 23,
   "id": "dressed-biography",
   "metadata": {},
   "outputs": [],
   "source": [
    "#학습 데이터 Epoch============================================\n",
    "def train_epoch(model, dataset, loss_fn, acc_fn, optimizer):\n",
    "    metric_start_loss = tf.keras.metrics.Mean(name='start_loss')\n",
    "    metric_end_loss = tf.keras.metrics.Mean(name='end_loss')\n",
    "    metric_start_acc = tf.keras.metrics.Mean(name='start_acc')\n",
    "    metric_end_acc = tf.keras.metrics.Mean(name='end_acc')\n",
    "\n",
    "    p_bar = tqdm(dataset)\n",
    "    for batch, ((enc_tokens, segments), (start_labels, end_labels)) in enumerate(p_bar):\n",
    "        with tf.GradientTape() as tape:\n",
    "            start_outputs, end_outputs = model(enc_tokens, segments)\n",
    "\n",
    "            start_loss = loss_fn(start_labels, start_outputs)\n",
    "            end_loss = loss_fn(end_labels, end_outputs)\n",
    "            loss = start_loss + end_loss\n",
    "\n",
    "            start_acc = acc_fn(start_labels, start_outputs)\n",
    "            end_acc = acc_fn(end_labels, end_outputs)\n",
    "        gradients = tape.gradient(loss, model.trainable_variables)\n",
    "        optimizer.apply_gradients(zip(gradients, model.trainable_variables))\n",
    "\n",
    "        metric_start_loss(start_loss)\n",
    "        metric_end_loss(end_loss)\n",
    "        metric_start_acc(start_acc)\n",
    "        metric_end_acc(end_acc)\n",
    "        if batch % 10 == 9:\n",
    "            p_bar.set_description(\n",
    "                f'loss: {metric_start_loss.result():0.4f}, \\\n",
    "                {metric_end_loss.result():0.4f}, \\\n",
    "                acc: {metric_start_acc.result():0.4f}, \\\n",
    "                {metric_end_acc.result():0.4f}'\n",
    "            )\n",
    "    p_bar.close()\n",
    "\n",
    "    return metric_start_loss.result(), metric_end_loss.result(), metric_start_acc.result(), metric_end_acc.result()\n",
    "#End==========================================================\n",
    "\n",
    "\n",
    "#검증 데이터 Epoch============================================\n",
    "def eval_epoch(model, dataset, loss_fn, acc_fn):\n",
    "    metric_start_loss = tf.keras.metrics.Mean(name='start_loss')\n",
    "    metric_end_loss = tf.keras.metrics.Mean(name='end_loss')\n",
    "    metric_start_acc = tf.keras.metrics.Mean(name='start_acc')\n",
    "    metric_end_acc = tf.keras.metrics.Mean(name='end_acc')\n",
    "\n",
    "    for batch, ((enc_tokens, segments), (start_labels, end_labels)) in enumerate(dataset):\n",
    "        start_outputs, end_outputs = model(enc_tokens, segments)\n",
    "\n",
    "        start_loss = loss_fn(start_labels, start_outputs)\n",
    "        end_loss = loss_fn(end_labels, end_outputs)\n",
    "\n",
    "        start_acc = acc_fn(start_labels, start_outputs)\n",
    "        end_acc = acc_fn(end_labels, end_outputs)\n",
    "\n",
    "        metric_start_loss(start_loss)\n",
    "        metric_end_loss(end_loss)\n",
    "        metric_start_acc(start_acc)\n",
    "        metric_end_acc(end_acc)\n",
    "\n",
    "    return metric_start_loss.result(), metric_end_loss.result(), metric_start_acc.result(), metric_end_acc.result()\n",
    "#End=========================================================="
   ]
  },
  {
   "cell_type": "markdown",
   "id": "peripheral-bridges",
   "metadata": {},
   "source": [
    "<br>\n",
    "\n",
    "### 5.1. 초기화된 BERT\n",
    "***\n",
    "<span style=\"font-size:12pt; line-height:1.7; font-family:Serif;\">\n",
    "    &nbsp; &nbsp; 사전학습이 이루어지지 않은 모델을 5회 학습하였습니다. 그 결과 학습 데이터 및 검증 데이터에 대한 손실 값이 증가하였습니다. 반대로 정확도는 하락하였습니다. 최종 결과는 검증 데이터에 대한 손실 값이 약 6.0이고 정확도는 약 0.003 입니다.\n",
    "</span>\n",
    "\n",
    "***"
   ]
  },
  {
   "cell_type": "markdown",
   "id": "noble-doctor",
   "metadata": {},
   "source": [
    "#### 모델 생성\n",
    "***\n",
    "+ BERT 모델을 생성 합니다.\n",
    "***"
   ]
  },
  {
   "cell_type": "code",
   "execution_count": 24,
   "id": "analyzed-hardware",
   "metadata": {},
   "outputs": [],
   "source": [
    "config = Config({\n",
    "    \"d_model\": 512, \"n_head\": 8, \"d_head\": 64,\n",
    "    \"dropout\": 0.1, \"d_ff\": 1024, \"layernorm_epsilon\": 0.001,\n",
    "    \"n_layer\": 6, \"n_seq\": 384, \"n_vocab\": 0, \"i_pad\": 0\n",
    "})\n",
    "\n",
    "config.n_vocab = len(vocab)\n",
    "config.i_pad = vocab.pad_id()\n",
    "\n",
    "model = BERT4KorQuAD(config)"
   ]
  },
  {
   "cell_type": "markdown",
   "id": "animated-supervisor",
   "metadata": {},
   "source": [
    "<br>\n",
    "\n",
    "#### 모델 학습\n",
    "***\n",
    "+ Epoch 5회로 설정하여 학습합니다.\n",
    "***"
   ]
  },
  {
   "cell_type": "code",
   "execution_count": 31,
   "id": "unsigned-bulgaria",
   "metadata": {},
   "outputs": [
    {
     "data": {
      "application/vnd.jupyter.widget-view+json": {
       "model_id": "dc1423fe15c54c5dae2cc32add6fda48",
       "version_major": 2,
       "version_minor": 0
      },
      "text/plain": [
       "  0%|          | 0/1875 [00:00<?, ?it/s]"
      ]
     },
     "metadata": {},
     "output_type": "display_data"
    },
    {
     "name": "stdout",
     "output_type": "stream",
     "text": [
      "eval 0 >> loss: 3.6503, 4.2335, acc: 0.1334, 0.1122\n",
      "save best model\n"
     ]
    },
    {
     "data": {
      "application/vnd.jupyter.widget-view+json": {
       "model_id": "bccc503831f14427b4a3d01684462d8a",
       "version_major": 2,
       "version_minor": 0
      },
      "text/plain": [
       "  0%|          | 0/1875 [00:00<?, ?it/s]"
      ]
     },
     "metadata": {},
     "output_type": "display_data"
    },
    {
     "name": "stdout",
     "output_type": "stream",
     "text": [
      "eval 1 >> loss: 5.9506, 5.9506, acc: 0.0042, 0.0042\n"
     ]
    },
    {
     "data": {
      "application/vnd.jupyter.widget-view+json": {
       "model_id": "5c33c2dfeded4f3f908f0123acd40d36",
       "version_major": 2,
       "version_minor": 0
      },
      "text/plain": [
       "  0%|          | 0/1875 [00:00<?, ?it/s]"
      ]
     },
     "metadata": {},
     "output_type": "display_data"
    },
    {
     "name": "stdout",
     "output_type": "stream",
     "text": [
      "eval 2 >> loss: 5.9506, 5.9506, acc: 0.0100, 0.0075\n"
     ]
    },
    {
     "data": {
      "application/vnd.jupyter.widget-view+json": {
       "model_id": "8b9ab6eb69be429ab81dfeb33d2d86fc",
       "version_major": 2,
       "version_minor": 0
      },
      "text/plain": [
       "  0%|          | 0/1875 [00:00<?, ?it/s]"
      ]
     },
     "metadata": {},
     "output_type": "display_data"
    },
    {
     "name": "stdout",
     "output_type": "stream",
     "text": [
      "eval 3 >> loss: 5.9506, 5.9506, acc: 0.0033, 0.0033\n"
     ]
    },
    {
     "data": {
      "application/vnd.jupyter.widget-view+json": {
       "model_id": "68526a7e6ec04126b0fa97770b26653e",
       "version_major": 2,
       "version_minor": 0
      },
      "text/plain": [
       "  0%|          | 0/1875 [00:00<?, ?it/s]"
      ]
     },
     "metadata": {},
     "output_type": "display_data"
    },
    {
     "name": "stdout",
     "output_type": "stream",
     "text": [
      "eval 4 >> loss: 5.9506, 5.9506, acc: 0.0025, 0.0039\n"
     ]
    }
   ],
   "source": [
    "loss_fn = tf.keras.losses.sparse_categorical_crossentropy\n",
    "acc_fn = tf.keras.metrics.sparse_categorical_accuracy\n",
    "\n",
    "optimizer = tf.keras.optimizers.Adam(learning_rate=5e-4)\n",
    "\n",
    "best_acc, patience = .0, 0\n",
    "\n",
    "train_start_loss, train_end_loss, train_start_acc, train_end_acc = [], [], [], []\n",
    "val_start_loss, val_end_loss, val_start_acc, val_end_acc = [], [], [], []\n",
    "\n",
    "\n",
    "for epoch in range(5):\n",
    "    t_start_loss, t_end_loss, t_start_acc, t_end_acc = train_epoch(model, train_dataset, loss_fn, acc_fn, optimizer)\n",
    "    start_loss, end_loss, start_acc, end_acc = eval_epoch(model, dev_dataset, loss_fn, acc_fn)\n",
    "    \n",
    "    train_start_loss.append(t_start_loss)\n",
    "    train_end_loss.append(t_end_loss)\n",
    "    train_start_acc.append(t_start_acc)\n",
    "    train_end_acc.append(t_end_acc)\n",
    "    \n",
    "    val_start_loss.append(start_loss)\n",
    "    val_end_loss.append(end_loss)\n",
    "    val_start_acc.append(start_acc)\n",
    "    val_end_acc.append(end_acc)\n",
    "    \n",
    "    \n",
    "    print(f'eval {epoch} >> loss: {start_loss:0.4f}, {end_loss:0.4f}, acc: {start_acc:0.4f}, {end_acc:0.4f}')\n",
    "    acc = start_acc + end_acc\n",
    "    if best_acc < acc:\n",
    "        patience = 0\n",
    "        best_acc = acc\n",
    "        model.save_weights(os.path.join(data_dir, \"korquad_bert_none_pretrain.hdf5\"))\n",
    "        print(f'save best model')\n",
    "    else:\n",
    "        patience += 1\n",
    "    if 5 <= patience:\n",
    "        print(f'early stopping')\n",
    "        break"
   ]
  },
  {
   "cell_type": "markdown",
   "id": "rental-parker",
   "metadata": {},
   "source": [
    "<br>\n",
    "\n",
    "#### 모델 결과 시각화\n",
    "***\n",
    "+ 모델의 학습 결과를 시각화 합니다.\n",
    "***"
   ]
  },
  {
   "cell_type": "code",
   "execution_count": 32,
   "id": "coastal-wisconsin",
   "metadata": {},
   "outputs": [
    {
     "data": {
      "image/png": "[encoded data removed]",
      "text/plain": [
       "<Figure size 936x648 with 4 Axes>"
      ]
     },
     "metadata": {
      "needs_background": "light"
     },
     "output_type": "display_data"
    }
   ],
   "source": [
    "plt.figure(figsize=(13, 9))\n",
    "\n",
    "plt.subplot(2, 2, 1)\n",
    "plt.plot(train_start_loss, 'b-', label='start_loss')\n",
    "plt.plot(val_start_loss, 'r--', label='val_start_loss')\n",
    "plt.xlabel('Epoch')\n",
    "plt.legend()\n",
    "\n",
    "plt.subplot(2, 2, 2)\n",
    "plt.plot(train_end_loss, 'b-', label='end_loss')\n",
    "plt.plot(val_end_loss, 'r--', label='val_end_loss')\n",
    "plt.xlabel('Epoch')\n",
    "plt.legend()\n",
    "\n",
    "plt.subplot(2, 2, 3)\n",
    "plt.plot(train_start_acc, 'g-', label='start_accuracy')\n",
    "plt.plot(val_start_acc, 'k--', label='val_start_accuracy')\n",
    "plt.xlabel('Epoch')\n",
    "plt.legend()\n",
    "\n",
    "plt.subplot(2, 2, 4)\n",
    "plt.plot(train_end_acc, 'b-', label='end_accuracy')\n",
    "plt.plot(val_end_acc, 'g--', label='val_end_accuracy')\n",
    "plt.xlabel('Epoch')\n",
    "plt.legend()\n",
    "\n",
    "plt.show()"
   ]
  },
  {
   "cell_type": "markdown",
   "id": "joint-sauce",
   "metadata": {},
   "source": [
    "<br>\n",
    "\n",
    "### 5.2. 사전학습된 BERT\n",
    "***\n",
    "<span style=\"font-size:12pt; line-height:1.7; font-family:Serif;\">\n",
    "    &nbsp; &nbsp; 사전학습이 이루어진 모델을 5회 학습하였습니다. 그 결과 학습 데이터 및 검증 데이터에 대한 손실 값은 감소하고 정확도는 상승하였습니다. 최종 결과는 검증 데이터에 대한 손실 값이 약 2.3이고 정확도는 약 0.5 입니다. 사전학습이 이루어지지 않은 모델에 비해 좀 더 좋은 성능을 보여줍니다. 또한, 검증 데이터 10개를 모델에 입력하여 모델이 하는 예측을 출력하였습니다. 여러 문제에 대해 올바른 예측을 하는 것을 확인할 수 있었습니다.\n",
    "</span>\n",
    "\n",
    "***"
   ]
  },
  {
   "cell_type": "markdown",
   "id": "indoor-coordinator",
   "metadata": {},
   "source": [
    "#### 사전 학습된 모델 불러오기\n",
    "***\n",
    "+ Pretrained된 모델을 불러옵니다.\n",
    "***"
   ]
  },
  {
   "cell_type": "code",
   "execution_count": 25,
   "id": "reflected-eclipse",
   "metadata": {},
   "outputs": [
    {
     "name": "stdout",
     "output_type": "stream",
     "text": [
      "Model: \"BERT4KorQuAD\"\n",
      "_________________________________________________________________\n",
      "Layer (type)                 Output Shape              Param #   \n",
      "=================================================================\n",
      "bert (BERT)                  multiple                  29202944  \n",
      "_________________________________________________________________\n",
      "dense_73 (Dense)             multiple                  1026      \n",
      "=================================================================\n",
      "Total params: 29,203,970\n",
      "Trainable params: 29,203,970\n",
      "Non-trainable params: 0\n",
      "_________________________________________________________________\n"
     ]
    }
   ],
   "source": [
    "checkpoint_file = os.path.join(model_dir, 'bert_pretrain_32000.hdf5')\n",
    "\n",
    "model = BERT4KorQuAD(config)\n",
    "\n",
    "if os.path.exists(checkpoint_file):\n",
    "    #  pretrained model 을 로드하기 위해 먼저 모델이 생성되어 있어야 한다.\n",
    "    enc_tokens = np.random.randint(0, len(vocab), (4, 10))\n",
    "    segments = np.random.randint(0, 2, (4, 10))\n",
    "    model(enc_tokens, segments)\n",
    "    \n",
    "    # checkpoint 파일로부터 필요한 layer를 불러온다. \n",
    "    model.load_weights(os.path.join(model_dir, \"bert_pretrain_32000.hdf5\"), by_name=True)\n",
    "\n",
    "    model.summary()"
   ]
  },
  {
   "cell_type": "markdown",
   "id": "atlantic-leeds",
   "metadata": {},
   "source": [
    "<br>\n",
    "\n",
    "#### 모델 학습\n",
    "***\n",
    "+ Epoch 5회로 설정하여 학습합니다.\n",
    "***"
   ]
  },
  {
   "cell_type": "code",
   "execution_count": 26,
   "id": "synthetic-trigger",
   "metadata": {},
   "outputs": [
    {
     "data": {
      "application/vnd.jupyter.widget-view+json": {
       "model_id": "5978dfeb414147d7baeaab02eabcbfa1",
       "version_major": 2,
       "version_minor": 0
      },
      "text/plain": [
       "  0%|          | 0/1875 [00:00<?, ?it/s]"
      ]
     },
     "metadata": {},
     "output_type": "display_data"
    },
    {
     "name": "stdout",
     "output_type": "stream",
     "text": [
      "eval 0 >> loss: 1.7783, 2.0568, acc: 0.5425, 0.5025\n",
      "save best model\n"
     ]
    },
    {
     "data": {
      "application/vnd.jupyter.widget-view+json": {
       "model_id": "f5825773a17549049307741ce78ad9d2",
       "version_major": 2,
       "version_minor": 0
      },
      "text/plain": [
       "  0%|          | 0/1875 [00:00<?, ?it/s]"
      ]
     },
     "metadata": {},
     "output_type": "display_data"
    },
    {
     "name": "stdout",
     "output_type": "stream",
     "text": [
      "eval 1 >> loss: 1.6813, 1.9608, acc: 0.5572, 0.5144\n",
      "save best model\n"
     ]
    },
    {
     "data": {
      "application/vnd.jupyter.widget-view+json": {
       "model_id": "7f3f7cdd75084aaeb595493f942890bc",
       "version_major": 2,
       "version_minor": 0
      },
      "text/plain": [
       "  0%|          | 0/1875 [00:00<?, ?it/s]"
      ]
     },
     "metadata": {},
     "output_type": "display_data"
    },
    {
     "name": "stdout",
     "output_type": "stream",
     "text": [
      "eval 2 >> loss: 1.7531, 1.8987, acc: 0.5874, 0.5493\n",
      "save best model\n"
     ]
    },
    {
     "data": {
      "application/vnd.jupyter.widget-view+json": {
       "model_id": "a3fdc87acfc84e91bcd8eaa2e6182b10",
       "version_major": 2,
       "version_minor": 0
      },
      "text/plain": [
       "  0%|          | 0/1875 [00:00<?, ?it/s]"
      ]
     },
     "metadata": {},
     "output_type": "display_data"
    },
    {
     "name": "stdout",
     "output_type": "stream",
     "text": [
      "eval 3 >> loss: 1.9568, 2.4227, acc: 0.5637, 0.5054\n"
     ]
    },
    {
     "data": {
      "application/vnd.jupyter.widget-view+json": {
       "model_id": "a73734dc08aa41c49a4b5276b1087e0b",
       "version_major": 2,
       "version_minor": 0
      },
      "text/plain": [
       "  0%|          | 0/1875 [00:00<?, ?it/s]"
      ]
     },
     "metadata": {},
     "output_type": "display_data"
    },
    {
     "name": "stdout",
     "output_type": "stream",
     "text": [
      "eval 4 >> loss: 2.3145, 2.3769, acc: 0.5555, 0.5184\n"
     ]
    }
   ],
   "source": [
    "loss_fn = tf.keras.losses.sparse_categorical_crossentropy\n",
    "acc_fn = tf.keras.metrics.sparse_categorical_accuracy\n",
    "\n",
    "optimizer = tf.keras.optimizers.Adam(learning_rate=5e-4)\n",
    "\n",
    "best_acc, patience = .0, 0\n",
    "\n",
    "train_start_loss, train_end_loss, train_start_acc, train_end_acc = [], [], [], []\n",
    "val_start_loss, val_end_loss, val_start_acc, val_end_acc = [], [], [], []\n",
    "\n",
    "\n",
    "for epoch in range(5):\n",
    "    t_start_loss, t_end_loss, t_start_acc, t_end_acc = train_epoch(model, train_dataset, loss_fn, acc_fn, optimizer)\n",
    "    start_loss, end_loss, start_acc, end_acc = eval_epoch(model, dev_dataset, loss_fn, acc_fn)\n",
    "    \n",
    "    train_start_loss.append(t_start_loss)\n",
    "    train_end_loss.append(t_end_loss)\n",
    "    train_start_acc.append(t_start_acc)\n",
    "    train_end_acc.append(t_end_acc)\n",
    "    \n",
    "    val_start_loss.append(start_loss)\n",
    "    val_end_loss.append(end_loss)\n",
    "    val_start_acc.append(start_acc)\n",
    "    val_end_acc.append(end_acc)\n",
    "    \n",
    "    \n",
    "    print(f'eval {epoch} >> loss: {start_loss:0.4f}, {end_loss:0.4f}, acc: {start_acc:0.4f}, {end_acc:0.4f}')\n",
    "    acc = start_acc + end_acc\n",
    "    if best_acc < acc:\n",
    "        patience = 0\n",
    "        best_acc = acc\n",
    "        model.save_weights(os.path.join(data_dir, \"korquad_bert_none_pretrain.hdf5\"))\n",
    "        print(f'save best model')\n",
    "    else:\n",
    "        patience += 1\n",
    "    if 5 <= patience:\n",
    "        print(f'early stopping')\n",
    "        break"
   ]
  },
  {
   "cell_type": "markdown",
   "id": "retired-premiere",
   "metadata": {},
   "source": [
    "<br>\n",
    "\n",
    "#### 모델 결과 시각화\n",
    "***\n",
    "+ 모델의 학습 결과를 시각화 합니다.\n",
    "***"
   ]
  },
  {
   "cell_type": "code",
   "execution_count": 28,
   "id": "nonprofit-yacht",
   "metadata": {},
   "outputs": [
    {
     "data": {
      "image/png": "[encoded data removed]",
      "text/plain": [
       "<Figure size 936x648 with 4 Axes>"
      ]
     },
     "metadata": {
      "needs_background": "light"
     },
     "output_type": "display_data"
    }
   ],
   "source": [
    "plt.figure(figsize=(13, 9))\n",
    "\n",
    "plt.subplot(2, 2, 1)\n",
    "plt.plot(train_start_loss, 'b-', label='start_loss')\n",
    "plt.plot(val_start_loss, 'r--', label='val_start_loss')\n",
    "plt.xlabel('Epoch')\n",
    "plt.legend()\n",
    "\n",
    "plt.subplot(2, 2, 2)\n",
    "plt.plot(train_end_loss, 'b-', label='end_loss')\n",
    "plt.plot(val_end_loss, 'r--', label='val_end_loss')\n",
    "plt.xlabel('Epoch')\n",
    "plt.legend()\n",
    "\n",
    "plt.subplot(2, 2, 3)\n",
    "plt.plot(train_start_acc, 'g-', label='start_accuracy')\n",
    "plt.plot(val_start_acc, 'k--', label='val_start_accuracy')\n",
    "plt.xlabel('Epoch')\n",
    "plt.legend()\n",
    "\n",
    "plt.subplot(2, 2, 4)\n",
    "plt.plot(train_end_acc, 'b-', label='end_accuracy')\n",
    "plt.plot(val_end_acc, 'g--', label='val_end_accuracy')\n",
    "plt.xlabel('Epoch')\n",
    "plt.legend()\n",
    "\n",
    "plt.show()"
   ]
  },
  {
   "cell_type": "markdown",
   "id": "extensive-berry",
   "metadata": {},
   "source": [
    "<br>\n",
    "\n",
    "#### 검증 데이터 테스트 하기\n",
    "***\n",
    "+ 사전 학습된 모델에 검증 데이터를 입력하여 테스트 합니다.\n",
    "***"
   ]
  },
  {
   "cell_type": "code",
   "execution_count": 31,
   "id": "curious-lancaster",
   "metadata": {
    "scrolled": false
   },
   "outputs": [
    {
     "name": "stdout",
     "output_type": "stream",
     "text": [
      "0\n",
      "질문 :  임종석이 여의도 농민 폭력 시위를 주도한 혐의로 지명수배 된 날은?\n",
      "지문 :  1989년 2월 15일 여의도 농민 폭력 시위를 주도한 혐의(폭력행위등처벌에관한법률위반)으로 지명수배되었다. 1989년 3월 12일 서울지방검찰청 공안부는 임종석의 사전구속영장을 발부받았다. 같은 해 6월 30일 평양축전에 임수경을 대표로 파견하여 국가보안법위반 혐의가 추가되었다. 경찰은 12월 18일~20일 사이 서울 경희대학교에서 임종석이 성명 발표를 추진하고 있다는 첩보를 입수했고, 12월 18일 오전 7시 40분 경 가스총과 전자봉으로 무장한 특공조 및 대공과 직원 12명 등 22명의 사복 경찰을 승용차 8대에 나누어 경희대학교에 투입했다. 1989년 12월 18일 오전 8시 15분 경 서울청량리경찰서는 호위 학생 5명과 함께 경희대학교 학생회관 건물 계단을 내려오는 임종석을 발견, 검거해 구속을 집행했다. 임종석은 청량리경찰서에서 약 1시간 동안 조사를 받은 뒤 오전 9시 50분 경 서울 장안동의 서울지방경찰청 공안분실로 인계되었다.\n",
      "정답 :  1989년 2월 15일\n",
      "예측 :  1989년 2월 15일 \n",
      "\n",
      "1\n",
      "질문 :  1989년 6월 30일 평양축전에 대표로 파견 된 인물은?\n",
      "지문 :  1989년 2월 15일 여의도 농민 폭력 시위를 주도한 혐의(폭력행위등처벌에관한법률위반)으로 지명수배되었다. 1989년 3월 12일 서울지방검찰청 공안부는 임종석의 사전구속영장을 발부받았다. 같은 해 6월 30일 평양축전에 임수경을 대표로 파견하여 국가보안법위반 혐의가 추가되었다. 경찰은 12월 18일~20일 사이 서울 경희대학교에서 임종석이 성명 발표를 추진하고 있다는 첩보를 입수했고, 12월 18일 오전 7시 40분 경 가스총과 전자봉으로 무장한 특공조 및 대공과 직원 12명 등 22명의 사복 경찰을 승용차 8대에 나누어 경희대학교에 투입했다. 1989년 12월 18일 오전 8시 15분 경 서울청량리경찰서는 호위 학생 5명과 함께 경희대학교 학생회관 건물 계단을 내려오는 임종석을 발견, 검거해 구속을 집행했다. 임종석은 청량리경찰서에서 약 1시간 동안 조사를 받은 뒤 오전 9시 50분 경 서울 장안동의 서울지방경찰청 공안분실로 인계되었다.\n",
      "정답 :  임수경\n",
      "예측 :  임수경을 대표로 파견하여 국가보안법위반 혐의 \n",
      "\n",
      "2\n",
      "질문 :  임종석이 여의도 농민 폭력 시위를 주도한 혐의로 지명수배된 연도는?\n",
      "지문 :  1989년 2월 15일 여의도 농민 폭력 시위를 주도한 혐의(폭력행위등처벌에관한법률위반)으로 지명수배되었다. 1989년 3월 12일 서울지방검찰청 공안부는 임종석의 사전구속영장을 발부받았다. 같은 해 6월 30일 평양축전에 임수경을 대표로 파견하여 국가보안법위반 혐의가 추가되었다. 경찰은 12월 18일~20일 사이 서울 경희대학교에서 임종석이 성명 발표를 추진하고 있다는 첩보를 입수했고, 12월 18일 오전 7시 40분 경 가스총과 전자봉으로 무장한 특공조 및 대공과 직원 12명 등 22명의 사복 경찰을 승용차 8대에 나누어 경희대학교에 투입했다. 1989년 12월 18일 오전 8시 15분 경 서울청량리경찰서는 호위 학생 5명과 함께 경희대학교 학생회관 건물 계단을 내려오는 임종석을 발견, 검거해 구속을 집행했다. 임종석은 청량리경찰서에서 약 1시간 동안 조사를 받은 뒤 오전 9시 50분 경 서울 장안동의 서울지방경찰청 공안분실로 인계되었다.\n",
      "정답 :  1989년\n",
      "예측 :  1989년 \n",
      "\n",
      "6\n",
      "질문 :  임종석이 1989년 2월 15일에 지명수배 받은 혐의는 어떤 시위를 주도했다는 것인가?\n",
      "지문 :  1989년 2월 15일 여의도 농민 폭력 시위를 주도한 혐의(폭력행위등처벌에관한법률위반)으로 지명수배되었다. 1989년 3월 12일 서울지방검찰청 공안부는 임종석의 사전구속영장을 발부받았다. 같은 해 6월 30일 평양축전에 임수경을 대표로 파견하여 국가보안법위반 혐의가 추가되었다. 경찰은 12월 18일~20일 사이 서울 경희대학교에서 임종석이 성명 발표를 추진하고 있다는 첩보를 입수했고, 12월 18일 오전 7시 40분 경 가스총과 전자봉으로 무장한 특공조 및 대공과 직원 12명 등 22명의 사복 경찰을 승용차 8대에 나누어 경희대학교에 투입했다. 1989년 12월 18일 오전 8시 15분 경 서울청량리경찰서는 호위 학생 5명과 함께 경희대학교 학생회관 건물 계단을 내려오는 임종석을 발견, 검거해 구속을 집행했다. 임종석은 청량리경찰서에서 약 1시간 동안 조사를 받은 뒤 오전 9시 50분 경 서울 장안동의 서울지방경찰청 공안분실로 인계되었다.\n",
      "정답 :  여의도 농민 폭력 시위\n",
      "예측 :  여의도 농민 폭력 시위를 주도한 혐의(폭력행위등처벌에관한법률위반) \n",
      "\n",
      "7\n",
      "질문 :  정부의 헌법개정안 준비 과정에 대해서 청와대 비서실이 아니라 국무회의 중심으로 이뤄졌어야 했다고 지적한 원로 헌법학자는?\n",
      "지문 :  \"내각과 장관들이 소외되고 대통령비서실의 권한이 너무 크다\", \"행보가 비서 본연의 역할을 벗어난다\"는 의견이 제기되었다. 대표적인 예가 10차 개헌안 발표이다. 원로 헌법학자인 허영 경희대 석좌교수는 정부의 헌법개정안 준비 과정에 대해 \"청와대 비서실이 아닌 국무회의 중심으로 이뤄졌어야 했다\"고 지적했다. '국무회의의 심의를 거쳐야 한다'(제89조)는 헌법 규정에 충실하지 않았다는 것이다. 그러면서 \"법무부 장관을 제쳐놓고 민정수석이 개정안을 설명하는 게 이해가 안 된다\"고 지적했다. 민정수석은 국회의원에 대해 책임지는 법무부 장관도 아니고, 국민에 대해 책임지는 사람도 아니기 때문에 정당성이 없고, 단지 대통령의 신임이 있을 뿐이라는 것이다. 또한 국무총리 선출 방식에 대한 기자의 질문에 \"문 대통령도 취임 전에 국무총리에게 실질적 권한을 주겠다고 했지만 그러지 못하고 있다. 대통령비서실장만도 못한 권한을 행사하고 있다.\"고 답변했다.\n",
      "정답 :  허영\n",
      "예측 :  허영 경희대 석좌교수 \n",
      "\n",
      "11\n",
      "질문 :  미국 군대 내 두번째로 높은 직위는 무엇인가?\n",
      "지문 :  알렉산더 메이그스 헤이그 2세(영어: Alexander Meigs Haig, Jr., 1924년 12월 2일 ~ 2010년 2월 20일)는 미국의 국무 장관을 지낸 미국의 군인, 관료 및 정치인이다. 로널드 레이건 대통령 밑에서 국무장관을 지냈으며, 리처드 닉슨과 제럴드 포드 대통령 밑에서 백악관 비서실장을 지냈다. 또한 그는 미국 군대에서 2번째로 높은 직위인 미국 육군 부참모 총장과 나토 및 미국 군대의 유럽연합군 최고사령관이었다. 한국 전쟁 시절 더글러스 맥아더 유엔군 사령관의 참모로 직접 참전하였으며, 로널드 레이건 정부 출범당시 초대 국무장관직을 맡아 1980년대 대한민국과 미국의 관계를 조율해 왔다. 저서로 회고록 《경고:현실주의, 레이건과 외교 정책》(1984년 발간)이 있다.\n",
      "정답 :  미국 육군 부참모 총장\n",
      "예측 :  미국 육군 부참모 총장과 나토 및 \n",
      "\n"
     ]
    }
   ],
   "source": [
    "def do_predict(model, question, context):\n",
    "    q_tokens = vocab.encode_as_pieces(question)[:args.max_query_length]\n",
    "    c_tokens = vocab.encode_as_pieces(context)[:args.max_seq_length - len(q_tokens) - 3]\n",
    "    tokens = ['[CLS]'] + q_tokens + ['[SEP]'] + c_tokens + ['[SEP]']\n",
    "    token_ids = [vocab.piece_to_id(token) for token in tokens]\n",
    "    segments = [0] * (len(q_tokens) + 2) + [1] * (len(c_tokens) + 1)\n",
    "\n",
    "    y_start, y_end = model(np.array([token_ids]), np.array([segments]))\n",
    "    # print(y_start, y_end)\n",
    "    y_start_idx = K.argmax(y_start, axis=-1)[0].numpy()\n",
    "    y_end_idx = K.argmax(y_end, axis=-1)[0].numpy()\n",
    "    answer_tokens = tokens[y_start_idx:y_end_idx + 1]\n",
    "\n",
    "    return vocab.decode_pieces(answer_tokens)\n",
    "\n",
    "\n",
    "\n",
    "dev_json = os.path.join(data_dir, \"korquad_dev.json\")\n",
    "\n",
    "with open(dev_json) as f:\n",
    "    for i, line in enumerate(f):\n",
    "        data = json.loads(line)\n",
    "        question = vocab.decode_pieces(data['question'])\n",
    "        context = vocab.decode_pieces(data['context'])\n",
    "        answer = data['answer']\n",
    "        answer_predict = do_predict(model, question, context)\n",
    "        if answer in answer_predict:\n",
    "            print(i)\n",
    "            print(\"질문 : \", question)\n",
    "            print(\"지문 : \", context)\n",
    "            print(\"정답 : \", answer)\n",
    "            print(\"예측 : \", answer_predict, \"\\n\")\n",
    "        if 10 < i:\n",
    "            break"
   ]
  },
  {
   "cell_type": "markdown",
   "id": "secret-florist",
   "metadata": {},
   "source": [
    "<br>\n",
    "\n",
    "## 6. 결론\n",
    "***\n",
    "<span style=\"font-size:12pt; line-height:1.7; font-family:Serif;\">\n",
    "    &nbsp; &nbsp; BERT의 사전학습된 모델과 사전학습 되지 않은 모델의 성능을 비교하기 위해 KorQuA 문제를 이용하였습니다. 두 모델의 하이퍼파라미터는 동일하게 6개의 인코더 레이어와 8개의 멀티 헤드를 사용하였으며, 학습 횟수는 5회로 설정하였습니다. 학습 결과, 사전학습되지 않은 모델은 손실 값이 오히려 증가하는 추세를 보였습니다. 반대로 정확도는 하락하는 추세를 보였습니다. 최종 정확도는 약 0.003에 해당합니다. 사전학습된 모델의 경우, 손실 값이 하락하고 정확도는 상승하는 형태를 보였습니다. 최종 정확도는 약 0.5에 해당합니다. 또한, 검증 데이터 10개를 사전학습된 모델에 입력하여 모델의 예측을 확인하였습니다. 그 결과, 여러 문제에 대해 올바르게 예측함을 확인 할 수 있었습니다.\n",
    "</span>\n",
    "\n",
    "***"
   ]
  },
  {
   "cell_type": "markdown",
   "id": "systematic-thanksgiving",
   "metadata": {},
   "source": [
    "#### 형상관리 기록\n",
    "***\n",
    "+ v1_1: 실습 예제 진행\n",
    "\n",
    "\n",
    "+ v2_1: 제출 예제 진행\n",
    "\n",
    "\n",
    "+ v3_1: 내용 작성\n",
    "\n",
    "\n",
    "+ v4_1: 사전학습된 모델 학습\n",
    "***"
   ]
  }
 ],
 "metadata": {
  "kernelspec": {
   "display_name": "Python 3",
   "language": "python",
   "name": "python3"
  },
  "language_info": {
   "codemirror_mode": {
    "name": "ipython",
    "version": 3
   },
   "file_extension": ".py",
   "mimetype": "text/x-python",
   "name": "python",
   "nbconvert_exporter": "python",
   "pygments_lexer": "ipython3",
   "version": "3.7.9"
  }
 },
 "nbformat": 4,
 "nbformat_minor": 5
}
