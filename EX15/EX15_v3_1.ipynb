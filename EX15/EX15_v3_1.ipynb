{
 "cells": [
  {
   "cell_type": "markdown",
   "id": "missing-melbourne",
   "metadata": {},
   "source": [
    "#  Transformer를 이용한 한국어 챗봇 생성 예제"
   ]
  },
  {
   "cell_type": "markdown",
   "id": "earned-improvement",
   "metadata": {},
   "source": [
    "#### 초록\n",
    "***\n",
    "<span style=\"font-size:11pt; line-height:1.8;\">\n",
    "    &nbsp; &nbsp; 송영숙(2018)이 제시한 한국어 문장 데이터셋 『Chatbot data for Korean v1』을 사용하여 트랜스포머 챗봇 모델을 생성, 학습, 평가를 진행하였다. 트랜스포머 모델의 원리와 작동 방식과 원리 설명에 초점을 두었다. 데이터 분석, 전처리, 모델 생성 및 학습, 문장생성 능력 확인 순으로 진행하여, 최종 8,147개의 단어, 9,084개의 문장 데이터를 이용하였다. 모델 문장생성 능력 확인을 위해 '밥 먹었니?', '너 누구야?', '안녕~' 등의 문장을 입력한 결과, '배고프지 않아요.', '저는 마음을 이어주는 위로봇입니다.', '안녕하세요.' 등 상당히 자연스러운 문장을 생성하는 것을 확인하였다.\n",
    "</span>\n",
    "\n",
    "***"
   ]
  },
  {
   "cell_type": "markdown",
   "id": "geographic-documentation",
   "metadata": {},
   "source": [
    "<br>\n",
    "\n",
    "## 1. 서론\n",
    "***\n",
    "<span style=\"font-size:12pt; line-height:1.7; font-family:Serif;\">\n",
    "    &nbsp; &nbsp; 본 예제는 트랜스포머(Transformer)를 이용하여 한국어 챗봇 모델을 생성하고 모델이 그럴듯한 문장을 생성하는 것을 목표로 합니다. 모델의 개선 또는 새로운 기법의 적용보다는 '트랜스포머'의 기본적인 작동 방식과 원리를 이해하는 것에 초점을 두었습니다. 따라서, 트랜스포머의 원리를 본 예제의 작성자가 이해하는 것을 바탕으로 그림과 설명을 통해 풀어나가고자 합니다. 'RNN', 'seq2seq', 'Attention`에 대한 개념을 숙지하고 있다면 트랜스포머를 보다 쉽게 이해할 수 있을 것입니다. 예제의 진행 순서는 다음과 같습니다.\n",
    "</span><br><br>\n",
    "\n",
    "\n",
    "> _1. 데이터 분석_\n",
    ">\n",
    "> _2. 데이터 전처리_\n",
    ">\n",
    "> _3. 모델 생성_\n",
    ">\n",
    "> _4. 모델 학습 및 평가_\n",
    "\n",
    "\n",
    "***"
   ]
  },
  {
   "cell_type": "markdown",
   "id": "aquatic-retention",
   "metadata": {},
   "source": [
    "<br>\n",
    "\n",
    "## 2. 데이터 분석\n",
    "***\n",
    "<span style=\"font-size:12pt; line-height:1.7; font-family:Serif;\">\n",
    "    &nbsp; &nbsp; 예제에서 사용하는 데이터는 송영숙(2018)이 제시한 『Chatbot data for Korean v1』을 이용합니다. 데이터는 질문과 대답 그리고 질문의 평상, 긍정, 부정에 대한 0에서 2사이의 값으로 이루어져 있습니다. 예제에서는 질문과 대답 데이터만을 이용합니다. 레코드 수는 총 11,823개이며 결측치는 없습니다.\n",
    "</span>\n",
    "\n",
    "***"
   ]
  },
  {
   "cell_type": "markdown",
   "id": "variable-hypothetical",
   "metadata": {},
   "source": [
    "#### 필요 라이브러리 호출\n",
    "***\n",
    "+ 예제에 필요한 라이브러리를 호출 합니다.\n",
    "***"
   ]
  },
  {
   "cell_type": "code",
   "execution_count": 1,
   "id": "provincial-contamination",
   "metadata": {},
   "outputs": [],
   "source": [
    "import os   #디렉토리 관리\n",
    "import re   #문자열 정규식\n",
    "\n",
    "import numpy as np   #행렬 연산\n",
    "import pandas as pd   #데이터 프레임\n",
    "import matplotlib.pyplot as plt   #데이터 시각화\n",
    "\n",
    "import tensorflow as tf   #신경망\n",
    "import tensorflow_datasets as tfds   #단어장 만들기"
   ]
  },
  {
   "cell_type": "markdown",
   "id": "computational-playback",
   "metadata": {},
   "source": [
    "<br>\n",
    "\n",
    "#### 데이터 불러오기\n",
    "***\n",
    "+ 예제에 사용하는 데이터를 불러 옵니다.\n",
    "\n",
    "\n",
    "+ 질문(`Q`)과 대답(`A`) 그리고 일상(0), 부정(1), 긍정(2)의 도메인을 가지는 `label`로 구성되어 있으며 본 예제에서는 질문(`Q`)과 대답(`A`) 데이터만 이용합니다.\n",
    "***"
   ]
  },
  {
   "cell_type": "code",
   "execution_count": 2,
   "id": "sought-cycle",
   "metadata": {},
   "outputs": [
    {
     "data": {
      "text/html": [
       "<div>\n",
       "<style scoped>\n",
       "    .dataframe tbody tr th:only-of-type {\n",
       "        vertical-align: middle;\n",
       "    }\n",
       "\n",
       "    .dataframe tbody tr th {\n",
       "        vertical-align: top;\n",
       "    }\n",
       "\n",
       "    .dataframe thead th {\n",
       "        text-align: right;\n",
       "    }\n",
       "</style>\n",
       "<table border=\"1\" class=\"dataframe\">\n",
       "  <thead>\n",
       "    <tr style=\"text-align: right;\">\n",
       "      <th></th>\n",
       "      <th>Q</th>\n",
       "      <th>A</th>\n",
       "      <th>label</th>\n",
       "    </tr>\n",
       "  </thead>\n",
       "  <tbody>\n",
       "    <tr>\n",
       "      <th>3861</th>\n",
       "      <td>입 안이 다 헐었어</td>\n",
       "      <td>요즘 피곤하신가봐요.</td>\n",
       "      <td>0</td>\n",
       "    </tr>\n",
       "    <tr>\n",
       "      <th>501</th>\n",
       "      <td>나 비만이야</td>\n",
       "      <td>건강하게 운동해보세요.</td>\n",
       "      <td>0</td>\n",
       "    </tr>\n",
       "    <tr>\n",
       "      <th>949</th>\n",
       "      <td>너도 상사 있어</td>\n",
       "      <td>제가 상사예요.</td>\n",
       "      <td>0</td>\n",
       "    </tr>\n",
       "    <tr>\n",
       "      <th>3172</th>\n",
       "      <td>여자친구랑 전화 안 받네.</td>\n",
       "      <td>걱정되겠어요.</td>\n",
       "      <td>0</td>\n",
       "    </tr>\n",
       "    <tr>\n",
       "      <th>7456</th>\n",
       "      <td>이별 후 3개월이 지났는데.</td>\n",
       "      <td>여전히 힘든가봅니다.</td>\n",
       "      <td>1</td>\n",
       "    </tr>\n",
       "  </tbody>\n",
       "</table>\n",
       "</div>"
      ],
      "text/plain": [
       "                    Q             A  label\n",
       "3861       입 안이 다 헐었어   요즘 피곤하신가봐요.      0\n",
       "501            나 비만이야  건강하게 운동해보세요.      0\n",
       "949          너도 상사 있어      제가 상사예요.      0\n",
       "3172   여자친구랑 전화 안 받네.       걱정되겠어요.      0\n",
       "7456  이별 후 3개월이 지났는데.   여전히 힘든가봅니다.      1"
      ]
     },
     "execution_count": 2,
     "metadata": {},
     "output_type": "execute_result"
    }
   ],
   "source": [
    "dataset = pd.read_csv(\"./dataset/transformer_chatbot/data/ChatbotData.csv\")\n",
    "dataset.sample(5)"
   ]
  },
  {
   "cell_type": "markdown",
   "id": "tired-composite",
   "metadata": {},
   "source": [
    "#### 학습 데이터 출처\n",
    "***\n",
    "+ YeongSook Song, Chatbot_data_for_Korean v1.0(2018), https://github.com/songys/Chatbot_data\n",
    "***"
   ]
  },
  {
   "cell_type": "markdown",
   "id": "missing-yorkshire",
   "metadata": {},
   "source": [
    "<br>\n",
    "\n",
    "#### 레코드 수 및 결측치 확인\n",
    "***\n",
    "+ 레코드 수는 총 11,823개 이며, 결측치는 없습니다.\n",
    "***"
   ]
  },
  {
   "cell_type": "code",
   "execution_count": 3,
   "id": "contemporary-submission",
   "metadata": {},
   "outputs": [
    {
     "name": "stdout",
     "output_type": "stream",
     "text": [
      "<class 'pandas.core.frame.DataFrame'>\n",
      "RangeIndex: 11823 entries, 0 to 11822\n",
      "Data columns (total 3 columns):\n",
      " #   Column  Non-Null Count  Dtype \n",
      "---  ------  --------------  ----- \n",
      " 0   Q       11823 non-null  object\n",
      " 1   A       11823 non-null  object\n",
      " 2   label   11823 non-null  int64 \n",
      "dtypes: int64(1), object(2)\n",
      "memory usage: 277.2+ KB\n"
     ]
    }
   ],
   "source": [
    "dataset.info()"
   ]
  },
  {
   "cell_type": "markdown",
   "id": "respiratory-affiliation",
   "metadata": {},
   "source": [
    "<br>\n",
    "\n",
    "## 3. 데이터 전처리\n",
    "***\n",
    "<span style=\"font-size:12pt; line-height:1.7; font-family:Serif;\">\n",
    "    &nbsp; &nbsp; 데이터셋을 모델에 입력하기 위해서 데이터 전처리 과정을 수행합니다. 전처리 순서는 '정규식을 이용한 문장 전처리', '단어사전 생성', '문장 길이에 따른 정제', '토크나이저화' 입니다.\n",
    "</span><br><br>\n",
    "\n",
    "<span style=\"font-size:12pt; line-height:1.7; font-family:Serif;\">\n",
    "    &nbsp; &nbsp; 문장 길이를 확인한 결과, 질문에 대한 문장 분포의 최대값이 8개의 단어이며, 대답에 대한 문장 분포 최대값이 10개 였습니다. 따라서, 문장의 최대 길이를 10으로 설정하였습니다. 단어사전의 단어 수는 시작, 종료 토큰을 포함하여 총 8,147개 였으며, 앞서 설정한 문장의 최대 길이 10개의 단어에 근거하여 11개 이상의 단어로 이루어진 문장은 제외 하였습니다. 최종 9,104개의 문장을 얻었습니다. 해당 데이터를 바탕으로 자연어 문장을 정수형태로 바꾼 후 데이터셋을 생성하였습니다.\n",
    "</span>\n",
    "\n",
    "***"
   ]
  },
  {
   "cell_type": "markdown",
   "id": "operating-independence",
   "metadata": {},
   "source": [
    "#### 정규식을 이용한 문장 전처리\n",
    "***\n",
    "+ 영문, 한글, 숫자 및 문장에서 주로 사용되는 기호를 제외한 문자는 제거 합니다.\n",
    "\n",
    "\n",
    "+ 전처리가 실시된 데이터 샘플을 출력 합니다.\n",
    "***"
   ]
  },
  {
   "cell_type": "code",
   "execution_count": 4,
   "id": "beginning-telephone",
   "metadata": {},
   "outputs": [
    {
     "name": "stdout",
     "output_type": "stream",
     "text": [
      "**************************************************\n",
      "Question: 12시 땡! ===> 1 2 시 땡 !\n",
      "Answer: 하루가 또 가네요. ===> 하루가 또 가네요 .\n",
      "**************************************************\n",
      "Question len: 11823\tAnswer len: 11823\n"
     ]
    }
   ],
   "source": [
    "#전처리 함수===========================\n",
    "def preprocess_sentence(sentence):\n",
    "    sentence = sentence.lower().strip()\n",
    "    sentence = re.sub(r\"([0-9?.!,])\", r\" \\1 \", sentence)\n",
    "    sentence = re.sub(r'[\" \"]+', \" \", sentence)\n",
    "    sentence = re.sub(r\"[^a-zA-Zㄱ-ㅎ가-힣0-9?.!,]+\", \" \", sentence)\n",
    "    sentence = sentence.strip()\n",
    "    return sentence\n",
    "#End===================================\n",
    "\n",
    "\n",
    "#문장 전처리===========================\n",
    "questions, answers = [], []\n",
    "for idx, row in dataset.iterrows():\n",
    "    questions.append(preprocess_sentence(row[\"Q\"]))\n",
    "    answers.append(preprocess_sentence(row[\"A\"]))\n",
    "#End===================================\n",
    "\n",
    "\n",
    "#출력부================================\n",
    "print(\"*\" * 50)\n",
    "print(\"Question: {0} ===> {1}\".format(dataset[\"Q\"][0], questions[0]))\n",
    "print(\"Answer: {0} ===> {1}\".format(dataset[\"A\"][0], answers[0]))\n",
    "print(\"*\" * 50)\n",
    "print(\"Question len: {0}\\tAnswer len: {1}\".format(len(questions), len(answers)))\n",
    "#End==================================="
   ]
  },
  {
   "cell_type": "markdown",
   "id": "structured-envelope",
   "metadata": {},
   "source": [
    "<br>\n",
    "\n",
    "#### 문장 길이 확인하기\n",
    "***\n",
    "+ 질문(`Question`)와 대답(`Answer`)의 문장 길이를 확인합니다.\n",
    "\n",
    "\n",
    "+ 질문(`Question`)의 경우 가장 긴 문장의 길이가 16개의 단어이며, 대답(`Answer`)의 경우 24개의 단어 입니다.\n",
    "\n",
    "\n",
    "+ 문장 길이의 분포(Box Plot)를 확인한 결과, 질문(`Question`)의 경우 최대값이 8개의 단어이며 대답(`Answer`)의 10개의 단어입니다.\n",
    "***"
   ]
  },
  {
   "cell_type": "code",
   "execution_count": 5,
   "id": "regulation-claim",
   "metadata": {},
   "outputs": [
    {
     "name": "stdout",
     "output_type": "stream",
     "text": [
      "************************************************************\n",
      "question min len: 1\n",
      "question max len: 16\n",
      "question avg len: 3.9808001353294427\n",
      "\n",
      "answer min len: 1\n",
      "answer max len: 24\n",
      "answer avg len: 4.720375539203248\n",
      "************************************************************\n"
     ]
    },
    {
     "data": {
      "image/png": "[encoded data removed]",
      "text/plain": [
       "<Figure size 792x648 with 4 Axes>"
      ]
     },
     "metadata": {
      "needs_background": "light"
     },
     "output_type": "display_data"
    }
   ],
   "source": [
    "question_len = [len(s.split()) for s in questions]   #원문에 대한 문장 길이\n",
    "answers_len = [len(s.split()) for s in answers]   #요약문에 대한 문장 길이\n",
    "\n",
    "\n",
    "#출력부============================\n",
    "print(\"*\" * 60)\n",
    "print('question min len: {}'.format(np.min(question_len)))\n",
    "print('question max len: {}'.format(np.max(question_len)))\n",
    "print('question avg len: {}'.format(np.mean(question_len)))\n",
    "\n",
    "print('\\nanswer min len: {}'.format(np.min(answers_len)))\n",
    "print('answer max len: {}'.format(np.max(answers_len)))\n",
    "print('answer avg len: {}'.format(np.mean(answers_len)))\n",
    "print(\"*\" * 60)\n",
    "#End==============================\n",
    "\n",
    "\n",
    "#시각화===========================\n",
    "data_list = (question_len, answers_len)\n",
    "title_list = (\"Question\", \"Answer\")\n",
    "\n",
    "plt.figure(figsize=(11, 9))\n",
    "plt.suptitle(\"<Fig. 1> Sentence Length\", fontsize=14)\n",
    "plt.subplots_adjust(top=0.9, wspace=0.2)\n",
    "\n",
    "for idx, data in enumerate(data_list):\n",
    "    idx += 1\n",
    "    plt.subplot(2, 2, idx)\n",
    "    \n",
    "    plt.boxplot(data)\n",
    "    plt.title(title_list[idx-1])\n",
    "    \n",
    "    plt.subplot(2, 2, idx + 2)\n",
    "    plt.hist(data, bins=40)\n",
    "    plt.xlabel(\"length of samples\")\n",
    "    plt.ylabel(\"number of samples\")\n",
    "\n",
    "plt.show()\n",
    "#End=============================="
   ]
  },
  {
   "cell_type": "markdown",
   "id": "assigned-rider",
   "metadata": {},
   "source": [
    "<br>\n",
    "\n",
    "#### 단어사전 생성하기\n",
    "***\n",
    "+ `SubwordTextEncoder`를 이용하여 단어 사전을 생성합니다.\n",
    "***"
   ]
  },
  {
   "cell_type": "code",
   "execution_count": 6,
   "id": "august-costs",
   "metadata": {},
   "outputs": [],
   "source": [
    "tokenizer = tfds.deprecated.text.SubwordTextEncoder.build_from_corpus(\n",
    "    questions + answers,\n",
    "    target_vocab_size=8192   #단어사전 크기\n",
    ")"
   ]
  },
  {
   "cell_type": "markdown",
   "id": "adult-christmas",
   "metadata": {},
   "source": [
    "<br>\n",
    "\n",
    "#### 시작, 종료 토큰 추가\n",
    "***\n",
    "+ 시작과 종료 토큰을 추가합니다.\n",
    "\n",
    "\n",
    "+ 최종 단어사전의 크기는 8,147개 입니다.\n",
    "***"
   ]
  },
  {
   "cell_type": "code",
   "execution_count": 7,
   "id": "shared-dubai",
   "metadata": {
    "scrolled": true
   },
   "outputs": [
    {
     "name": "stdout",
     "output_type": "stream",
     "text": [
      "**************************************************\n",
      "START_TOKEN: [8145]\n",
      "END_TOKEN: [8146]\n",
      "VOCAB SIZE: 8147\n",
      "**************************************************\n"
     ]
    }
   ],
   "source": [
    "START_TOKEN, END_TOKEN = [tokenizer.vocab_size], [tokenizer.vocab_size + 1]\n",
    "VOCAB_SIZE = tokenizer.vocab_size + 2   #시작, 종료 토큰 추가 시의 vocab 크기\n",
    "\n",
    "\n",
    "#출력부================================\n",
    "print(\"*\" * 50)\n",
    "print('START_TOKEN:' ,START_TOKEN)\n",
    "print('END_TOKEN:' ,END_TOKEN)\n",
    "print(\"VOCAB SIZE:\", VOCAB_SIZE)\n",
    "print(\"*\" * 50)\n",
    "#End==================================="
   ]
  },
  {
   "cell_type": "markdown",
   "id": "romance-horizon",
   "metadata": {},
   "source": [
    "<br>\n",
    "\n",
    "#### 문장 필터링 및 토크나이저 생성\n",
    "***\n",
    "+ 문장의 최대 길이를 `10`으로 설정하고 그 이상의 길이에 해당하는 문장은 제외 합니다.\n",
    "\n",
    "\n",
    "+ 필터링 후의 문장 수는 총 9,104개 입니다.\n",
    "\n",
    "\n",
    "+ 자연어로 된 단어를 정수로 변경하여 줍니다.\n",
    "***"
   ]
  },
  {
   "cell_type": "code",
   "execution_count": 8,
   "id": "affected-daniel",
   "metadata": {},
   "outputs": [
    {
     "name": "stdout",
     "output_type": "stream",
     "text": [
      "**************************************************\n",
      "필터링 후의 질문 샘플 개수: 9084\n",
      "필터링 후의 답변 샘플 개수: 9084\n",
      "**************************************************\n"
     ]
    }
   ],
   "source": [
    "MAX_LENGTH = 10\n",
    "\n",
    "#================================\n",
    "def tokenize_and_filter(inputs, outputs):\n",
    "    tokenized_inputs, tokenized_outputs = [], []\n",
    "  \n",
    "    for (sentence1, sentence2) in zip(inputs, outputs):\n",
    "        # 정수 인코딩 과정에서 시작 토큰과 종료 토큰을 추가\n",
    "        sentence1 = START_TOKEN + tokenizer.encode(sentence1) + END_TOKEN\n",
    "        sentence2 = START_TOKEN + tokenizer.encode(sentence2) + END_TOKEN\n",
    "\n",
    "        # 최대 길이 40 이하인 경우에만 데이터셋으로 허용\n",
    "        if len(sentence1) <= MAX_LENGTH and len(sentence2) <= MAX_LENGTH:\n",
    "            tokenized_inputs.append(sentence1)\n",
    "            tokenized_outputs.append(sentence2)\n",
    "  \n",
    "    # 최대 길이 40으로 모든 데이터셋을 패딩\n",
    "    tokenized_inputs = tf.keras.preprocessing.sequence.pad_sequences(\n",
    "        tokenized_inputs, maxlen=MAX_LENGTH, padding='post'\n",
    "    )\n",
    "    tokenized_outputs = tf.keras.preprocessing.sequence.pad_sequences(\n",
    "        tokenized_outputs, maxlen=MAX_LENGTH, padding='post'\n",
    "    )\n",
    "    return tokenized_inputs, tokenized_outputs\n",
    "#End===================================\n",
    "\n",
    "\n",
    "questions, answers = tokenize_and_filter(questions, answers)\n",
    "\n",
    "\n",
    "#출력부================================\n",
    "print(\"*\" * 50)\n",
    "print('필터링 후의 질문 샘플 개수: {}'.format(len(questions)))\n",
    "print('필터링 후의 답변 샘플 개수: {}'.format(len(answers)))\n",
    "print(\"*\" * 50)\n",
    "#End==================================="
   ]
  },
  {
   "cell_type": "markdown",
   "id": "coated-halloween",
   "metadata": {},
   "source": [
    "<br>\n",
    "\n",
    "#### 데이터셋 생성하기\n",
    "***\n",
    "+ 앞서 획득한 9,104개의 정수화된 문장 데이터를 데이터셋으로 만듭니다.\n",
    "\n",
    "\n",
    "+ 배치 사이즈는 64개로 설정 합니다.\n",
    "\n",
    "\n",
    "+ 지금까지 자연어로 된 문장을 정수 형태로 된 데이터셋으로 만드는 과정이 이루어졌습니다.\n",
    "***"
   ]
  },
  {
   "cell_type": "code",
   "execution_count": 9,
   "id": "several-metadata",
   "metadata": {},
   "outputs": [
    {
     "name": "stdout",
     "output_type": "stream",
     "text": [
      "**********************************************************************\n",
      "보조_배터리안_가지고_왔다\n",
      "↓↓↓↓↓↓↓↓↓↓↓↓↓↓↓↓↓↓↓↓↓↓↓↓↓↓↓↓↓↓↓↓↓↓↓\n",
      "[8145  187 6236 5312 7921   20  938 1092 8146    0]\n",
      "**********************************************************************\n"
     ]
    }
   ],
   "source": [
    "BATCH_SIZE = 64\n",
    "BUFFER_SIZE = 10000\n",
    "\n",
    "#데이터셋 생성=============================================\n",
    "dataset = tf.data.Dataset.from_tensor_slices((\n",
    "    {\n",
    "        'inputs': questions,\n",
    "        #마지막 글자 제외 = END TOKEN 제외\n",
    "        'dec_inputs': answers[:, :-1]\n",
    "    },\n",
    "    {\n",
    "        #첫 번째 글자 제외 = START TOKEN 제외\n",
    "        'outputs': answers[:, 1:]\n",
    "    },\n",
    "))\n",
    "\n",
    "dataset = dataset.cache()\n",
    "dataset = dataset.shuffle(BUFFER_SIZE)\n",
    "dataset = dataset.batch(BATCH_SIZE)\n",
    "dataset = dataset.prefetch(tf.data.experimental.AUTOTUNE)\n",
    "#End=========================================================\n",
    "\n",
    "\n",
    "#출력부======================================================\n",
    "for input_data, output_data in dataset.take(1): break;\n",
    "rand_idx = np.random.randint(0, BATCH_SIZE)\n",
    "seq = input_data[\"inputs\"][rand_idx]\n",
    "\n",
    "print(\"*\" * 70)\n",
    "for word in seq.numpy():\n",
    "    try:\n",
    "        word = tokenizer.subwords[word - 1]\n",
    "        if word == \" , ,\": break;\n",
    "        print(word, end=\"\")\n",
    "    except:\n",
    "        pass\n",
    "print(\"\\n\" + \"↓\" * 35)\n",
    "print(seq.numpy())\n",
    "print(\"*\" * 70)\n",
    "#End========================================================="
   ]
  },
  {
   "cell_type": "markdown",
   "id": "completed-startup",
   "metadata": {},
   "source": [
    "<br>\n",
    "\n",
    "## 4. 트랜스포머 모델 생성\n",
    "***\n",
    "<span style=\"font-size:12pt; line-height:1.7; font-family:Serif;\">\n",
    "    &nbsp; &nbsp; 트랜스포머 모델은 크게 인코더 부분과 디코더 부분으로 이루어져 있습니다. 모델의 목표는 'seq2seq'의 '시계열 데이터를 입력하여 시계열 데이터를 얻는 것'과 동일합니다. 기본적인 아이디어는 'Attention'만을 이용하여 'seq2seq'를 수행 하는 것입니다. 또한, 기존의 'Attention'은 RNN을 이용하여 데이터의 입력이 '순차적'으로 수행되었지만, 트랜스포머의 데이터 입력은  '동시에' 혹은 '병렬적'으로 수행된다는 특징이 있습니다. 구체적인 트랜스포머의 작동 원리와 모델 생성 과정을 설명하고자 합니다.\n",
    "</span>\n",
    "\n",
    "***"
   ]
  },
  {
   "cell_type": "markdown",
   "id": "analyzed-analysis",
   "metadata": {},
   "source": [
    "### 4.1. Positional 인코딩 레이어\n",
    "***\n",
    "<span style=\"font-size:12pt; line-height:1.7; font-family:Serif;\">\n",
    "    &nbsp; &nbsp; Positional 인코딩 레이어는 문장을 이루고 있는 단어들의 순서를 모델에게 알려주기 위해 사용 됩니다. Positional 인코딩 레이어의 필요성과 구체적인 사용 방법에 대해 설명하겠습니다.\n",
    "</span>\n",
    "\n",
    "***"
   ]
  },
  {
   "cell_type": "markdown",
   "id": "informational-tampa",
   "metadata": {},
   "source": [
    "### 4.1.1. Positional 인코딩 레이어의 존재 이유\n",
    "***\n",
    "<span style=\"font-size:12pt; line-height:1.7; font-family:Serif;\">\n",
    "    &nbsp; &nbsp; 앞서 트랜스포머는 데이터의 입력이 병렬적으로 이루어진다고 하였습니다. 이를 쉽게 설명한다면 '문장을 동시에 한 번에 넣는 것'이라고 할 수 있습니다. [그림 2]는 기존 RNN을 이용한 seq2seq의 데이터 입력 방식과 트랜스포머의 입력 방식을 그린 것입니다. \n",
    "</span><br><br>\n",
    "\n",
    "<span style=\"font-size:12pt; line-height:1.7; font-family:Serif;\">\n",
    "    &nbsp; &nbsp; RNN을 이용한 경우에는 'I', 'Love', 'You' 단어를 RNN 유닛에 단어별로 순차적으로 넣어주었습니다. 하지만 트랜스포머에서는 단어를 하나의 행렬로 묶어 한 번에 입력합니다.\n",
    "</span><br><br>\n",
    "\n",
    "<span style=\"font-size:12pt; line-height:1.7; font-family:Serif;\">\n",
    "    &nbsp; &nbsp; 여기서 문제가 발생하는데, RNN의 경우에는 단어를 순차적으로 입력하기 때문에 모델이 단어의 순서를 알 수 있습니다. 하지만, 트랜스포머의 경우 동시에 입력되기 때문에 단어의 순서를 알 수 없습니다. 한 문장에 동일한 단어가 존재할 때, 두 단어의 임베딩 벡터 값은 동일할 것이고 모델은 그 순서를 알 수 없습니다. 이러한 문제를 해결하기 위해 Positional 인코딩 레이어가 사용됩니다.\n",
    "</span>\n",
    "\n",
    "<img src=\"./img/why_positional.png\" width=400>\n",
    "[그림 2] 기존 seq2seq의 작동 방식과 트랜스포머의 작동 방식\n",
    "\n",
    "***"
   ]
  },
  {
   "cell_type": "markdown",
   "id": "similar-caribbean",
   "metadata": {},
   "source": [
    "### 4.1.2. 구체적인 Positional 인코딩 레이어의 활용 방법\n",
    "***\n",
    "<span style=\"font-size:12pt; line-height:1.7; font-family:Serif;\">\n",
    "    &nbsp; &nbsp; Positional 인코딩 레이어는 단어별 즉, 행별로 다른 값을 가지는 레이어와 입력되는 단어 임베딩을 더하여 그 순서를 구분하고자 합니다. [그림 3]은 Positional 인코딩 레이어를 통해 어떻게 순서를 구분하는지 보여줍니다. 'sentence length'는 문장의 길이 즉, 문장을 이루는 단어의 개수 입니다. 'word vector'는 단어 임베딩 벡터의 차원 수 입니다. 따라서, Posltional 인코딩 레이어의 각 행이 단어이며 그 순서를 나타내는 것입니다. 따라서 1행은 t 시점의 단어, 2행은 t + 1 시점의 단어에 해당하는 것입니다. 따라서, 각 행별로 다른 값을 가진 Positional 인코딩 레이어와 입력되는 단어 임베딩을 더하면 같은 단어라도 출력되는 값이 달라지게 됩니다.\n",
    "</span><br><br>\n",
    "\n",
    "<span style=\"font-size:12pt; line-height:1.7; font-family:Serif;\">\n",
    "    &nbsp; &nbsp; Positional 인코딩 레이어와 입력되는 문장 행렬은 같은 위치의 원소를 더하는 것이기 때문에 두 행렬의 크기는 동일함을 알 수 있습니다. Positional 인코딩 레이어의 패턴은 Cosin과 Sin을 이용합니다. 중요한 것은 단어에 해당하는 각 행의 값이 모두 다른 점을 이용하여 단어의 순서를 구분한다는 것입니다.\n",
    "</span>\n",
    "\n",
    "<img src=\"./img/positional.png\" width=500>\n",
    "[그림 3] Positional 인코딩 레이어와 연산 방식\n",
    "\n",
    "***"
   ]
  },
  {
   "cell_type": "markdown",
   "id": "extra-frank",
   "metadata": {},
   "source": [
    "<br>\n",
    "\n",
    "#### Positional 인코딩 레이어 생성\n",
    "***\n",
    "+ Positional 인코딩 레이어를 생성합니다.\n",
    "***\n"
   ]
  },
  {
   "cell_type": "code",
   "execution_count": 10,
   "id": "dangerous-respect",
   "metadata": {},
   "outputs": [],
   "source": [
    "# 포지셔널 인코딩 레이어++++++++++++++++++++++++++++++++++++++++++++++++++++++\n",
    "class PositionalEncoding(tf.keras.layers.Layer):\n",
    "\n",
    "    def __init__(self, position, d_model):\n",
    "        #position: 행 크기(=문장 길이), d_model:  임베딩 차원\n",
    "        super(PositionalEncoding, self).__init__()\n",
    "        self.pos_encoding = self.positional_encoding(position, d_model)\n",
    "\n",
    "    #(pos / 10000 ** 2i / d_model)==============================\n",
    "    def get_angles(self, position, i, d_model):\n",
    "        #tf.pow(x, y): x ** y\n",
    "        angles = 1 / tf.pow(10000, (2 * (i // 2)) / tf.cast(d_model, tf.float32))\n",
    "        return position * angles\n",
    "    #End========================================================\n",
    "    \n",
    "    def positional_encoding(self, position, d_model):\n",
    "        # 각도 배열 생성\n",
    "        angle_rads = self.get_angles(\n",
    "            position=tf.range(position, dtype=tf.float32)[:, tf.newaxis],\n",
    "            i=tf.range(d_model, dtype=tf.float32)[tf.newaxis, :],\n",
    "            d_model=d_model\n",
    "        )\n",
    "\n",
    "        # 배열의 짝수 인덱스에는 sin 함수 적용\n",
    "        sines = tf.math.sin(angle_rads[:, 0::2])\n",
    "        \n",
    "        # 배열의 홀수 인덱스에는 cosine 함수 적용\n",
    "        cosines = tf.math.cos(angle_rads[:, 1::2])\n",
    "\n",
    "        # sin과 cosine이 교차되도록 재배열\n",
    "        pos_encoding = tf.stack([sines, cosines], axis=0)   #순차대로 적재\n",
    "        pos_encoding = tf.transpose(pos_encoding, [1, 2, 0]) \n",
    "        pos_encoding = tf.reshape(pos_encoding, [position, d_model])\n",
    "\n",
    "        pos_encoding = pos_encoding[tf.newaxis, ...]\n",
    "        return tf.cast(pos_encoding, tf.float32)\n",
    "\n",
    "    def call(self, inputs):   #input과 positional encoding과 합치기\n",
    "        return inputs + self.pos_encoding[:, :tf.shape(inputs)[1], :]\n",
    "#End++++++++++++++++++++++++++++++++++++++++++++++++++++++++++++++++++++++++++"
   ]
  },
  {
   "cell_type": "markdown",
   "id": "concrete-mozambique",
   "metadata": {},
   "source": [
    "<br>\n",
    "\n",
    "#### 포지셔널 인코딩 레이어 시각화\n",
    "***\n",
    "+ 임베딩 크기는 512이며, 문장 길이는 10인 Positional 인코딩 레이어를 시각화 합니다.\n",
    "\n",
    "\n",
    "+ 각 행별로 그 값이 다른 것을 확인할 수 있습니다.\n",
    "***"
   ]
  },
  {
   "cell_type": "code",
   "execution_count": 11,
   "id": "ongoing-drink",
   "metadata": {},
   "outputs": [
    {
     "data": {
      "image/png": "[encoded data removed]",
      "text/plain": [
       "<Figure size 432x288 with 2 Axes>"
      ]
     },
     "metadata": {
      "needs_background": "light"
     },
     "output_type": "display_data"
    }
   ],
   "source": [
    "EMBEDDING_SIZE = 512\n",
    "\n",
    "sample_pos_encoding = PositionalEncoding(MAX_LENGTH, EMBEDDING_SIZE)\n",
    "\n",
    "plt.pcolormesh(sample_pos_encoding.pos_encoding.numpy()[0], cmap='RdBu')\n",
    "plt.xlabel('Depth')\n",
    "plt.xlim((0, EMBEDDING_SIZE))\n",
    "plt.ylabel('Position')\n",
    "plt.colorbar()\n",
    "plt.show()"
   ]
  },
  {
   "cell_type": "markdown",
   "id": "completed-folder",
   "metadata": {},
   "source": [
    "<br>\n",
    "\n",
    "#### 중복 행 여부 확인하기\n",
    "***\n",
    "+ Positional 인코딩 레이어의 행 중 중복되는 행을 제거하여 그 크기 변화를 확인합니다.\n",
    "\n",
    "\n",
    "+ 그 결과, 제거된 행이 없으며, 이는 중복되는 행이 없음을 의미 합니다.\n",
    "***"
   ]
  },
  {
   "cell_type": "code",
   "execution_count": 12,
   "id": "broke-district",
   "metadata": {},
   "outputs": [
    {
     "name": "stdout",
     "output_type": "stream",
     "text": [
      "**************************************************\n",
      "(1, 10, 512)\n",
      "↓↓↓↓↓drop duplicate data↓↓↓↓↓\n",
      "(10, 512)\n",
      "**************************************************\n"
     ]
    }
   ],
   "source": [
    "print(\"*\" * 50)\n",
    "print(sample_pos_encoding.pos_encoding.shape)\n",
    "print(\"↓↓↓↓↓drop duplicate data↓↓↓↓↓\")\n",
    "\n",
    "#중복행 제거\n",
    "test_pd = pd.DataFrame(sample_pos_encoding.pos_encoding.numpy()[0]).copy()\n",
    "\n",
    "print(test_pd.drop_duplicates(test_pd.columns.tolist()).shape)\n",
    "print(\"*\" * 50)"
   ]
  },
  {
   "cell_type": "markdown",
   "id": "rational-financing",
   "metadata": {},
   "source": [
    "<br>\n",
    "\n",
    "### 4.2. Scaled Dot Product Attention\n",
    "***\n",
    "<span style=\"font-size:12pt; line-height:1.7; font-family:Serif;\">\n",
    "    &nbsp; &nbsp; Scaled Dot Product Attention은 Attention의 일종으로 단어 벡터 간 유사도를 행렬곱(Product)하고 정규화(Scale)한 것으로 이해할 수 있습니다. 우선 Attention을 설명한 후, Scaled Dot Product Attention을 구하는 방법을 설명하고자 합니다.\n",
    "</span>\n",
    "\n",
    "***"
   ]
  },
  {
   "cell_type": "markdown",
   "id": "furnished-cartridge",
   "metadata": {},
   "source": [
    "### 4.2.1. Attention의 역할\n",
    "***\n",
    "<span style=\"font-size:12pt; line-height:1.7; font-family:Serif;\">\n",
    "    &nbsp; &nbsp; Attention은 문장의 단어 간 연관 정도를 파악하는 것입니다. 그리고 연관도가 높은 단어에 집중(Attetion)하겠다는 것입니다. [그림 4]는 Atention을 도식화 한 것입니다. 'I am a boy'에서 'I'와 각 단어의 연관도를 파악한다면, '나'는 '남자'이기 때문에 'boy'와 높은 연관도를 가질 것입니다. 이러한 단어 간의 연관도는 모델이 문장을 이해하는데 도움을 줍니다. 단어의 연관도는 [그림 3]과 같이 행렬 형태로 나타내어 연산이 이루어 집니다.\n",
    "</span>\n",
    "\n",
    "<img src=\"./img/what_attention.png\" width=500>\n",
    "\n",
    "***"
   ]
  },
  {
   "cell_type": "markdown",
   "id": "pressed-louisiana",
   "metadata": {},
   "source": [
    "### 4.2.2. Scaled Dot Product Attention 연산\n",
    "***\n",
    "<span style=\"font-size:12pt; line-height:1.7; font-family:Serif;\">\n",
    "    &nbsp; &nbsp; 구체적인 Scaled Dot Product Attention을 구하는 방법을 알아보겠습니다. 이를 구하기 위해서는 Query(Q), Key(K), Value(V), d가 이용됩니다. Query는 비교하고자 하는 단어의 벡터들, Key와 Value는 비교되는 단어의 벡터들입니다. d는 정규화를 위한 하나의 스칼라 값입니다. 단어 벡터의 크기를 병렬 수행할 수(Num Head)로 나누어 줍니다. [그림 5]는 Scaled Dot Product Attention의 연산 순서를 제시한 것입니다.\n",
    "</span><br><br>\n",
    "    \n",
    "    \n",
    "<span style=\"font-size:12pt; line-height:1.7; font-family:Serif;\">\n",
    "    &nbsp; &nbsp; 연산은 비교하고자 하는 단어의 벡터들(Q)와 비교 대상이 되는 단어의 벡터들의 전치행렬(K)을 행렬곱(Dot Product) 해준 후, 이를 sqrt(d)로 나누어 줍니다. 이후 Value를 곱하여 줍니다. 각 Q, K, V의 크기는 모두 동일하며, 해당 크기는 단어 벡터의 크기를 병렬 수행할 수(Num Head)로 나눈 값을 이용합니다. 논문에서는 512 크기의 단어 벡터와 8개의 Num Head를 이용하여 Q, K, V의 크기가 64입니다. 또한, Scaled Dot Product Attention 연산의 최종 출력 또한 Q, K, V와 크기가 동일한 것을 확인할 수 있습니다. [그림 5]에는 나와 있지 않지만 최종적으로 얻은 Scaled Dot Product Attention 값을 Dense 레이어에 통과 시킵니다. 아래는 Scaled Dot Product Attention의 수식을 제시한 것입니다.\n",
    "</span><br><br>\n",
    "\n",
    "$$Attention(Q, K, V) = softmax(\\frac{QK^T}{sqrt(d_k)}) V$$\n",
    "\n",
    "<br><img src=\"./img/scaled_dot.png\" width=800>\n",
    "\n",
    "[그림 5] Scaled Dot Product Attention 연산 순서\n",
    "***"
   ]
  },
  {
   "cell_type": "markdown",
   "id": "fundamental-jersey",
   "metadata": {},
   "source": [
    "<br>\n",
    "\n",
    "#### Scaled Dot Product Attention 함수 생성\n",
    "***\n",
    "+ Scaled Dot Product Attention 연산을 수행하는 함수를 생성 합니다.\n",
    "***"
   ]
  },
  {
   "cell_type": "code",
   "execution_count": 13,
   "id": "chubby-baltimore",
   "metadata": {},
   "outputs": [],
   "source": [
    "#스케일드 닷 프로덕트 어텐션 함수(Q, K, V, mask)===============\n",
    "def scaled_dot_product_attention(query, key, value, mask):\n",
    "    #Q ·K product\n",
    "    matmul_qk = tf.matmul(query, key, transpose_b=True)\n",
    "\n",
    "    # 가중치를 정규화\n",
    "    depth = tf.cast(tf.shape(key)[-1], tf.float32)   #depth=d_k\n",
    "    logits = matmul_qk / tf.math.sqrt(depth)\n",
    "\n",
    "    # 패딩에 마스크 추가\n",
    "    #Key에서 패딩열에 아주 작은 값으로 대체한다.\n",
    "    if mask is not None:\n",
    "        logits += (mask * -1e9)\n",
    "\n",
    "    # softmax적용\n",
    "    attention_weights = tf.nn.softmax(logits, axis=-1)\n",
    "\n",
    "    # 최종 어텐션은 가중치와 V의 닷 프로덕트\n",
    "    output = tf.matmul(attention_weights, value)\n",
    "    return output\n",
    "#End==========================================================="
   ]
  },
  {
   "cell_type": "markdown",
   "id": "experimental-danish",
   "metadata": {},
   "source": [
    "<br>\n",
    "\n",
    "#### 패딩 마스크 생성하기\n",
    "***\n",
    "+ 어텐션에서 `패딩(padding)`에 대한 유사도는 불필요하기 때문에 패딩열의 값을 작은 값으로 대체하여 softmax 출력에서 0의 확률이 나오도록 유도\n",
    "\n",
    "\n",
    "+ 패딩 위치를 `1(True)`로 출력하는 함수\n",
    "***"
   ]
  },
  {
   "cell_type": "code",
   "execution_count": 14,
   "id": "ruled-chase",
   "metadata": {},
   "outputs": [],
   "source": [
    "def create_padding_mask(x):\n",
    "    mask = tf.cast(tf.math.equal(x, 0), tf.float32)\n",
    "    # (batch_size, 1, 1, sequence length)\n",
    "    return mask[:, tf.newaxis, tf.newaxis, :]"
   ]
  },
  {
   "cell_type": "markdown",
   "id": "public-symbol",
   "metadata": {},
   "source": [
    "<br>\n",
    "\n",
    "### 4.2.3. Query, Key, Value의 근원\n",
    "***\n",
    "<span style=\"font-size:12pt; line-height:1.7; font-family:Serif;\">\n",
    "    &nbsp; &nbsp; Query, Key, Value는 어떻게 구하는지 알 필요가 있습니다. [그림 6]은 Query, Key, Value를 구하는 방법을 보여줍니다. 우선 앞서 설명한 Positional 인코딩 레이어와 문장 행렬이 더해진 값이 입력 됩니다. [그림 6]에서는 이해를 위해 행 크기를 1로 설정하였습니다. 행 크기가 1이란 것은 단어가 한 개만 입력된 것으로 생각할 수 있습니다. 그럼 이는 Wq, Wk, Wv 총 세 개의 Dense 레이어를 통과 합니다. Dense 레이어는 임베딩 벡터의 크기와 동일한 수의 유닛을 가집니다. 그럼이를 Num Head의 크기에 맞게 형태를 변형합니다. 논문에서는 512의 임베딩 벡터를 8개의 Num head로 나누어 8 x 64로 변형 하였습니다. 최종적으로 각 행이 Query, Key, Value에 해당하며, 총 8개의 Head가 생성된 것을 확인할 수 있습니다.\n",
    "</span>\n",
    "\n",
    "<img src=\"./img/get_qkv.png\" width=800>\n",
    "\n",
    "[그림 6] Query, Key, Value 획득 방법\n",
    "\n",
    "***"
   ]
  },
  {
   "cell_type": "markdown",
   "id": "turkish-attention",
   "metadata": {},
   "source": [
    "#### Multi Head Attention 정의\n",
    "***\n",
    "+ 앞서 설명한 Head 나누기와 Scaled Dot Product Attention을 결합하여 Multi Head Attention 레이어를 정의 합니다.\n",
    "***"
   ]
  },
  {
   "cell_type": "code",
   "execution_count": 15,
   "id": "caroline-resolution",
   "metadata": {},
   "outputs": [],
   "source": [
    "class MultiHeadAttention(tf.keras.layers.Layer):\n",
    "    #d_model: 단어 벡터 크기, num_heads: 병렬 처리 개수\n",
    "    def __init__(self, d_model, num_heads, name=\"multi_head_attention\"):\n",
    "        super(MultiHeadAttention, self).__init__(name=name)\n",
    "        self.num_heads = num_heads\n",
    "        self.d_model = d_model\n",
    "\n",
    "        #assert 문이 False이면 assert 에러 발생\n",
    "        #assert는 에러문이 발생하지만, 코드가 중단되지는 않는다.\n",
    "        #즉 단어 벡터 크기가 병렬 처리 개수로 나누었을 때,\n",
    "        #맞아 떨어져야 잘 작동한 다는 뜻이다.\n",
    "        assert d_model % self.num_heads == 0\n",
    "\n",
    "        #하나의 head가 가지는 벡터 크기\n",
    "        self.depth = d_model // self.num_heads\n",
    "\n",
    "        self.query_dense = tf.keras.layers.Dense(units=d_model)\n",
    "        self.key_dense = tf.keras.layers.Dense(units=d_model)\n",
    "        self.value_dense = tf.keras.layers.Dense(units=d_model)\n",
    "\n",
    "        self.dense = tf.keras.layers.Dense(units=d_model)\n",
    "\n",
    "    def split_heads(self, inputs, batch_size):\n",
    "        inputs = tf.reshape(\n",
    "            #shape(batch_size, MAX_LENGTH, num_heads, depth)\n",
    "            #=(64, 40, 8, 64)\n",
    "            inputs, shape=(batch_size, -1, self.num_heads, self.depth)\n",
    "        )\n",
    "        #shape(batch_size, num_heads, MAX_LENGTH, depth)\n",
    "        #=(64, 8, 40, 64)\n",
    "        return tf.transpose(inputs, perm=[0, 2, 1, 3])\n",
    "\n",
    "    def call(self, inputs):\n",
    "        query, key, value, mask = inputs['query'], inputs['key'], inputs['value'], inputs['mask']\n",
    "        batch_size = tf.shape(query)[0]\n",
    "\n",
    "        # Q, K, V에 각각 Dense를 적용합니다\n",
    "        query = self.query_dense(query)\n",
    "        key = self.key_dense(key)\n",
    "        value = self.value_dense(value)\n",
    "\n",
    "        \n",
    "        # 병렬 연산을 위한 머리를 여러 개 만듭니다+++++++++++\n",
    "        #num_head 수 만큼 나누기\n",
    "        #shape(batch_size, num_heads, MAX_LENGTH, depth)\n",
    "        #=(64, 8, 40, 64)\n",
    "        query = self.split_heads(query, batch_size)\n",
    "        key = self.split_heads(key, batch_size)\n",
    "        value = self.split_heads(value, batch_size)\n",
    "        #End+++++++++++++++++++++++++++++++++++++++++++++++++\n",
    "        \n",
    "\n",
    "        # 스케일드 닷 프로덕트 어텐션 함수\n",
    "        scaled_attention = scaled_dot_product_attention(query, key, value, mask)\n",
    "        #shape(batch_size, MAX_LENGTH, num_heads, depth)\n",
    "        #=(64, 40, 8, 64)\n",
    "        scaled_attention = tf.transpose(scaled_attention, perm=[0, 2, 1, 3])\n",
    "\n",
    "        # 어텐션 연산 후에 각 결과를 다시 연결(concatenate)합니다\n",
    "        concat_attention = tf.reshape(\n",
    "            scaled_attention,\n",
    "            #shape(batch_size, MAX_LENGTH, (num_heads, depth))\n",
    "            #=(64, 40, 512)\n",
    "            (batch_size, -1, self.d_model)\n",
    "        )\n",
    "\n",
    "        # 최종 결과에도 Dense를 한 번 더 적용합니다\n",
    "        outputs = self.dense(concat_attention)\n",
    "\n",
    "        return outputs"
   ]
  },
  {
   "cell_type": "markdown",
   "id": "novel-developer",
   "metadata": {},
   "source": [
    "<br>\n",
    "\n",
    "### 4.3. 인코더 레이어\n",
    "***\n",
    "<span style=\"font-size:12pt; line-height:1.7; font-family:Serif;\">\n",
    "    &nbsp; &nbsp; 앞서 설명한 Multi Head Attention을 활용하여 인코더 레이어를 정의할 수 있습니다. 결국 Multi Head Attention은 설정한 Head의 수만큼 단어 간의 연관도를 계산하는 것입니다. 또한 입력과 출력의 크기가 동일하다는 것도 설명하였습니다. 입력과 출력의 크기가 동일하기 때문에 인코더 레이어를 여러 층 쌓는 것이 가능합니다.\n",
    "</span><br><br>\n",
    "\n",
    "<span style=\"font-size:12pt; line-height:1.7; font-family:Serif;\">\n",
    "    &nbsp; &nbsp; 인코더 레이어의 형태는 앞서 설명한 Multi Head Attention 후에 Position-wise 피드 포워드 층이 오는데 피드 포워드 층은 흔히 알고 있는 Dense 층으로 이해할 수 있습니다. [그림 7]은 인코더 레이어의 아키텍처를 제시한 것입니다.\n",
    "</span>\n",
    "\n",
    "<img src=\"./img/encoder.png\" width=500>\n",
    "\n",
    "[그림 7] 인코더 레이어의 아키텍처\n",
    "\n",
    "***"
   ]
  },
  {
   "cell_type": "markdown",
   "id": "according-dictionary",
   "metadata": {},
   "source": [
    "#### 인코더 레이어 정의\n",
    "***\n",
    "+ 인코더 레이어를 정의합니다.\n",
    "***"
   ]
  },
  {
   "cell_type": "code",
   "execution_count": 16,
   "id": "varying-election",
   "metadata": {
    "scrolled": true
   },
   "outputs": [],
   "source": [
    "# 인코더 하나의 레이어를 함수로 구현.\n",
    "# 이 하나의 레이어 안에는 두 개의 서브 레이어가 존재합니다.\n",
    "def encoder_layer(units, d_model, num_heads, dropout, name=\"encoder_layer\"):\n",
    "    inputs = tf.keras.Input(shape=(None, d_model), name=\"inputs\")\n",
    "\n",
    "    # 패딩 마스크 사용\n",
    "    padding_mask = tf.keras.Input(shape=(1, 1, None), name=\"padding_mask\")\n",
    "\n",
    "    # 첫 번째 서브 레이어 : 멀티 헤드 어텐션 수행 (셀프 어텐션)\n",
    "    attention = MultiHeadAttention(\n",
    "        d_model, num_heads, name=\"attention\")({\n",
    "            'query': inputs,\n",
    "            'key': inputs,\n",
    "            'value': inputs,\n",
    "            'mask': padding_mask\n",
    "        }\n",
    "    )\n",
    "\n",
    "    # 어텐션의 결과는 Dropout과 Layer Normalization이라는 훈련을 돕는 테크닉을 수행\n",
    "    attention = tf.keras.layers.Dropout(rate=dropout)(attention)\n",
    "    attention = tf.keras.layers.LayerNormalization(epsilon=1e-6)(inputs + attention)\n",
    "\n",
    "    # 두 번째 서브 레이어 : 2개의 완전연결층\n",
    "    outputs = tf.keras.layers.Dense(units=units, activation='relu')(attention)\n",
    "    outputs = tf.keras.layers.Dense(units=d_model)(outputs)\n",
    "\n",
    "    # 완전연결층의 결과는 Dropout과 LayerNormalization이라는 훈련을 돕는 테크닉을 수행\n",
    "    outputs = tf.keras.layers.Dropout(rate=dropout)(outputs)\n",
    "    outputs = tf.keras.layers.LayerNormalization(epsilon=1e-6)(attention + outputs)\n",
    "\n",
    "    return tf.keras.Model(\n",
    "        inputs=[inputs, padding_mask], outputs=outputs, name=name\n",
    "    )"
   ]
  },
  {
   "cell_type": "markdown",
   "id": "alone-kenya",
   "metadata": {},
   "source": [
    "<br>\n",
    "\n",
    "### 4.4. 인코더 통합\n",
    "***\n",
    "<span style=\"font-size:12pt; line-height:1.7; font-family:Serif;\">\n",
    "    &nbsp; &nbsp; 이제 트랜스포머의 인코더 파트를 정의할 수 있습니다. 전체적으로 다시 설명하겠습니다. [그림 8]은 트랜스포머의 인코더 파트를 제시한 것입니다. 트랜스포머의 입력은 단어를 묶어 한번에 입력(Input) 합니다. 단어를 묶는다는 것은 결국 '문장을 한 번에 넣는다'라고 이해할 수 있습니다. 이는 임베딩 레이어를 통과하여 임베딩 벡터의 묶음, 행렬로 변환 됩니다. 단어의 순서를 적용하기 위해 Positional 인코딩을 추가하여 줍니다. Multi Head Attention에 입력하여 줍니다. 단어의 연관도를 구할 때, Padding의 연관도는 불필요하므로 padding mask도 함께 입력하여줍니다. 인코더 레이어는 여러 개를 쌓을 수 있으며, 논문에서는 6개의 인코더 레이어를 사용하였습니다. 최종 출력은 이후 디코더에 입력됩니다.\n",
    "</span><br><br>\n",
    "\n",
    "<span style=\"font-size:12pt; line-height:1.7; font-family:Serif;\">\n",
    "    &nbsp; &nbsp; 트랜스포머 인코더 파트의 중요한 부분은 역시 Multi Head Attention이 사용되는 인코더 레이어일 것입니다. 입력되는 문장의 단어 간의 연관도를 구한다는 것. 그리고 인코더 파트의 Attention은 입력되는 하나의 문장에서 사용된 단어 간의 연관도를 구합니다. 따라서 'Self-Attention' 이라고 불리는 것입니다.\n",
    "</span>\n",
    "\n",
    "<img src=\"./img/encoder_arch.png\" width=500>\n",
    "\n",
    "[그림 8] 트랜스포머의 인코더\n",
    "\n",
    "***"
   ]
  },
  {
   "cell_type": "markdown",
   "id": "blessed-freedom",
   "metadata": {},
   "source": [
    "#### 인코더 통합하기\n",
    "***\n",
    "+ 앞서 정의한 레이어를 통합하여 트랜스포머의 인코더 파트를 정의 합니다.\n",
    "***"
   ]
  },
  {
   "cell_type": "code",
   "execution_count": 17,
   "id": "computational-trinidad",
   "metadata": {},
   "outputs": [],
   "source": [
    "def encoder(\n",
    "    vocab_size,\n",
    "    num_layers,\n",
    "    units,\n",
    "    d_model,\n",
    "    num_heads,\n",
    "    dropout,\n",
    "    name=\"encoder\"\n",
    "):\n",
    "    inputs = tf.keras.Input(shape=(None,), name=\"inputs\")\n",
    "\n",
    "    # 패딩 마스크 사용\n",
    "    padding_mask = tf.keras.Input(shape=(1, 1, None), name=\"padding_mask\")\n",
    "\n",
    "    # 임베딩 레이어\n",
    "    embeddings = tf.keras.layers.Embedding(vocab_size, d_model)(inputs)\n",
    "    embeddings *= tf.math.sqrt(tf.cast(d_model, tf.float32))\n",
    "\n",
    "    # 포지셔널 인코딩\n",
    "    embeddings = PositionalEncoding(vocab_size, d_model)(embeddings)\n",
    "\n",
    "    outputs = tf.keras.layers.Dropout(rate=dropout)(embeddings)\n",
    "\n",
    "    # num_layers만큼 쌓아올린 인코더의 층.\n",
    "    for i in range(num_layers):\n",
    "        outputs = encoder_layer(\n",
    "            units=units,\n",
    "            d_model=d_model,\n",
    "            num_heads=num_heads,\n",
    "            dropout=dropout,\n",
    "            name=\"encoder_layer_{}\".format(i),\n",
    "        )([outputs, padding_mask])\n",
    "\n",
    "    return tf.keras.Model(\n",
    "    inputs=[inputs, padding_mask], outputs=outputs, name=name\n",
    "    )"
   ]
  },
  {
   "cell_type": "markdown",
   "id": "limited-appointment",
   "metadata": {},
   "source": [
    "<br>\n",
    "\n",
    "### 4.4. 인코더와 디코더 연결 부분\n",
    "***\n",
    "<span style=\"font-size:12pt; line-height:1.7; font-family:Serif;\">\n",
    "    &nbsp; &nbsp; 앞서, 트랜스포머의 인코더를 설명하였습니다. 이번에는 인코더의 출력이 어떻게 활용되는지 설명하겠습니다. [그림 9]는 트랜스포머의 인코더와 디코더를 간략화한 것입니다. 결론만 말하자면 인코더의 최종 출력 중 Key와 Value가 디코더의 Multi Head Attention에 입력 됩니다. 이것이 의미하는 것은, 디코더에 입력된 단어 벡터들(Query)과 인코더로부터 입력된 단어 벡터들(Key, Value)의 연관도를 구한다는 것입니다. 'seq2seq'에 대입하여 설명하자면, 인코더로부터 입력되는 정보(Key, Value)는, 인코더의 정보가 함축된 Context vector에 해당한다고 할 수 있습니다.\n",
    "</span><br><br>\n",
    "\n",
    "<span style=\"font-size:12pt; line-height:1.7; font-family:Serif;\">\n",
    "    &nbsp; &nbsp; 또한, 앞서 설명한 인코더의 Multi Head Attention은 입력된 하나의 문장 내의 단어 간 연관도를 구하였지만, 해당 Attention은 인코더에 입력된 단어들과 디코더에 입력된 단어들을 비교하는 것입니다. 그렇기 때문에 Self가 붙지않는 것을 확인할 수 있습니다.\n",
    "</span>\n",
    "\n",
    "<img src=\"./img/connect_enc_dec.png\" width=500>\n",
    "\n",
    "[그림 9] 트랜스포머의 인코더와 디코더\n",
    "\n",
    "***"
   ]
  },
  {
   "cell_type": "markdown",
   "id": "spare-usage",
   "metadata": {},
   "source": [
    "### 4.5. Multi Head Attention\n",
    "***\n",
    "<span style=\"font-size:12pt; line-height:1.7; font-family:Serif;\">\n",
    "    &nbsp; &nbsp; 디코더의 Multi Head Attention에 대해 조금 더 하겠습니다. [그림 10]은 디코더의 Multi Head Attention 연산을 간략화 한 것입니다. 앞서 배운 것과 마찬가지로 softmax, 정규화 과정 모두 동일하지만 설명을 위해 Query, Key, Value 행렬만 시각화 하였습니다. 예제의 목표는 챗봇 이기 때문에 'I love you'라는 문장을 넣으면 'Me too'라는 문장을 출력하도록 학습한다고 가정해 보겠습니다.\n",
    "</span><br><br>\n",
    "\n",
    "<span style=\"font-size:12pt; line-height:1.7; font-family:Serif;\">\n",
    "    &nbsp; &nbsp; 인코더에 'I love you'입력하였습니다. 이에 대한 Key, Value가 디코더로 넘어옵니다. 우리가 원하는 것은 이에 대해 'Me too'라고 대답하는 것입니다. 따라서 'I love you'와 '&lt;SOS> Me too'의 연관도를 구합니다. 즉, 한 문장 내의 단어 간 연관도를 구한 것이 아니라 다른 문장의 단어와의 연관도를 구하는 것입니다.\n",
    "</span>\n",
    "\n",
    "<img src=\"./img/dec2layer.png\" width=500>\n",
    "\n",
    "[그림 10] 디코더의 Multi Head Attention 연산\n",
    "\n",
    "***"
   ]
  },
  {
   "cell_type": "markdown",
   "id": "still-latitude",
   "metadata": {},
   "source": [
    "<br>\n",
    "\n",
    "### 4.6. Look Ahead Mask\n",
    "***\n",
    "<span style=\"font-size:12pt; line-height:1.7; font-family:Serif;\">\n",
    "    &nbsp; &nbsp; 트랜스포머 디코더의 학습은 '교사강요'로 인해 target 문장이 그대로 들어갑니다. 이에따라 한 가지 문제가 발생합니다. [그림 11]은 학습 시 디코더에 입력되는 target 문장을 보여줍니다. 'I love you'라고 대답하도록 학습 시키기위해 해당 문장을 디코더에 입력합니다. 우리가 원하는 것은 모델이 I를 바탕으로 love를 예측하고 다음 'I love'를 바탕으로 You를 예측하는 것입니다. 하지만 문장이 그대로 입력되었기 때문에 답을 보고 대답하는 것과 마찬가지 입니다. 따라서, 이를 방지하기 위해 현재 시점 이후의 단어를 가려줄 필요가 있습니다. 그리고 이를 위한 기법이 바로 Look Ahead Mask 입니다.\n",
    "</span>\n",
    "\n",
    "<img src=\"./img/why_lock.png\" width=500>\n",
    "\n",
    "[그림 11] 학습 시 동시에 입력되는 데이터\n",
    "\n",
    "***"
   ]
  },
  {
   "cell_type": "markdown",
   "id": "incident-ultimate",
   "metadata": {},
   "source": [
    "#### Look Ahead Mask 정의\n",
    "***\n",
    "+ Look Ahead Mask 정의하여 줍니다.\n",
    "***"
   ]
  },
  {
   "cell_type": "code",
   "execution_count": 18,
   "id": "thick-customs",
   "metadata": {},
   "outputs": [],
   "source": [
    "def create_look_ahead_mask(x):\n",
    "    seq_len = tf.shape(x)[1]\n",
    "    look_ahead_mask = 1 - tf.linalg.band_part(tf.ones((seq_len, seq_len)), -1, 0)\n",
    "    padding_mask = create_padding_mask(x)\n",
    "    return tf.maximum(look_ahead_mask, padding_mask)"
   ]
  },
  {
   "cell_type": "markdown",
   "id": "ordinary-copying",
   "metadata": {},
   "source": [
    "<br>\n",
    "\n",
    "### 4.7. 디코더 레이어\n",
    "***\n",
    "<span style=\"font-size:12pt; line-height:1.7; font-family:Serif;\">\n",
    "    &nbsp; &nbsp; 디코더 레이어를 정의합니다. [그림 12]는 디코더 레이어의 아키텍처를 시각화 한 것입니다. 디코더 레이어의 특징은 Atetnion이 두 번 사용된다는 것입니다. 이를 간단히 설명하자면, 먼저 디코더에 입력되는 문장 내의 단어 간 연관도를 구하는 'Self Attention'을 수행하고 이를 바탕으로 질문에 대한 문장과 디코더 즉, 대답에 대한 문장 단어 간의 연관도를 구하는 Attention을 수행하는 것입니다. 충분히 논리적인 구성이라 생각됩니다. 이후 인코더 레이어와 마찬가지로 FFNN이 오게 됩니다.\n",
    "</span>\n",
    "\n",
    "<img src=\"./img/decoder.png\" width=600>\n",
    "\n",
    "[그림 12] 디코더 레이어 아키텍처\n",
    "\n",
    "***"
   ]
  },
  {
   "cell_type": "markdown",
   "id": "internal-hurricane",
   "metadata": {},
   "source": [
    "#### 디코더 레이어 정의\n",
    "***\n",
    "+ 디코더 레이어를 정의 합니다.\n",
    "***"
   ]
  },
  {
   "cell_type": "code",
   "execution_count": 19,
   "id": "formal-breakdown",
   "metadata": {},
   "outputs": [],
   "source": [
    "# 디코더 하나의 레이어를 함수로 구현.\n",
    "# 이 하나의 레이어 안에는 세 개의 서브 레이어가 존재합니다.\n",
    "def decoder_layer(units, d_model, num_heads, dropout, name=\"decoder_layer\"):\n",
    "    inputs = tf.keras.Input(shape=(None, d_model), name=\"inputs\")\n",
    "    enc_outputs = tf.keras.Input(shape=(None, d_model), name=\"encoder_outputs\")\n",
    "    look_ahead_mask = tf.keras.Input(\n",
    "        shape=(1, None, None), name=\"look_ahead_mask\"\n",
    "    )\n",
    "    padding_mask = tf.keras.Input(shape=(1, 1, None), name='padding_mask')\n",
    "\n",
    "    # 첫 번째 서브 레이어 : 멀티 헤드 어텐션 수행 (셀프 어텐션)\n",
    "    attention1 = MultiHeadAttention(\n",
    "        d_model, num_heads, name=\"attention_1\")(inputs={\n",
    "            'query': inputs,\n",
    "            'key': inputs,\n",
    "            'value': inputs,\n",
    "            'mask': look_ahead_mask\n",
    "        })\n",
    "\n",
    "    # 멀티 헤드 어텐션의 결과는 LayerNormalization이라는 훈련을 돕는 테크닉을 수행\n",
    "    attention1 = tf.keras.layers.LayerNormalization(\n",
    "        epsilon=1e-6\n",
    "    )(attention1 + inputs)\n",
    "\n",
    "    # 두 번째 서브 레이어 : 마스크드 멀티 헤드 어텐션 수행 (인코더-디코더 어텐션)\n",
    "    attention2 = MultiHeadAttention(\n",
    "        d_model, num_heads, name=\"attention_2\")(inputs={\n",
    "            'query': attention1,\n",
    "            'key': enc_outputs,\n",
    "            'value': enc_outputs,\n",
    "            'mask': padding_mask\n",
    "        })\n",
    "\n",
    "    # 마스크드 멀티 헤드 어텐션의 결과는\n",
    "    # Dropout과 LayerNormalization이라는 훈련을 돕는 테크닉을 수행\n",
    "    attention2 = tf.keras.layers.Dropout(rate=dropout)(attention2)\n",
    "    attention2 = tf.keras.layers.LayerNormalization(\n",
    "        epsilon=1e-6\n",
    "    )(attention2 + attention1)\n",
    "\n",
    "    # 세 번째 서브 레이어 : 2개의 완전연결층\n",
    "    outputs = tf.keras.layers.Dense(units=units, activation='relu')(attention2)\n",
    "    outputs = tf.keras.layers.Dense(units=d_model)(outputs)\n",
    "\n",
    "    # 완전연결층의 결과는 Dropout과 LayerNormalization 수행\n",
    "    outputs = tf.keras.layers.Dropout(rate=dropout)(outputs)\n",
    "    outputs = tf.keras.layers.LayerNormalization(\n",
    "        epsilon=1e-6\n",
    "    )(outputs + attention2)\n",
    "\n",
    "    return tf.keras.Model(\n",
    "        inputs=[inputs, enc_outputs, look_ahead_mask, padding_mask],\n",
    "        outputs=outputs,\n",
    "        name=name\n",
    "    )"
   ]
  },
  {
   "cell_type": "markdown",
   "id": "multiple-metabolism",
   "metadata": {},
   "source": [
    "#### 디코더 정의하기\n",
    "***\n",
    "+ 앞서 정의한 레이어를 이용하여 트랜스포머의 디코더를 정의 합니다.\n",
    "***"
   ]
  },
  {
   "cell_type": "code",
   "execution_count": 20,
   "id": "packed-lecture",
   "metadata": {},
   "outputs": [],
   "source": [
    "def decoder(\n",
    "    vocab_size,\n",
    "    num_layers,\n",
    "    units,\n",
    "    d_model,\n",
    "    num_heads,\n",
    "    dropout,\n",
    "    name='decoder'\n",
    "):\n",
    "    inputs = tf.keras.Input(shape=(None,), name='inputs')\n",
    "    enc_outputs = tf.keras.Input(shape=(None, d_model), name='encoder_outputs')\n",
    "    look_ahead_mask = tf.keras.Input(\n",
    "        shape=(1, None, None), name='look_ahead_mask'\n",
    "    )\n",
    "\n",
    "    # 패딩 마스크\n",
    "    padding_mask = tf.keras.Input(shape=(1, 1, None), name='padding_mask')\n",
    "  \n",
    "    # 임베딩 레이어\n",
    "    embeddings = tf.keras.layers.Embedding(vocab_size, d_model)(inputs)\n",
    "    embeddings *= tf.math.sqrt(tf.cast(d_model, tf.float32))\n",
    "\n",
    "    # 포지셔널 인코딩\n",
    "    embeddings = PositionalEncoding(vocab_size, d_model)(embeddings)\n",
    "\n",
    "    # Dropout이라는 훈련을 돕는 테크닉을 수행\n",
    "    outputs = tf.keras.layers.Dropout(rate=dropout)(embeddings)\n",
    "\n",
    "    for i in range(num_layers):\n",
    "        outputs = decoder_layer(\n",
    "            units=units,\n",
    "            d_model=d_model,\n",
    "            num_heads=num_heads,\n",
    "            dropout=dropout,\n",
    "            name='decoder_layer_{}'.format(i),\n",
    "        )(inputs=[outputs, enc_outputs, look_ahead_mask, padding_mask])\n",
    "\n",
    "    return tf.keras.Model(\n",
    "        inputs=[inputs, enc_outputs, look_ahead_mask, padding_mask],\n",
    "        outputs=outputs,\n",
    "        name=name\n",
    "    )"
   ]
  },
  {
   "cell_type": "markdown",
   "id": "sorted-gibson",
   "metadata": {},
   "source": [
    "<br>\n",
    "\n",
    "### 4.9. Transformer 정의\n",
    "***\n",
    "<span style=\"font-size:12pt; line-height:1.7; font-family:Serif;\">\n",
    "    &nbsp; &nbsp; 앞에서 정의한 트랜스포머의 인코더와 디코더를 통합하여 최종적으로 트랜스포머 모델을 정의합니다. [그림 13]은 트랜스포머 모델을 시각화 한 것입니다. 디코더에서는 최종적으로 단어사전 크기의 레이어를 통과한 후 softmax를 통해 단어의 확률분포를 출력합니다. 인코더와 디코더를 확인할 수 있고 앞에서 설명한 인코더와 디코더의 연결 형태, Look Ahead Mask 등을 확인할 수 있습니다. 인코더와 디코더는 총 2개를 이용하였으며, 임베딩 크기는 256, Head의 수는 8로 설정하였습니다.\n",
    "</span><br><br>\n",
    "\n",
    "<img src=\"./img/transformer_arch.png\" height=650>\n",
    "\n",
    "[그림 13] 트랜스포머 아키텍처\n",
    "\n",
    "***"
   ]
  },
  {
   "cell_type": "markdown",
   "id": "statewide-scottish",
   "metadata": {},
   "source": [
    "#### 인코더 디코더 통합하기\n",
    "***\n",
    "+ 인코더와 디코더를 통합하여 트랜스포머 모델을 정의합니다.\n",
    "***"
   ]
  },
  {
   "cell_type": "code",
   "execution_count": 21,
   "id": "warming-funds",
   "metadata": {},
   "outputs": [],
   "source": [
    "def transformer(\n",
    "    vocab_size,\n",
    "    num_layers,\n",
    "    units,\n",
    "    d_model,\n",
    "    num_heads,\n",
    "    dropout,\n",
    "    name=\"transformer\"\n",
    "):\n",
    "    inputs = tf.keras.Input(shape=(None,), name=\"inputs\")\n",
    "    dec_inputs = tf.keras.Input(shape=(None,), name=\"dec_inputs\")\n",
    "\n",
    "    # 인코더에서 패딩을 위한 마스크\n",
    "    enc_padding_mask = tf.keras.layers.Lambda(\n",
    "        create_padding_mask, output_shape=(1, 1, None), name='enc_padding_mask'\n",
    "    )(inputs)\n",
    "\n",
    "    # 디코더에서 미래의 토큰을 마스크 하기 위해서 사용합니다.\n",
    "    # 내부적으로 패딩 마스크도 포함되어져 있습니다.\n",
    "    look_ahead_mask = tf.keras.layers.Lambda(\n",
    "        create_look_ahead_mask,\n",
    "        output_shape=(1, None, None), name='look_ahead_mask'\n",
    "    )(dec_inputs)\n",
    "\n",
    "    # 두 번째 어텐션 블록에서 인코더의 벡터들을 마스킹\n",
    "    # 디코더에서 패딩을 위한 마스크\n",
    "    dec_padding_mask = tf.keras.layers.Lambda(\n",
    "        create_padding_mask, output_shape=(1, 1, None), name='dec_padding_mask'\n",
    "    )(inputs)\n",
    "\n",
    "    # 인코더\n",
    "    enc_outputs = encoder(\n",
    "        vocab_size=vocab_size,\n",
    "        num_layers=num_layers,\n",
    "        units=units,\n",
    "        d_model=d_model,\n",
    "        num_heads=num_heads,\n",
    "        dropout=dropout,\n",
    "    )(inputs=[inputs, enc_padding_mask])\n",
    "\n",
    "    # 디코더\n",
    "    dec_outputs = decoder(\n",
    "        vocab_size=vocab_size,\n",
    "        num_layers=num_layers,\n",
    "        units=units,\n",
    "        d_model=d_model,\n",
    "        num_heads=num_heads,\n",
    "        dropout=dropout,\n",
    "    )(inputs=[dec_inputs, enc_outputs, look_ahead_mask, dec_padding_mask])\n",
    "\n",
    "    # 완전연결층\n",
    "    outputs = tf.keras.layers.Dense(units=vocab_size, name=\"outputs\")(dec_outputs)\n",
    "\n",
    "    return tf.keras.Model(inputs=[inputs, dec_inputs], outputs=outputs, name=name)"
   ]
  },
  {
   "cell_type": "markdown",
   "id": "hairy-sister",
   "metadata": {},
   "source": [
    "<br>\n",
    "\n",
    "#### 모델 생성하기\n",
    "***\n",
    "+ 최종적으로 모델을 생성합니다.\n",
    "***"
   ]
  },
  {
   "cell_type": "code",
   "execution_count": 22,
   "id": "unique-google",
   "metadata": {},
   "outputs": [
    {
     "name": "stdout",
     "output_type": "stream",
     "text": [
      "Model: \"transformer\"\n",
      "__________________________________________________________________________________________________\n",
      "Layer (type)                    Output Shape         Param #     Connected to                     \n",
      "==================================================================================================\n",
      "inputs (InputLayer)             [(None, None)]       0                                            \n",
      "__________________________________________________________________________________________________\n",
      "dec_inputs (InputLayer)         [(None, None)]       0                                            \n",
      "__________________________________________________________________________________________________\n",
      "enc_padding_mask (Lambda)       (None, 1, 1, None)   0           inputs[0][0]                     \n",
      "__________________________________________________________________________________________________\n",
      "encoder (Functional)            (None, None, 256)    3139840     inputs[0][0]                     \n",
      "                                                                 enc_padding_mask[0][0]           \n",
      "__________________________________________________________________________________________________\n",
      "look_ahead_mask (Lambda)        (None, 1, None, None 0           dec_inputs[0][0]                 \n",
      "__________________________________________________________________________________________________\n",
      "dec_padding_mask (Lambda)       (None, 1, 1, None)   0           inputs[0][0]                     \n",
      "__________________________________________________________________________________________________\n",
      "decoder (Functional)            (None, None, 256)    3667200     dec_inputs[0][0]                 \n",
      "                                                                 encoder[0][0]                    \n",
      "                                                                 look_ahead_mask[0][0]            \n",
      "                                                                 dec_padding_mask[0][0]           \n",
      "__________________________________________________________________________________________________\n",
      "outputs (Dense)                 (None, None, 8147)   2093779     decoder[0][0]                    \n",
      "==================================================================================================\n",
      "Total params: 8,900,819\n",
      "Trainable params: 8,900,819\n",
      "Non-trainable params: 0\n",
      "__________________________________________________________________________________________________\n"
     ]
    }
   ],
   "source": [
    "tf.keras.backend.clear_session()\n",
    "\n",
    "# 하이퍼파라미터\n",
    "NUM_LAYERS = 2 # 인코더와 디코더의 층의 개수\n",
    "D_MODEL = 256 # 인코더와 디코더 내부의 입, 출력의 고정 차원\n",
    "NUM_HEADS = 8 # 멀티 헤드 어텐션에서의 헤드 수 \n",
    "UNITS = 512 # 피드 포워드 신경망의 은닉층의 크기\n",
    "DROPOUT = 0.1 # 드롭아웃의 비율\n",
    "\n",
    "model = transformer(\n",
    "    vocab_size=VOCAB_SIZE,\n",
    "    num_layers=NUM_LAYERS,\n",
    "    units=UNITS,\n",
    "    d_model=D_MODEL,\n",
    "    num_heads=NUM_HEADS,\n",
    "    dropout=DROPOUT\n",
    ")\n",
    "\n",
    "model.summary()"
   ]
  },
  {
   "cell_type": "markdown",
   "id": "imported-nickel",
   "metadata": {},
   "source": [
    "<br>\n",
    "\n",
    "## 5. 모델 학습 및 평가\n",
    "***\n",
    "<span style=\"font-size:12pt; line-height:1.7; font-family:Serif;\">\n",
    "    &nbsp; &nbsp; input_text\n",
    "</span>\n",
    "\n",
    "***"
   ]
  },
  {
   "cell_type": "markdown",
   "id": "connected-waters",
   "metadata": {},
   "source": [
    "### 5.1. 모델 학습\n",
    "***\n",
    "<span style=\"font-size:12pt; line-height:1.7; font-family:Serif;\">\n",
    "    &nbsp; &nbsp; 생성한 트랜스포머 모델을 학습하기위해 '손실함수 정의', '학습률 정의', '컴파일 정의' 과정을 수행 합니다. 손실함수는 패딩을 고려하여 마스크를 추가해주어 함수를 정의 합니다. 학습률은 고정하지 않고 학습 진행에 따라 변경되도록 합니다. 옵티마이저는 Adam을 이용하여 총 25epoch 학습을 진행합니다.\n",
    "</span>\n",
    "\n",
    "***"
   ]
  },
  {
   "cell_type": "markdown",
   "id": "commercial-african",
   "metadata": {},
   "source": [
    "#### 손실함수 정의하기\n",
    "***\n",
    "+ 패딩을 제외한 단어에 대한 손실함수를 정의 합니다.\n",
    "***"
   ]
  },
  {
   "cell_type": "code",
   "execution_count": 23,
   "id": "unlike-omaha",
   "metadata": {},
   "outputs": [],
   "source": [
    "def loss_function(y_true, y_pred):\n",
    "    y_true = tf.reshape(y_true, shape=(-1, MAX_LENGTH - 1))\n",
    "  \n",
    "    loss = tf.keras.losses.SparseCategoricalCrossentropy(\n",
    "        from_logits=True, reduction='none'\n",
    "    )(y_true, y_pred)\n",
    "\n",
    "    mask = tf.cast(tf.not_equal(y_true, 0), tf.float32)\n",
    "    #패딩이 아닌 단어만 살리기\n",
    "    loss = tf.multiply(loss, mask)\n",
    "\n",
    "    return tf.reduce_mean(loss)"
   ]
  },
  {
   "cell_type": "markdown",
   "id": "reasonable-backing",
   "metadata": {},
   "source": [
    "<br>\n",
    "\n",
    "#### 학습률 정의하기\n",
    "***\n",
    "+ 학습 진행 시에 학습률을 동일하게 적용하지 않고 진행 정도에 따라 학습률을 변경 합니다.\n",
    "***"
   ]
  },
  {
   "cell_type": "code",
   "execution_count": 24,
   "id": "closed-brush",
   "metadata": {},
   "outputs": [
    {
     "data": {
      "text/plain": [
       "Text(0.5, 0, 'Train Step')"
      ]
     },
     "execution_count": 24,
     "metadata": {},
     "output_type": "execute_result"
    },
    {
     "data": {
      "image/png": "[encoded data removed]",
      "text/plain": [
       "<Figure size 432x288 with 1 Axes>"
      ]
     },
     "metadata": {
      "needs_background": "light"
     },
     "output_type": "display_data"
    }
   ],
   "source": [
    "class CustomSchedule(tf.keras.optimizers.schedules.LearningRateSchedule):\n",
    "    def __init__(self, d_model, warmup_steps=4000):\n",
    "        super(CustomSchedule, self).__init__()\n",
    "\n",
    "        self.d_model = d_model\n",
    "        self.d_model = tf.cast(self.d_model, tf.float32)\n",
    "\n",
    "        self.warmup_steps = warmup_steps\n",
    "\n",
    "    def __call__(self, step):\n",
    "        arg1 = tf.math.rsqrt(step)\n",
    "        arg2 = step * (self.warmup_steps**-1.5)\n",
    "\n",
    "        return tf.math.rsqrt(self.d_model) * tf.math.minimum(arg1, arg2)\n",
    "    \n",
    "    \n",
    "#시각화=====================\n",
    "sample_learning_rate = CustomSchedule(d_model=128)\n",
    "\n",
    "plt.plot(sample_learning_rate(tf.range(200000, dtype=tf.float32)))\n",
    "plt.ylabel(\"Learning Rate\")\n",
    "plt.xlabel(\"Train Step\")\n",
    "#End========================"
   ]
  },
  {
   "cell_type": "markdown",
   "id": "informational-consent",
   "metadata": {},
   "source": [
    "<br>\n",
    "\n",
    "#### 컴파일 정의하기\n",
    "***\n",
    "+ 옵티마이저는 Adam을 이용하고 앞서 정의한 손실함수를 사용합니다.\n",
    "***"
   ]
  },
  {
   "cell_type": "code",
   "execution_count": 25,
   "id": "exempt-accounting",
   "metadata": {},
   "outputs": [],
   "source": [
    "learning_rate = CustomSchedule(D_MODEL)\n",
    "\n",
    "optimizer = tf.keras.optimizers.Adam(\n",
    "    learning_rate, beta_1=0.9, beta_2=0.98, epsilon=1e-9\n",
    ")\n",
    "\n",
    "def accuracy(y_true, y_pred):\n",
    "    y_true = tf.reshape(y_true, shape=(-1, MAX_LENGTH - 1))\n",
    "    return tf.keras.metrics.sparse_categorical_accuracy(y_true, y_pred)\n",
    "\n",
    "model.compile(optimizer=optimizer, loss=loss_function, metrics=[accuracy])"
   ]
  },
  {
   "cell_type": "markdown",
   "id": "handled-malpractice",
   "metadata": {},
   "source": [
    "<br>\n",
    "\n",
    "#### 모델 학습하기\n",
    "***\n",
    "+ Epoch를 25로 설정하고 학습을 진행합니다.\n",
    "***"
   ]
  },
  {
   "cell_type": "code",
   "execution_count": 26,
   "id": "cultural-visiting",
   "metadata": {},
   "outputs": [
    {
     "name": "stdout",
     "output_type": "stream",
     "text": [
      "Epoch 1/25\n",
      "142/142 [==============================] - 16s 63ms/step - loss: 5.8243 - accuracy: 0.0443\n",
      "Epoch 2/25\n",
      "142/142 [==============================] - 9s 62ms/step - loss: 4.9009 - accuracy: 0.2075\n",
      "Epoch 3/25\n",
      "142/142 [==============================] - 9s 62ms/step - loss: 4.0714 - accuracy: 0.2147\n",
      "Epoch 4/25\n",
      "142/142 [==============================] - 9s 62ms/step - loss: 3.5545 - accuracy: 0.2172\n",
      "Epoch 5/25\n",
      "142/142 [==============================] - 9s 61ms/step - loss: 3.3298 - accuracy: 0.2280\n",
      "Epoch 6/25\n",
      "142/142 [==============================] - 9s 61ms/step - loss: 3.1248 - accuracy: 0.2393\n",
      "Epoch 7/25\n",
      "142/142 [==============================] - 9s 62ms/step - loss: 2.9396 - accuracy: 0.2532\n",
      "Epoch 8/25\n",
      "142/142 [==============================] - 9s 62ms/step - loss: 2.7122 - accuracy: 0.2743\n",
      "Epoch 9/25\n",
      "142/142 [==============================] - 9s 61ms/step - loss: 2.4850 - accuracy: 0.3050\n",
      "Epoch 10/25\n",
      "142/142 [==============================] - 9s 62ms/step - loss: 2.2163 - accuracy: 0.3364\n",
      "Epoch 11/25\n",
      "142/142 [==============================] - 9s 62ms/step - loss: 1.9569 - accuracy: 0.3687\n",
      "Epoch 12/25\n",
      "142/142 [==============================] - 9s 61ms/step - loss: 1.6504 - accuracy: 0.4059\n",
      "Epoch 13/25\n",
      "142/142 [==============================] - 9s 61ms/step - loss: 1.3707 - accuracy: 0.4459\n",
      "Epoch 14/25\n",
      "142/142 [==============================] - 9s 61ms/step - loss: 1.0978 - accuracy: 0.4837\n",
      "Epoch 15/25\n",
      "142/142 [==============================] - 9s 61ms/step - loss: 0.8523 - accuracy: 0.5225\n",
      "Epoch 16/25\n",
      "142/142 [==============================] - 10s 70ms/step - loss: 0.6352 - accuracy: 0.5564\n",
      "Epoch 17/25\n",
      "142/142 [==============================] - 9s 61ms/step - loss: 0.4592 - accuracy: 0.5926\n",
      "Epoch 18/25\n",
      "142/142 [==============================] - 9s 61ms/step - loss: 0.3246 - accuracy: 0.6136\n",
      "Epoch 19/25\n",
      "142/142 [==============================] - 9s 62ms/step - loss: 0.2233 - accuracy: 0.6295\n",
      "Epoch 20/25\n",
      "142/142 [==============================] - 9s 61ms/step - loss: 0.1552 - accuracy: 0.6417\n",
      "Epoch 21/25\n",
      "142/142 [==============================] - 9s 61ms/step - loss: 0.1196 - accuracy: 0.6444\n",
      "Epoch 22/25\n",
      "142/142 [==============================] - 9s 61ms/step - loss: 0.1031 - accuracy: 0.6449\n",
      "Epoch 23/25\n",
      "142/142 [==============================] - 9s 61ms/step - loss: 0.0912 - accuracy: 0.6456\n",
      "Epoch 24/25\n",
      "142/142 [==============================] - 9s 61ms/step - loss: 0.0824 - accuracy: 0.6474\n",
      "Epoch 25/25\n",
      "142/142 [==============================] - 9s 61ms/step - loss: 0.0790 - accuracy: 0.6490\n"
     ]
    },
    {
     "data": {
      "text/plain": [
       "<tensorflow.python.keras.callbacks.History at 0x7fbe571c0790>"
      ]
     },
     "execution_count": 26,
     "metadata": {},
     "output_type": "execute_result"
    }
   ],
   "source": [
    "EPOCHS = 25\n",
    "model.fit(dataset, epochs=EPOCHS, verbose=1)"
   ]
  },
  {
   "cell_type": "markdown",
   "id": "rocky-gibson",
   "metadata": {},
   "source": [
    "<br>\n",
    "\n",
    "### 5.1. 모델 평가\n",
    "***\n",
    "<span style=\"font-size:12pt; line-height:1.7; font-family:Serif;\">\n",
    "    &nbsp; &nbsp; 학습한 트랜스포머 모델의 문장 생성 능력을 확인합니다. [그림 14]는 트랜스포머의 입력에 대한 문장 생성 과정을 제시한 것입니다. '너 누구야?'라는 문장과 '&lt;SOS>'를 인코더와 디코더에 입력하면 단어 사전의 확률분포를 출력하고 그 중 높은 단어 채택합니다. [그림 14]에서는 '나'가 출력되었습니다. 그럼 '&lt;SOS>'와 '나'를 합친 후, 다시 '너 누구야?'라는 문장과 '&lt;SOS> 나'를 인코더와 디코더에 입력합니다. 그러한 과정을 설정한 문장의 최대 길이 만큼 수행하거나 종료 토큰이 출력될 때까지 반복 합니다.\n",
    "</span><br><br>\n",
    "\n",
    "<img src=\"./img/how_predict.png\" width=400>\n",
    "\n",
    "[그림 14] 트랜스포머의 문장생성 과정\n",
    "\n",
    "***"
   ]
  },
  {
   "cell_type": "markdown",
   "id": "positive-companion",
   "metadata": {},
   "source": [
    "#### 문장 생성 과정 함수 생성\n",
    "***\n",
    "+ 모델에 문장을 입력하였을 때, 문장을 생성하는 과정을 함수로 생성합니다.\n",
    "***"
   ]
  },
  {
   "cell_type": "code",
   "execution_count": 32,
   "id": "speaking-demonstration",
   "metadata": {},
   "outputs": [],
   "source": [
    "def decoder_inference(sentence):\n",
    "    sentence = preprocess_sentence(sentence)   #정규식을 이용한 전처리\n",
    "\n",
    "    # 입력된 문장을 정수 인코딩 후, 시작 토큰과 종료 토큰을 앞뒤로 추가.\n",
    "    sentence = tf.expand_dims(\n",
    "        START_TOKEN + tokenizer.encode(sentence) + END_TOKEN, axis=0\n",
    "    )\n",
    "\n",
    "    # 디코더의 현재까지의 예측한 출력 시퀀스가 지속적으로 저장되는 변수.\n",
    "    # 처음에는 예측한 내용이 없음으로 시작 토큰만 별도 저장. ex) 8331\n",
    "    output_sequence = tf.expand_dims(START_TOKEN, 0)\n",
    "\n",
    "    # 디코더의 인퍼런스 단계\n",
    "    for i in range(MAX_LENGTH):\n",
    "        # 디코더는 최대 MAX_LENGTH의 길이만큼 다음 단어 예측을 반복합니다.\n",
    "        predictions = model(inputs=[sentence, output_sequence], training=False)\n",
    "        predictions = predictions[:, -1:, :]\n",
    "\n",
    "        # 현재 예측한 단어의 정수\n",
    "        predicted_id = tf.cast(tf.argmax(predictions, axis=-1), tf.int32)\n",
    "\n",
    "        # 만약 현재 예측한 단어가 종료 토큰이라면 for문을 종료\n",
    "        if tf.equal(predicted_id, END_TOKEN[0]):\n",
    "            break\n",
    "\n",
    "        # 예측한 단어들은 지속적으로 output_sequence에 추가됩니다.\n",
    "        # 이 output_sequence는 다시 디코더의 입력이 됩니다.\n",
    "        output_sequence = tf.concat([output_sequence, predicted_id], axis=-1)\n",
    "\n",
    "    return tf.squeeze(output_sequence, axis=0)"
   ]
  },
  {
   "cell_type": "markdown",
   "id": "biological-overview",
   "metadata": {},
   "source": [
    "<br>\n",
    "\n",
    "#### 정수 문장을 자연어 문장으로 변환하는 함수 생성\n",
    "***\n",
    "+ 모델이 출력한 정수로된 문장을 자연어 문장으로 변환하는 함수를 생성합니다.\n",
    "***"
   ]
  },
  {
   "cell_type": "code",
   "execution_count": 39,
   "id": "diagnostic-transparency",
   "metadata": {},
   "outputs": [],
   "source": [
    "def sentence_generation(sentence):\n",
    "    # 입력 문장에 대해서 디코더를 동작 시켜 예측된 정수 시퀀스를 리턴받습니다.\n",
    "    prediction = decoder_inference(sentence)\n",
    "\n",
    "    # 정수 시퀀스를 다시 텍스트 시퀀스로 변환합니다.\n",
    "    predicted_sentence = tokenizer.decode(\n",
    "        [i for i in prediction if i < tokenizer.vocab_size]\n",
    "    )\n",
    "\n",
    "    print('입력 : {}'.format(sentence))\n",
    "    return ('출력 : {}'.format(predicted_sentence))"
   ]
  },
  {
   "cell_type": "markdown",
   "id": "standing-frederick",
   "metadata": {},
   "source": [
    "<br>\n",
    "\n",
    "#### 문장 생성 확인하기\n",
    "***\n",
    "+ 모델의 문장 생성 능력을 확인한다.\n",
    "***"
   ]
  },
  {
   "cell_type": "code",
   "execution_count": 40,
   "id": "marked-conclusion",
   "metadata": {},
   "outputs": [
    {
     "name": "stdout",
     "output_type": "stream",
     "text": [
      "**************************************************\n",
      "입력 : 밥 먹었니?\n",
      "출력 : 배고프지 않아요 .\n",
      "\n",
      "입력 : 너 누구야?\n",
      "출력 : 저는 마음을 이어주는 위로봇입니다 .\n",
      "\n",
      "입력 : 안녕~\n",
      "출력 : 안녕하세요 .\n",
      "\n",
      "입력 : 여행가자\n",
      "출력 : 계획을 세워보세요 .\n",
      "\n",
      "입력 : 사랑이 뭐야?\n",
      "출력 : 신뢰이자 믿음이라고 생각해요 .\n",
      "\n",
      "**************************************************\n"
     ]
    }
   ],
   "source": [
    "print(\"*\" * 50)\n",
    "print(sentence_generation('밥 먹었니?'), end=\"\\n\\n\")\n",
    "print(sentence_generation('너 누구야?'), end=\"\\n\\n\")\n",
    "print(sentence_generation('안녕~'), end=\"\\n\\n\")\n",
    "print(sentence_generation('여행가자'), end=\"\\n\\n\")\n",
    "print(sentence_generation('사랑이 뭐야?'), end=\"\\n\\n\")\n",
    "print(\"*\" * 50)"
   ]
  },
  {
   "cell_type": "markdown",
   "id": "seasonal-picnic",
   "metadata": {},
   "source": [
    "<br>\n",
    "\n",
    "## 6. 결론\n",
    "***\n",
    "<span style=\"font-size:12pt; line-height:1.7; font-family:Serif;\">\n",
    "    &nbsp; &nbsp; 본 예제에서는 트랜스포머 챗봇 모델을 생성, 학습하고 모델의 문장생성 능력을 확인하였습니다. 한국어 문장 데이터를 이용하였으며, 8,147개의 단어와 9,084개의 문장을 바탕으로 모델을 학습하였습니다. 모델의 문장생성 능력을 확인하기 위해 '밥 먹었니?', '너 누구야?', '안녕~' 등의 문장을 입력한 결과, '배고프지 않아요.', '저는 마음을 이어주는 위로봇입니다.', '안녕하세요.' 등 상당히 자연스러운 문장을 생성하였습니다. 다음은 입력한 문장과 그에 대한 모델이 생성한 문장을 제시한 것입니다.\n",
    "</span><br><br>\n",
    "\n",
    "\n",
    "> ___Q: 밥 먹었니?___\n",
    ">\n",
    "> ___A: 배고프지 않아요.___\n",
    "\n",
    "\n",
    "> ___Q: 너 누구야?___\n",
    ">\n",
    "> ___A: 저는 마음을 이어주는 위로봇입니다.___\n",
    "\n",
    "\n",
    "> ___Q: 안녕~___\n",
    ">\n",
    "> ___A: 안녕하세요.___\n",
    "\n",
    "\n",
    "> ___Q: 여행가자___\n",
    ">\n",
    "> ___A: 계획을 세워보세요.___\n",
    "\n",
    "\n",
    "> ___Q: 사랑이 뭐야?___\n",
    ">\n",
    "> ___A: 신뢰이자 믿음이라고 생각해요.___\n",
    "\n",
    "***"
   ]
  },
  {
   "cell_type": "markdown",
   "id": "supreme-prior",
   "metadata": {},
   "source": [
    "#### 형상관리 기록\n",
    "***\n",
    "+ v1_1: 초기모델\n",
    "\n",
    "\n",
    "+ v1_2: 제출 예제 진행\n",
    "\n",
    "\n",
    "+ v2_1: 코드 단위 분석\n",
    "\n",
    "\n",
    "+ v3_1: 문장 길이 분석\n",
    "***"
   ]
  }
 ],
 "metadata": {
  "kernelspec": {
   "display_name": "Python 3",
   "language": "python",
   "name": "python3"
  },
  "language_info": {
   "codemirror_mode": {
    "name": "ipython",
    "version": 3
   },
   "file_extension": ".py",
   "mimetype": "text/x-python",
   "name": "python",
   "nbconvert_exporter": "python",
   "pygments_lexer": "ipython3",
   "version": "3.7.9"
  }
 },
 "nbformat": 4,
 "nbformat_minor": 5
}
