{
 "cells": [
  {
   "cell_type": "markdown",
   "id": "abandoned-dominican",
   "metadata": {},
   "source": [
    "# RNN 기반 추천모델 성능 개선 예제\n",
    "## : 세션 정의에 따른 성능 개선 여부 확인"
   ]
  },
  {
   "cell_type": "markdown",
   "id": "sought-mortality",
   "metadata": {},
   "source": [
    "#### 초록\n",
    "***\n",
    "<span style=\"font-size:11pt; line-height:1.8;\">\n",
    "    &nbsp; &nbsp; 'The MovieLens(2015)' 데이터셋을 이용하여 'UserId'와 'Time'을 토대로 세션을 1분, 30분 1시간으로 새롭게 정의하여 각 모델을 생성 하고 평가하였다. 'The MovieLens(2015)' 데이터셋은 총 1,000,209개 레코드로 2000년 4월 25일부터 2003년 2월 28일까지의 데이터 이며, 'UserId', 'ItemId', 'Rating', 'Time'으로 이루어져 있다. 또한 각 세션 별로 분석한 결과, 1분 단위 세션의 경우 총 284,962개로 98%의 세션이 11개의 레코드, 30분 단위 세션의 경우 총 39,221개로 98%의 세션이 141개의 레코드, 1시간 단위 세션의 경우 총 31,969개로 98%의 세션이 199개의 레코드를 가진다. 또한, 데이터의 가장 최근에 해당하는 2003년 2월 28일 기준 특정 기간 이전까지의 데이터 수를 확인한 결과, 2년 이전 데이터는 총 69,349개이다. 이를 통해 데이터 전처리를 실시 하였으며, '세션 길이 중심 전처리', '세션 시간 중심 전처리', '평점 중심 전처리', '데이터 분할', '데이터 인덱싱' 순으로 진행하였다. 모델은 SESSION-BASED RECOMMENDATIONS WITH RECURRENT NEURAL NETWORKS(2016) 기반의 RNN 모델을 생성하고\n",
    "각 지표로 Recall과 MRR을 채택하였고 모든 모델은 배치 사이즈 64, 학습률 0.001, epoch 10회로 설정하여 학습하였다. 그 결과 각 모델의 테스트 데이터에 대한 성능은, '1분 기준 세션 모델'의 경우 Recall이 0.080, MRR이 0.023이었으며, '30분 기준 세션 모델'의 경우 Recall이 0.099, MRR이 0.029, '1시간 기준 세션 모델'은 Recall이 0.092, MRR이 0.024로 '30분', '1시간' '1분' 순으로 세션을 정의하였을 때, 성능이 높은 것을 확인하였다.\n",
    "</span>\n",
    "\n",
    "***"
   ]
  },
  {
   "cell_type": "markdown",
   "id": "organic-physiology",
   "metadata": {},
   "source": [
    "<br>\n",
    "\n",
    "## 1. 서론\n",
    "***\n",
    "<span style=\"font-size:12pt; line-height:1.7; font-family:Serif;\">\n",
    "    &nbsp; &nbsp; 본 예제에서는 'The MovieLens(2015)' 데이터셋을 사용하여 RNN 기반의 추천모델을 생성하고 이를 학습 및 평가합니다. 특히, 유저의 ID와 평가가 이루어진 시간을 바탕으로 세션을 새롭게 정의하여 세션에 따른 모델을 생성, 평가 합니다. 세션은 '1분', '30분', '1시간' 단위로 정의하여 이에대한 비교를 진행합니다. 다음은 본 예제의 진행 순서에 해당합니다.\n",
    "</span><br><br>\n",
    "\n",
    "\n",
    "> _1. 데이터 분석_\n",
    ">\n",
    "> _2. 세션 정의_\n",
    ">\n",
    "> _3. 세션 중심 데이터 분석_\n",
    ">\n",
    "> _4. 데이터 전처리_\n",
    ">\n",
    "> _5. 모델 생성_\n",
    ">\n",
    "> _6. 모델 학습 및 평가_\n",
    "\n",
    "***"
   ]
  },
  {
   "cell_type": "markdown",
   "id": "printable-movement",
   "metadata": {},
   "source": [
    "<br>\n",
    "\n",
    "## 2. 데이터 분석\n",
    "***\n",
    "<span style=\"font-size:12pt; line-height:1.7; font-family:Serif;\">\n",
    "    &nbsp; &nbsp; 'The MovieLens(2015)' 데이터셋의 기본적인 사항을 파악합니다. 속성은 유저와 영화를 구분하는 정수로 된 `UserId`, `ItemId`,\n",
    "영화에 대한 평가인 1에서 5사이의 정수 `Rating`, 평가가 이루어진 시간이 Unix Time 형식의 `Time`으로 이루어져 있습니다. 데이터 레코드는 총 1,000,209개이며 결측치는 없고 고유한 `UserId`는 6,040개, `ItemId`는 총 3,706개입니다. 데이터는 2000년 4월 25일부터 2003년 2월 28일 동안의 데이터 입니다. 또한, 유저별 평균 약 165회 영화 평가를 실시하였으며, 평가 주기는 평균 약 25일 입니다. &lt;Fig. 1>은 일단위 유저별 평가주기를 시각화 한 것입니다.\n",
    "</span>\n",
    "\n",
    "***"
   ]
  },
  {
   "cell_type": "markdown",
   "id": "front-night",
   "metadata": {},
   "source": [
    "#### 필요 라이브러리 호출\n",
    "***\n",
    "+ 예제에 사용할 라이브러리를 호출 합니다.\n",
    "***"
   ]
  },
  {
   "cell_type": "code",
   "execution_count": 1,
   "id": "rolled-roommate",
   "metadata": {},
   "outputs": [],
   "source": [
    "import os   #디렉토리 관리\n",
    "import matplotlib.pyplot as plt   #데이터 시각화\n",
    "\n",
    "import time   #timestamp => time\n",
    "from datetime import datetime   #timestamp => time\n",
    "from datetime import timedelta   #시간 연산\n",
    "\n",
    "\n",
    "import numpy as np   #행렬 연산\n",
    "import pandas as pd   #데이터프레임 관리\n",
    "pd.options.display.float_format = '{:.3f}'.format   #소숫점 세자리 출력\n",
    "\n",
    "\n",
    "#모델 설게==========================\n",
    "import tensorflow as tf\n",
    "from tensorflow.keras.layers import Input, Dense, Dropout, GRU\n",
    "from tensorflow.keras.losses import categorical_crossentropy\n",
    "from tensorflow.keras.models import Model\n",
    "from tensorflow.keras.optimizers import Adam\n",
    "from tensorflow.keras.utils import to_categorical\n",
    "from tqdm import tqdm\n",
    "#End================================\n",
    "\n",
    "\n",
    "import warnings   #경고\n",
    "warnings.filterwarnings('ignore')   #경고 무시"
   ]
  },
  {
   "cell_type": "markdown",
   "id": "recognized-choice",
   "metadata": {},
   "source": [
    "<br>\n",
    "\n",
    "#### 데이터셋 불러오기\n",
    "***\n",
    "+ 예제에 사용할 데이터셋을 불러옵니다.\n",
    "***"
   ]
  },
  {
   "cell_type": "code",
   "execution_count": 2,
   "id": "acute-dylan",
   "metadata": {},
   "outputs": [
    {
     "data": {
      "text/html": [
       "<div>\n",
       "<style scoped>\n",
       "    .dataframe tbody tr th:only-of-type {\n",
       "        vertical-align: middle;\n",
       "    }\n",
       "\n",
       "    .dataframe tbody tr th {\n",
       "        vertical-align: top;\n",
       "    }\n",
       "\n",
       "    .dataframe thead th {\n",
       "        text-align: right;\n",
       "    }\n",
       "</style>\n",
       "<table border=\"1\" class=\"dataframe\">\n",
       "  <thead>\n",
       "    <tr style=\"text-align: right;\">\n",
       "      <th></th>\n",
       "      <th>UserId</th>\n",
       "      <th>ItemId</th>\n",
       "      <th>Rating</th>\n",
       "      <th>Time</th>\n",
       "    </tr>\n",
       "  </thead>\n",
       "  <tbody>\n",
       "    <tr>\n",
       "      <th>31</th>\n",
       "      <td>1</td>\n",
       "      <td>3186</td>\n",
       "      <td>4</td>\n",
       "      <td>978300019</td>\n",
       "    </tr>\n",
       "    <tr>\n",
       "      <th>22</th>\n",
       "      <td>1</td>\n",
       "      <td>1270</td>\n",
       "      <td>5</td>\n",
       "      <td>978300055</td>\n",
       "    </tr>\n",
       "    <tr>\n",
       "      <th>27</th>\n",
       "      <td>1</td>\n",
       "      <td>1721</td>\n",
       "      <td>4</td>\n",
       "      <td>978300055</td>\n",
       "    </tr>\n",
       "    <tr>\n",
       "      <th>37</th>\n",
       "      <td>1</td>\n",
       "      <td>1022</td>\n",
       "      <td>5</td>\n",
       "      <td>978300055</td>\n",
       "    </tr>\n",
       "    <tr>\n",
       "      <th>24</th>\n",
       "      <td>1</td>\n",
       "      <td>2340</td>\n",
       "      <td>3</td>\n",
       "      <td>978300103</td>\n",
       "    </tr>\n",
       "  </tbody>\n",
       "</table>\n",
       "</div>"
      ],
      "text/plain": [
       "    UserId  ItemId  Rating       Time\n",
       "31       1    3186       4  978300019\n",
       "22       1    1270       5  978300055\n",
       "27       1    1721       4  978300055\n",
       "37       1    1022       5  978300055\n",
       "24       1    2340       3  978300103"
      ]
     },
     "execution_count": 2,
     "metadata": {},
     "output_type": "execute_result"
    }
   ],
   "source": [
    "#데이터셋 불러오기========================================\n",
    "dataset_path = \"./dataset/yoochoose/data/ratings.dat\"\n",
    "\n",
    "data = pd.read_csv(\n",
    "    dataset_path, sep='::', header=None,\n",
    "    usecols=[0, 1, 2, 3], dtype={0: np.int32, 1: np.int32, 2: np.int32},\n",
    "    nrows=None, engine=\"python\"\n",
    ")\n",
    "\n",
    "data.columns = ['UserId', 'ItemId', 'Rating', 'Time']\n",
    "data.sort_values(['UserId', 'Time'], inplace=True)\n",
    "#End======================================================\n",
    "\n",
    "\n",
    "#출력부===================================================\n",
    "analy_data = data.copy()\n",
    "analy_data.head(5)\n",
    "#End======================================================"
   ]
  },
  {
   "cell_type": "markdown",
   "id": "dangerous-neighborhood",
   "metadata": {},
   "source": [
    "#### 데이터셋 정보\n",
    "***\n",
    "F. Maxwell Harper and Joseph A. Konstan. 2015. The MovieLens Datasets: History\n",
    "and Context. ACM Transactions on Interactive Intelligent Systems (TiiS) 5, 4,\n",
    "Article 19 (December 2015), 19 pages. DOI=http://dx.doi.org/10.1145/2827872\n",
    "***"
   ]
  },
  {
   "cell_type": "markdown",
   "id": "young-mexico",
   "metadata": {},
   "source": [
    "<br>\n",
    "\n",
    "#### 데이터 기본 정보\n",
    "***\n",
    "+ 총 1,000,209개의 데이터와 결측치는 없으며 `User`는 총 6,040명, `Item`은 총 3,706개의 데이터가 있습니다.\n",
    "***"
   ]
  },
  {
   "cell_type": "code",
   "execution_count": 3,
   "id": "mexican-cuisine",
   "metadata": {
    "scrolled": false
   },
   "outputs": [
    {
     "name": "stdout",
     "output_type": "stream",
     "text": [
      "<class 'pandas.core.frame.DataFrame'>\n",
      "Int64Index: 1000209 entries, 31 to 1000042\n",
      "Data columns (total 4 columns):\n",
      " #   Column  Non-Null Count    Dtype\n",
      "---  ------  --------------    -----\n",
      " 0   UserId  1000209 non-null  int32\n",
      " 1   ItemId  1000209 non-null  int32\n",
      " 2   Rating  1000209 non-null  int32\n",
      " 3   Time    1000209 non-null  int64\n",
      "dtypes: int32(3), int64(1)\n",
      "memory usage: 26.7 MB\n",
      "\n",
      "**************************************************\n",
      "User unique num: 6040\n",
      "Item unique num: 3706\n",
      "**************************************************\n"
     ]
    },
    {
     "data": {
      "text/html": [
       "<div>\n",
       "<style scoped>\n",
       "    .dataframe tbody tr th:only-of-type {\n",
       "        vertical-align: middle;\n",
       "    }\n",
       "\n",
       "    .dataframe tbody tr th {\n",
       "        vertical-align: top;\n",
       "    }\n",
       "\n",
       "    .dataframe thead th {\n",
       "        text-align: right;\n",
       "    }\n",
       "</style>\n",
       "<table border=\"1\" class=\"dataframe\">\n",
       "  <thead>\n",
       "    <tr style=\"text-align: right;\">\n",
       "      <th></th>\n",
       "      <th>UserId</th>\n",
       "      <th>ItemId</th>\n",
       "      <th>Rating</th>\n",
       "      <th>Time</th>\n",
       "    </tr>\n",
       "  </thead>\n",
       "  <tbody>\n",
       "    <tr>\n",
       "      <th>count</th>\n",
       "      <td>1000209.000</td>\n",
       "      <td>1000209.000</td>\n",
       "      <td>1000209.000</td>\n",
       "      <td>1000209.000</td>\n",
       "    </tr>\n",
       "    <tr>\n",
       "      <th>mean</th>\n",
       "      <td>3024.512</td>\n",
       "      <td>1865.540</td>\n",
       "      <td>3.582</td>\n",
       "      <td>972243695.405</td>\n",
       "    </tr>\n",
       "    <tr>\n",
       "      <th>std</th>\n",
       "      <td>1728.413</td>\n",
       "      <td>1096.041</td>\n",
       "      <td>1.117</td>\n",
       "      <td>12152558.940</td>\n",
       "    </tr>\n",
       "    <tr>\n",
       "      <th>min</th>\n",
       "      <td>1.000</td>\n",
       "      <td>1.000</td>\n",
       "      <td>1.000</td>\n",
       "      <td>956703932.000</td>\n",
       "    </tr>\n",
       "    <tr>\n",
       "      <th>25%</th>\n",
       "      <td>1506.000</td>\n",
       "      <td>1030.000</td>\n",
       "      <td>3.000</td>\n",
       "      <td>965302637.000</td>\n",
       "    </tr>\n",
       "    <tr>\n",
       "      <th>50%</th>\n",
       "      <td>3070.000</td>\n",
       "      <td>1835.000</td>\n",
       "      <td>4.000</td>\n",
       "      <td>973018006.000</td>\n",
       "    </tr>\n",
       "    <tr>\n",
       "      <th>75%</th>\n",
       "      <td>4476.000</td>\n",
       "      <td>2770.000</td>\n",
       "      <td>4.000</td>\n",
       "      <td>975220939.000</td>\n",
       "    </tr>\n",
       "    <tr>\n",
       "      <th>max</th>\n",
       "      <td>6040.000</td>\n",
       "      <td>3952.000</td>\n",
       "      <td>5.000</td>\n",
       "      <td>1046454590.000</td>\n",
       "    </tr>\n",
       "  </tbody>\n",
       "</table>\n",
       "</div>"
      ],
      "text/plain": [
       "           UserId      ItemId      Rating           Time\n",
       "count 1000209.000 1000209.000 1000209.000    1000209.000\n",
       "mean     3024.512    1865.540       3.582  972243695.405\n",
       "std      1728.413    1096.041       1.117   12152558.940\n",
       "min         1.000       1.000       1.000  956703932.000\n",
       "25%      1506.000    1030.000       3.000  965302637.000\n",
       "50%      3070.000    1835.000       4.000  973018006.000\n",
       "75%      4476.000    2770.000       4.000  975220939.000\n",
       "max      6040.000    3952.000       5.000 1046454590.000"
      ]
     },
     "execution_count": 3,
     "metadata": {},
     "output_type": "execute_result"
    }
   ],
   "source": [
    "analy_data.info()\n",
    "\n",
    "print(\"\\n\" + \"*\" * 50)\n",
    "print(\"User unique num:\", analy_data[\"UserId\"].nunique())\n",
    "print(\"Item unique num:\", analy_data[\"ItemId\"].nunique())\n",
    "print(\"*\" * 50)\n",
    "\n",
    "analy_data.describe()"
   ]
  },
  {
   "cell_type": "markdown",
   "id": "innovative-globe",
   "metadata": {},
   "source": [
    "<br>\n",
    "\n",
    "#### Unix 타임 변환\n",
    "***\n",
    "+ Unix 타임으로 되어있는 `Time`의 데이터를 datetime 형식으로 바꾼 후, 정렬하여 줍니다.\n",
    "\n",
    "\n",
    "+ 2000년 4월 25일부터 2003년 2월 28일까지의 데이터가 존재합니다.\n",
    "***"
   ]
  },
  {
   "cell_type": "code",
   "execution_count": 4,
   "id": "pharmaceutical-earth",
   "metadata": {},
   "outputs": [
    {
     "data": {
      "text/html": [
       "<div>\n",
       "<style scoped>\n",
       "    .dataframe tbody tr th:only-of-type {\n",
       "        vertical-align: middle;\n",
       "    }\n",
       "\n",
       "    .dataframe tbody tr th {\n",
       "        vertical-align: top;\n",
       "    }\n",
       "\n",
       "    .dataframe thead th {\n",
       "        text-align: right;\n",
       "    }\n",
       "</style>\n",
       "<table border=\"1\" class=\"dataframe\">\n",
       "  <thead>\n",
       "    <tr style=\"text-align: right;\">\n",
       "      <th></th>\n",
       "      <th>UserId</th>\n",
       "      <th>ItemId</th>\n",
       "      <th>Rating</th>\n",
       "      <th>Time</th>\n",
       "      <th>Time_h</th>\n",
       "    </tr>\n",
       "  </thead>\n",
       "  <tbody>\n",
       "    <tr>\n",
       "      <th>1000138</th>\n",
       "      <td>6040</td>\n",
       "      <td>858</td>\n",
       "      <td>4</td>\n",
       "      <td>956703932</td>\n",
       "      <td>2000-04-25 23:05:32</td>\n",
       "    </tr>\n",
       "    <tr>\n",
       "      <th>999873</th>\n",
       "      <td>6040</td>\n",
       "      <td>593</td>\n",
       "      <td>5</td>\n",
       "      <td>956703954</td>\n",
       "      <td>2000-04-25 23:05:54</td>\n",
       "    </tr>\n",
       "    <tr>\n",
       "      <th>1000153</th>\n",
       "      <td>6040</td>\n",
       "      <td>2384</td>\n",
       "      <td>4</td>\n",
       "      <td>956703954</td>\n",
       "      <td>2000-04-25 23:05:54</td>\n",
       "    </tr>\n",
       "    <tr>\n",
       "      <th>1000007</th>\n",
       "      <td>6040</td>\n",
       "      <td>1961</td>\n",
       "      <td>4</td>\n",
       "      <td>956703977</td>\n",
       "      <td>2000-04-25 23:06:17</td>\n",
       "    </tr>\n",
       "    <tr>\n",
       "      <th>1000192</th>\n",
       "      <td>6040</td>\n",
       "      <td>2019</td>\n",
       "      <td>5</td>\n",
       "      <td>956703977</td>\n",
       "      <td>2000-04-25 23:06:17</td>\n",
       "    </tr>\n",
       "    <tr>\n",
       "      <th>...</th>\n",
       "      <td>...</td>\n",
       "      <td>...</td>\n",
       "      <td>...</td>\n",
       "      <td>...</td>\n",
       "      <td>...</td>\n",
       "    </tr>\n",
       "    <tr>\n",
       "      <th>825793</th>\n",
       "      <td>4958</td>\n",
       "      <td>2399</td>\n",
       "      <td>1</td>\n",
       "      <td>1046454338</td>\n",
       "      <td>2003-02-28 17:45:38</td>\n",
       "    </tr>\n",
       "    <tr>\n",
       "      <th>825438</th>\n",
       "      <td>4958</td>\n",
       "      <td>1407</td>\n",
       "      <td>5</td>\n",
       "      <td>1046454443</td>\n",
       "      <td>2003-02-28 17:47:23</td>\n",
       "    </tr>\n",
       "    <tr>\n",
       "      <th>825724</th>\n",
       "      <td>4958</td>\n",
       "      <td>3264</td>\n",
       "      <td>4</td>\n",
       "      <td>1046454548</td>\n",
       "      <td>2003-02-28 17:49:08</td>\n",
       "    </tr>\n",
       "    <tr>\n",
       "      <th>825731</th>\n",
       "      <td>4958</td>\n",
       "      <td>2634</td>\n",
       "      <td>3</td>\n",
       "      <td>1046454548</td>\n",
       "      <td>2003-02-28 17:49:08</td>\n",
       "    </tr>\n",
       "    <tr>\n",
       "      <th>825603</th>\n",
       "      <td>4958</td>\n",
       "      <td>1924</td>\n",
       "      <td>4</td>\n",
       "      <td>1046454590</td>\n",
       "      <td>2003-02-28 17:49:50</td>\n",
       "    </tr>\n",
       "  </tbody>\n",
       "</table>\n",
       "<p>1000209 rows × 5 columns</p>\n",
       "</div>"
      ],
      "text/plain": [
       "         UserId  ItemId  Rating        Time              Time_h\n",
       "1000138    6040     858       4   956703932 2000-04-25 23:05:32\n",
       "999873     6040     593       5   956703954 2000-04-25 23:05:54\n",
       "1000153    6040    2384       4   956703954 2000-04-25 23:05:54\n",
       "1000007    6040    1961       4   956703977 2000-04-25 23:06:17\n",
       "1000192    6040    2019       5   956703977 2000-04-25 23:06:17\n",
       "...         ...     ...     ...         ...                 ...\n",
       "825793     4958    2399       1  1046454338 2003-02-28 17:45:38\n",
       "825438     4958    1407       5  1046454443 2003-02-28 17:47:23\n",
       "825724     4958    3264       4  1046454548 2003-02-28 17:49:08\n",
       "825731     4958    2634       3  1046454548 2003-02-28 17:49:08\n",
       "825603     4958    1924       4  1046454590 2003-02-28 17:49:50\n",
       "\n",
       "[1000209 rows x 5 columns]"
      ]
     },
     "execution_count": 4,
     "metadata": {},
     "output_type": "execute_result"
    }
   ],
   "source": [
    "analy_data[\"Time_h\"] = analy_data[\"Time\"].apply(lambda x: datetime.fromtimestamp(x))\n",
    "\n",
    "analy_data.sort_values(\"Time_h\")"
   ]
  },
  {
   "cell_type": "markdown",
   "id": "blocked-wales",
   "metadata": {},
   "source": [
    "<br>\n",
    "\n",
    "#### 유저별 평가 횟수\n",
    "***\n",
    "+ 유저별 평균 약 165회 영화에 대한 평가가 이루어 졌습니다.\n",
    "\n",
    "\n",
    "+ 75% 유저는 약 208회 평가를 실시 하였습니다.\n",
    "\n",
    "\n",
    "+ 가장 많은 평가를 한 유저는 2,314회 실시 하였습니다.\n",
    "***"
   ]
  },
  {
   "cell_type": "code",
   "execution_count": 5,
   "id": "brilliant-gross",
   "metadata": {},
   "outputs": [
    {
     "name": "stdout",
     "output_type": "stream",
     "text": [
      "**************************************************\n",
      "count   6040.000\n",
      "mean     165.598\n",
      "std      192.747\n",
      "min       20.000\n",
      "25%       44.000\n",
      "50%       96.000\n",
      "75%      208.000\n",
      "max     2314.000\n",
      "dtype: float64\n",
      "**************************************************\n"
     ]
    }
   ],
   "source": [
    "print(\"*\" * 50)\n",
    "print(analy_data.groupby(\"UserId\").size().describe())\n",
    "print(\"*\" * 50)"
   ]
  },
  {
   "cell_type": "markdown",
   "id": "mature-briefing",
   "metadata": {},
   "source": [
    "<br>\n",
    "\n",
    "#### 유저별 평가 간격\n",
    "***\n",
    "+ 평균 약 25일 간격으로 영화를 평가 합니다.\n",
    "\n",
    "\n",
    "+ 75%의 유저는 약 5.5일 간격으로 영화를 평가 합니다.\n",
    "\n",
    "\n",
    "+ 평가 간격이 가장 긴 유저는 약 1년 4개월 입니다.\n",
    "***"
   ]
  },
  {
   "cell_type": "code",
   "execution_count": 6,
   "id": "early-retail",
   "metadata": {},
   "outputs": [
    {
     "name": "stdout",
     "output_type": "stream",
     "text": [
      "**************************************************\n",
      "count       6040.000\n",
      "mean     2158428.273\n",
      "std      5466795.946\n",
      "min           39.724\n",
      "25%          349.795\n",
      "50%         1107.985\n",
      "75%       475082.376\n",
      "max     43070685.021\n",
      "Name: Time, dtype: float64\n",
      "**************************************************\n"
     ]
    },
    {
     "data": {
      "image/png": "[encoded data removed]",
      "text/plain": [
       "<Figure size 504x288 with 1 Axes>"
      ]
     },
     "metadata": {
      "needs_background": "light"
     },
     "output_type": "display_data"
    }
   ],
   "source": [
    "#유저별 평가 간격\n",
    "test = analy_data.groupby(\"UserId\")[\"Time\"].std().reset_index()\n",
    "\n",
    "print(\"*\" * 50)\n",
    "print(test[\"Time\"].describe())\n",
    "print(\"*\" * 50)\n",
    "\n",
    "plt.figure(figsize=(7, 4))\n",
    "plt.title(\"<Fig. 1>  Rating interval per user by days\", size= 13)\n",
    "plt.hist(test[\"Time\"]/60/60/24, bins=10, color=\"#1e90ff\")\n",
    "plt.ylabel(\"record num\")\n",
    "plt.xlabel(\"stdev user rating\")\n",
    "plt.show()"
   ]
  },
  {
   "cell_type": "markdown",
   "id": "preceding-nothing",
   "metadata": {},
   "source": [
    "<br>\n",
    "\n",
    "## 3. 세션 정의\n",
    "***\n",
    "<span style=\"font-size:12pt; line-height:1.7; font-family:Serif;\">\n",
    "    &nbsp; &nbsp; 'UserId'와 'Time' 데이터를 바탕으로 새롭게 세션을 정의하고 이를 토대로 추천 모델을 생성하고자 합니다. 'UserId'만을 이용할 경우, 시간에 따른 트랜드를 반영할 수 없습니다. 따라서, 'Time' 데이터를 이용하여 'UserId'와 결합하여 이를 해결하고자 합니다. 평가가 이루어진 시간에 해당하는 'Time'을 1분, 30분, 1시간 간격으로 묶어 'UserId'-'Time'의 세션을 정의 합니다. &lt;Fig. 2>는 세션 정의 방법을 도식화 한 것입니다. ①의 과정에서 'Time'을 1분, 30분, 60분 단위로 통합하여 줍니다. ②의 과정에서 각 단위로 통합된 데이터를 'UserId'와 결합하여 줍니다. 최종적으로 이를 세션으로 사용합니다.\n",
    "</span><br><br>\n",
    "\n",
    "<img src=\"./img/fig1.png\" width=900></img>\n",
    "\n",
    "&lt;Fig. 2> 세션 정의 순서\n",
    "***"
   ]
  },
  {
   "cell_type": "markdown",
   "id": "serial-testimony",
   "metadata": {},
   "source": [
    "### 3.1. 1분 단위 세션 정의\n",
    "***\n",
    "<span style=\"font-size:12pt; line-height:1.7; font-family:Serif;\">\n",
    "    &nbsp; &nbsp; 1분 단위로 세션을 정의 합니다. 동시, 동분을 하나로 통합하는 것으로, 22시 15분 5초와 22시 15분 45초를 22시 15분 0초로 통합하여 동일한 세션으로 보는 것입니다. 이러한 개념을 바탕으로 'Time'을 재정의 한 후, 'UserId'와 합친 후, 이를 다시 순차적으로 인덱싱 합니다.\n",
    "</span>\n",
    "\n",
    "***"
   ]
  },
  {
   "cell_type": "markdown",
   "id": "amazing-raise",
   "metadata": {},
   "source": [
    "#### `Time` 데이터 1분 단위로 변환\n",
    "***\n",
    "+ 초 단위의 `Time` 데이터에서 '초(sec)' 영역을 제외하여 줍니다.\n",
    "\n",
    "\n",
    "+ `Time` 속성 Index 31의 데이터 978300019(2000-12-31 22:0:19)의 초에 해당하는 값 19가 `Time_1min`에서 0으로 변환된 것을 확인할 수 있습니다.\n",
    "***"
   ]
  },
  {
   "cell_type": "code",
   "execution_count": 7,
   "id": "sound-column",
   "metadata": {},
   "outputs": [
    {
     "data": {
      "text/html": [
       "<div>\n",
       "<style scoped>\n",
       "    .dataframe tbody tr th:only-of-type {\n",
       "        vertical-align: middle;\n",
       "    }\n",
       "\n",
       "    .dataframe tbody tr th {\n",
       "        vertical-align: top;\n",
       "    }\n",
       "\n",
       "    .dataframe thead th {\n",
       "        text-align: right;\n",
       "    }\n",
       "</style>\n",
       "<table border=\"1\" class=\"dataframe\">\n",
       "  <thead>\n",
       "    <tr style=\"text-align: right;\">\n",
       "      <th></th>\n",
       "      <th>UserId</th>\n",
       "      <th>ItemId</th>\n",
       "      <th>Rating</th>\n",
       "      <th>Time</th>\n",
       "      <th>Time_1min</th>\n",
       "    </tr>\n",
       "  </thead>\n",
       "  <tbody>\n",
       "    <tr>\n",
       "      <th>31</th>\n",
       "      <td>1</td>\n",
       "      <td>3186</td>\n",
       "      <td>4</td>\n",
       "      <td>978300019</td>\n",
       "      <td>978300000</td>\n",
       "    </tr>\n",
       "    <tr>\n",
       "      <th>22</th>\n",
       "      <td>1</td>\n",
       "      <td>1270</td>\n",
       "      <td>5</td>\n",
       "      <td>978300055</td>\n",
       "      <td>978300000</td>\n",
       "    </tr>\n",
       "    <tr>\n",
       "      <th>27</th>\n",
       "      <td>1</td>\n",
       "      <td>1721</td>\n",
       "      <td>4</td>\n",
       "      <td>978300055</td>\n",
       "      <td>978300000</td>\n",
       "    </tr>\n",
       "    <tr>\n",
       "      <th>37</th>\n",
       "      <td>1</td>\n",
       "      <td>1022</td>\n",
       "      <td>5</td>\n",
       "      <td>978300055</td>\n",
       "      <td>978300000</td>\n",
       "    </tr>\n",
       "    <tr>\n",
       "      <th>24</th>\n",
       "      <td>1</td>\n",
       "      <td>2340</td>\n",
       "      <td>3</td>\n",
       "      <td>978300103</td>\n",
       "      <td>978300060</td>\n",
       "    </tr>\n",
       "  </tbody>\n",
       "</table>\n",
       "</div>"
      ],
      "text/plain": [
       "    UserId  ItemId  Rating       Time  Time_1min\n",
       "31       1    3186       4  978300019  978300000\n",
       "22       1    1270       5  978300055  978300000\n",
       "27       1    1721       4  978300055  978300000\n",
       "37       1    1022       5  978300055  978300000\n",
       "24       1    2340       3  978300103  978300060"
      ]
     },
     "execution_count": 7,
     "metadata": {},
     "output_type": "execute_result"
    }
   ],
   "source": [
    "session_1min = data.copy()\n",
    "\n",
    "def cut_1min(x):\n",
    "    date_ = datetime.fromtimestamp(x)\n",
    "    date_ = date_ - timedelta(seconds=date_.second)\n",
    "    return int(time.mktime(date_.timetuple()))\n",
    "\n",
    "session_1min[\"Time_1min\"] = session_1min[\"Time\"].apply(cut_1min)   #초단위 제외\n",
    "\n",
    "\n",
    "session_1min.head(5)"
   ]
  },
  {
   "cell_type": "markdown",
   "id": "fossil-cassette",
   "metadata": {},
   "source": [
    "<br>\n",
    "\n",
    "#### `UserId` 및 `Time` 중복 레코드 통합\n",
    "***\n",
    "+ `UserId`와 `Time`에 대한 중복 레코드를 통합 합니다.\n",
    "\n",
    "\n",
    "+ `Time_1min`의 평균은 하나의 값으로 통일 되어 있기 때문에 결국 동일한 값에 해당 합니다.\n",
    "***"
   ]
  },
  {
   "cell_type": "code",
   "execution_count": 8,
   "id": "great-happening",
   "metadata": {
    "scrolled": false
   },
   "outputs": [
    {
     "data": {
      "text/html": [
       "<div>\n",
       "<style scoped>\n",
       "    .dataframe tbody tr th:only-of-type {\n",
       "        vertical-align: middle;\n",
       "    }\n",
       "\n",
       "    .dataframe tbody tr th {\n",
       "        vertical-align: top;\n",
       "    }\n",
       "\n",
       "    .dataframe thead th {\n",
       "        text-align: right;\n",
       "    }\n",
       "</style>\n",
       "<table border=\"1\" class=\"dataframe\">\n",
       "  <thead>\n",
       "    <tr style=\"text-align: right;\">\n",
       "      <th></th>\n",
       "      <th>UserId</th>\n",
       "      <th>Time</th>\n",
       "      <th>Time_1min</th>\n",
       "    </tr>\n",
       "  </thead>\n",
       "  <tbody>\n",
       "    <tr>\n",
       "      <th>0</th>\n",
       "      <td>1</td>\n",
       "      <td>978300019</td>\n",
       "      <td>978300000</td>\n",
       "    </tr>\n",
       "    <tr>\n",
       "      <th>1</th>\n",
       "      <td>1</td>\n",
       "      <td>978300055</td>\n",
       "      <td>978300000</td>\n",
       "    </tr>\n",
       "    <tr>\n",
       "      <th>2</th>\n",
       "      <td>1</td>\n",
       "      <td>978300103</td>\n",
       "      <td>978300060</td>\n",
       "    </tr>\n",
       "    <tr>\n",
       "      <th>3</th>\n",
       "      <td>1</td>\n",
       "      <td>978300172</td>\n",
       "      <td>978300120</td>\n",
       "    </tr>\n",
       "    <tr>\n",
       "      <th>4</th>\n",
       "      <td>1</td>\n",
       "      <td>978300275</td>\n",
       "      <td>978300240</td>\n",
       "    </tr>\n",
       "    <tr>\n",
       "      <th>...</th>\n",
       "      <td>...</td>\n",
       "      <td>...</td>\n",
       "      <td>...</td>\n",
       "    </tr>\n",
       "    <tr>\n",
       "      <th>471158</th>\n",
       "      <td>6040</td>\n",
       "      <td>997454398</td>\n",
       "      <td>997454340</td>\n",
       "    </tr>\n",
       "    <tr>\n",
       "      <th>471159</th>\n",
       "      <td>6040</td>\n",
       "      <td>997454429</td>\n",
       "      <td>997454400</td>\n",
       "    </tr>\n",
       "    <tr>\n",
       "      <th>471160</th>\n",
       "      <td>6040</td>\n",
       "      <td>997454464</td>\n",
       "      <td>997454460</td>\n",
       "    </tr>\n",
       "    <tr>\n",
       "      <th>471161</th>\n",
       "      <td>6040</td>\n",
       "      <td>997454486</td>\n",
       "      <td>997454460</td>\n",
       "    </tr>\n",
       "    <tr>\n",
       "      <th>471162</th>\n",
       "      <td>6040</td>\n",
       "      <td>998315055</td>\n",
       "      <td>998315040</td>\n",
       "    </tr>\n",
       "  </tbody>\n",
       "</table>\n",
       "<p>471163 rows × 3 columns</p>\n",
       "</div>"
      ],
      "text/plain": [
       "        UserId       Time  Time_1min\n",
       "0            1  978300019  978300000\n",
       "1            1  978300055  978300000\n",
       "2            1  978300103  978300060\n",
       "3            1  978300172  978300120\n",
       "4            1  978300275  978300240\n",
       "...        ...        ...        ...\n",
       "471158    6040  997454398  997454340\n",
       "471159    6040  997454429  997454400\n",
       "471160    6040  997454464  997454460\n",
       "471161    6040  997454486  997454460\n",
       "471162    6040  998315055  998315040\n",
       "\n",
       "[471163 rows x 3 columns]"
      ]
     },
     "execution_count": 8,
     "metadata": {},
     "output_type": "execute_result"
    }
   ],
   "source": [
    "session_1min = session_1min.groupby([\"UserId\", \"Time\"])[\"Time_1min\"].mean().reset_index()\n",
    "session_1min"
   ]
  },
  {
   "cell_type": "markdown",
   "id": "becoming-medline",
   "metadata": {},
   "source": [
    "<br>\n",
    "\n",
    "#### `UserId` 와 `Time_1min` 문자열 합치기\n",
    "***\n",
    "+ `UserId`와 `Time_1min`의 값을 문자열로 합친 후 다시 정수로 변환합니다.\n",
    "\n",
    "\n",
    "+ `comb_user_time`의 값이 최종 세션이 됩니다.\n",
    "***"
   ]
  },
  {
   "cell_type": "code",
   "execution_count": 9,
   "id": "drawn-microphone",
   "metadata": {
    "scrolled": false
   },
   "outputs": [
    {
     "data": {
      "text/html": [
       "<div>\n",
       "<style scoped>\n",
       "    .dataframe tbody tr th:only-of-type {\n",
       "        vertical-align: middle;\n",
       "    }\n",
       "\n",
       "    .dataframe tbody tr th {\n",
       "        vertical-align: top;\n",
       "    }\n",
       "\n",
       "    .dataframe thead th {\n",
       "        text-align: right;\n",
       "    }\n",
       "</style>\n",
       "<table border=\"1\" class=\"dataframe\">\n",
       "  <thead>\n",
       "    <tr style=\"text-align: right;\">\n",
       "      <th></th>\n",
       "      <th>UserId</th>\n",
       "      <th>Time</th>\n",
       "      <th>Time_1min</th>\n",
       "      <th>comb_user_time</th>\n",
       "    </tr>\n",
       "  </thead>\n",
       "  <tbody>\n",
       "    <tr>\n",
       "      <th>0</th>\n",
       "      <td>1</td>\n",
       "      <td>978300019</td>\n",
       "      <td>978300000</td>\n",
       "      <td>1978300000</td>\n",
       "    </tr>\n",
       "    <tr>\n",
       "      <th>1</th>\n",
       "      <td>1</td>\n",
       "      <td>978300055</td>\n",
       "      <td>978300000</td>\n",
       "      <td>1978300000</td>\n",
       "    </tr>\n",
       "    <tr>\n",
       "      <th>2</th>\n",
       "      <td>1</td>\n",
       "      <td>978300103</td>\n",
       "      <td>978300060</td>\n",
       "      <td>1978300060</td>\n",
       "    </tr>\n",
       "    <tr>\n",
       "      <th>3</th>\n",
       "      <td>1</td>\n",
       "      <td>978300172</td>\n",
       "      <td>978300120</td>\n",
       "      <td>1978300120</td>\n",
       "    </tr>\n",
       "    <tr>\n",
       "      <th>4</th>\n",
       "      <td>1</td>\n",
       "      <td>978300275</td>\n",
       "      <td>978300240</td>\n",
       "      <td>1978300240</td>\n",
       "    </tr>\n",
       "    <tr>\n",
       "      <th>...</th>\n",
       "      <td>...</td>\n",
       "      <td>...</td>\n",
       "      <td>...</td>\n",
       "      <td>...</td>\n",
       "    </tr>\n",
       "    <tr>\n",
       "      <th>471158</th>\n",
       "      <td>6040</td>\n",
       "      <td>997454398</td>\n",
       "      <td>997454340</td>\n",
       "      <td>6040997454340</td>\n",
       "    </tr>\n",
       "    <tr>\n",
       "      <th>471159</th>\n",
       "      <td>6040</td>\n",
       "      <td>997454429</td>\n",
       "      <td>997454400</td>\n",
       "      <td>6040997454400</td>\n",
       "    </tr>\n",
       "    <tr>\n",
       "      <th>471160</th>\n",
       "      <td>6040</td>\n",
       "      <td>997454464</td>\n",
       "      <td>997454460</td>\n",
       "      <td>6040997454460</td>\n",
       "    </tr>\n",
       "    <tr>\n",
       "      <th>471161</th>\n",
       "      <td>6040</td>\n",
       "      <td>997454486</td>\n",
       "      <td>997454460</td>\n",
       "      <td>6040997454460</td>\n",
       "    </tr>\n",
       "    <tr>\n",
       "      <th>471162</th>\n",
       "      <td>6040</td>\n",
       "      <td>998315055</td>\n",
       "      <td>998315040</td>\n",
       "      <td>6040998315040</td>\n",
       "    </tr>\n",
       "  </tbody>\n",
       "</table>\n",
       "<p>471163 rows × 4 columns</p>\n",
       "</div>"
      ],
      "text/plain": [
       "        UserId       Time  Time_1min  comb_user_time\n",
       "0            1  978300019  978300000      1978300000\n",
       "1            1  978300055  978300000      1978300000\n",
       "2            1  978300103  978300060      1978300060\n",
       "3            1  978300172  978300120      1978300120\n",
       "4            1  978300275  978300240      1978300240\n",
       "...        ...        ...        ...             ...\n",
       "471158    6040  997454398  997454340   6040997454340\n",
       "471159    6040  997454429  997454400   6040997454400\n",
       "471160    6040  997454464  997454460   6040997454460\n",
       "471161    6040  997454486  997454460   6040997454460\n",
       "471162    6040  998315055  998315040   6040998315040\n",
       "\n",
       "[471163 rows x 4 columns]"
      ]
     },
     "execution_count": 9,
     "metadata": {},
     "output_type": "execute_result"
    }
   ],
   "source": [
    "comb_user_time = session_1min.loc[:, [\"UserId\", \"Time_1min\"]].copy()\n",
    "comb_user_time = comb_user_time.astype({\"UserId\": str, \"Time_1min\": str})   #문자열로 변환\n",
    "\n",
    "comb_user_time = comb_user_time[\"UserId\"] + comb_user_time[\"Time_1min\"]\n",
    "comb_user_time = comb_user_time.astype(int)\n",
    "\n",
    "session_1min[\"comb_user_time\"] = comb_user_time\n",
    "session_1min"
   ]
  },
  {
   "cell_type": "markdown",
   "id": "valuable-amazon",
   "metadata": {},
   "source": [
    "<br>\n",
    "\n",
    "#### unique 인덱스로 변환하기\n",
    "***\n",
    "+ `comb_user_time` 값을 고유 인덱스 값으로 치환하여 줍니다.\n",
    "***"
   ]
  },
  {
   "cell_type": "code",
   "execution_count": 10,
   "id": "thick-peter",
   "metadata": {},
   "outputs": [
    {
     "data": {
      "text/html": [
       "<div>\n",
       "<style scoped>\n",
       "    .dataframe tbody tr th:only-of-type {\n",
       "        vertical-align: middle;\n",
       "    }\n",
       "\n",
       "    .dataframe tbody tr th {\n",
       "        vertical-align: top;\n",
       "    }\n",
       "\n",
       "    .dataframe thead th {\n",
       "        text-align: right;\n",
       "    }\n",
       "</style>\n",
       "<table border=\"1\" class=\"dataframe\">\n",
       "  <thead>\n",
       "    <tr style=\"text-align: right;\">\n",
       "      <th></th>\n",
       "      <th>UserId</th>\n",
       "      <th>Time</th>\n",
       "      <th>Time_1min</th>\n",
       "      <th>comb_user_time</th>\n",
       "      <th>Session</th>\n",
       "    </tr>\n",
       "  </thead>\n",
       "  <tbody>\n",
       "    <tr>\n",
       "      <th>0</th>\n",
       "      <td>1</td>\n",
       "      <td>978300019</td>\n",
       "      <td>978300000</td>\n",
       "      <td>1978300000</td>\n",
       "      <td>0</td>\n",
       "    </tr>\n",
       "    <tr>\n",
       "      <th>1</th>\n",
       "      <td>1</td>\n",
       "      <td>978300055</td>\n",
       "      <td>978300000</td>\n",
       "      <td>1978300000</td>\n",
       "      <td>0</td>\n",
       "    </tr>\n",
       "    <tr>\n",
       "      <th>2</th>\n",
       "      <td>1</td>\n",
       "      <td>978300103</td>\n",
       "      <td>978300060</td>\n",
       "      <td>1978300060</td>\n",
       "      <td>1</td>\n",
       "    </tr>\n",
       "    <tr>\n",
       "      <th>3</th>\n",
       "      <td>1</td>\n",
       "      <td>978300172</td>\n",
       "      <td>978300120</td>\n",
       "      <td>1978300120</td>\n",
       "      <td>2</td>\n",
       "    </tr>\n",
       "    <tr>\n",
       "      <th>4</th>\n",
       "      <td>1</td>\n",
       "      <td>978300275</td>\n",
       "      <td>978300240</td>\n",
       "      <td>1978300240</td>\n",
       "      <td>3</td>\n",
       "    </tr>\n",
       "    <tr>\n",
       "      <th>...</th>\n",
       "      <td>...</td>\n",
       "      <td>...</td>\n",
       "      <td>...</td>\n",
       "      <td>...</td>\n",
       "      <td>...</td>\n",
       "    </tr>\n",
       "    <tr>\n",
       "      <th>471158</th>\n",
       "      <td>6040</td>\n",
       "      <td>997454398</td>\n",
       "      <td>997454340</td>\n",
       "      <td>6040997454340</td>\n",
       "      <td>284968</td>\n",
       "    </tr>\n",
       "    <tr>\n",
       "      <th>471159</th>\n",
       "      <td>6040</td>\n",
       "      <td>997454429</td>\n",
       "      <td>997454400</td>\n",
       "      <td>6040997454400</td>\n",
       "      <td>284969</td>\n",
       "    </tr>\n",
       "    <tr>\n",
       "      <th>471160</th>\n",
       "      <td>6040</td>\n",
       "      <td>997454464</td>\n",
       "      <td>997454460</td>\n",
       "      <td>6040997454460</td>\n",
       "      <td>284970</td>\n",
       "    </tr>\n",
       "    <tr>\n",
       "      <th>471161</th>\n",
       "      <td>6040</td>\n",
       "      <td>997454486</td>\n",
       "      <td>997454460</td>\n",
       "      <td>6040997454460</td>\n",
       "      <td>284970</td>\n",
       "    </tr>\n",
       "    <tr>\n",
       "      <th>471162</th>\n",
       "      <td>6040</td>\n",
       "      <td>998315055</td>\n",
       "      <td>998315040</td>\n",
       "      <td>6040998315040</td>\n",
       "      <td>284971</td>\n",
       "    </tr>\n",
       "  </tbody>\n",
       "</table>\n",
       "<p>471163 rows × 5 columns</p>\n",
       "</div>"
      ],
      "text/plain": [
       "        UserId       Time  Time_1min  comb_user_time  Session\n",
       "0            1  978300019  978300000      1978300000        0\n",
       "1            1  978300055  978300000      1978300000        0\n",
       "2            1  978300103  978300060      1978300060        1\n",
       "3            1  978300172  978300120      1978300120        2\n",
       "4            1  978300275  978300240      1978300240        3\n",
       "...        ...        ...        ...             ...      ...\n",
       "471158    6040  997454398  997454340   6040997454340   284968\n",
       "471159    6040  997454429  997454400   6040997454400   284969\n",
       "471160    6040  997454464  997454460   6040997454460   284970\n",
       "471161    6040  997454486  997454460   6040997454460   284970\n",
       "471162    6040  998315055  998315040   6040998315040   284971\n",
       "\n",
       "[471163 rows x 5 columns]"
      ]
     },
     "execution_count": 10,
     "metadata": {},
     "output_type": "execute_result"
    }
   ],
   "source": [
    "session_list = session_1min[\"comb_user_time\"]\n",
    "unique_list = session_1min[\"comb_user_time\"].unique()\n",
    "unique_list = [np.where(unique_list == session)[0][0] for session in session_list]\n",
    "\n",
    "session_1min[\"Session\"] = unique_list\n",
    "\n",
    "\n",
    "session_1min"
   ]
  },
  {
   "cell_type": "markdown",
   "id": "imported-privilege",
   "metadata": {},
   "source": [
    "<br>\n",
    "\n",
    "#### 기존 데이터와 `Session` 결합\n",
    "***\n",
    "+ 생성한 1분 단위 세션을 기존 데이터와 결합 합니다.\n",
    "***"
   ]
  },
  {
   "cell_type": "code",
   "execution_count": 11,
   "id": "coordinate-warren",
   "metadata": {},
   "outputs": [
    {
     "data": {
      "text/html": [
       "<div>\n",
       "<style scoped>\n",
       "    .dataframe tbody tr th:only-of-type {\n",
       "        vertical-align: middle;\n",
       "    }\n",
       "\n",
       "    .dataframe tbody tr th {\n",
       "        vertical-align: top;\n",
       "    }\n",
       "\n",
       "    .dataframe thead th {\n",
       "        text-align: right;\n",
       "    }\n",
       "</style>\n",
       "<table border=\"1\" class=\"dataframe\">\n",
       "  <thead>\n",
       "    <tr style=\"text-align: right;\">\n",
       "      <th></th>\n",
       "      <th>UserId</th>\n",
       "      <th>ItemId</th>\n",
       "      <th>Rating</th>\n",
       "      <th>Time</th>\n",
       "      <th>Session</th>\n",
       "    </tr>\n",
       "  </thead>\n",
       "  <tbody>\n",
       "    <tr>\n",
       "      <th>0</th>\n",
       "      <td>1</td>\n",
       "      <td>3186</td>\n",
       "      <td>4</td>\n",
       "      <td>978300019</td>\n",
       "      <td>0</td>\n",
       "    </tr>\n",
       "    <tr>\n",
       "      <th>1</th>\n",
       "      <td>1</td>\n",
       "      <td>1270</td>\n",
       "      <td>5</td>\n",
       "      <td>978300055</td>\n",
       "      <td>0</td>\n",
       "    </tr>\n",
       "    <tr>\n",
       "      <th>2</th>\n",
       "      <td>1</td>\n",
       "      <td>1721</td>\n",
       "      <td>4</td>\n",
       "      <td>978300055</td>\n",
       "      <td>0</td>\n",
       "    </tr>\n",
       "    <tr>\n",
       "      <th>3</th>\n",
       "      <td>1</td>\n",
       "      <td>1022</td>\n",
       "      <td>5</td>\n",
       "      <td>978300055</td>\n",
       "      <td>0</td>\n",
       "    </tr>\n",
       "    <tr>\n",
       "      <th>4</th>\n",
       "      <td>1</td>\n",
       "      <td>2340</td>\n",
       "      <td>3</td>\n",
       "      <td>978300103</td>\n",
       "      <td>1</td>\n",
       "    </tr>\n",
       "    <tr>\n",
       "      <th>...</th>\n",
       "      <td>...</td>\n",
       "      <td>...</td>\n",
       "      <td>...</td>\n",
       "      <td>...</td>\n",
       "      <td>...</td>\n",
       "    </tr>\n",
       "    <tr>\n",
       "      <th>1000204</th>\n",
       "      <td>6040</td>\n",
       "      <td>2917</td>\n",
       "      <td>4</td>\n",
       "      <td>997454429</td>\n",
       "      <td>284969</td>\n",
       "    </tr>\n",
       "    <tr>\n",
       "      <th>1000205</th>\n",
       "      <td>6040</td>\n",
       "      <td>1921</td>\n",
       "      <td>4</td>\n",
       "      <td>997454464</td>\n",
       "      <td>284970</td>\n",
       "    </tr>\n",
       "    <tr>\n",
       "      <th>1000206</th>\n",
       "      <td>6040</td>\n",
       "      <td>1784</td>\n",
       "      <td>3</td>\n",
       "      <td>997454464</td>\n",
       "      <td>284970</td>\n",
       "    </tr>\n",
       "    <tr>\n",
       "      <th>1000207</th>\n",
       "      <td>6040</td>\n",
       "      <td>161</td>\n",
       "      <td>3</td>\n",
       "      <td>997454486</td>\n",
       "      <td>284970</td>\n",
       "    </tr>\n",
       "    <tr>\n",
       "      <th>1000208</th>\n",
       "      <td>6040</td>\n",
       "      <td>1221</td>\n",
       "      <td>4</td>\n",
       "      <td>998315055</td>\n",
       "      <td>284971</td>\n",
       "    </tr>\n",
       "  </tbody>\n",
       "</table>\n",
       "<p>1000209 rows × 5 columns</p>\n",
       "</div>"
      ],
      "text/plain": [
       "         UserId  ItemId  Rating       Time  Session\n",
       "0             1    3186       4  978300019        0\n",
       "1             1    1270       5  978300055        0\n",
       "2             1    1721       4  978300055        0\n",
       "3             1    1022       5  978300055        0\n",
       "4             1    2340       3  978300103        1\n",
       "...         ...     ...     ...        ...      ...\n",
       "1000204    6040    2917       4  997454429   284969\n",
       "1000205    6040    1921       4  997454464   284970\n",
       "1000206    6040    1784       3  997454464   284970\n",
       "1000207    6040     161       3  997454486   284970\n",
       "1000208    6040    1221       4  998315055   284971\n",
       "\n",
       "[1000209 rows x 5 columns]"
      ]
     },
     "execution_count": 11,
     "metadata": {},
     "output_type": "execute_result"
    }
   ],
   "source": [
    "session_1min.drop(columns=[\"Time_1min\", \"comb_user_time\"], inplace=True)\n",
    "session_1min_data = pd.merge(data, session_1min, on=[\"UserId\", \"Time\"])\n",
    "\n",
    "session_1min_data"
   ]
  },
  {
   "cell_type": "markdown",
   "id": "retained-synthetic",
   "metadata": {},
   "source": [
    "<br>\n",
    "\n",
    "#### 과정 통합 함수 생성\n",
    "***\n",
    "+ 'UserId 및 Time 중복 레코드 통합', 'UserId 와 Time_1min 문자열 합치기', 'unique 인덱스로 변환하기', '기존 데이터와 Session 결합' 과정을 통합하는 함수를 생성하여 30분, 1시간 단위 세션 정의 시에 사용합니다.\n",
    "***"
   ]
  },
  {
   "cell_type": "code",
   "execution_count": 12,
   "id": "incorporate-penalty",
   "metadata": {},
   "outputs": [],
   "source": [
    "def get_session_dataset(session_min_df, session_column):\n",
    "    #UserId와 Time에 대한 중복 레코드를 통합=======================\n",
    "    session_min_df = session_min_df.groupby([\"UserId\", \"Time\"])[session_column].mean().reset_index()\n",
    "    #End===========================================================\n",
    "\n",
    "\n",
    "    #UserId 와 Time_1min 문자열 합치기=============================\n",
    "    comb_user_time = session_min_df.loc[:, [\"UserId\", session_column]].copy()\n",
    "    comb_user_time = comb_user_time.astype({\"UserId\": str, session_column: str})   #문자열로 변환\n",
    "\n",
    "    comb_user_time = comb_user_time[\"UserId\"] + comb_user_time[session_column]\n",
    "    comb_user_time = comb_user_time.astype(int)\n",
    "\n",
    "    session_min_df[\"comb_user_time\"] = comb_user_time\n",
    "    #End===========================================================\n",
    "\n",
    "\n",
    "    #unique 인덱스로 변환하기======================================\n",
    "    session_list = session_min_df[\"comb_user_time\"]\n",
    "    unique_list = session_min_df[\"comb_user_time\"].unique()\n",
    "    unique_list = [np.where(unique_list == session)[0][0] for session in session_list]\n",
    "\n",
    "    session_min_df[\"Session\"] = unique_list\n",
    "    #End===========================================================\n",
    "\n",
    "\n",
    "    #기존 데이터와 Session 결합\n",
    "    session_min_df.drop(columns=[session_column, \"comb_user_time\"], inplace=True)\n",
    "    session_min_df_data = pd.merge(data, session_min_df, on=[\"UserId\", \"Time\"])\n",
    "    #End===========================================================\n",
    "\n",
    "    return session_min_df_data"
   ]
  },
  {
   "cell_type": "markdown",
   "id": "monetary-brook",
   "metadata": {},
   "source": [
    "<br>\n",
    "\n",
    "### 3.2. 30분 단위 세션 정의\n",
    "***\n",
    "<span style=\"font-size:12pt; line-height:1.7; font-family:Serif;\">\n",
    "    &nbsp; &nbsp; 30분 단위로 세션을 정의 합니다. 30분 단위로 시간을 통합하는 것으로 30분 단위로 이루어진 평가를 동일한 세션으로 보는 것입니다. 이러한 개념을 바탕으로 'Time'을 재정의 한 후, 'UserId'와 합친 후, 이를 다시 순차적으로 인덱싱 합니다.\n",
    "</span>\n",
    "\n",
    "***"
   ]
  },
  {
   "cell_type": "markdown",
   "id": "senior-eugene",
   "metadata": {},
   "source": [
    "#### `Time` 데이터 30분 단위로 변환\n",
    "***\n",
    "+ 초 단위의 `Time` 데이터에서 '분(minute)'이 30분 미만의 경우 0분으로, 30분 이상의 경우 30으로 치환 합니다.\n",
    "\n",
    "\n",
    "+ `Time` 속성 Index 2의 데이터 978301968(2000-12-31 22:32:48)가 `Time_30min`에서 978301800(2000-12-31 22:30:00)으로 변환된 것을 확인할 수 있습니다.\n",
    "***"
   ]
  },
  {
   "cell_type": "code",
   "execution_count": 13,
   "id": "fifty-essence",
   "metadata": {},
   "outputs": [
    {
     "data": {
      "text/html": [
       "<div>\n",
       "<style scoped>\n",
       "    .dataframe tbody tr th:only-of-type {\n",
       "        vertical-align: middle;\n",
       "    }\n",
       "\n",
       "    .dataframe tbody tr th {\n",
       "        vertical-align: top;\n",
       "    }\n",
       "\n",
       "    .dataframe thead th {\n",
       "        text-align: right;\n",
       "    }\n",
       "</style>\n",
       "<table border=\"1\" class=\"dataframe\">\n",
       "  <thead>\n",
       "    <tr style=\"text-align: right;\">\n",
       "      <th></th>\n",
       "      <th>UserId</th>\n",
       "      <th>ItemId</th>\n",
       "      <th>Rating</th>\n",
       "      <th>Time</th>\n",
       "      <th>Time_30min</th>\n",
       "    </tr>\n",
       "  </thead>\n",
       "  <tbody>\n",
       "    <tr>\n",
       "      <th>2</th>\n",
       "      <td>1</td>\n",
       "      <td>914</td>\n",
       "      <td>3</td>\n",
       "      <td>978301968</td>\n",
       "      <td>978301800</td>\n",
       "    </tr>\n",
       "    <tr>\n",
       "      <th>6</th>\n",
       "      <td>1</td>\n",
       "      <td>1287</td>\n",
       "      <td>5</td>\n",
       "      <td>978302039</td>\n",
       "      <td>978301800</td>\n",
       "    </tr>\n",
       "    <tr>\n",
       "      <th>19</th>\n",
       "      <td>1</td>\n",
       "      <td>2797</td>\n",
       "      <td>4</td>\n",
       "      <td>978302039</td>\n",
       "      <td>978301800</td>\n",
       "    </tr>\n",
       "    <tr>\n",
       "      <th>38</th>\n",
       "      <td>1</td>\n",
       "      <td>2762</td>\n",
       "      <td>4</td>\n",
       "      <td>978302091</td>\n",
       "      <td>978301800</td>\n",
       "    </tr>\n",
       "    <tr>\n",
       "      <th>52</th>\n",
       "      <td>1</td>\n",
       "      <td>1246</td>\n",
       "      <td>4</td>\n",
       "      <td>978302091</td>\n",
       "      <td>978301800</td>\n",
       "    </tr>\n",
       "  </tbody>\n",
       "</table>\n",
       "</div>"
      ],
      "text/plain": [
       "    UserId  ItemId  Rating       Time  Time_30min\n",
       "2        1     914       3  978301968   978301800\n",
       "6        1    1287       5  978302039   978301800\n",
       "19       1    2797       4  978302039   978301800\n",
       "38       1    2762       4  978302091   978301800\n",
       "52       1    1246       4  978302091   978301800"
      ]
     },
     "execution_count": 13,
     "metadata": {},
     "output_type": "execute_result"
    }
   ],
   "source": [
    "session_30min = data.copy()\n",
    "\n",
    "def cut_30min(x):\n",
    "    date_ = datetime.fromtimestamp(x)\n",
    "    date_ = date_ - timedelta(seconds=date_.second)\n",
    "        \n",
    "    if int(date_.minute) < 30:\n",
    "        date_ = date_ - timedelta(minutes=date_.minute)\n",
    "    else:\n",
    "        date_ = date_ + timedelta(minutes=30 - date_.minute)\n",
    "    return int(time.mktime(date_.timetuple()))\n",
    "\n",
    "\n",
    "session_30min[\"Time_30min\"] = session_30min[\"Time\"].apply(cut_30min)   #초단위 제외\n",
    "\n",
    "\n",
    "session_30min[25:30]"
   ]
  },
  {
   "cell_type": "markdown",
   "id": "executed-thailand",
   "metadata": {},
   "source": [
    "<br>\n",
    "\n",
    "#### 30분 단위 세션 데이터 획득\n",
    "***\n",
    "+ 앞서 생성한 통합 함수를 이용하여 30분 단위 세션 데이터를 획득 합니다.\n",
    "***"
   ]
  },
  {
   "cell_type": "code",
   "execution_count": 14,
   "id": "joint-alberta",
   "metadata": {},
   "outputs": [
    {
     "data": {
      "text/html": [
       "<div>\n",
       "<style scoped>\n",
       "    .dataframe tbody tr th:only-of-type {\n",
       "        vertical-align: middle;\n",
       "    }\n",
       "\n",
       "    .dataframe tbody tr th {\n",
       "        vertical-align: top;\n",
       "    }\n",
       "\n",
       "    .dataframe thead th {\n",
       "        text-align: right;\n",
       "    }\n",
       "</style>\n",
       "<table border=\"1\" class=\"dataframe\">\n",
       "  <thead>\n",
       "    <tr style=\"text-align: right;\">\n",
       "      <th></th>\n",
       "      <th>UserId</th>\n",
       "      <th>ItemId</th>\n",
       "      <th>Rating</th>\n",
       "      <th>Time</th>\n",
       "      <th>Session</th>\n",
       "    </tr>\n",
       "  </thead>\n",
       "  <tbody>\n",
       "    <tr>\n",
       "      <th>0</th>\n",
       "      <td>1</td>\n",
       "      <td>3186</td>\n",
       "      <td>4</td>\n",
       "      <td>978300019</td>\n",
       "      <td>0</td>\n",
       "    </tr>\n",
       "    <tr>\n",
       "      <th>1</th>\n",
       "      <td>1</td>\n",
       "      <td>1270</td>\n",
       "      <td>5</td>\n",
       "      <td>978300055</td>\n",
       "      <td>0</td>\n",
       "    </tr>\n",
       "    <tr>\n",
       "      <th>2</th>\n",
       "      <td>1</td>\n",
       "      <td>1721</td>\n",
       "      <td>4</td>\n",
       "      <td>978300055</td>\n",
       "      <td>0</td>\n",
       "    </tr>\n",
       "    <tr>\n",
       "      <th>3</th>\n",
       "      <td>1</td>\n",
       "      <td>1022</td>\n",
       "      <td>5</td>\n",
       "      <td>978300055</td>\n",
       "      <td>0</td>\n",
       "    </tr>\n",
       "    <tr>\n",
       "      <th>4</th>\n",
       "      <td>1</td>\n",
       "      <td>2340</td>\n",
       "      <td>3</td>\n",
       "      <td>978300103</td>\n",
       "      <td>0</td>\n",
       "    </tr>\n",
       "    <tr>\n",
       "      <th>...</th>\n",
       "      <td>...</td>\n",
       "      <td>...</td>\n",
       "      <td>...</td>\n",
       "      <td>...</td>\n",
       "      <td>...</td>\n",
       "    </tr>\n",
       "    <tr>\n",
       "      <th>1000204</th>\n",
       "      <td>6040</td>\n",
       "      <td>2917</td>\n",
       "      <td>4</td>\n",
       "      <td>997454429</td>\n",
       "      <td>39219</td>\n",
       "    </tr>\n",
       "    <tr>\n",
       "      <th>1000205</th>\n",
       "      <td>6040</td>\n",
       "      <td>1921</td>\n",
       "      <td>4</td>\n",
       "      <td>997454464</td>\n",
       "      <td>39219</td>\n",
       "    </tr>\n",
       "    <tr>\n",
       "      <th>1000206</th>\n",
       "      <td>6040</td>\n",
       "      <td>1784</td>\n",
       "      <td>3</td>\n",
       "      <td>997454464</td>\n",
       "      <td>39219</td>\n",
       "    </tr>\n",
       "    <tr>\n",
       "      <th>1000207</th>\n",
       "      <td>6040</td>\n",
       "      <td>161</td>\n",
       "      <td>3</td>\n",
       "      <td>997454486</td>\n",
       "      <td>39219</td>\n",
       "    </tr>\n",
       "    <tr>\n",
       "      <th>1000208</th>\n",
       "      <td>6040</td>\n",
       "      <td>1221</td>\n",
       "      <td>4</td>\n",
       "      <td>998315055</td>\n",
       "      <td>39220</td>\n",
       "    </tr>\n",
       "  </tbody>\n",
       "</table>\n",
       "<p>1000209 rows × 5 columns</p>\n",
       "</div>"
      ],
      "text/plain": [
       "         UserId  ItemId  Rating       Time  Session\n",
       "0             1    3186       4  978300019        0\n",
       "1             1    1270       5  978300055        0\n",
       "2             1    1721       4  978300055        0\n",
       "3             1    1022       5  978300055        0\n",
       "4             1    2340       3  978300103        0\n",
       "...         ...     ...     ...        ...      ...\n",
       "1000204    6040    2917       4  997454429    39219\n",
       "1000205    6040    1921       4  997454464    39219\n",
       "1000206    6040    1784       3  997454464    39219\n",
       "1000207    6040     161       3  997454486    39219\n",
       "1000208    6040    1221       4  998315055    39220\n",
       "\n",
       "[1000209 rows x 5 columns]"
      ]
     },
     "execution_count": 14,
     "metadata": {},
     "output_type": "execute_result"
    }
   ],
   "source": [
    "session_30min_data = get_session_dataset(session_30min, \"Time_30min\")\n",
    "\n",
    "session_30min_data"
   ]
  },
  {
   "cell_type": "markdown",
   "id": "senior-broadcast",
   "metadata": {},
   "source": [
    "<br>\n",
    "\n",
    "### 3.3. 1시간 단위 세션 정의\n",
    "***\n",
    "<span style=\"font-size:12pt; line-height:1.7; font-family:Serif;\">\n",
    "    &nbsp; &nbsp; 1시간 단위로 세션을 정의 합니다. 1시간 단위로 시간을 통합하는 것으로 1시간 단위로 이루어진 평가를 동일한 세션으로 보는 것입니다. 이러한 개념을 바탕으로 'Time'을 재정의 한 후, 'UserId'와 합친 후, 이를 다시 순차적으로 인덱싱 합니다.\n",
    "</span>\n",
    "\n",
    "***"
   ]
  },
  {
   "cell_type": "markdown",
   "id": "compliant-mystery",
   "metadata": {},
   "source": [
    "#### `Time` 데이터 1시간 단위로 변환\n",
    "***\n",
    "+ 초 단위의 `Time` 데이터에서 '시(hour)'이하 숫자는 0으로 치환 합니다.\n",
    "\n",
    "\n",
    "+ `Time` 속성 Index 31의 데이터 978300019(2000-12-31 22:00:19)가 `Time_60min`에서 978300000(2000-12-31 22:00:00)으로 변환된 것을 확인할 수 있습니다.\n",
    "***"
   ]
  },
  {
   "cell_type": "code",
   "execution_count": 15,
   "id": "insured-funeral",
   "metadata": {},
   "outputs": [
    {
     "data": {
      "text/html": [
       "<div>\n",
       "<style scoped>\n",
       "    .dataframe tbody tr th:only-of-type {\n",
       "        vertical-align: middle;\n",
       "    }\n",
       "\n",
       "    .dataframe tbody tr th {\n",
       "        vertical-align: top;\n",
       "    }\n",
       "\n",
       "    .dataframe thead th {\n",
       "        text-align: right;\n",
       "    }\n",
       "</style>\n",
       "<table border=\"1\" class=\"dataframe\">\n",
       "  <thead>\n",
       "    <tr style=\"text-align: right;\">\n",
       "      <th></th>\n",
       "      <th>UserId</th>\n",
       "      <th>ItemId</th>\n",
       "      <th>Rating</th>\n",
       "      <th>Time</th>\n",
       "      <th>Time_60min</th>\n",
       "    </tr>\n",
       "  </thead>\n",
       "  <tbody>\n",
       "    <tr>\n",
       "      <th>31</th>\n",
       "      <td>1</td>\n",
       "      <td>3186</td>\n",
       "      <td>4</td>\n",
       "      <td>978300019</td>\n",
       "      <td>978300000</td>\n",
       "    </tr>\n",
       "    <tr>\n",
       "      <th>22</th>\n",
       "      <td>1</td>\n",
       "      <td>1270</td>\n",
       "      <td>5</td>\n",
       "      <td>978300055</td>\n",
       "      <td>978300000</td>\n",
       "    </tr>\n",
       "    <tr>\n",
       "      <th>27</th>\n",
       "      <td>1</td>\n",
       "      <td>1721</td>\n",
       "      <td>4</td>\n",
       "      <td>978300055</td>\n",
       "      <td>978300000</td>\n",
       "    </tr>\n",
       "    <tr>\n",
       "      <th>37</th>\n",
       "      <td>1</td>\n",
       "      <td>1022</td>\n",
       "      <td>5</td>\n",
       "      <td>978300055</td>\n",
       "      <td>978300000</td>\n",
       "    </tr>\n",
       "    <tr>\n",
       "      <th>24</th>\n",
       "      <td>1</td>\n",
       "      <td>2340</td>\n",
       "      <td>3</td>\n",
       "      <td>978300103</td>\n",
       "      <td>978300000</td>\n",
       "    </tr>\n",
       "  </tbody>\n",
       "</table>\n",
       "</div>"
      ],
      "text/plain": [
       "    UserId  ItemId  Rating       Time  Time_60min\n",
       "31       1    3186       4  978300019   978300000\n",
       "22       1    1270       5  978300055   978300000\n",
       "27       1    1721       4  978300055   978300000\n",
       "37       1    1022       5  978300055   978300000\n",
       "24       1    2340       3  978300103   978300000"
      ]
     },
     "execution_count": 15,
     "metadata": {},
     "output_type": "execute_result"
    }
   ],
   "source": [
    "session_60min = data.copy()\n",
    "\n",
    "def cut_60min(x):\n",
    "    date_ = datetime.fromtimestamp(x)\n",
    "    date_ = date_ - timedelta(seconds=date_.second, minutes=date_.minute)\n",
    "    return int(time.mktime(date_.timetuple()))\n",
    "\n",
    "\n",
    "session_60min[\"Time_60min\"] = session_60min[\"Time\"].apply(cut_60min)   #초단위 제외\n",
    "\n",
    "\n",
    "session_60min.head(5)"
   ]
  },
  {
   "cell_type": "markdown",
   "id": "expected-witch",
   "metadata": {},
   "source": [
    "<br>\n",
    "\n",
    "#### 1시간 단위 세션 데이터 획득\n",
    "***\n",
    "+ 앞서 생성한 통합 함수를 이용하여 1시간 단위 세션 데이터를 획득 합니다.\n",
    "***"
   ]
  },
  {
   "cell_type": "code",
   "execution_count": 16,
   "id": "social-mapping",
   "metadata": {},
   "outputs": [
    {
     "data": {
      "text/html": [
       "<div>\n",
       "<style scoped>\n",
       "    .dataframe tbody tr th:only-of-type {\n",
       "        vertical-align: middle;\n",
       "    }\n",
       "\n",
       "    .dataframe tbody tr th {\n",
       "        vertical-align: top;\n",
       "    }\n",
       "\n",
       "    .dataframe thead th {\n",
       "        text-align: right;\n",
       "    }\n",
       "</style>\n",
       "<table border=\"1\" class=\"dataframe\">\n",
       "  <thead>\n",
       "    <tr style=\"text-align: right;\">\n",
       "      <th></th>\n",
       "      <th>UserId</th>\n",
       "      <th>ItemId</th>\n",
       "      <th>Rating</th>\n",
       "      <th>Time</th>\n",
       "      <th>Session</th>\n",
       "    </tr>\n",
       "  </thead>\n",
       "  <tbody>\n",
       "    <tr>\n",
       "      <th>0</th>\n",
       "      <td>1</td>\n",
       "      <td>3186</td>\n",
       "      <td>4</td>\n",
       "      <td>978300019</td>\n",
       "      <td>0</td>\n",
       "    </tr>\n",
       "    <tr>\n",
       "      <th>1</th>\n",
       "      <td>1</td>\n",
       "      <td>1270</td>\n",
       "      <td>5</td>\n",
       "      <td>978300055</td>\n",
       "      <td>0</td>\n",
       "    </tr>\n",
       "    <tr>\n",
       "      <th>2</th>\n",
       "      <td>1</td>\n",
       "      <td>1721</td>\n",
       "      <td>4</td>\n",
       "      <td>978300055</td>\n",
       "      <td>0</td>\n",
       "    </tr>\n",
       "    <tr>\n",
       "      <th>3</th>\n",
       "      <td>1</td>\n",
       "      <td>1022</td>\n",
       "      <td>5</td>\n",
       "      <td>978300055</td>\n",
       "      <td>0</td>\n",
       "    </tr>\n",
       "    <tr>\n",
       "      <th>4</th>\n",
       "      <td>1</td>\n",
       "      <td>2340</td>\n",
       "      <td>3</td>\n",
       "      <td>978300103</td>\n",
       "      <td>0</td>\n",
       "    </tr>\n",
       "    <tr>\n",
       "      <th>...</th>\n",
       "      <td>...</td>\n",
       "      <td>...</td>\n",
       "      <td>...</td>\n",
       "      <td>...</td>\n",
       "      <td>...</td>\n",
       "    </tr>\n",
       "    <tr>\n",
       "      <th>1000204</th>\n",
       "      <td>6040</td>\n",
       "      <td>2917</td>\n",
       "      <td>4</td>\n",
       "      <td>997454429</td>\n",
       "      <td>31967</td>\n",
       "    </tr>\n",
       "    <tr>\n",
       "      <th>1000205</th>\n",
       "      <td>6040</td>\n",
       "      <td>1921</td>\n",
       "      <td>4</td>\n",
       "      <td>997454464</td>\n",
       "      <td>31967</td>\n",
       "    </tr>\n",
       "    <tr>\n",
       "      <th>1000206</th>\n",
       "      <td>6040</td>\n",
       "      <td>1784</td>\n",
       "      <td>3</td>\n",
       "      <td>997454464</td>\n",
       "      <td>31967</td>\n",
       "    </tr>\n",
       "    <tr>\n",
       "      <th>1000207</th>\n",
       "      <td>6040</td>\n",
       "      <td>161</td>\n",
       "      <td>3</td>\n",
       "      <td>997454486</td>\n",
       "      <td>31967</td>\n",
       "    </tr>\n",
       "    <tr>\n",
       "      <th>1000208</th>\n",
       "      <td>6040</td>\n",
       "      <td>1221</td>\n",
       "      <td>4</td>\n",
       "      <td>998315055</td>\n",
       "      <td>31968</td>\n",
       "    </tr>\n",
       "  </tbody>\n",
       "</table>\n",
       "<p>1000209 rows × 5 columns</p>\n",
       "</div>"
      ],
      "text/plain": [
       "         UserId  ItemId  Rating       Time  Session\n",
       "0             1    3186       4  978300019        0\n",
       "1             1    1270       5  978300055        0\n",
       "2             1    1721       4  978300055        0\n",
       "3             1    1022       5  978300055        0\n",
       "4             1    2340       3  978300103        0\n",
       "...         ...     ...     ...        ...      ...\n",
       "1000204    6040    2917       4  997454429    31967\n",
       "1000205    6040    1921       4  997454464    31967\n",
       "1000206    6040    1784       3  997454464    31967\n",
       "1000207    6040     161       3  997454486    31967\n",
       "1000208    6040    1221       4  998315055    31968\n",
       "\n",
       "[1000209 rows x 5 columns]"
      ]
     },
     "execution_count": 16,
     "metadata": {},
     "output_type": "execute_result"
    }
   ],
   "source": [
    "session_60min_data = get_session_dataset(session_60min, \"Time_60min\")\n",
    "\n",
    "session_60min_data"
   ]
  },
  {
   "cell_type": "markdown",
   "id": "western-subdivision",
   "metadata": {},
   "source": [
    "<br>\n",
    "\n",
    "## 4. 세션 중심 데이터 분석\n",
    "***\n",
    "<span style=\"font-size:12pt; line-height:1.7; font-family:Serif;\">\n",
    "    &nbsp; &nbsp; 새롭게 정의된 세션을 중심으로 데이터를 분석 합니다. 세션 중심 분석은 세션의 레코드 수를 바탕으로 이루어지는 '세션 길이 중심 분석'과 시간을 중심으로 이루어지는 '세션 시간 중심 분석'으로 이루어집니다. 해당 분석을 바탕으로 데이터 전처리 과정을 진행합니다.\n",
    "</span>\n",
    "\n",
    "***"
   ]
  },
  {
   "cell_type": "markdown",
   "id": "infrared-artwork",
   "metadata": {},
   "source": [
    "### 4.3. 1분 단위 세션 데이터 분석\n",
    "***\n",
    "<span style=\"font-size:12pt; line-height:1.7; font-family:Serif;\">\n",
    "    &nbsp; &nbsp; 1분 단위로 정의된 고유 세션은 총 284,962개 이며, 세션별 평균 약 3개의 레코드를 가지고 있습니다. 최대 33개의 레코드를 가진 세션이 존재하며, 75%의 세션은 5개의 레코드를, 98%의 세션은 11개의 레코드를 가지고 있습니다. 또한, 2003년 2월 28일 기준 약 1개월 이전의 데이터는 총 1,551개, 6개월 이전 데이터는 8,823개, 1년 이전 데이터는 21,704개, 2년 이전 데이터는 69,349개 입니다. &lt;Fig. 3>은 1분 단위로 정의된 세션이 가지는 레코드 수에 따른 누적 비율을 시각화 한 것입니다.\n",
    "</span>\n",
    "\n",
    "***"
   ]
  },
  {
   "cell_type": "markdown",
   "id": "joint-proof",
   "metadata": {},
   "source": [
    "#### 세션 길이 중심 분석\n",
    "***\n",
    "+ 총 284,972개의 세션이 존재하며, 세션별 평균 약 3개의 레코드를 가지고 있고 75%의 세션이 5개의 레코드를, 최대 33개의 레코드를 가지고 있는 세션이 존재 합니다.\n",
    "\n",
    "\n",
    "+ 또한, 98%의 세션이 11개의 레코드를 가지고 있습니다.\n",
    "***"
   ]
  },
  {
   "cell_type": "code",
   "execution_count": 17,
   "id": "documentary-arrangement",
   "metadata": {},
   "outputs": [
    {
     "name": "stdout",
     "output_type": "stream",
     "text": [
      "***********************************\n",
      "count   284972.000\n",
      "mean         3.510\n",
      "std          2.738\n",
      "min          1.000\n",
      "25%          1.000\n",
      "50%          3.000\n",
      "75%          5.000\n",
      "max         33.000\n",
      "dtype: float64\n",
      "***********************************\n",
      "98% session length 11.0\n"
     ]
    },
    {
     "data": {
      "image/png": "[encoded data removed]",
      "text/plain": [
       "<Figure size 576x360 with 1 Axes>"
      ]
     },
     "metadata": {
      "needs_background": "light"
     },
     "output_type": "display_data"
    }
   ],
   "source": [
    "session_length = session_1min_data.groupby(\"Session\").size()\n",
    "\n",
    "print(\"*\" * 35)\n",
    "print(session_length.describe())\n",
    "print(\"*\" * 35)\n",
    "print(\"98% session length\", session_length.quantile(0.98))\n",
    "\n",
    "#세션 길이에 따른 분포\n",
    "length_count = session_length.groupby(session_length).size()\n",
    "length_percent_cumsum = length_count.cumsum() / length_count.sum()\n",
    "length_percent_cumsum_98 = length_percent_cumsum[length_percent_cumsum < 0.98]\n",
    "\n",
    "\n",
    "#시각화\n",
    "plt.figure(figsize=(8, 5))\n",
    "plt.title('<Fig. 3> 1 minute session record num', size=13)\n",
    "plt.bar(x=length_percent_cumsum_98.index,\n",
    "        height=length_percent_cumsum_98, color=\"#1e90ff\")\n",
    "plt.xticks(length_percent_cumsum_98.index)\n",
    "plt.yticks(np.arange(0, 1.01, 0.05))\n",
    "plt.show()"
   ]
  },
  {
   "cell_type": "markdown",
   "id": "incomplete-booth",
   "metadata": {},
   "source": [
    "<br>\n",
    "\n",
    "#### 세션 시간 중심 분석\n",
    "***\n",
    "+ 영화에 대한 평가는 2000년 4월 25일부터 2003년 2월 28일 약 3년 동안 이루어 졌습니다.\n",
    "\n",
    "\n",
    "+ 2003년 2월 28일 기준 약 1개월 이전의 데이터는 총 1,551개, 6개월 이전 데이터는 8,823개, 1년 이전 데이터는 21,704개, 2년 이전 데이터는 69,349개 입니다.\n",
    "***"
   ]
  },
  {
   "cell_type": "code",
   "execution_count": 18,
   "id": "equipped-pocket",
   "metadata": {},
   "outputs": [
    {
     "name": "stdout",
     "output_type": "stream",
     "text": [
      "data date: 2000-04-25 23:05:32 ~ 2003-02-28 17:49:50\n",
      "***********************************\n",
      "1 month ago data num: 1551\n",
      "6 month ago data num: 8823\n",
      "12 month ago data num: 21704\n",
      "24 month ago data num: 69349\n",
      "***********************************\n"
     ]
    }
   ],
   "source": [
    "oldest, latest = session_1min_data['Time'].min(), session_1min_data['Time'].max()\n",
    "\n",
    "month1 = len(session_1min_data[session_1min_data[\"Time\"] > (latest - 30 * 1 * 86400)])\n",
    "month6 = len(session_1min_data[session_1min_data[\"Time\"] > (latest - 30 * 6 * 86400)])\n",
    "month12 = len(session_1min_data[session_1min_data[\"Time\"] > (latest - 365 * 1 * 86400)])\n",
    "month24 = len(session_1min_data[session_1min_data[\"Time\"] > (latest - 365 * 2 * 86400)])\n",
    "\n",
    "\n",
    "print(\"data date:\", datetime.fromtimestamp(oldest), \"~\", datetime.fromtimestamp(latest))\n",
    "print(\"*\" * 35)\n",
    "print(\"1 month ago data num:\", month1)\n",
    "print(\"6 month ago data num:\", month6)\n",
    "print(\"12 month ago data num:\", month12)\n",
    "print(\"24 month ago data num:\", month24)\n",
    "print(\"*\" * 35)"
   ]
  },
  {
   "cell_type": "markdown",
   "id": "ordinary-appraisal",
   "metadata": {},
   "source": [
    "<br>\n",
    "\n",
    "### 4.3. 30분 단위 세션 데이터 분석\n",
    "***\n",
    "<span style=\"font-size:12pt; line-height:1.7; font-family:Serif;\">\n",
    "    &nbsp; &nbsp; 30분 단위로 정의된 고유 세션은 총 39,221개 이며, 세션별 평균 약 25개의 레코드를 가지고 있습니다. 최대 439개의 레코드를 가진 세션이 존재하며, \n",
    "75%의 세션은 34개의 레코드를, 98%의 세션은 141개의 레코드를 가지고 있습니다. \n",
    "또한, 2003년 2월 28일 기준 약 1개월 이전의 데이터는 총 1,551개, 6개월 이전 데이터는 8,823개, \n",
    "1년 이전 데이터는 21,704개, 2년 이전 데이터는 69,349개 입니다.\n",
    " &lt;Fig. 4>은 30분 단위로 정의된 세션이 가지는 레코드 수에 따른 누적 비율을 시각화 한 것입니다.\n",
    "</span>\n",
    "\n",
    "***"
   ]
  },
  {
   "cell_type": "markdown",
   "id": "quick-preservation",
   "metadata": {},
   "source": [
    "#### 세션 길이 중심 분석\n",
    "***\n",
    "+ 총 39,221개의 세션이 존재하며, 세션별 평균 약 25개의 레코드를 가지고 있고 75%의 세션이 34개의 레코드를, 최대 439개의 레코드를 가지고 있는 세션이 존재 합니다.\n",
    "\n",
    "\n",
    "+ 또한, 98%의 세션이 141개의 레코드를 가지고 있습니다.\n",
    "***"
   ]
  },
  {
   "cell_type": "code",
   "execution_count": 19,
   "id": "ahead-quebec",
   "metadata": {},
   "outputs": [
    {
     "name": "stdout",
     "output_type": "stream",
     "text": [
      "***********************************\n",
      "count   39221.000\n",
      "mean       25.502\n",
      "std        36.948\n",
      "min         1.000\n",
      "25%         2.000\n",
      "50%         9.000\n",
      "75%        34.000\n",
      "max       439.000\n",
      "dtype: float64\n",
      "***********************************\n",
      "98% session length 141.0\n"
     ]
    },
    {
     "data": {
      "image/png": "[encoded data removed]",
      "text/plain": [
       "<Figure size 1440x360 with 1 Axes>"
      ]
     },
     "metadata": {
      "needs_background": "light"
     },
     "output_type": "display_data"
    }
   ],
   "source": [
    "session_length = session_30min_data.groupby(\"Session\").size()\n",
    "\n",
    "print(\"*\" * 35)\n",
    "print(session_length.describe())\n",
    "print(\"*\" * 35)\n",
    "print(\"98% session length\", session_length.quantile(0.98))\n",
    "\n",
    "#세션 길이에 따른 분포\n",
    "length_count = session_length.groupby(session_length).size()\n",
    "length_percent_cumsum = length_count.cumsum() / length_count.sum()\n",
    "length_percent_cumsum_98 = length_percent_cumsum[length_percent_cumsum < 0.98]\n",
    "\n",
    "\n",
    "#시각화\n",
    "plt.figure(figsize=(20, 5))\n",
    "plt.title('<Fig. 4> 30 minute session record num', size=13)\n",
    "plt.bar(x=length_percent_cumsum_98.index,\n",
    "        height=length_percent_cumsum_98, color=\"#1e90ff\")\n",
    "plt.xticks(length_percent_cumsum_98.index)\n",
    "plt.yticks(np.arange(0, 1.01, 0.05))\n",
    "plt.show()"
   ]
  },
  {
   "cell_type": "markdown",
   "id": "legitimate-inflation",
   "metadata": {},
   "source": [
    "<br>\n",
    "\n",
    "#### 세션 시간 중심 분석\n",
    "***\n",
    "+ 영화에 대한 평가는 2000년 4월 25일부터 2003년 2월 28일 약 3년 동안 이루어 졌습니다.\n",
    "\n",
    "\n",
    "+ 2003년 2월 28일 기준 약 1개월 이전의 데이터는 총 1,551개, 6개월 이전 데이터는 8,823개, 1년 이전 데이터는 21,704개, 2년 이전 데이터는 69,349개 입니다.\n",
    "***"
   ]
  },
  {
   "cell_type": "code",
   "execution_count": 20,
   "id": "satellite-strengthening",
   "metadata": {},
   "outputs": [
    {
     "name": "stdout",
     "output_type": "stream",
     "text": [
      "data date: 2000-04-25 23:05:32 ~ 2003-02-28 17:49:50\n",
      "***********************************\n",
      "1 month ago data num: 1551\n",
      "6 month ago data num: 8823\n",
      "12 month ago data num: 21704\n",
      "24 month ago data num: 69349\n",
      "***********************************\n"
     ]
    }
   ],
   "source": [
    "oldest, latest = session_30min_data['Time'].min(), session_30min_data['Time'].max()\n",
    "\n",
    "month1 = len(session_30min_data[session_30min_data[\"Time\"] > (latest - 30 * 1 * 86400)])\n",
    "month6 = len(session_30min_data[session_30min_data[\"Time\"] > (latest - 30 * 6 * 86400)])\n",
    "month12 = len(session_30min_data[session_30min_data[\"Time\"] > (latest - 365 * 1 * 86400)])\n",
    "month24 = len(session_30min_data[session_30min_data[\"Time\"] > (latest - 365 * 2 * 86400)])\n",
    "\n",
    "\n",
    "print(\"data date:\", datetime.fromtimestamp(oldest), \"~\", datetime.fromtimestamp(latest))\n",
    "print(\"*\" * 35)\n",
    "print(\"1 month ago data num:\", month1)\n",
    "print(\"6 month ago data num:\", month6)\n",
    "print(\"12 month ago data num:\", month12)\n",
    "print(\"24 month ago data num:\", month24)\n",
    "print(\"*\" * 35)"
   ]
  },
  {
   "cell_type": "markdown",
   "id": "commercial-latin",
   "metadata": {},
   "source": [
    "<br>\n",
    "\n",
    "### 4.3. 1시간 단위 세션 데이터 분석\n",
    "***\n",
    "<span style=\"font-size:12pt; line-height:1.7; font-family:Serif;\">\n",
    "    &nbsp; &nbsp; 1시간 단위로 정의된 고유 세션은 총 31,969개 이며, 세션별 평균 약 31개의 레코드를 가지고 있습니다. 최대 711개의 레코드를 가진 세션이 존재하며, 75%의 세션은 38개의 레코드를, 98%의 세션은 199개의 레코드를 가지고 있습니다. 또한, 2003년 2월 28일 기준 약 1개월 이전의 데이터는 총 1,551개, 6개월 이전 데이터는 8,823개, 1년 이전 데이터는 21,704개, 2년 이전 데이터는 69,349개 입니다. &lt;Fig. 5>은 1시간 단위로 정의된 세션이 가지는 레코드 수에 따른 누적 비율을 시각화 한 것입니다.\n",
    "</span>\n",
    "\n",
    "***"
   ]
  },
  {
   "cell_type": "markdown",
   "id": "false-comedy",
   "metadata": {},
   "source": [
    "#### 세션 길이 중심 분석\n",
    "***\n",
    "+ 총 31,969개의 세션이 존재하며, 세션별 평균 약 31개의 레코드를 가지고 있고 75%의 세션이 38개의 레코드를, 최대 711개의 레코드를 가지고 있는 세션이 존재 합니다.\n",
    "\n",
    "\n",
    "+ 또한, 98%의 세션이 199개의 레코드를 가지고 있습니다.\n",
    "***"
   ]
  },
  {
   "cell_type": "code",
   "execution_count": 21,
   "id": "realistic-acoustic",
   "metadata": {},
   "outputs": [
    {
     "name": "stdout",
     "output_type": "stream",
     "text": [
      "***********************************\n",
      "count   31969.000\n",
      "mean       31.287\n",
      "std        51.899\n",
      "min         1.000\n",
      "25%         2.000\n",
      "50%         8.000\n",
      "75%        38.000\n",
      "max       711.000\n",
      "dtype: float64\n",
      "***********************************\n",
      "98% session length 199.0\n"
     ]
    },
    {
     "data": {
      "image/png": "[encoded data removed]",
      "text/plain": [
       "<Figure size 1440x360 with 1 Axes>"
      ]
     },
     "metadata": {
      "needs_background": "light"
     },
     "output_type": "display_data"
    }
   ],
   "source": [
    "session_length = session_60min_data.groupby(\"Session\").size()\n",
    "\n",
    "print(\"*\" * 35)\n",
    "print(session_length.describe())\n",
    "print(\"*\" * 35)\n",
    "print(\"98% session length\", session_length.quantile(0.98))\n",
    "\n",
    "#세션 길이에 따른 분포\n",
    "length_count = session_length.groupby(session_length).size()\n",
    "length_percent_cumsum = length_count.cumsum() / length_count.sum()\n",
    "length_percent_cumsum_98 = length_percent_cumsum[length_percent_cumsum < 0.98]\n",
    "\n",
    "\n",
    "#시각화\n",
    "plt.figure(figsize=(20, 5))\n",
    "plt.title('<Fig. 6> 1 hour session record num', size=13)\n",
    "plt.bar(x=length_percent_cumsum_98.index,\n",
    "        height=length_percent_cumsum_98, color=\"#1e90ff\")\n",
    "plt.xticks(length_percent_cumsum_98.index)\n",
    "plt.yticks(np.arange(0, 1.01, 0.05))\n",
    "plt.show()"
   ]
  },
  {
   "cell_type": "markdown",
   "id": "shared-mustang",
   "metadata": {},
   "source": [
    "<br>\n",
    "\n",
    "#### 세션 시간 중심 분석\n",
    "***\n",
    "+ 영화에 대한 평가는 2000년 4월 25일부터 2003년 2월 28일 약 3년 동안 이루어 졌습니다.\n",
    "\n",
    "\n",
    "+ 2003년 2월 28일 기준 약 1개월 이전의 데이터는 총 1,551개, 6개월 이전 데이터는 8,823개, 1년 이전 데이터는 21,704개, 2년 이전 데이터는 69,349개 입니다.\n",
    "***"
   ]
  },
  {
   "cell_type": "code",
   "execution_count": 22,
   "id": "raised-cycle",
   "metadata": {},
   "outputs": [
    {
     "name": "stdout",
     "output_type": "stream",
     "text": [
      "data date: 2000-04-25 23:05:32 ~ 2003-02-28 17:49:50\n",
      "***********************************\n",
      "1 month ago data num: 1551\n",
      "6 month ago data num: 8823\n",
      "12 month ago data num: 21704\n",
      "24 month ago data num: 69349\n",
      "***********************************\n"
     ]
    }
   ],
   "source": [
    "oldest, latest = session_60min_data['Time'].min(), session_60min_data['Time'].max()\n",
    "\n",
    "month1 = len(session_60min_data[session_60min_data[\"Time\"] > (latest - 30 * 1 * 86400)])\n",
    "month6 = len(session_60min_data[session_60min_data[\"Time\"] > (latest - 30 * 6 * 86400)])\n",
    "month12 = len(session_60min_data[session_60min_data[\"Time\"] > (latest - 365 * 1 * 86400)])\n",
    "month24 = len(session_60min_data[session_60min_data[\"Time\"] > (latest - 365 * 2 * 86400)])\n",
    "\n",
    "\n",
    "print(\"data date:\", datetime.fromtimestamp(oldest), \"~\", datetime.fromtimestamp(latest))\n",
    "print(\"*\" * 35)\n",
    "print(\"1 month ago data num:\", month1)\n",
    "print(\"6 month ago data num:\", month6)\n",
    "print(\"12 month ago data num:\", month12)\n",
    "print(\"24 month ago data num:\", month24)\n",
    "print(\"*\" * 35)"
   ]
  },
  {
   "cell_type": "markdown",
   "id": "published-queens",
   "metadata": {},
   "source": [
    "<br>\n",
    "\n",
    "## 5. 데이터 전처리\n",
    "***\n",
    "<span style=\"font-size:12pt; line-height:1.7; font-family:Serif;\">\n",
    "    &nbsp; &nbsp; 앞서 진행한 데이터 분석과 세션 중심 데이터 분석을 토대로 데이터를 전처리 합니다. 데이터 전처리는 '세션 길이 중심 전처리', '세션 시간 중심 전처리', '평점 중심 전처리', '데이터 분할', '데이터 인덱싱' 순으로 진행합니다. '세션 길이 중심 전처리'에서는 1분 단위 세션의 경우 98%의 세션에 속하지 않는 12개 이상의 레코드를 가지고 있는 세션을 제거하고 30분 단위 세션의 경우 98%의 세션에 속하지 않는 142개 이상의 레코드를 가지고 있는 세션을 제거, 1시간 단위 세션의 경우에도 199개 이상의 레코드를 가지고 있는 세션을 이상치로 판단하여 제거합니다. '세션 시간 중심 전처리'에서는 '영화의  트랜드'를 고려하여 최근 2년 간의 데이터만을 추출 합니다. '평점 중심 전처리'에서는 평점 3점 미만의 데이터는 추천하지 않는 것으로 판단하고 제외 합니다. '데이터 분할' 단계에서는 최근 데이터 순으로 테스트 데이터, 검증 데이터, 학습 데이터를 추출하며, 테스트 데이터, 검증 데이터는 학습 데이터의 0.2 비율로 분할 합니다.\n",
    "</span>\n",
    "\n",
    "***"
   ]
  },
  {
   "cell_type": "markdown",
   "id": "capable-bristol",
   "metadata": {},
   "source": [
    "#### 세션 길이 중심 전처리\n",
    "***\n",
    "+ '1분 단위 세션'의 경우 98%에 속하지 않는 12개 이상의 레코드를 가지고 있는 세션은 이상치로 보고 제외 합니다.\n",
    "\n",
    "\n",
    "+ '30분 단위 세션'의 경우 98%에 속하지 않는 142개 이상의 레코드를 가지고 있는 세션은 이상치로 보고 제외 합니다.\n",
    "\n",
    "\n",
    "+ '1시간 단위 세션'의 경우 98%에 속하지 않는 199개 이상의 레코드를 가지고 있는 세션은 이상치로 보고 제외 합니다.\n",
    "***"
   ]
  },
  {
   "cell_type": "code",
   "execution_count": 23,
   "id": "bacterial-turner",
   "metadata": {},
   "outputs": [],
   "source": [
    "def cut_record(df, record_num):\n",
    "    df = df.copy()\n",
    "    size = df.groupby(\"Session\").size().reset_index()\n",
    "    df = pd.merge(df, size, on=[\"Session\"])\n",
    "    df = df[df[0] <= record_num]\n",
    "    df.drop(columns=[0], inplace=True)\n",
    "    return df\n",
    "\n",
    "\n",
    "session_1min_data = cut_record(session_1min_data, 11)\n",
    "session_30min_data = cut_record(session_30min_data, 141)\n",
    "session_60min_data = cut_record(session_60min_data, 198)"
   ]
  },
  {
   "cell_type": "markdown",
   "id": "involved-projector",
   "metadata": {},
   "source": [
    "<br>\n",
    "\n",
    "#### 세션 시간 중심 전처리\n",
    "***\n",
    "+ 1, 30, 60분으로 분리된 세션 데이터 중, 최근 2년 간의 데이터만 이용 합니다.\n",
    "***"
   ]
  },
  {
   "cell_type": "code",
   "execution_count": 24,
   "id": "secret-grave",
   "metadata": {},
   "outputs": [
    {
     "name": "stdout",
     "output_type": "stream",
     "text": [
      "**************************************************\n",
      "data date: 2001-02-28 19:06:53 ~ 2003-02-28 17:49:50\n",
      "**************************************************\n"
     ]
    }
   ],
   "source": [
    "def cut_time(df, base_date):\n",
    "    df = df.copy()\n",
    "    base_date = df[\"Time\"].max() - base_date\n",
    "    df = df[df[\"Time\"] >= base_date]\n",
    "    return df\n",
    "\n",
    "\n",
    "session_1min_data = cut_time(session_1min_data, 365 * 2 * 86400)\n",
    "session_30min_data = cut_time(session_30min_data, 365 * 2 * 86400)\n",
    "session_60min_data = cut_time(session_60min_data, 365 * 2 * 86400)\n",
    "\n",
    "oldest, latest = session_1min_data['Time'].min(), session_1min_data['Time'].max()\n",
    "\n",
    "\n",
    "print(\"*\" * 50)\n",
    "print(\"data date:\", datetime.fromtimestamp(oldest), \"~\", datetime.fromtimestamp(latest))\n",
    "print(\"*\" * 50)"
   ]
  },
  {
   "cell_type": "markdown",
   "id": "public-former",
   "metadata": {},
   "source": [
    "<br>\n",
    "\n",
    "#### 평점 중심 전처리\n",
    "***\n",
    "+ 평점 3미만의 데이터는 추천하지 않는 것으로 판단하고 제외 하여 줍니다.\n",
    "***"
   ]
  },
  {
   "cell_type": "code",
   "execution_count": 25,
   "id": "editorial-calculator",
   "metadata": {},
   "outputs": [],
   "source": [
    "session_1min_data = session_1min_data[session_1min_data['Rating'] >= 3]\n",
    "session_30min_data = session_30min_data[session_30min_data['Rating'] >= 3]\n",
    "session_60min_data = session_60min_data[session_60min_data['Rating'] >= 3]"
   ]
  },
  {
   "cell_type": "markdown",
   "id": "rental-polyester",
   "metadata": {},
   "source": [
    "<br>\n",
    "\n",
    "#### 데이터 분할\n",
    "***\n",
    "+ 학습, 검증, 테스트 데이터로 분할 합니다.\n",
    "\n",
    "\n",
    "+ 2년 간의 데이터를 검증 데이터, 테스트 데이터 각각 20%로 추출 합니다.\n",
    "\n",
    "\n",
    "+ 최근 데이터 순으로 테스트 데이터, 검증 데이터, 학습 데이터를 분할 하여 줍니다.\n",
    "***"
   ]
  },
  {
   "cell_type": "code",
   "execution_count": 26,
   "id": "legal-concert",
   "metadata": {},
   "outputs": [
    {
     "name": "stdout",
     "output_type": "stream",
     "text": [
      "**************************************************\n",
      "train data shape: (48592, 5)\n",
      "validation data shape: (914, 5)\n",
      "test data shape: (6037, 5)\n",
      "**************************************************\n"
     ]
    }
   ],
   "source": [
    "def split_by_date(data: pd.DataFrame, n_days: int):\n",
    "    final_time = data['Time'].max()\n",
    "    session_last_time = data.groupby('Session')['Time'].max()\n",
    "    session_in_train = session_last_time[session_last_time < final_time - (n_days * 86400)].index\n",
    "    session_in_test = session_last_time[session_last_time >= final_time - (n_days * 86400)].index\n",
    "\n",
    "    before_date = data[data['Session'].isin(session_in_train)]\n",
    "    after_date = data[data['Session'].isin(session_in_test)]\n",
    "    after_date = after_date[after_date['ItemId'].isin(before_date['ItemId'])]\n",
    "    return before_date, after_date\n",
    "\n",
    "\n",
    "def get_integrated_data(df, split_rate):\n",
    "    train, test = split_by_date(df, split_rate)\n",
    "    train, validation = split_by_date(train, int(split_rate * 0.2))\n",
    "    return (train, validation, test)\n",
    "\n",
    "\n",
    "\n",
    "train_1min, val_1min, test_1min = get_integrated_data(session_1min_data, 146)\n",
    "train_30min, val_30min, test_30min = get_integrated_data(session_30min_data, 146)\n",
    "train_60min, val_60min, test_60min = get_integrated_data(session_60min_data, 146)\n",
    "\n",
    "\n",
    "print(\"*\" * 50)\n",
    "print(\"train data shape:\", train_1min.shape)\n",
    "print(\"validation data shape:\", val_1min.shape)\n",
    "print(\"test data shape:\", test_1min.shape)\n",
    "print(\"*\" * 50)"
   ]
  },
  {
   "cell_type": "markdown",
   "id": "funded-panama",
   "metadata": {},
   "source": [
    "<br>\n",
    "\n",
    "#### 학습 데이터를 기준으로 인덱싱\n",
    "***\n",
    "+ 학습 데이터에 존재하지 않는 데이터가 검증 데이터와 학습 데이터에 있을 수 있기 때문에 학습 데이터를 기준으로 인덱싱 합니다.\n",
    "***"
   ]
  },
  {
   "cell_type": "code",
   "execution_count": 27,
   "id": "residential-assist",
   "metadata": {},
   "outputs": [],
   "source": [
    "def indexing(df, id2idx):\n",
    "    df['item_idx'] = df['ItemId'].map(lambda x: id2idx.get(x, -1))  # id2idx에 없는 아이템은 모르는 값(-1) 처리 해줍니다.\n",
    "    return df\n",
    "\n",
    "\n",
    "def get_indexing_data(train, val, test):\n",
    "    id2idx = {item_id : index for index, item_id in enumerate(train['ItemId'].unique())}\n",
    "    train, val, test = indexing(train, id2idx), indexing(val, id2idx), indexing(test, id2idx)\n",
    "    return (train, val, test)\n",
    "\n",
    "\n",
    "train_1min, val_1min, test_1min = get_indexing_data(train_1min, val_1min, test_1min)\n",
    "train_30min, val_30min, test_30min = get_indexing_data(train_30min, val_30min, test_30min)\n",
    "train_60min, val_60min, test_60min = get_indexing_data(train_60min, val_60min, test_60min)"
   ]
  },
  {
   "cell_type": "markdown",
   "id": "animal-sunglasses",
   "metadata": {},
   "source": [
    "<br>\n",
    "\n",
    "## 6. 모델 설계\n",
    "***\n",
    "<span style=\"font-size:12pt; line-height:1.7; font-family:Serif;\">\n",
    "    &nbsp; &nbsp; 추천 모델을 생성 합니다. 모델 생성에 앞서, Session-Parallel 미니배치를 먼저 구현합니다. 이후, RNN 모델을 생성하고 이를 평가하기 위한 평가지표와 하이퍼파라미터를 설정하여 줍니다.\n",
    "</span>\n",
    "\n",
    "***"
   ]
  },
  {
   "cell_type": "markdown",
   "id": "roman-consciousness",
   "metadata": {},
   "source": [
    "<br>\n",
    "\n",
    "### 6.1. Session-Paralle 미니배치 구축\n",
    "***\n",
    "<span style=\"font-size:12pt; line-height:1.7; font-family:Serif;\">\n",
    "    &nbsp; &nbsp; Session-Parallel Mini-Batches를 통해 Session 종료까지 대기하지 아니하고 병렬적으로 연산을 수행합니다. 이를 위해 Session을 객체로 생성하고 이를 바탕으로 Session-Parallel 미니배치 생성 클래스를 만들어 줍니다.\n",
    "</span>\n",
    "\n",
    "***"
   ]
  },
  {
   "cell_type": "markdown",
   "id": "infinite-running",
   "metadata": {},
   "source": [
    "#### 세션 데이터셋 생성\n",
    "***\n",
    "+ 세션 시작 인덱스와 새로 인덱싱한 세션 값을 얻습니다.\n",
    "***"
   ]
  },
  {
   "cell_type": "code",
   "execution_count": 28,
   "id": "sophisticated-trash",
   "metadata": {},
   "outputs": [],
   "source": [
    "class SessionDataset:\n",
    "    \"\"\"Credit to yhs-968/pyGRU4REC.\"\"\"\n",
    "\n",
    "    def __init__(self, data):\n",
    "        self.df = data\n",
    "        self.click_offsets = self.get_click_offsets()\n",
    "        self.session_idx = np.arange(self.df['Session'].nunique())  # indexing to SessionId\n",
    "\n",
    "    def get_click_offsets(self):\n",
    "        \"\"\"\n",
    "        Return the indexes of the first click of each session IDs,\n",
    "        \"\"\"\n",
    "        offsets = np.zeros(self.df['Session'].nunique() + 1, dtype=np.int32)\n",
    "        offsets[1:] = self.df.groupby('Session').size().cumsum()\n",
    "        return offsets"
   ]
  },
  {
   "cell_type": "markdown",
   "id": "applied-italic",
   "metadata": {},
   "source": [
    "<br>\n",
    "\n",
    "#### Session-Parallel 미니배치 생성 클래스\n",
    "***\n",
    "+ 앞서 생성한 `SessionDataset`를 바탕으로 Session-Parallel 미니배치를 생성하는 클래스를 만듭니다.\n",
    "***"
   ]
  },
  {
   "cell_type": "code",
   "execution_count": 29,
   "id": "talented-casting",
   "metadata": {},
   "outputs": [],
   "source": [
    "class SessionDataLoader:\n",
    "    \"\"\"Credit to yhs-968/pyGRU4REC.\"\"\"\n",
    "\n",
    "    def __init__(self, dataset: SessionDataset, batch_size=50):\n",
    "        self.dataset = dataset\n",
    "        self.batch_size = batch_size\n",
    "\n",
    "    def __iter__(self):\n",
    "        \"\"\" Returns the iterator for producing session-parallel training mini-batches.\n",
    "        Yields:\n",
    "            input (B,):  Item indices that will be encoded as one-hot vectors later.\n",
    "            target (B,): a Variable that stores the target item indices\n",
    "            masks: Numpy array indicating the positions of the sessions to be terminated\n",
    "        \"\"\"\n",
    "\n",
    "        start, end, mask, last_session, finished = self.initialize()  # initialize 메소드에서 확인해주세요.\n",
    "        \"\"\"\n",
    "        start : Index Where Session Start\n",
    "        end : Index Where Session End\n",
    "        mask : indicator for the sessions to be terminated\n",
    "        \"\"\"\n",
    "\n",
    "        while not finished:\n",
    "            min_len = (end - start).min() - 1  # Shortest Length Among Sessions\n",
    "            for i in range(min_len):\n",
    "                # Build inputs & targets\n",
    "                inp = self.dataset.df['item_idx'].values[start + i]\n",
    "                target = self.dataset.df['item_idx'].values[start + i + 1]\n",
    "                yield inp, target, mask\n",
    "\n",
    "            start, end, mask, last_session, finished = self.update_status(start, end, min_len, last_session, finished)\n",
    "\n",
    "    def initialize(self):\n",
    "        first_iters = np.arange(self.batch_size)    # 첫 배치에 사용할 세션 Index를 가져옵니다.\n",
    "        last_session = self.batch_size - 1    # 마지막으로 다루고 있는 세션 Index를 저장해둡니다.\n",
    "        start = self.dataset.click_offsets[self.dataset.session_idx[first_iters]]       # data 상에서 session이 시작된 위치를 가져옵니다.\n",
    "        end = self.dataset.click_offsets[self.dataset.session_idx[first_iters] + 1]  # session이 끝난 위치 바로 다음 위치를 가져옵니다.\n",
    "        mask = np.array([])   # session의 모든 아이템을 다 돌은 경우 mask에 추가해줄 것입니다.\n",
    "        finished = False         # data를 전부 돌았는지 기록하기 위한 변수입니다.\n",
    "        return start, end, mask, last_session, finished\n",
    "\n",
    "    def update_status(self, start: np.ndarray, end: np.ndarray, min_len: int, last_session: int, finished: bool):  \n",
    "        # 다음 배치 데이터를 생성하기 위해 상태를 update합니다.\n",
    "        \n",
    "        start += min_len   # __iter__에서 min_len 만큼 for문을 돌았으므로 start를 min_len 만큼 더해줍니다.\n",
    "        mask = np.arange(self.batch_size)[(end - start) == 1]  \n",
    "        # end는 다음 세션이 시작되는 위치인데 start와 한 칸 차이난다는 것은 session이 끝났다는 뜻입니다. mask에 기록해줍니다.\n",
    "\n",
    "        for i, idx in enumerate(mask, start=1):  # mask에 추가된 세션 개수만큼 새로운 세션을 돌것입니다.\n",
    "            new_session = last_session + i  \n",
    "            if new_session > self.dataset.session_idx[-1]:  # 만약 새로운 세션이 마지막 세션 index보다 크다면 모든 학습데이터를 돈 것입니다.\n",
    "                finished = True\n",
    "                break\n",
    "            # update the next starting/ending point\n",
    "            start[idx] = self.dataset.click_offsets[self.dataset.session_idx[new_session]]     # 종료된 세션 대신 새로운 세션의 시작점을 기록합니다.\n",
    "            end[idx] = self.dataset.click_offsets[self.dataset.session_idx[new_session] + 1]\n",
    "\n",
    "        last_session += len(mask)  # 마지막 세션의 위치를 기록해둡니다.\n",
    "        return start, end, mask, last_session, finished"
   ]
  },
  {
   "cell_type": "markdown",
   "id": "three-department",
   "metadata": {},
   "source": [
    "<br>\n",
    "\n",
    "### 6.2. 모델 생성\n",
    "***\n",
    "<span style=\"font-size:12pt; line-height:1.7; font-family:Serif;\">\n",
    "    &nbsp; &nbsp;  SESSION-BASED RECOMMENDATIONS WITH RECURRENT NEURAL NETWORKS(2016) 기반의 RNN 모델을 생성합니다. 임베딩 레이어를 사용하지 않으며, GRU 레이어 이후 Dropout 층을 추가한 단순한 구조 입니다. &lt;Fig. 7>은 모델을 시각화 한 것입니다. 또한, 모델을 평가하기 위한 평가지표를 설계하고 하이퍼파라미터를 설정하여 줍니다.\n",
    "</span><br><br>\n",
    "\n",
    "<img src=\"./img/model.png\" width=400></img>\n",
    "\n",
    "&lt;Fig. 7> Model architecture\n",
    "***"
   ]
  },
  {
   "cell_type": "markdown",
   "id": "prepared-steering",
   "metadata": {},
   "source": [
    "#### 평가지표 설계\n",
    "***\n",
    "+ 앞서 생성한 `SessionDataset`를 바탕으로 Session-Parallel 미니배치를 생성하는 클래스를 만듭니다.\n",
    "***"
   ]
  },
  {
   "cell_type": "code",
   "execution_count": 30,
   "id": "numerous-picture",
   "metadata": {},
   "outputs": [],
   "source": [
    "def mrr_k(pred, truth: int, k: int):\n",
    "    indexing = np.where(pred[:k] == truth)[0]\n",
    "    if len(indexing) > 0:\n",
    "        return 1 / (indexing[0] + 1)\n",
    "    else:\n",
    "        return 0\n",
    "\n",
    "\n",
    "def recall_k(pred, truth: int, k: int) -> int:\n",
    "    answer = truth in pred[:k]\n",
    "    return int(answer)"
   ]
  },
  {
   "cell_type": "markdown",
   "id": "capable-liverpool",
   "metadata": {},
   "source": [
    "<br>\n",
    "\n",
    "#### 하이퍼 파라미터 관리 클래스 생성\n",
    "***\n",
    "+ `epoch`, `batch size`와 같은 하이퍼 파라미터를 관리하는 클래스를 생성합니다.\n",
    "***"
   ]
  },
  {
   "cell_type": "code",
   "execution_count": 31,
   "id": "chicken-salmon",
   "metadata": {},
   "outputs": [],
   "source": [
    "class Args:\n",
    "    def __init__(self, tr, val, test, batch_size=64, hsz=50, drop_rate=0.1, lr=0.001, epochs=10, k=20):\n",
    "        self.tr, self.val, self.test = tr, val, test\n",
    "        self.num_items = tr['ItemId'].nunique()\n",
    "        self.num_sessions = tr['Session'].nunique()\n",
    "        self.batch_size, self.drop_rate, self.lr = batch_size, drop_rate, lr\n",
    "        self.hsz = hsz\n",
    "        self.epochs = epochs\n",
    "        self.k = k\n",
    "\n",
    "args_1min = Args(train_1min, val_1min, test_1min)\n",
    "args_30min = Args(train_30min, val_30min, test_30min)\n",
    "args_60min = Args(train_60min, val_60min, test_60min)"
   ]
  },
  {
   "cell_type": "markdown",
   "id": "impaired-istanbul",
   "metadata": {},
   "source": [
    "<br>\n",
    "\n",
    "#### 모델 생성 함수\n",
    "***\n",
    "+ 앞서 획득한 하이퍼 파라미터 클래스를 바탕으로 모델을 생성하는 함수를 만듭니다.\n",
    "***"
   ]
  },
  {
   "cell_type": "code",
   "execution_count": 32,
   "id": "consistent-belle",
   "metadata": {},
   "outputs": [
    {
     "name": "stdout",
     "output_type": "stream",
     "text": [
      "Model: \"model\"\n",
      "_________________________________________________________________\n",
      "Layer (type)                 Output Shape              Param #   \n",
      "=================================================================\n",
      "input_1 (InputLayer)         [(64, 1, 3149)]           0         \n",
      "_________________________________________________________________\n",
      "GRU (GRU)                    [(64, 50), (64, 50)]      480150    \n",
      "_________________________________________________________________\n",
      "dropout (Dropout)            (64, 50)                  0         \n",
      "_________________________________________________________________\n",
      "dense (Dense)                (64, 3149)                160599    \n",
      "=================================================================\n",
      "Total params: 640,749\n",
      "Trainable params: 640,749\n",
      "Non-trainable params: 0\n",
      "_________________________________________________________________\n"
     ]
    }
   ],
   "source": [
    "def create_model(args):\n",
    "    inputs = Input(batch_shape=(args.batch_size, 1, args.num_items))\n",
    "    gru, _ = GRU(args.hsz, stateful=True, return_state=True, name='GRU')(inputs)\n",
    "    dropout = Dropout(args.drop_rate)(gru)\n",
    "    predictions = Dense(args.num_items, activation='softmax')(dropout)\n",
    "    model = Model(inputs=inputs, outputs=[predictions])\n",
    "    model.compile(loss=categorical_crossentropy, optimizer=Adam(args.lr), metrics=['accuracy'])\n",
    "    return model\n",
    "\n",
    "sample_model = create_model(args_1min)\n",
    "sample_model.summary()\n",
    "sample_model = None"
   ]
  },
  {
   "cell_type": "markdown",
   "id": "wrapped-service",
   "metadata": {},
   "source": [
    "<br>\n",
    "\n",
    "## 7. 모델 학습 및 평가\n",
    "***\n",
    "<span style=\"font-size:12pt; line-height:1.7; font-family:Serif;\">\n",
    "    &nbsp; &nbsp; 앞서 정의한 세션별 데이터를 바탕으로 모델 학습과 평가를 진행합니다. 모든 모델은 64개의 배치사이즈와, 01 비율의 dropout과 0.001 학습률, 10 epoch로 학습을 진행합니다. 모델 평가는 최종적으로 테스트 데이터에 대한 모델의 Recall과 MRR 지표를 바탕으로 이루어집니다.\n",
    "</span>\n",
    "\n",
    "***"
   ]
  },
  {
   "cell_type": "markdown",
   "id": "historic-presentation",
   "metadata": {},
   "source": [
    "#### 학습 함수 생성\n",
    "***\n",
    "+ 모델 학습 및 평가 지표 출력 함수를 생성 합니다.\n",
    "***"
   ]
  },
  {
   "cell_type": "code",
   "execution_count": 33,
   "id": "developed-animation",
   "metadata": {},
   "outputs": [],
   "source": [
    "# train 셋으로 학습하면서 valid 셋으로 검증합니다.\n",
    "def train_model(model, args):\n",
    "    train_dataset = SessionDataset(args.tr)\n",
    "    train_loader = SessionDataLoader(train_dataset, batch_size=args.batch_size)\n",
    "    \n",
    "    dic = {\"val_recall\": [], \"val_mrr\": []}\n",
    "\n",
    "    for epoch in range(1, args.epochs + 1):\n",
    "        total_step = len(args.tr) - args.tr['Session'].nunique()\n",
    "        tr_loader = tqdm(train_loader, total=total_step // args.batch_size, desc='Train', mininterval=1)\n",
    "        for feat, target, mask in tr_loader:\n",
    "            reset_hidden_states(model, mask)  # 종료된 session은 hidden_state를 초기화합니다. 아래 메서드에서 확인해주세요.\n",
    "\n",
    "            input_ohe = to_categorical(feat, num_classes=args.num_items)\n",
    "            input_ohe = np.expand_dims(input_ohe, axis=1)\n",
    "            target_ohe = to_categorical(target, num_classes=args.num_items)\n",
    "\n",
    "            result = model.train_on_batch(input_ohe, target_ohe)\n",
    "            tr_loader.set_postfix(train_loss=result[0], accuracy = result[1])\n",
    "\n",
    "        val_recall, val_mrr = get_metrics(args.val, model, args, args.k)  # valid set에 대해 검증합니다.\n",
    "\n",
    "        dic[\"val_recall\"].append(val_recall)\n",
    "        dic[\"val_mrr\"].append(val_mrr)\n",
    "        \n",
    "        print(f\"\\t - Recall@{args.k} epoch {epoch}: {val_recall:3f}\")\n",
    "        print(f\"\\t - MRR@{args.k}    epoch {epoch}: {val_mrr:3f}\\n\")\n",
    "        \n",
    "    return dic\n",
    "\n",
    "\n",
    "def reset_hidden_states(model, mask):\n",
    "    gru_layer = model.get_layer(name='GRU')  # model에서 gru layer를 가져옵니다.\n",
    "    hidden_states = gru_layer.states[0].numpy()  # gru_layer의 parameter를 가져옵니다.\n",
    "    for elt in mask:  # mask된 인덱스 즉, 종료된 세션의 인덱스를 돌면서\n",
    "        hidden_states[elt, :] = 0  # parameter를 초기화 합니다.\n",
    "    gru_layer.reset_states(states=hidden_states)\n",
    "\n",
    "\n",
    "def get_metrics(data, model, args, k: int):  # valid셋과 test셋을 평가하는 코드입니다. \n",
    "                                             # train과 거의 같지만 mrr, recall을 구하는 라인이 있습니다.\n",
    "    dataset = SessionDataset(data)\n",
    "    loader = SessionDataLoader(dataset, batch_size=args.batch_size)\n",
    "    recall_list, mrr_list = [], []\n",
    "\n",
    "    total_step = len(data) - data['Session'].nunique()\n",
    "    for inputs, label, mask in tqdm(loader, total=total_step // args.batch_size, desc='Evaluation', mininterval=1):\n",
    "        reset_hidden_states(model, mask)\n",
    "        input_ohe = to_categorical(inputs, num_classes=args.num_items)\n",
    "        input_ohe = np.expand_dims(input_ohe, axis=1)\n",
    "\n",
    "        pred = model.predict(input_ohe, batch_size=args.batch_size)\n",
    "        pred_arg = tf.argsort(pred, direction='DESCENDING')  # softmax 값이 큰 순서대로 sorting 합니다.\n",
    "\n",
    "        length = len(inputs)\n",
    "        recall_list.extend([recall_k(pred_arg[i], label[i], k) for i in range(length)])\n",
    "        mrr_list.extend([mrr_k(pred_arg[i], label[i], k) for i in range(length)])\n",
    "\n",
    "    recall, mrr = np.mean(recall_list), np.mean(mrr_list)\n",
    "    return recall, mrr\n",
    "\n",
    "\n",
    "def test_model(model, args, test):\n",
    "    test_recall, test_mrr = get_metrics(test, model, args, 20)\n",
    "    print(f\"\\t - Recall@{args.k}: {test_recall:3f}\")\n",
    "    print(f\"\\t - MRR@{args.k}: {test_mrr:3f}\\n\")"
   ]
  },
  {
   "cell_type": "markdown",
   "id": "dirty-cotton",
   "metadata": {},
   "source": [
    "<br>\n",
    "\n",
    "### 7.1. 1분 기준 세션 모델 학습\n",
    "***\n",
    "<span style=\"font-size:12pt; line-height:1.7; font-family:Serif;\">\n",
    "    &nbsp; &nbsp; 1분 기준 세션 모델의 학습 및 평가를 시행합니다. epoch는 총 10회 진행하였으며 테스트 데이터에 대한 모델의 성능은 Recall이 0.080, MRR이 0.023입니다. &lt;Fig. 8>은 1분 기준 세션 모델의 학습 과정에 대한 Recall과 MRR의 변화를 시각화 한 것입니다.\n",
    "</span>\n",
    "\n",
    "***"
   ]
  },
  {
   "cell_type": "markdown",
   "id": "encouraging-injection",
   "metadata": {},
   "source": [
    "#### 학습 진행\n",
    "***\n",
    "+ 모델 학습을 진행합니다.\n",
    "***"
   ]
  },
  {
   "cell_type": "code",
   "execution_count": 34,
   "id": "accepting-detroit",
   "metadata": {
    "scrolled": false
   },
   "outputs": [
    {
     "name": "stderr",
     "output_type": "stream",
     "text": [
      "Train: 100%|█████████▉| 360/361 [00:07<00:00, 48.57it/s, accuracy=0, train_loss=7.77]     \n",
      "Evaluation:  80%|████████  | 4/5 [00:02<00:00,  1.79it/s]\n",
      "Train:   0%|          | 0/361 [00:00<?, ?it/s, accuracy=0, train_loss=7.34]     "
     ]
    },
    {
     "name": "stdout",
     "output_type": "stream",
     "text": [
      "\t - Recall@20 epoch 1: 0.058594\n",
      "\t - MRR@20    epoch 1: 0.013935\n",
      "\n"
     ]
    },
    {
     "name": "stderr",
     "output_type": "stream",
     "text": [
      "Train: 100%|█████████▉| 360/361 [00:05<00:00, 60.82it/s, accuracy=0, train_loss=7.67]     \n",
      "Evaluation:  80%|████████  | 4/5 [00:01<00:00,  2.13it/s]\n",
      "Train:   0%|          | 0/361 [00:00<?, ?it/s, accuracy=0, train_loss=7.32]     "
     ]
    },
    {
     "name": "stdout",
     "output_type": "stream",
     "text": [
      "\t - Recall@20 epoch 2: 0.050781\n",
      "\t - MRR@20    epoch 2: 0.011517\n",
      "\n"
     ]
    },
    {
     "name": "stderr",
     "output_type": "stream",
     "text": [
      "Train: 100%|█████████▉| 360/361 [00:05<00:00, 61.00it/s, accuracy=0, train_loss=7.55]     \n",
      "Evaluation:  80%|████████  | 4/5 [00:01<00:00,  2.13it/s]\n",
      "Train:   0%|          | 0/361 [00:00<?, ?it/s, accuracy=0, train_loss=7.13]     "
     ]
    },
    {
     "name": "stdout",
     "output_type": "stream",
     "text": [
      "\t - Recall@20 epoch 3: 0.054688\n",
      "\t - MRR@20    epoch 3: 0.010640\n",
      "\n"
     ]
    },
    {
     "name": "stderr",
     "output_type": "stream",
     "text": [
      "Train: 100%|█████████▉| 360/361 [00:05<00:00, 61.08it/s, accuracy=0, train_loss=7.49]     \n",
      "Evaluation:  80%|████████  | 4/5 [00:01<00:00,  2.14it/s]\n",
      "Train:   0%|          | 0/361 [00:00<?, ?it/s, accuracy=0, train_loss=7.18]     "
     ]
    },
    {
     "name": "stdout",
     "output_type": "stream",
     "text": [
      "\t - Recall@20 epoch 4: 0.054688\n",
      "\t - MRR@20    epoch 4: 0.009864\n",
      "\n"
     ]
    },
    {
     "name": "stderr",
     "output_type": "stream",
     "text": [
      "Train: 100%|█████████▉| 360/361 [00:05<00:00, 61.84it/s, accuracy=0, train_loss=7.42]     \n",
      "Evaluation:  80%|████████  | 4/5 [00:01<00:00,  2.12it/s]\n",
      "Train:   0%|          | 0/361 [00:00<?, ?it/s, accuracy=0, train_loss=7.13]     "
     ]
    },
    {
     "name": "stdout",
     "output_type": "stream",
     "text": [
      "\t - Recall@20 epoch 5: 0.058594\n",
      "\t - MRR@20    epoch 5: 0.009298\n",
      "\n"
     ]
    },
    {
     "name": "stderr",
     "output_type": "stream",
     "text": [
      "Train: 100%|█████████▉| 360/361 [00:05<00:00, 61.86it/s, accuracy=0, train_loss=7.28]     \n",
      "Evaluation:  80%|████████  | 4/5 [00:01<00:00,  2.17it/s]\n",
      "Train:   0%|          | 0/361 [00:00<?, ?it/s, accuracy=0.0156, train_loss=7.07]"
     ]
    },
    {
     "name": "stdout",
     "output_type": "stream",
     "text": [
      "\t - Recall@20 epoch 6: 0.046875\n",
      "\t - MRR@20    epoch 6: 0.011189\n",
      "\n"
     ]
    },
    {
     "name": "stderr",
     "output_type": "stream",
     "text": [
      "Train: 100%|█████████▉| 360/361 [00:05<00:00, 61.63it/s, accuracy=0, train_loss=7.17]     \n",
      "Evaluation:  80%|████████  | 4/5 [00:01<00:00,  2.12it/s]\n",
      "Train:   0%|          | 0/361 [00:00<?, ?it/s, accuracy=0.0156, train_loss=6.98]"
     ]
    },
    {
     "name": "stdout",
     "output_type": "stream",
     "text": [
      "\t - Recall@20 epoch 7: 0.054688\n",
      "\t - MRR@20    epoch 7: 0.008767\n",
      "\n"
     ]
    },
    {
     "name": "stderr",
     "output_type": "stream",
     "text": [
      "Train: 100%|█████████▉| 360/361 [00:05<00:00, 61.37it/s, accuracy=0.0156, train_loss=7.07]\n",
      "Evaluation:  80%|████████  | 4/5 [00:01<00:00,  2.16it/s]\n",
      "Train:   0%|          | 0/361 [00:00<?, ?it/s, accuracy=0.0156, train_loss=6.88]"
     ]
    },
    {
     "name": "stdout",
     "output_type": "stream",
     "text": [
      "\t - Recall@20 epoch 8: 0.054688\n",
      "\t - MRR@20    epoch 8: 0.008872\n",
      "\n"
     ]
    },
    {
     "name": "stderr",
     "output_type": "stream",
     "text": [
      "Train: 100%|█████████▉| 360/361 [00:05<00:00, 61.16it/s, accuracy=0.0156, train_loss=6.96]\n",
      "Evaluation:  80%|████████  | 4/5 [00:01<00:00,  2.14it/s]\n",
      "Train:   0%|          | 0/361 [00:00<?, ?it/s, accuracy=0.0156, train_loss=6.81]"
     ]
    },
    {
     "name": "stdout",
     "output_type": "stream",
     "text": [
      "\t - Recall@20 epoch 9: 0.062500\n",
      "\t - MRR@20    epoch 9: 0.009924\n",
      "\n"
     ]
    },
    {
     "name": "stderr",
     "output_type": "stream",
     "text": [
      "Train: 100%|█████████▉| 360/361 [00:05<00:00, 61.77it/s, accuracy=0.0156, train_loss=6.84]\n",
      "Evaluation:  80%|████████  | 4/5 [00:01<00:00,  2.16it/s]"
     ]
    },
    {
     "name": "stdout",
     "output_type": "stream",
     "text": [
      "\t - Recall@20 epoch 10: 0.074219\n",
      "\t - MRR@20    epoch 10: 0.016273\n",
      "\n"
     ]
    },
    {
     "name": "stderr",
     "output_type": "stream",
     "text": [
      "\n"
     ]
    }
   ],
   "source": [
    "model_1min = create_model(args_1min)\n",
    "history = train_model(model_1min, args_1min)"
   ]
  },
  {
   "cell_type": "markdown",
   "id": "ranging-process",
   "metadata": {},
   "source": [
    "<br>\n",
    "\n",
    "#### 학습 과정 시각화\n",
    "***\n",
    "+ 학습 과정 중의 `Recall`과 `MRR`을 시각화 합니다.\n",
    "***"
   ]
  },
  {
   "cell_type": "code",
   "execution_count": 35,
   "id": "answering-serial",
   "metadata": {},
   "outputs": [
    {
     "data": {
      "image/png": "[encoded data removed]",
      "text/plain": [
       "<Figure size 936x360 with 2 Axes>"
      ]
     },
     "metadata": {
      "needs_background": "light"
     },
     "output_type": "display_data"
    }
   ],
   "source": [
    "plt.figure(figsize=(13, 5))\n",
    "plt.suptitle(\"<Fig. 8> Train validation Recall & MRR\", fontsize=15)\n",
    "plt.subplots_adjust(top=0.85)\n",
    "\n",
    "plt.subplot(1, 2, 1)\n",
    "plt.title(\"Validation Recall\")\n",
    "plt.plot(history[\"val_recall\"], color=\"red\")\n",
    "\n",
    "plt.subplot(1, 2, 2)\n",
    "plt.title(\"Validation MRR\")\n",
    "plt.plot(history[\"val_mrr\"], color=\"green\")\n",
    "plt.show()"
   ]
  },
  {
   "cell_type": "markdown",
   "id": "related-papua",
   "metadata": {},
   "source": [
    "<br>\n",
    "\n",
    "#### 모델 평가\n",
    "***\n",
    "+ 테스트 데이터에 대한 모델의 성능을 확인 합니다.\n",
    "***"
   ]
  },
  {
   "cell_type": "code",
   "execution_count": 36,
   "id": "impaired-trailer",
   "metadata": {
    "scrolled": true
   },
   "outputs": [
    {
     "name": "stderr",
     "output_type": "stream",
     "text": [
      "Evaluation:  98%|█████████▊| 41/42 [00:19<00:00,  2.15it/s]"
     ]
    },
    {
     "name": "stdout",
     "output_type": "stream",
     "text": [
      "\t - Recall@20: 0.080412\n",
      "\t - MRR@20: 0.023488\n",
      "\n"
     ]
    },
    {
     "name": "stderr",
     "output_type": "stream",
     "text": [
      "\n"
     ]
    }
   ],
   "source": [
    "test_model(model_1min, args_1min, test_1min)"
   ]
  },
  {
   "cell_type": "markdown",
   "id": "imperial-dictionary",
   "metadata": {},
   "source": [
    "<br>\n",
    "\n",
    "### 7.2. 30분 기준 세션 모델 학습\n",
    "***\n",
    "<span style=\"font-size:12pt; line-height:1.7; font-family:Serif;\">\n",
    "    &nbsp; &nbsp; 30분 기준 세션 모델의 학습 및 평가를 시행합니다. epoch는 총 10회 진행하였으며 테스트 데이터에 대한 모델의 성능은 Recall이 0.099, MRR이 0.028입니다. &lt;Fig. 9>는 30분 기준 세션 모델의 학습 과정에 대한 Recall과 MRR의 변화를 시각화 한 것입니다.\n",
    "</span>\n",
    "\n",
    "***"
   ]
  },
  {
   "cell_type": "markdown",
   "id": "chinese-assignment",
   "metadata": {},
   "source": [
    "#### 학습 진행\n",
    "***\n",
    "+ 모델 학습을 진행합니다.\n",
    "***"
   ]
  },
  {
   "cell_type": "code",
   "execution_count": 37,
   "id": "referenced-owner",
   "metadata": {
    "scrolled": false
   },
   "outputs": [
    {
     "name": "stderr",
     "output_type": "stream",
     "text": [
      "Train:  97%|█████████▋| 608/626 [00:11<00:00, 54.13it/s, accuracy=0, train_loss=7.68]     \n",
      "Evaluation:  18%|█▊        | 2/11 [00:01<00:05,  1.59it/s]\n",
      "Train:   0%|          | 0/626 [00:00<?, ?it/s, accuracy=0.0156, train_loss=7.57]"
     ]
    },
    {
     "name": "stdout",
     "output_type": "stream",
     "text": [
      "\t - Recall@20 epoch 1: 0.015625\n",
      "\t - MRR@20    epoch 1: 0.002413\n",
      "\n"
     ]
    },
    {
     "name": "stderr",
     "output_type": "stream",
     "text": [
      "Train:  97%|█████████▋| 608/626 [00:09<00:00, 61.13it/s, accuracy=0, train_loss=7.6]      \n",
      "Evaluation:  18%|█▊        | 2/11 [00:00<00:04,  2.10it/s]\n",
      "Train:   0%|          | 0/626 [00:00<?, ?it/s, accuracy=0.0156, train_loss=7.52]"
     ]
    },
    {
     "name": "stdout",
     "output_type": "stream",
     "text": [
      "\t - Recall@20 epoch 2: 0.007812\n",
      "\t - MRR@20    epoch 2: 0.001953\n",
      "\n"
     ]
    },
    {
     "name": "stderr",
     "output_type": "stream",
     "text": [
      "Train:  97%|█████████▋| 608/626 [00:09<00:00, 61.22it/s, accuracy=0, train_loss=7.49]     \n",
      "Evaluation:  18%|█▊        | 2/11 [00:00<00:04,  2.10it/s]\n",
      "Train:   0%|          | 0/626 [00:00<?, ?it/s, accuracy=0.0156, train_loss=7.44]"
     ]
    },
    {
     "name": "stdout",
     "output_type": "stream",
     "text": [
      "\t - Recall@20 epoch 3: 0.023438\n",
      "\t - MRR@20    epoch 3: 0.002875\n",
      "\n"
     ]
    },
    {
     "name": "stderr",
     "output_type": "stream",
     "text": [
      "Train:  97%|█████████▋| 608/626 [00:09<00:00, 62.62it/s, accuracy=0, train_loss=7.39]     \n",
      "Evaluation:  18%|█▊        | 2/11 [00:00<00:04,  2.06it/s]\n",
      "Train:   0%|          | 0/626 [00:00<?, ?it/s, accuracy=0, train_loss=7.14]     "
     ]
    },
    {
     "name": "stdout",
     "output_type": "stream",
     "text": [
      "\t - Recall@20 epoch 4: 0.015625\n",
      "\t - MRR@20    epoch 4: 0.002441\n",
      "\n"
     ]
    },
    {
     "name": "stderr",
     "output_type": "stream",
     "text": [
      "Train:  97%|█████████▋| 608/626 [00:09<00:00, 62.54it/s, accuracy=0, train_loss=7.24]     \n",
      "Evaluation:  18%|█▊        | 2/11 [00:00<00:04,  2.09it/s]\n",
      "Train:   0%|          | 0/626 [00:00<?, ?it/s, accuracy=0, train_loss=7.15]     "
     ]
    },
    {
     "name": "stdout",
     "output_type": "stream",
     "text": [
      "\t - Recall@20 epoch 5: 0.023438\n",
      "\t - MRR@20    epoch 5: 0.001924\n",
      "\n"
     ]
    },
    {
     "name": "stderr",
     "output_type": "stream",
     "text": [
      "Train:  97%|█████████▋| 608/626 [00:09<00:00, 61.94it/s, accuracy=0, train_loss=7.18]     \n",
      "Evaluation:  18%|█▊        | 2/11 [00:00<00:04,  2.03it/s]\n",
      "Train:   0%|          | 0/626 [00:00<?, ?it/s, accuracy=0, train_loss=6.93]     "
     ]
    },
    {
     "name": "stdout",
     "output_type": "stream",
     "text": [
      "\t - Recall@20 epoch 6: 0.031250\n",
      "\t - MRR@20    epoch 6: 0.002171\n",
      "\n"
     ]
    },
    {
     "name": "stderr",
     "output_type": "stream",
     "text": [
      "Train:  97%|█████████▋| 608/626 [00:09<00:00, 61.59it/s, accuracy=0, train_loss=7.02]     \n",
      "Evaluation:  18%|█▊        | 2/11 [00:00<00:04,  2.12it/s]\n",
      "Train:   0%|          | 0/626 [00:00<?, ?it/s, accuracy=0, train_loss=6.81]     "
     ]
    },
    {
     "name": "stdout",
     "output_type": "stream",
     "text": [
      "\t - Recall@20 epoch 7: 0.039062\n",
      "\t - MRR@20    epoch 7: 0.003405\n",
      "\n"
     ]
    },
    {
     "name": "stderr",
     "output_type": "stream",
     "text": [
      "Train:  97%|█████████▋| 608/626 [00:09<00:00, 62.33it/s, accuracy=0.0156, train_loss=6.92]\n",
      "Evaluation:  18%|█▊        | 2/11 [00:00<00:04,  2.10it/s]\n",
      "Train:   0%|          | 0/626 [00:00<?, ?it/s, accuracy=0.0156, train_loss=6.62]"
     ]
    },
    {
     "name": "stdout",
     "output_type": "stream",
     "text": [
      "\t - Recall@20 epoch 8: 0.023438\n",
      "\t - MRR@20    epoch 8: 0.004427\n",
      "\n"
     ]
    },
    {
     "name": "stderr",
     "output_type": "stream",
     "text": [
      "Train:  97%|█████████▋| 608/626 [00:09<00:00, 62.42it/s, accuracy=0.0312, train_loss=6.79]\n",
      "Evaluation:  18%|█▊        | 2/11 [00:00<00:04,  2.09it/s]\n",
      "Train:   0%|          | 0/626 [00:00<?, ?it/s, accuracy=0.0781, train_loss=6.54]"
     ]
    },
    {
     "name": "stdout",
     "output_type": "stream",
     "text": [
      "\t - Recall@20 epoch 9: 0.046875\n",
      "\t - MRR@20    epoch 9: 0.006391\n",
      "\n"
     ]
    },
    {
     "name": "stderr",
     "output_type": "stream",
     "text": [
      "Train:  97%|█████████▋| 608/626 [00:09<00:00, 62.34it/s, accuracy=0.0312, train_loss=6.58]\n",
      "Evaluation:  18%|█▊        | 2/11 [00:00<00:04,  2.16it/s]"
     ]
    },
    {
     "name": "stdout",
     "output_type": "stream",
     "text": [
      "\t - Recall@20 epoch 10: 0.046875\n",
      "\t - MRR@20    epoch 10: 0.010876\n",
      "\n"
     ]
    },
    {
     "name": "stderr",
     "output_type": "stream",
     "text": [
      "\n"
     ]
    }
   ],
   "source": [
    "model_30min = create_model(args_30min)\n",
    "history = train_model(model_30min, args_30min)"
   ]
  },
  {
   "cell_type": "markdown",
   "id": "fiscal-retro",
   "metadata": {},
   "source": [
    "<br>\n",
    "\n",
    "#### 학습 과정 시각화\n",
    "***\n",
    "+ 학습 과정 중의 `Recall`과 `MRR`을 시각화 합니다.\n",
    "***"
   ]
  },
  {
   "cell_type": "code",
   "execution_count": 38,
   "id": "focused-tattoo",
   "metadata": {},
   "outputs": [
    {
     "data": {
      "image/png": "[encoded data removed]",
      "text/plain": [
       "<Figure size 936x360 with 2 Axes>"
      ]
     },
     "metadata": {
      "needs_background": "light"
     },
     "output_type": "display_data"
    }
   ],
   "source": [
    "plt.figure(figsize=(13, 5))\n",
    "plt.suptitle(\"<Fig. 9> Train validation Recall & MRR\", fontsize=15)\n",
    "plt.subplots_adjust(top=0.85)\n",
    "\n",
    "plt.subplot(1, 2, 1)\n",
    "plt.title(\"Validation Recall\")\n",
    "plt.plot(history[\"val_recall\"], color=\"red\")\n",
    "\n",
    "plt.subplot(1, 2, 2)\n",
    "plt.title(\"Validation MRR\")\n",
    "plt.plot(history[\"val_mrr\"], color=\"green\")\n",
    "plt.show()"
   ]
  },
  {
   "cell_type": "markdown",
   "id": "rubber-belize",
   "metadata": {},
   "source": [
    "<br>\n",
    "\n",
    "#### 모델 평가\n",
    "***\n",
    "+ 테스트 데이터에 대한 모델의 성능을 확인 합니다.\n",
    "***"
   ]
  },
  {
   "cell_type": "code",
   "execution_count": 39,
   "id": "sound-relationship",
   "metadata": {
    "scrolled": false
   },
   "outputs": [
    {
     "name": "stderr",
     "output_type": "stream",
     "text": [
      "Evaluation:  79%|███████▊  | 59/75 [00:27<00:07,  2.17it/s]"
     ]
    },
    {
     "name": "stdout",
     "output_type": "stream",
     "text": [
      "\t - Recall@20: 0.099841\n",
      "\t - MRR@20: 0.028946\n",
      "\n"
     ]
    },
    {
     "name": "stderr",
     "output_type": "stream",
     "text": [
      "\n"
     ]
    }
   ],
   "source": [
    "test_model(model_30min, args_30min, test_30min)"
   ]
  },
  {
   "cell_type": "markdown",
   "id": "tired-chance",
   "metadata": {},
   "source": [
    "<br>\n",
    "\n",
    "### 7.2. 1시간 기준 세션 모델 학습\n",
    "***\n",
    "<span style=\"font-size:12pt; line-height:1.7; font-family:Serif;\">\n",
    "    &nbsp; &nbsp; 1시간 기준 세션 모델의 학습 및 평가를 시행합니다. epoch는 총 10회 진행하였으며 테스트 데이터에 대한 모델의 성능은 Recall이 0.092, MRR이 0.024입니다. &lt;Fig. 10>은 1시간 기준 세션 모델의 학습 과정에 대한 Recall과 MRR의 변화를 시각화 한 것입니다.\n",
    "</span>\n",
    "\n",
    "***"
   ]
  },
  {
   "cell_type": "markdown",
   "id": "improving-extraction",
   "metadata": {},
   "source": [
    "#### 학습 진행\n",
    "***\n",
    "+ 모델 학습을 진행합니다.\n",
    "***"
   ]
  },
  {
   "cell_type": "code",
   "execution_count": 40,
   "id": "instrumental-tackle",
   "metadata": {
    "scrolled": false
   },
   "outputs": [
    {
     "name": "stderr",
     "output_type": "stream",
     "text": [
      "Train:  96%|█████████▋| 607/630 [00:11<00:00, 52.42it/s, accuracy=0.0156, train_loss=7.47]\n",
      "Evaluation:   9%|▉         | 1/11 [00:00<00:07,  1.27it/s]\n",
      "Train:   0%|          | 0/630 [00:00<?, ?it/s, accuracy=0, train_loss=7.59]     "
     ]
    },
    {
     "name": "stdout",
     "output_type": "stream",
     "text": [
      "\t - Recall@20 epoch 1: 0.015625\n",
      "\t - MRR@20    epoch 1: 0.003906\n",
      "\n"
     ]
    },
    {
     "name": "stderr",
     "output_type": "stream",
     "text": [
      "Train:  96%|█████████▋| 607/630 [00:09<00:00, 60.95it/s, accuracy=0.0156, train_loss=7.38]\n",
      "Evaluation:   9%|▉         | 1/11 [00:00<00:04,  2.11it/s]\n",
      "Train:   0%|          | 0/630 [00:00<?, ?it/s, accuracy=0, train_loss=7.51]     "
     ]
    },
    {
     "name": "stdout",
     "output_type": "stream",
     "text": [
      "\t - Recall@20 epoch 2: 0.015625\n",
      "\t - MRR@20    epoch 2: 0.003906\n",
      "\n"
     ]
    },
    {
     "name": "stderr",
     "output_type": "stream",
     "text": [
      "Train:  96%|█████████▋| 607/630 [00:09<00:00, 61.34it/s, accuracy=0.0312, train_loss=7.28]\n",
      "Evaluation:   9%|▉         | 1/11 [00:00<00:04,  2.11it/s]\n",
      "Train:   0%|          | 0/630 [00:00<?, ?it/s, accuracy=0, train_loss=7.41]     "
     ]
    },
    {
     "name": "stdout",
     "output_type": "stream",
     "text": [
      "\t - Recall@20 epoch 3: 0.015625\n",
      "\t - MRR@20    epoch 3: 0.003906\n",
      "\n"
     ]
    },
    {
     "name": "stderr",
     "output_type": "stream",
     "text": [
      "Train:  96%|█████████▋| 607/630 [00:09<00:00, 61.27it/s, accuracy=0.0312, train_loss=7.17]\n",
      "Evaluation:   9%|▉         | 1/11 [00:00<00:04,  2.10it/s]\n",
      "Train:   0%|          | 0/630 [00:00<?, ?it/s, accuracy=0, train_loss=6.94]     "
     ]
    },
    {
     "name": "stdout",
     "output_type": "stream",
     "text": [
      "\t - Recall@20 epoch 4: 0.000000\n",
      "\t - MRR@20    epoch 4: 0.000000\n",
      "\n"
     ]
    },
    {
     "name": "stderr",
     "output_type": "stream",
     "text": [
      "Train:  96%|█████████▋| 607/630 [00:09<00:00, 61.07it/s, accuracy=0.0312, train_loss=7]   \n",
      "Evaluation:   9%|▉         | 1/11 [00:00<00:04,  2.06it/s]\n",
      "Train:   0%|          | 0/630 [00:00<?, ?it/s, accuracy=0, train_loss=7.11]     "
     ]
    },
    {
     "name": "stdout",
     "output_type": "stream",
     "text": [
      "\t - Recall@20 epoch 5: 0.000000\n",
      "\t - MRR@20    epoch 5: 0.000000\n",
      "\n"
     ]
    },
    {
     "name": "stderr",
     "output_type": "stream",
     "text": [
      "Train:  96%|█████████▋| 607/630 [00:09<00:00, 60.92it/s, accuracy=0.0156, train_loss=6.85]\n",
      "Evaluation:   9%|▉         | 1/11 [00:00<00:04,  2.10it/s]\n",
      "Train:   0%|          | 0/630 [00:00<?, ?it/s, accuracy=0, train_loss=6.96]     "
     ]
    },
    {
     "name": "stdout",
     "output_type": "stream",
     "text": [
      "\t - Recall@20 epoch 6: 0.031250\n",
      "\t - MRR@20    epoch 6: 0.001961\n",
      "\n"
     ]
    },
    {
     "name": "stderr",
     "output_type": "stream",
     "text": [
      "Train:  96%|█████████▋| 607/630 [00:09<00:00, 61.63it/s, accuracy=0, train_loss=6.7]      \n",
      "Evaluation:   9%|▉         | 1/11 [00:00<00:04,  2.11it/s]\n",
      "Train:   0%|          | 0/630 [00:00<?, ?it/s, accuracy=0.0156, train_loss=6.61]"
     ]
    },
    {
     "name": "stdout",
     "output_type": "stream",
     "text": [
      "\t - Recall@20 epoch 7: 0.031250\n",
      "\t - MRR@20    epoch 7: 0.010937\n",
      "\n"
     ]
    },
    {
     "name": "stderr",
     "output_type": "stream",
     "text": [
      "Train:  96%|█████████▋| 607/630 [00:10<00:00, 59.99it/s, accuracy=0.0156, train_loss=6.56]\n",
      "Evaluation:   9%|▉         | 1/11 [00:00<00:04,  2.12it/s]\n",
      "Train:   0%|          | 0/630 [00:00<?, ?it/s, accuracy=0.0156, train_loss=6.72]"
     ]
    },
    {
     "name": "stdout",
     "output_type": "stream",
     "text": [
      "\t - Recall@20 epoch 8: 0.031250\n",
      "\t - MRR@20    epoch 8: 0.005859\n",
      "\n"
     ]
    },
    {
     "name": "stderr",
     "output_type": "stream",
     "text": [
      "Train:  96%|█████████▋| 607/630 [00:09<00:00, 60.73it/s, accuracy=0.0156, train_loss=6.49]\n",
      "Evaluation:   9%|▉         | 1/11 [00:00<00:04,  2.08it/s]\n",
      "Train:   0%|          | 0/630 [00:00<?, ?it/s, accuracy=0.0156, train_loss=6.58]"
     ]
    },
    {
     "name": "stdout",
     "output_type": "stream",
     "text": [
      "\t - Recall@20 epoch 9: 0.031250\n",
      "\t - MRR@20    epoch 9: 0.006127\n",
      "\n"
     ]
    },
    {
     "name": "stderr",
     "output_type": "stream",
     "text": [
      "Train:  96%|█████████▋| 607/630 [00:09<00:00, 61.67it/s, accuracy=0.0312, train_loss=6.37]\n",
      "Evaluation:   9%|▉         | 1/11 [00:00<00:04,  2.08it/s]"
     ]
    },
    {
     "name": "stdout",
     "output_type": "stream",
     "text": [
      "\t - Recall@20 epoch 10: 0.015625\n",
      "\t - MRR@20    epoch 10: 0.007812\n",
      "\n"
     ]
    },
    {
     "name": "stderr",
     "output_type": "stream",
     "text": [
      "\n"
     ]
    }
   ],
   "source": [
    "model_60min = create_model(args_60min)\n",
    "history = train_model(model_60min, args_60min)"
   ]
  },
  {
   "cell_type": "markdown",
   "id": "opposed-welding",
   "metadata": {},
   "source": [
    "<br>\n",
    "\n",
    "#### 학습 과정 시각화\n",
    "***\n",
    "+ 학습 과정 중의 `Recall`과 `MRR`을 시각화 합니다.\n",
    "***"
   ]
  },
  {
   "cell_type": "code",
   "execution_count": 41,
   "id": "floppy-oxide",
   "metadata": {},
   "outputs": [
    {
     "data": {
      "image/png": "[encoded data removed]",
      "text/plain": [
       "<Figure size 936x360 with 2 Axes>"
      ]
     },
     "metadata": {
      "needs_background": "light"
     },
     "output_type": "display_data"
    }
   ],
   "source": [
    "plt.figure(figsize=(13, 5))\n",
    "plt.suptitle(\"<Fig. 10> Train validation Recall & MRR\", fontsize=15)\n",
    "plt.subplots_adjust(top=0.85)\n",
    "\n",
    "plt.subplot(1, 2, 1)\n",
    "plt.title(\"Validation Recall\")\n",
    "plt.plot(history[\"val_recall\"], color=\"red\")\n",
    "\n",
    "plt.subplot(1, 2, 2)\n",
    "plt.title(\"Validation MRR\")\n",
    "plt.plot(history[\"val_mrr\"], color=\"green\")\n",
    "plt.show()"
   ]
  },
  {
   "cell_type": "markdown",
   "id": "green-listing",
   "metadata": {},
   "source": [
    "<br>\n",
    "\n",
    "#### 모델 평가\n",
    "***\n",
    "+ 테스트 데이터에 대한 모델의 성능을 확인 합니다.\n",
    "***"
   ]
  },
  {
   "cell_type": "code",
   "execution_count": 42,
   "id": "terminal-filling",
   "metadata": {
    "scrolled": false
   },
   "outputs": [
    {
     "name": "stderr",
     "output_type": "stream",
     "text": [
      "Evaluation:  75%|███████▍  | 56/75 [00:25<00:08,  2.19it/s]"
     ]
    },
    {
     "name": "stdout",
     "output_type": "stream",
     "text": [
      "\t - Recall@20: 0.092913\n",
      "\t - MRR@20: 0.024357\n",
      "\n"
     ]
    },
    {
     "name": "stderr",
     "output_type": "stream",
     "text": [
      "\n"
     ]
    }
   ],
   "source": [
    "test_model(model_60min, args_60min, test_60min)"
   ]
  },
  {
   "cell_type": "markdown",
   "id": "polish-stable",
   "metadata": {},
   "source": [
    "<br>\n",
    "\n",
    "## 8. 결론\n",
    "***\n",
    "<span style=\"font-size:12pt; line-height:1.7; font-family:Serif;\">\n",
    "    &nbsp; &nbsp; 'The MovieLens(2015)' 데이터셋을 이용하여 'UserId'와 'Time' 데이터를 바탕으로 세션 정의에 따른 추천 모델의 성능 변화를 살펴보았습니다. 1분, 30분, 1시간 단위로 구분하여 새롭게 정의하고 이를 바탕으로 RNN 추천 모델을 생성, 학습 하고 그 성능을 확인하였습니다.\n",
    "그 결과 1분 기준 세션 모델은 Rcall이 0.080, MRR이 0.023이었으며, 30분 기준 세션 모델은 Rcall이 0.099, MRR이 0.029, 1시간 기준 세션 모델은 Rcall이 0.092, MRR이 0.024 입니다. 세션을 30분 기준으로 잡는 경우가 가장 성능이 좋았으며, 1시간으로 기준을 잡는 경우 Recall과 MRR이 감소하는 것을 바탕으로 오히려 성능이 감소하는 것을 확인하였습니다. 따라서, 'The MovieLens(2015)' 데이터셋에 한하여 세션을 30분 기준으로 설정하였을 때, 좋은 성능을 얻을 수 있다고 할 수 있습니다. 또한, 각 세션 모델을 올바르게 평가하기 위해 모든 하이퍼 파라미터를 동등하게 적용하였습니다. Epoch의 경우 평가를 위해 10회로 통일하여 학습을 진행하였지만, 학습을 더 진행하면 충분히 성능이 더 개선될 여지가 존재 합니다. [표 1]은 테스트 데이터에 대한 각 모델의 Recall과 MRR을 제시한 것입니다.\n",
    "</span><br><br>\n",
    "\n",
    "\n",
    "|Session|Recall|MRR|\n",
    "|:--------:|:--------:|:--------:|\n",
    "|**1 minute session**|0.080|0.023|\n",
    "|**30 minute session**|**0.099**|**0.029**|\n",
    "|**1 hour session**|0.092|0.024|\n",
    "\n",
    "[표 1] 테스트 데이터에 대한 모델의 Recall 및 MRR\n",
    "\n",
    "***"
   ]
  },
  {
   "cell_type": "markdown",
   "id": "computational-broadcast",
   "metadata": {},
   "source": [
    "#### 형상관리 기록\n",
    "***\n",
    "+ v1_1: 실습 예제\n",
    "\n",
    "\n",
    "+ v1_2: 데이터셋 이동\n",
    "\n",
    "\n",
    "+ v2_1: 세션 정의 방법 도입\n",
    "\n",
    "\n",
    "+ v3_1: 세션 정의 함수 도입\n",
    "***"
   ]
  }
 ],
 "metadata": {
  "kernelspec": {
   "display_name": "Python 3",
   "language": "python",
   "name": "python3"
  },
  "language_info": {
   "codemirror_mode": {
    "name": "ipython",
    "version": 3
   },
   "file_extension": ".py",
   "mimetype": "text/x-python",
   "name": "python",
   "nbconvert_exporter": "python",
   "pygments_lexer": "ipython3",
   "version": "3.7.9"
  }
 },
 "nbformat": 4,
 "nbformat_minor": 5
}
